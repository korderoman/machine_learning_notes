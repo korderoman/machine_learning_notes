{
 "cells": [
  {
   "cell_type": "code",
   "id": "initial_id",
   "metadata": {
    "collapsed": true,
    "ExecuteTime": {
     "end_time": "2025-03-29T20:01:32.899048Z",
     "start_time": "2025-03-29T20:01:32.895344Z"
    }
   },
   "source": [
    "import torch\n",
    "from torch import nn, optim\n",
    "import pandas  as pd\n",
    "from torch.utils.data import DataLoader, Dataset\n",
    "from torchvision import transforms, datasets\n",
    "from sklearn.model_selection import train_test_split\n",
    "import matplotlib.pyplot as plt\n",
    "import numpy as np\n",
    "import random\n",
    "import timeit\n",
    "from tqdm import tqdm"
   ],
   "outputs": [],
   "execution_count": 8
  },
  {
   "metadata": {
    "ExecuteTime": {
     "end_time": "2025-03-29T19:57:08.212542Z",
     "start_time": "2025-03-29T19:57:07.062420Z"
    }
   },
   "cell_type": "code",
   "source": [
    "RANDOM_SEED = 42\n",
    "BATCH_SIZE = 512\n",
    "EPOCHS = 40\n",
    "LEARNING_RATE = 1e-4 # la tasa de aprendizaje\n",
    "NUM_CLASSES = 10 #Indica la cantidad de objetos de interés (por ejemplo un gato)\n",
    "PATCH_SIZE= 4 #indica el tamaño de patch solicitado en el paper\n",
    "IMAGE_SIZE = 28 #Indica el tamaño de la imagen\n",
    "IN_CHANNELS = 1  #Indica la profundidad o básicamente la cantidad de canales, la parecer no será RGB (3) sino grises\n",
    "NUM_HEADS = 8  #Indica el attention heads (averiguar que es eso)\n",
    "DROPOUT=0.001\n",
    "HIDDEN_DIM=768\n",
    "ADAM_WEIGHT_DECAY=0 # Valor del optimizador, lo indica el paper\n",
    "ADAM_BETAS=(0.9, 0.999)\n",
    "ACTIVATION=\"gelu\"\n",
    "NUM_ENCODERS=4\n",
    "EMBED_DIM=(PATCH_SIZE ** 2)*IN_CHANNELS #Obtiene la dimensión de un segmento de la imagen 4x4x1\n",
    "NUM_PATCHES=(IMAGE_SIZE // PATCH_SIZE) ** 2\n",
    "\n",
    "device = torch.device(\"cuda:0\" if torch.cuda.is_available() else \"cpu\")\n",
    "random.seed(RANDOM_SEED)\n",
    "np.random.seed(RANDOM_SEED)\n",
    "torch.manual_seed(RANDOM_SEED)\n",
    "torch.cuda.manual_seed(RANDOM_SEED)\n",
    "torch.cuda.manual_seed_all(RANDOM_SEED)\n",
    "torch.backends.cudnn.deterministic=True\n",
    "torch.backends.cudnn.benchmark=False\n",
    "print(torch.version.cuda)\n",
    "print(device)"
   ],
   "id": "6f4d3c98d3658189",
   "outputs": [
    {
     "name": "stdout",
     "output_type": "stream",
     "text": [
      "12.6\n",
      "cuda:0\n"
     ]
    }
   ],
   "execution_count": 2
  },
  {
   "metadata": {
    "ExecuteTime": {
     "end_time": "2025-03-29T19:57:22.326471Z",
     "start_time": "2025-03-29T19:57:20.230701Z"
    }
   },
   "cell_type": "code",
   "source": [
    "class PatchEmbedding(nn.Module):\n",
    "    \"\"\"\n",
    "        Esta clase es la primera etapa del ViT. Su función es:\n",
    "        Dividir la imagen en parches\n",
    "        Aplanarlos\n",
    "        Proyectarlos a embeddings\n",
    "        Añadir el token [CLS] y los embeddings posicionales\n",
    "    \"\"\"\n",
    "    def __init__(self, embed_dim, patch_size, num_patches, dropout, in_channels):\n",
    "        super().__init__()\n",
    "        self.patcher= nn.Sequential(\n",
    "            nn.Conv2d(in_channels=in_channels,out_channels=embed_dim , kernel_size=patch_size, stride=patch_size),\n",
    "            nn.Flatten(2), # Realizamos el aplanamiento\n",
    "        )\n",
    "        self.cls_token= nn.Parameter(torch.rand(size=(1,1,embed_dim)), requires_grad=True)\n",
    "        self.position_embedding = nn.Parameter(torch.randn(size=(1,num_patches+1, embed_dim)), requires_grad=True)\n",
    "        self.dropout = nn.Dropout(p=dropout)\n",
    "    def forward(self, x):\n",
    "        # los -1 indica que no deseamos modificar la dimensión\n",
    "        cls_token= self.cls_token.expand(x.shape[0], -1, -1)\n",
    "        x=self.patcher(x).permute(0,2,1)\n",
    "        x=torch.cat([cls_token, x], dim=1)\n",
    "        x=self.position_embedding+x\n",
    "        x=self.dropout(x)\n",
    "        return x\n",
    "model=PatchEmbedding(embed_dim=EMBED_DIM,patch_size=PATCH_SIZE,num_patches=NUM_PATCHES,dropout=DROPOUT,in_channels=IN_CHANNELS).to(device)\n",
    "#Esto simula 512 imágenes, con 1 canal (escala de grises) y tamaño 28×28.\n",
    "x=torch.randn(512,1,28,28).to(device)# 50 es el numero de tokens, 16 el valor de los patches\n",
    "print(model(x).shape)"
   ],
   "id": "2ba02bf6dd2df4a5",
   "outputs": [
    {
     "name": "stdout",
     "output_type": "stream",
     "text": [
      "torch.Size([512, 50, 16])\n"
     ]
    }
   ],
   "execution_count": 3
  },
  {
   "metadata": {
    "ExecuteTime": {
     "end_time": "2025-03-29T19:57:33.809785Z",
     "start_time": "2025-03-29T19:57:32.995009Z"
    }
   },
   "cell_type": "code",
   "source": [
    "class ViT(nn.Module):\n",
    "    def __init__(self, num_patches,img_size,num_classes, patch_size, embed_dim, num_encoders,num_heads, hidden_dim, dropout, activation, in_channels  ):\n",
    "        super().__init__()\n",
    "        self.embeddings_block=PatchEmbedding(embed_dim=embed_dim, patch_size=patch_size, num_patches=num_patches, dropout=dropout, in_channels=in_channels)\n",
    "        encoder_layer=nn.TransformerEncoderLayer(d_model=embed_dim, nhead=num_heads, dropout=dropout, activation=activation, batch_first=True, norm_first=True)\n",
    "        self.encoder_blocks=nn.TransformerEncoder(encoder_layer=encoder_layer, num_layers=num_encoders)\n",
    "        self.mlp_head=nn.Sequential(\n",
    "            nn.LayerNorm(normalized_shape=embed_dim),\n",
    "            nn.Linear(in_features=embed_dim, out_features=num_classes),\n",
    "        )\n",
    "    def forward(self, x):\n",
    "        x = self.embeddings_block(x)\n",
    "        x = self.encoder_blocks(x)\n",
    "        x = self.mlp_head(x[:,0,:])\n",
    "        return x\n",
    "model=ViT(NUM_PATCHES,IMAGE_SIZE, NUM_CLASSES, PATCH_SIZE, EMBED_DIM, NUM_ENCODERS, NUM_HEADS, HIDDEN_DIM, DROPOUT, ACTIVATION, IN_CHANNELS).to(device)\n",
    "x=torch.randn(512,1,28,28).to(device)\n",
    "print(model(x).shape)"
   ],
   "id": "6076d208c9bdc7c0",
   "outputs": [
    {
     "name": "stderr",
     "output_type": "stream",
     "text": [
      "D:\\programacion\\proyectos\\utec\\IA\\modulo_2_redes_convolucionales_y_generativas\\.venv\\Lib\\site-packages\\torch\\nn\\modules\\transformer.py:385: UserWarning: enable_nested_tensor is True, but self.use_nested_tensor is False because encoder_layer.norm_first was True\n",
      "  warnings.warn(\n"
     ]
    },
    {
     "name": "stdout",
     "output_type": "stream",
     "text": [
      "torch.Size([512, 10])\n"
     ]
    }
   ],
   "execution_count": 4
  },
  {
   "metadata": {},
   "cell_type": "markdown",
   "source": "# DESCARGAMOS EL DATASET DE PYTORCH",
   "id": "93d41a3b1b4294c9"
  },
  {
   "metadata": {
    "ExecuteTime": {
     "end_time": "2025-03-29T20:05:11.773766Z",
     "start_time": "2025-03-29T20:05:11.724550Z"
    }
   },
   "cell_type": "code",
   "source": [
    "# Transformación: convierte la imagen a tensor y normaliza a [0, 1]\n",
    "transform = transforms.ToTensor()\n",
    "# Dataset de entrenamiento\n",
    "train_dataset = datasets.MNIST(\n",
    "    root=r'D:\\programacion\\proyectos\\utec\\IA\\modulo_2_redes_convolucionales_y_generativas\\vit\\datasets\\MNIST', train=True, download=True, transform=transform\n",
    ")\n",
    "\n",
    "# Dataset de prueba\n",
    "test_dataset = datasets.MNIST(\n",
    "    root=r'D:\\programacion\\proyectos\\utec\\IA\\modulo_2_redes_convolucionales_y_generativas\\vit\\datasets\\MNIST', train=False, download=True, transform=transform\n",
    ")\n",
    "\n",
    "# DataLoaders\n",
    "train_loader = DataLoader(train_dataset, batch_size=BATCH_SIZE, shuffle=True)\n",
    "test_loader = DataLoader(test_dataset, batch_size=BATCH_SIZE, shuffle=False)"
   ],
   "id": "b4b7d7e8532f6c0a",
   "outputs": [],
   "execution_count": 12
  },
  {
   "metadata": {},
   "cell_type": "markdown",
   "source": "# ENTRENAMIENTO",
   "id": "3048cf945e014fff"
  },
  {
   "metadata": {
    "ExecuteTime": {
     "end_time": "2025-03-29T20:27:16.711606Z",
     "start_time": "2025-03-29T20:15:23.414003Z"
    }
   },
   "cell_type": "code",
   "source": [
    "import timeit # mide el tiempo de entrenamiento\n",
    "from tqdm import tqdm #muestra una barra de progreso para mostrar visualmente el progeso del entrenamiento\n",
    "import torch.nn as nn #contiene los módulos de pytorch\n",
    "\n",
    "criterion = nn.CrossEntropyLoss() #función de pérdida compara los logits del modelo con los labels verdaderos\n",
    "optimizer = torch.optim.Adam(model.parameters(), lr=LEARNING_RATE, weight_decay=ADAM_WEIGHT_DECAY) #Uso del optimizador ADAM\n",
    "\n",
    "start = timeit.default_timer()\n",
    "#Ciclo principal de épocas\n",
    "for epoch in tqdm(range(EPOCHS), position=0, leave=True):\n",
    "    # --- Entrenamiento ---\n",
    "    model.train()#modo de entrenamiento\n",
    "    train_labels = []\n",
    "    train_preds = []\n",
    "    train_running_loss = 0\n",
    "\n",
    "    for idx, (img, label) in enumerate(tqdm(train_loader, position=0, leave=True)): # loop por batch de entrenamiento\n",
    "        img = img.float().to(device) # convierte la imagen a tipo float                    # [B, 1, 28, 28]\n",
    "        label = label.long().to(device)# convierte el label a un int64 usado por CrossEntropyLoss # [B]\n",
    "\n",
    "        y_pred = model(img) # salida del modelo                              # [B, num_classes]\n",
    "        y_pred_label = torch.argmax(y_pred, dim=1) #predicción final (clase con mayor probabilidad)  # [B]\n",
    "\n",
    "        #Se guardan etiquetas reales y prdeichas para calcular el accuracy más adelante\n",
    "        train_labels.extend(label.cpu().detach())\n",
    "        train_preds.extend(y_pred_label.cpu().detach())\n",
    "        # Calcula la pérdida entre la predicción y ground truth\n",
    "        loss = criterion(y_pred, label)\n",
    "        optimizer.zero_grad() #limpia gradiente anteriores\n",
    "        loss.backward() # calcula nuevos gradientes\n",
    "        optimizer.step() #actualiza pesos\n",
    "\n",
    "        train_running_loss += loss.item() #acumula la perdida del batch\n",
    "\n",
    "    train_loss = train_running_loss / (idx + 1) #Promedio de la pérdida total por cantidad de batches\n",
    "\n",
    "    # --- Validación ---\n",
    "    model.eval() # desactiva dropout y batchnorm\n",
    "    val_labels = []\n",
    "    val_preds = []\n",
    "    val_running_loss = 0\n",
    "\n",
    "    with torch.no_grad(): # ss desactiva el cálculo de gradiente (ahorra memoria y es más rápido)\n",
    "        for idx, (img, label) in enumerate(tqdm(test_loader, position=0, leave=True)): # loop de validación por batches\n",
    "            img = img.float().to(device)\n",
    "            label = label.long().to(device)\n",
    "\n",
    "            y_pred = model(img)\n",
    "            y_pred_label = torch.argmax(y_pred, dim=1)\n",
    "\n",
    "            val_labels.extend(label.cpu().detach())\n",
    "            val_preds.extend(y_pred_label.cpu().detach())\n",
    "\n",
    "            loss = criterion(y_pred, label)\n",
    "            val_running_loss += loss.item()\n",
    "    #forward, predicción, cálculo de pérdida, guardar resultados\n",
    "    val_loss = val_running_loss / (idx + 1)\n",
    "\n",
    "    # --- Estadísticas ---\n",
    "    print(\"-\" * 30)\n",
    "    print(f\"Train Loss Epoch {epoch + 1}: {train_loss:.4f}\")\n",
    "    print(f\"Valid Loss Epoch {epoch + 1}: {val_loss:.4f}\")\n",
    "    print(f\"Train Accuracy Epoch {epoch + 1}: {sum(1 for x, y in zip(train_preds, train_labels) if x == y) / len(train_labels):.4f}\")\n",
    "    print(f\"Valid Accuracy Epoch {epoch + 1}: {sum(1 for x, y in zip(val_preds, val_labels) if x == y) / len(val_labels):.4f}\")\n",
    "    print(\"-\" * 30)\n",
    "\n",
    "stop = timeit.default_timer()\n",
    "print(f\"Training Time: {stop - start:.2f}s\")\n",
    "# Guardar los pesos del modelo entrenado\n",
    "torch.save(model.state_dict(), \"vit_mnist.pth\")\n",
    "print(\"Modelo guardado exitosamente como 'vit_mnist.pth'\")\n"
   ],
   "id": "64a84e6f5ef83a89",
   "outputs": [
    {
     "name": "stderr",
     "output_type": "stream",
     "text": [
      "100%|██████████| 118/118 [00:15<00:00,  7.46it/s]\n",
      "100%|██████████| 20/20 [00:01<00:00, 14.79it/s]\n"
     ]
    },
    {
     "name": "stdout",
     "output_type": "stream",
     "text": [
      "------------------------------\n",
      "Train Loss Epoch 1: 1.1157\n",
      "Valid Loss Epoch 1: 0.9761\n",
      "Train Accuracy Epoch 1: 0.7260\n"
     ]
    },
    {
     "name": "stderr",
     "output_type": "stream",
     "text": [
      "  2%|▎         | 1/40 [00:17<11:22, 17.49s/it]"
     ]
    },
    {
     "name": "stdout",
     "output_type": "stream",
     "text": [
      "Valid Accuracy Epoch 1: 0.7841\n",
      "------------------------------\n"
     ]
    },
    {
     "name": "stderr",
     "output_type": "stream",
     "text": [
      "100%|██████████| 118/118 [00:15<00:00,  7.62it/s]\n",
      "100%|██████████| 20/20 [00:01<00:00, 14.87it/s]\n"
     ]
    },
    {
     "name": "stdout",
     "output_type": "stream",
     "text": [
      "------------------------------\n",
      "Train Loss Epoch 2: 0.9754\n",
      "Valid Loss Epoch 2: 0.8661\n",
      "Train Accuracy Epoch 2: 0.7722\n"
     ]
    },
    {
     "name": "stderr",
     "output_type": "stream",
     "text": [
      "  5%|▌         | 2/40 [00:34<10:56, 17.27s/it]"
     ]
    },
    {
     "name": "stdout",
     "output_type": "stream",
     "text": [
      "Valid Accuracy Epoch 2: 0.8137\n",
      "------------------------------\n"
     ]
    },
    {
     "name": "stderr",
     "output_type": "stream",
     "text": [
      "100%|██████████| 118/118 [00:15<00:00,  7.43it/s]\n",
      "100%|██████████| 20/20 [00:01<00:00, 14.67it/s]\n"
     ]
    },
    {
     "name": "stdout",
     "output_type": "stream",
     "text": [
      "------------------------------\n",
      "Train Loss Epoch 3: 0.8693\n",
      "Valid Loss Epoch 3: 0.7957\n",
      "Train Accuracy Epoch 3: 0.8024\n"
     ]
    },
    {
     "name": "stderr",
     "output_type": "stream",
     "text": [
      "  8%|▊         | 3/40 [00:52<10:44, 17.41s/it]"
     ]
    },
    {
     "name": "stdout",
     "output_type": "stream",
     "text": [
      "Valid Accuracy Epoch 3: 0.8308\n",
      "------------------------------\n"
     ]
    },
    {
     "name": "stderr",
     "output_type": "stream",
     "text": [
      "100%|██████████| 118/118 [00:15<00:00,  7.52it/s]\n",
      "100%|██████████| 20/20 [00:01<00:00, 14.55it/s]\n"
     ]
    },
    {
     "name": "stdout",
     "output_type": "stream",
     "text": [
      "------------------------------\n",
      "Train Loss Epoch 4: 0.7844\n",
      "Valid Loss Epoch 4: 0.7152\n",
      "Train Accuracy Epoch 4: 0.8227\n"
     ]
    },
    {
     "name": "stderr",
     "output_type": "stream",
     "text": [
      " 10%|█         | 4/40 [01:09<10:26, 17.40s/it]"
     ]
    },
    {
     "name": "stdout",
     "output_type": "stream",
     "text": [
      "Valid Accuracy Epoch 4: 0.8417\n",
      "------------------------------\n"
     ]
    },
    {
     "name": "stderr",
     "output_type": "stream",
     "text": [
      "100%|██████████| 118/118 [00:15<00:00,  7.59it/s]\n",
      "100%|██████████| 20/20 [00:01<00:00, 14.49it/s]\n"
     ]
    },
    {
     "name": "stdout",
     "output_type": "stream",
     "text": [
      "------------------------------\n",
      "Train Loss Epoch 5: 0.7030\n",
      "Valid Loss Epoch 5: 0.6321\n",
      "Train Accuracy Epoch 5: 0.8402\n"
     ]
    },
    {
     "name": "stderr",
     "output_type": "stream",
     "text": [
      " 12%|█▎        | 5/40 [01:26<10:06, 17.34s/it]"
     ]
    },
    {
     "name": "stdout",
     "output_type": "stream",
     "text": [
      "Valid Accuracy Epoch 5: 0.8669\n",
      "------------------------------\n"
     ]
    },
    {
     "name": "stderr",
     "output_type": "stream",
     "text": [
      "100%|██████████| 118/118 [00:16<00:00,  7.34it/s]\n",
      "100%|██████████| 20/20 [00:01<00:00, 12.77it/s]\n"
     ]
    },
    {
     "name": "stdout",
     "output_type": "stream",
     "text": [
      "------------------------------\n",
      "Train Loss Epoch 6: 0.6422\n",
      "Valid Loss Epoch 6: 0.5485\n"
     ]
    },
    {
     "name": "stderr",
     "output_type": "stream",
     "text": [
      " 15%|█▌        | 6/40 [01:44<09:56, 17.56s/it]"
     ]
    },
    {
     "name": "stdout",
     "output_type": "stream",
     "text": [
      "Train Accuracy Epoch 6: 0.8525\n",
      "Valid Accuracy Epoch 6: 0.8817\n",
      "------------------------------\n"
     ]
    },
    {
     "name": "stderr",
     "output_type": "stream",
     "text": [
      "100%|██████████| 118/118 [00:16<00:00,  7.36it/s]\n",
      "100%|██████████| 20/20 [00:01<00:00, 14.38it/s]\n"
     ]
    },
    {
     "name": "stdout",
     "output_type": "stream",
     "text": [
      "------------------------------\n",
      "Train Loss Epoch 7: 0.5775\n",
      "Valid Loss Epoch 7: 0.5206\n",
      "Train Accuracy Epoch 7: 0.8664\n"
     ]
    },
    {
     "name": "stderr",
     "output_type": "stream",
     "text": [
      " 18%|█▊        | 7/40 [02:02<09:41, 17.61s/it]"
     ]
    },
    {
     "name": "stdout",
     "output_type": "stream",
     "text": [
      "Valid Accuracy Epoch 7: 0.8888\n",
      "------------------------------\n"
     ]
    },
    {
     "name": "stderr",
     "output_type": "stream",
     "text": [
      "100%|██████████| 118/118 [00:16<00:00,  7.33it/s]\n",
      "100%|██████████| 20/20 [00:01<00:00, 14.05it/s]\n"
     ]
    },
    {
     "name": "stdout",
     "output_type": "stream",
     "text": [
      "------------------------------\n",
      "Train Loss Epoch 8: 0.5352\n",
      "Valid Loss Epoch 8: 0.4777\n",
      "Train Accuracy Epoch 8: 0.8749\n"
     ]
    },
    {
     "name": "stderr",
     "output_type": "stream",
     "text": [
      " 20%|██        | 8/40 [02:20<09:25, 17.68s/it]"
     ]
    },
    {
     "name": "stdout",
     "output_type": "stream",
     "text": [
      "Valid Accuracy Epoch 8: 0.8932\n",
      "------------------------------\n"
     ]
    },
    {
     "name": "stderr",
     "output_type": "stream",
     "text": [
      "100%|██████████| 118/118 [00:16<00:00,  7.37it/s]\n",
      "100%|██████████| 20/20 [00:01<00:00, 12.91it/s]\n"
     ]
    },
    {
     "name": "stdout",
     "output_type": "stream",
     "text": [
      "------------------------------\n",
      "Train Loss Epoch 9: 0.4929\n",
      "Valid Loss Epoch 9: 0.4510\n"
     ]
    },
    {
     "name": "stderr",
     "output_type": "stream",
     "text": [
      " 22%|██▎       | 9/40 [02:38<09:10, 17.74s/it]"
     ]
    },
    {
     "name": "stdout",
     "output_type": "stream",
     "text": [
      "Train Accuracy Epoch 9: 0.8831\n",
      "Valid Accuracy Epoch 9: 0.8939\n",
      "------------------------------\n"
     ]
    },
    {
     "name": "stderr",
     "output_type": "stream",
     "text": [
      "100%|██████████| 118/118 [00:15<00:00,  7.46it/s]\n",
      "100%|██████████| 20/20 [00:01<00:00, 13.36it/s]\n"
     ]
    },
    {
     "name": "stdout",
     "output_type": "stream",
     "text": [
      "------------------------------\n",
      "Train Loss Epoch 10: 0.4541\n",
      "Valid Loss Epoch 10: 0.3924\n"
     ]
    },
    {
     "name": "stderr",
     "output_type": "stream",
     "text": [
      " 25%|██▌       | 10/40 [02:55<08:51, 17.71s/it]"
     ]
    },
    {
     "name": "stdout",
     "output_type": "stream",
     "text": [
      "Train Accuracy Epoch 10: 0.8900\n",
      "Valid Accuracy Epoch 10: 0.9124\n",
      "------------------------------\n"
     ]
    },
    {
     "name": "stderr",
     "output_type": "stream",
     "text": [
      "100%|██████████| 118/118 [00:15<00:00,  7.41it/s]\n",
      "100%|██████████| 20/20 [00:01<00:00, 14.71it/s]\n"
     ]
    },
    {
     "name": "stdout",
     "output_type": "stream",
     "text": [
      "------------------------------\n",
      "Train Loss Epoch 11: 0.4237\n",
      "Valid Loss Epoch 11: 0.4041\n",
      "Train Accuracy Epoch 11: 0.8958\n"
     ]
    },
    {
     "name": "stderr",
     "output_type": "stream",
     "text": [
      " 28%|██▊       | 11/40 [03:13<08:32, 17.67s/it]"
     ]
    },
    {
     "name": "stdout",
     "output_type": "stream",
     "text": [
      "Valid Accuracy Epoch 11: 0.8980\n",
      "------------------------------\n"
     ]
    },
    {
     "name": "stderr",
     "output_type": "stream",
     "text": [
      "100%|██████████| 118/118 [00:15<00:00,  7.58it/s]\n",
      "100%|██████████| 20/20 [00:01<00:00, 14.54it/s]\n"
     ]
    },
    {
     "name": "stdout",
     "output_type": "stream",
     "text": [
      "------------------------------\n",
      "Train Loss Epoch 12: 0.3994\n",
      "Valid Loss Epoch 12: 0.3642\n",
      "Train Accuracy Epoch 12: 0.9003\n"
     ]
    },
    {
     "name": "stderr",
     "output_type": "stream",
     "text": [
      " 30%|███       | 12/40 [03:30<08:11, 17.54s/it]"
     ]
    },
    {
     "name": "stdout",
     "output_type": "stream",
     "text": [
      "Valid Accuracy Epoch 12: 0.9109\n",
      "------------------------------\n"
     ]
    },
    {
     "name": "stderr",
     "output_type": "stream",
     "text": [
      "100%|██████████| 118/118 [00:15<00:00,  7.55it/s]\n",
      "100%|██████████| 20/20 [00:01<00:00, 13.98it/s]\n"
     ]
    },
    {
     "name": "stdout",
     "output_type": "stream",
     "text": [
      "------------------------------\n",
      "Train Loss Epoch 13: 0.3791\n",
      "Valid Loss Epoch 13: 0.3729\n"
     ]
    },
    {
     "name": "stderr",
     "output_type": "stream",
     "text": [
      " 32%|███▎      | 13/40 [03:48<07:52, 17.48s/it]"
     ]
    },
    {
     "name": "stdout",
     "output_type": "stream",
     "text": [
      "Train Accuracy Epoch 13: 0.9044\n",
      "Valid Accuracy Epoch 13: 0.9068\n",
      "------------------------------\n"
     ]
    },
    {
     "name": "stderr",
     "output_type": "stream",
     "text": [
      "100%|██████████| 118/118 [00:15<00:00,  7.48it/s]\n",
      "100%|██████████| 20/20 [00:01<00:00, 14.24it/s]\n"
     ]
    },
    {
     "name": "stdout",
     "output_type": "stream",
     "text": [
      "------------------------------\n",
      "Train Loss Epoch 14: 0.3573\n",
      "Valid Loss Epoch 14: 0.3258\n",
      "Train Accuracy Epoch 14: 0.9074\n"
     ]
    },
    {
     "name": "stderr",
     "output_type": "stream",
     "text": [
      " 35%|███▌      | 14/40 [04:05<07:34, 17.49s/it]"
     ]
    },
    {
     "name": "stdout",
     "output_type": "stream",
     "text": [
      "Valid Accuracy Epoch 14: 0.9226\n",
      "------------------------------\n"
     ]
    },
    {
     "name": "stderr",
     "output_type": "stream",
     "text": [
      "100%|██████████| 118/118 [00:15<00:00,  7.42it/s]\n",
      "100%|██████████| 20/20 [00:01<00:00, 14.48it/s]\n"
     ]
    },
    {
     "name": "stdout",
     "output_type": "stream",
     "text": [
      "------------------------------\n",
      "Train Loss Epoch 15: 0.3373\n",
      "Valid Loss Epoch 15: 0.3066\n",
      "Train Accuracy Epoch 15: 0.9129\n"
     ]
    },
    {
     "name": "stderr",
     "output_type": "stream",
     "text": [
      " 38%|███▊      | 15/40 [04:23<07:17, 17.52s/it]"
     ]
    },
    {
     "name": "stdout",
     "output_type": "stream",
     "text": [
      "Valid Accuracy Epoch 15: 0.9246\n",
      "------------------------------\n"
     ]
    },
    {
     "name": "stderr",
     "output_type": "stream",
     "text": [
      "100%|██████████| 118/118 [00:15<00:00,  7.48it/s]\n",
      "100%|██████████| 20/20 [00:01<00:00, 13.39it/s]\n"
     ]
    },
    {
     "name": "stdout",
     "output_type": "stream",
     "text": [
      "------------------------------\n",
      "Train Loss Epoch 16: 0.3203\n",
      "Valid Loss Epoch 16: 0.2939\n",
      "Train Accuracy Epoch 16: 0.9154\n"
     ]
    },
    {
     "name": "stderr",
     "output_type": "stream",
     "text": [
      " 40%|████      | 16/40 [04:40<07:00, 17.54s/it]"
     ]
    },
    {
     "name": "stdout",
     "output_type": "stream",
     "text": [
      "Valid Accuracy Epoch 16: 0.9270\n",
      "------------------------------\n"
     ]
    },
    {
     "name": "stderr",
     "output_type": "stream",
     "text": [
      "100%|██████████| 118/118 [00:16<00:00,  7.14it/s]\n",
      "100%|██████████| 20/20 [00:01<00:00, 13.44it/s]\n"
     ]
    },
    {
     "name": "stdout",
     "output_type": "stream",
     "text": [
      "------------------------------\n",
      "Train Loss Epoch 17: 0.3078\n",
      "Valid Loss Epoch 17: 0.2725\n",
      "Train Accuracy Epoch 17: 0.9186\n"
     ]
    },
    {
     "name": "stderr",
     "output_type": "stream",
     "text": [
      " 42%|████▎     | 17/40 [04:59<06:48, 17.77s/it]"
     ]
    },
    {
     "name": "stdout",
     "output_type": "stream",
     "text": [
      "Valid Accuracy Epoch 17: 0.9293\n",
      "------------------------------\n"
     ]
    },
    {
     "name": "stderr",
     "output_type": "stream",
     "text": [
      "100%|██████████| 118/118 [00:16<00:00,  7.04it/s]\n",
      "100%|██████████| 20/20 [00:01<00:00, 12.92it/s]\n"
     ]
    },
    {
     "name": "stdout",
     "output_type": "stream",
     "text": [
      "------------------------------\n",
      "Train Loss Epoch 18: 0.2881\n",
      "Valid Loss Epoch 18: 0.2834\n",
      "Train Accuracy Epoch 18: 0.9223\n"
     ]
    },
    {
     "name": "stderr",
     "output_type": "stream",
     "text": [
      " 45%|████▌     | 18/40 [05:17<06:36, 18.02s/it]"
     ]
    },
    {
     "name": "stdout",
     "output_type": "stream",
     "text": [
      "Valid Accuracy Epoch 18: 0.9282\n",
      "------------------------------\n"
     ]
    },
    {
     "name": "stderr",
     "output_type": "stream",
     "text": [
      "100%|██████████| 118/118 [00:15<00:00,  7.43it/s]\n",
      "100%|██████████| 20/20 [00:01<00:00, 13.17it/s]\n"
     ]
    },
    {
     "name": "stdout",
     "output_type": "stream",
     "text": [
      "------------------------------\n",
      "Train Loss Epoch 19: 0.2847\n",
      "Valid Loss Epoch 19: 0.2544\n"
     ]
    },
    {
     "name": "stderr",
     "output_type": "stream",
     "text": [
      " 48%|████▊     | 19/40 [05:35<06:16, 17.93s/it]"
     ]
    },
    {
     "name": "stdout",
     "output_type": "stream",
     "text": [
      "Train Accuracy Epoch 19: 0.9234\n",
      "Valid Accuracy Epoch 19: 0.9359\n",
      "------------------------------\n"
     ]
    },
    {
     "name": "stderr",
     "output_type": "stream",
     "text": [
      "100%|██████████| 118/118 [00:15<00:00,  7.43it/s]\n",
      "100%|██████████| 20/20 [00:01<00:00, 14.49it/s]\n"
     ]
    },
    {
     "name": "stdout",
     "output_type": "stream",
     "text": [
      "------------------------------\n",
      "Train Loss Epoch 20: 0.2706\n",
      "Valid Loss Epoch 20: 0.2594\n",
      "Train Accuracy Epoch 20: 0.9253\n"
     ]
    },
    {
     "name": "stderr",
     "output_type": "stream",
     "text": [
      " 50%|█████     | 20/40 [05:52<05:56, 17.82s/it]"
     ]
    },
    {
     "name": "stdout",
     "output_type": "stream",
     "text": [
      "Valid Accuracy Epoch 20: 0.9333\n",
      "------------------------------\n"
     ]
    },
    {
     "name": "stderr",
     "output_type": "stream",
     "text": [
      "100%|██████████| 118/118 [00:15<00:00,  7.45it/s]\n",
      "100%|██████████| 20/20 [00:01<00:00, 14.52it/s]\n"
     ]
    },
    {
     "name": "stdout",
     "output_type": "stream",
     "text": [
      "------------------------------\n",
      "Train Loss Epoch 21: 0.2631\n",
      "Valid Loss Epoch 21: 0.2439\n",
      "Train Accuracy Epoch 21: 0.9274\n"
     ]
    },
    {
     "name": "stderr",
     "output_type": "stream",
     "text": [
      " 52%|█████▎    | 21/40 [06:10<05:36, 17.72s/it]"
     ]
    },
    {
     "name": "stdout",
     "output_type": "stream",
     "text": [
      "Valid Accuracy Epoch 21: 0.9364\n",
      "------------------------------\n"
     ]
    },
    {
     "name": "stderr",
     "output_type": "stream",
     "text": [
      "100%|██████████| 118/118 [00:16<00:00,  7.10it/s]\n",
      "100%|██████████| 20/20 [00:01<00:00, 13.36it/s]\n"
     ]
    },
    {
     "name": "stdout",
     "output_type": "stream",
     "text": [
      "------------------------------\n",
      "Train Loss Epoch 22: 0.2602\n",
      "Valid Loss Epoch 22: 0.2316\n",
      "Train Accuracy Epoch 22: 0.9281\n"
     ]
    },
    {
     "name": "stderr",
     "output_type": "stream",
     "text": [
      " 55%|█████▌    | 22/40 [06:28<05:22, 17.93s/it]"
     ]
    },
    {
     "name": "stdout",
     "output_type": "stream",
     "text": [
      "Valid Accuracy Epoch 22: 0.9401\n",
      "------------------------------\n"
     ]
    },
    {
     "name": "stderr",
     "output_type": "stream",
     "text": [
      "100%|██████████| 118/118 [00:16<00:00,  7.32it/s]\n",
      "100%|██████████| 20/20 [00:01<00:00, 14.37it/s]\n"
     ]
    },
    {
     "name": "stdout",
     "output_type": "stream",
     "text": [
      "------------------------------\n",
      "Train Loss Epoch 23: 0.2425\n",
      "Valid Loss Epoch 23: 0.2366\n",
      "Train Accuracy Epoch 23: 0.9330\n"
     ]
    },
    {
     "name": "stderr",
     "output_type": "stream",
     "text": [
      " 57%|█████▊    | 23/40 [06:46<05:04, 17.90s/it]"
     ]
    },
    {
     "name": "stdout",
     "output_type": "stream",
     "text": [
      "Valid Accuracy Epoch 23: 0.9362\n",
      "------------------------------\n"
     ]
    },
    {
     "name": "stderr",
     "output_type": "stream",
     "text": [
      "100%|██████████| 118/118 [00:15<00:00,  7.43it/s]\n",
      "100%|██████████| 20/20 [00:01<00:00, 13.96it/s]\n"
     ]
    },
    {
     "name": "stdout",
     "output_type": "stream",
     "text": [
      "------------------------------\n",
      "Train Loss Epoch 24: 0.2350\n",
      "Valid Loss Epoch 24: 0.2182\n",
      "Train Accuracy Epoch 24: 0.9347\n"
     ]
    },
    {
     "name": "stderr",
     "output_type": "stream",
     "text": [
      " 60%|██████    | 24/40 [07:04<04:45, 17.81s/it]"
     ]
    },
    {
     "name": "stdout",
     "output_type": "stream",
     "text": [
      "Valid Accuracy Epoch 24: 0.9420\n",
      "------------------------------\n"
     ]
    },
    {
     "name": "stderr",
     "output_type": "stream",
     "text": [
      "100%|██████████| 118/118 [00:15<00:00,  7.38it/s]\n",
      "100%|██████████| 20/20 [00:01<00:00, 13.94it/s]\n"
     ]
    },
    {
     "name": "stdout",
     "output_type": "stream",
     "text": [
      "------------------------------\n",
      "Train Loss Epoch 25: 0.2317\n",
      "Valid Loss Epoch 25: 0.2343\n",
      "Train Accuracy Epoch 25: 0.9351\n"
     ]
    },
    {
     "name": "stderr",
     "output_type": "stream",
     "text": [
      " 62%|██████▎   | 25/40 [07:21<04:26, 17.79s/it]"
     ]
    },
    {
     "name": "stdout",
     "output_type": "stream",
     "text": [
      "Valid Accuracy Epoch 25: 0.9369\n",
      "------------------------------\n"
     ]
    },
    {
     "name": "stderr",
     "output_type": "stream",
     "text": [
      "100%|██████████| 118/118 [00:16<00:00,  7.34it/s]\n",
      "100%|██████████| 20/20 [00:01<00:00, 14.30it/s]\n"
     ]
    },
    {
     "name": "stdout",
     "output_type": "stream",
     "text": [
      "------------------------------\n",
      "Train Loss Epoch 26: 0.2323\n",
      "Valid Loss Epoch 26: 0.2057\n",
      "Train Accuracy Epoch 26: 0.9337\n"
     ]
    },
    {
     "name": "stderr",
     "output_type": "stream",
     "text": [
      " 65%|██████▌   | 26/40 [07:39<04:08, 17.78s/it]"
     ]
    },
    {
     "name": "stdout",
     "output_type": "stream",
     "text": [
      "Valid Accuracy Epoch 26: 0.9448\n",
      "------------------------------\n"
     ]
    },
    {
     "name": "stderr",
     "output_type": "stream",
     "text": [
      "100%|██████████| 118/118 [00:16<00:00,  7.33it/s]\n",
      "100%|██████████| 20/20 [00:01<00:00, 13.37it/s]\n"
     ]
    },
    {
     "name": "stdout",
     "output_type": "stream",
     "text": [
      "------------------------------\n",
      "Train Loss Epoch 27: 0.2190\n",
      "Valid Loss Epoch 27: 0.2116\n"
     ]
    },
    {
     "name": "stderr",
     "output_type": "stream",
     "text": [
      " 68%|██████▊   | 27/40 [07:57<03:51, 17.82s/it]"
     ]
    },
    {
     "name": "stdout",
     "output_type": "stream",
     "text": [
      "Train Accuracy Epoch 27: 0.9375\n",
      "Valid Accuracy Epoch 27: 0.9426\n",
      "------------------------------\n"
     ]
    },
    {
     "name": "stderr",
     "output_type": "stream",
     "text": [
      "100%|██████████| 118/118 [00:16<00:00,  7.01it/s]\n",
      "100%|██████████| 20/20 [00:01<00:00, 14.41it/s]\n"
     ]
    },
    {
     "name": "stdout",
     "output_type": "stream",
     "text": [
      "------------------------------\n",
      "Train Loss Epoch 28: 0.2129\n",
      "Valid Loss Epoch 28: 0.2144\n"
     ]
    },
    {
     "name": "stderr",
     "output_type": "stream",
     "text": [
      " 70%|███████   | 28/40 [08:16<03:36, 18.04s/it]"
     ]
    },
    {
     "name": "stdout",
     "output_type": "stream",
     "text": [
      "Train Accuracy Epoch 28: 0.9395\n",
      "Valid Accuracy Epoch 28: 0.9393\n",
      "------------------------------\n"
     ]
    },
    {
     "name": "stderr",
     "output_type": "stream",
     "text": [
      "100%|██████████| 118/118 [00:16<00:00,  7.02it/s]\n",
      "100%|██████████| 20/20 [00:01<00:00, 13.42it/s]\n"
     ]
    },
    {
     "name": "stdout",
     "output_type": "stream",
     "text": [
      "------------------------------\n",
      "Train Loss Epoch 29: 0.2161\n",
      "Valid Loss Epoch 29: 0.1905\n"
     ]
    },
    {
     "name": "stderr",
     "output_type": "stream",
     "text": [
      " 72%|███████▎  | 29/40 [08:34<03:20, 18.21s/it]"
     ]
    },
    {
     "name": "stdout",
     "output_type": "stream",
     "text": [
      "Train Accuracy Epoch 29: 0.9384\n",
      "Valid Accuracy Epoch 29: 0.9480\n",
      "------------------------------\n"
     ]
    },
    {
     "name": "stderr",
     "output_type": "stream",
     "text": [
      "100%|██████████| 118/118 [00:16<00:00,  7.20it/s]\n",
      "100%|██████████| 20/20 [00:01<00:00, 14.09it/s]\n"
     ]
    },
    {
     "name": "stdout",
     "output_type": "stream",
     "text": [
      "------------------------------\n",
      "Train Loss Epoch 30: 0.2058\n",
      "Valid Loss Epoch 30: 0.1911\n",
      "Train Accuracy Epoch 30: 0.9405\n"
     ]
    },
    {
     "name": "stderr",
     "output_type": "stream",
     "text": [
      " 75%|███████▌  | 30/40 [08:52<03:01, 18.19s/it]"
     ]
    },
    {
     "name": "stdout",
     "output_type": "stream",
     "text": [
      "Valid Accuracy Epoch 30: 0.9504\n",
      "------------------------------\n"
     ]
    },
    {
     "name": "stderr",
     "output_type": "stream",
     "text": [
      "100%|██████████| 118/118 [00:16<00:00,  7.25it/s]\n",
      "100%|██████████| 20/20 [00:01<00:00, 13.63it/s]\n"
     ]
    },
    {
     "name": "stdout",
     "output_type": "stream",
     "text": [
      "------------------------------\n",
      "Train Loss Epoch 31: 0.1979\n",
      "Valid Loss Epoch 31: 0.1999\n",
      "Train Accuracy Epoch 31: 0.9427\n"
     ]
    },
    {
     "name": "stderr",
     "output_type": "stream",
     "text": [
      " 78%|███████▊  | 31/40 [09:11<02:43, 18.15s/it]"
     ]
    },
    {
     "name": "stdout",
     "output_type": "stream",
     "text": [
      "Valid Accuracy Epoch 31: 0.9441\n",
      "------------------------------\n"
     ]
    },
    {
     "name": "stderr",
     "output_type": "stream",
     "text": [
      "100%|██████████| 118/118 [00:16<00:00,  7.29it/s]\n",
      "100%|██████████| 20/20 [00:01<00:00, 14.26it/s]\n"
     ]
    },
    {
     "name": "stdout",
     "output_type": "stream",
     "text": [
      "------------------------------\n",
      "Train Loss Epoch 32: 0.1905\n",
      "Valid Loss Epoch 32: 0.1830\n",
      "Train Accuracy Epoch 32: 0.9444\n"
     ]
    },
    {
     "name": "stderr",
     "output_type": "stream",
     "text": [
      " 80%|████████  | 32/40 [09:28<02:24, 18.08s/it]"
     ]
    },
    {
     "name": "stdout",
     "output_type": "stream",
     "text": [
      "Valid Accuracy Epoch 32: 0.9498\n",
      "------------------------------\n"
     ]
    },
    {
     "name": "stderr",
     "output_type": "stream",
     "text": [
      "100%|██████████| 118/118 [00:16<00:00,  7.35it/s]\n",
      "100%|██████████| 20/20 [00:01<00:00, 14.01it/s]\n"
     ]
    },
    {
     "name": "stdout",
     "output_type": "stream",
     "text": [
      "------------------------------\n",
      "Train Loss Epoch 33: 0.1895\n",
      "Valid Loss Epoch 33: 0.1751\n",
      "Train Accuracy Epoch 33: 0.9444\n"
     ]
    },
    {
     "name": "stderr",
     "output_type": "stream",
     "text": [
      " 82%|████████▎ | 33/40 [09:46<02:05, 17.99s/it]"
     ]
    },
    {
     "name": "stdout",
     "output_type": "stream",
     "text": [
      "Valid Accuracy Epoch 33: 0.9526\n",
      "------------------------------\n"
     ]
    },
    {
     "name": "stderr",
     "output_type": "stream",
     "text": [
      "100%|██████████| 118/118 [00:16<00:00,  7.28it/s]\n",
      "100%|██████████| 20/20 [00:01<00:00, 13.86it/s]\n"
     ]
    },
    {
     "name": "stdout",
     "output_type": "stream",
     "text": [
      "------------------------------\n",
      "Train Loss Epoch 34: 0.1892\n",
      "Valid Loss Epoch 34: 0.1808\n",
      "Train Accuracy Epoch 34: 0.9443\n"
     ]
    },
    {
     "name": "stderr",
     "output_type": "stream",
     "text": [
      " 85%|████████▌ | 34/40 [10:04<01:47, 17.97s/it]"
     ]
    },
    {
     "name": "stdout",
     "output_type": "stream",
     "text": [
      "Valid Accuracy Epoch 34: 0.9485\n",
      "------------------------------\n"
     ]
    },
    {
     "name": "stderr",
     "output_type": "stream",
     "text": [
      "100%|██████████| 118/118 [00:16<00:00,  7.30it/s]\n",
      "100%|██████████| 20/20 [00:01<00:00, 14.26it/s]\n"
     ]
    },
    {
     "name": "stdout",
     "output_type": "stream",
     "text": [
      "------------------------------\n",
      "Train Loss Epoch 35: 0.1815\n",
      "Valid Loss Epoch 35: 0.1899\n",
      "Train Accuracy Epoch 35: 0.9468\n"
     ]
    },
    {
     "name": "stderr",
     "output_type": "stream",
     "text": [
      " 88%|████████▊ | 35/40 [10:22<01:29, 17.94s/it]"
     ]
    },
    {
     "name": "stdout",
     "output_type": "stream",
     "text": [
      "Valid Accuracy Epoch 35: 0.9448\n",
      "------------------------------\n"
     ]
    },
    {
     "name": "stderr",
     "output_type": "stream",
     "text": [
      "100%|██████████| 118/118 [00:16<00:00,  7.32it/s]\n",
      "100%|██████████| 20/20 [00:01<00:00, 13.30it/s]\n"
     ]
    },
    {
     "name": "stdout",
     "output_type": "stream",
     "text": [
      "------------------------------\n",
      "Train Loss Epoch 36: 0.1861\n",
      "Valid Loss Epoch 36: 0.1770\n"
     ]
    },
    {
     "name": "stderr",
     "output_type": "stream",
     "text": [
      " 90%|█████████ | 36/40 [10:40<01:11, 17.96s/it]"
     ]
    },
    {
     "name": "stdout",
     "output_type": "stream",
     "text": [
      "Train Accuracy Epoch 36: 0.9446\n",
      "Valid Accuracy Epoch 36: 0.9487\n",
      "------------------------------\n"
     ]
    },
    {
     "name": "stderr",
     "output_type": "stream",
     "text": [
      "100%|██████████| 118/118 [00:16<00:00,  7.17it/s]\n",
      "100%|██████████| 20/20 [00:01<00:00, 14.28it/s]\n"
     ]
    },
    {
     "name": "stdout",
     "output_type": "stream",
     "text": [
      "------------------------------\n",
      "Train Loss Epoch 37: 0.1817\n",
      "Valid Loss Epoch 37: 0.1700\n"
     ]
    },
    {
     "name": "stderr",
     "output_type": "stream",
     "text": [
      " 92%|█████████▎| 37/40 [10:58<00:54, 18.02s/it]"
     ]
    },
    {
     "name": "stdout",
     "output_type": "stream",
     "text": [
      "Train Accuracy Epoch 37: 0.9465\n",
      "Valid Accuracy Epoch 37: 0.9513\n",
      "------------------------------\n"
     ]
    },
    {
     "name": "stderr",
     "output_type": "stream",
     "text": [
      "100%|██████████| 118/118 [00:16<00:00,  7.35it/s]\n",
      "100%|██████████| 20/20 [00:01<00:00, 13.37it/s]\n"
     ]
    },
    {
     "name": "stdout",
     "output_type": "stream",
     "text": [
      "------------------------------\n",
      "Train Loss Epoch 38: 0.1701\n",
      "Valid Loss Epoch 38: 0.1627\n"
     ]
    },
    {
     "name": "stderr",
     "output_type": "stream",
     "text": [
      " 95%|█████████▌| 38/40 [11:16<00:35, 17.98s/it]"
     ]
    },
    {
     "name": "stdout",
     "output_type": "stream",
     "text": [
      "Train Accuracy Epoch 38: 0.9495\n",
      "Valid Accuracy Epoch 38: 0.9549\n",
      "------------------------------\n"
     ]
    },
    {
     "name": "stderr",
     "output_type": "stream",
     "text": [
      "100%|██████████| 118/118 [00:16<00:00,  7.05it/s]\n",
      "100%|██████████| 20/20 [00:01<00:00, 14.13it/s]\n"
     ]
    },
    {
     "name": "stdout",
     "output_type": "stream",
     "text": [
      "------------------------------\n",
      "Train Loss Epoch 39: 0.1667\n",
      "Valid Loss Epoch 39: 0.1562\n",
      "Train Accuracy Epoch 39: 0.9510\n"
     ]
    },
    {
     "name": "stderr",
     "output_type": "stream",
     "text": [
      " 98%|█████████▊| 39/40 [11:35<00:18, 18.13s/it]"
     ]
    },
    {
     "name": "stdout",
     "output_type": "stream",
     "text": [
      "Valid Accuracy Epoch 39: 0.9565\n",
      "------------------------------\n"
     ]
    },
    {
     "name": "stderr",
     "output_type": "stream",
     "text": [
      "100%|██████████| 118/118 [00:16<00:00,  7.21it/s]\n",
      "100%|██████████| 20/20 [00:01<00:00, 13.13it/s]\n"
     ]
    },
    {
     "name": "stdout",
     "output_type": "stream",
     "text": [
      "------------------------------\n",
      "Train Loss Epoch 40: 0.1628\n",
      "Valid Loss Epoch 40: 0.1612\n",
      "Train Accuracy Epoch 40: 0.9513\n"
     ]
    },
    {
     "name": "stderr",
     "output_type": "stream",
     "text": [
      "100%|██████████| 40/40 [11:53<00:00, 17.83s/it]"
     ]
    },
    {
     "name": "stdout",
     "output_type": "stream",
     "text": [
      "Valid Accuracy Epoch 40: 0.9546\n",
      "------------------------------\n",
      "Training Time: 713.25s\n",
      "Modelo guardado exitosamente como 'vit_mnist.pth'\n"
     ]
    },
    {
     "name": "stderr",
     "output_type": "stream",
     "text": [
      "\n"
     ]
    }
   ],
   "execution_count": 14
  },
  {
   "metadata": {},
   "cell_type": "markdown",
   "source": "# VALIDAMOS RESULTADOS",
   "id": "4bc8fdd7a43e3c11"
  },
  {
   "metadata": {
    "ExecuteTime": {
     "end_time": "2025-03-29T20:30:46.860069Z",
     "start_time": "2025-03-29T20:30:45.355596Z"
    }
   },
   "cell_type": "code",
   "source": [
    "import matplotlib.pyplot as plt\n",
    "from tqdm import tqdm\n",
    "\n",
    "torch.cuda.empty_cache()\n",
    "\n",
    "labels = []\n",
    "imgs = []\n",
    "\n",
    "model.eval()\n",
    "with torch.no_grad():\n",
    "    for idx, (img, _) in enumerate(tqdm(test_loader, position=0, leave=True)):\n",
    "        img = img.to(device)\n",
    "\n",
    "        outputs = model(img)  # [B, 10]\n",
    "        preds = torch.argmax(outputs, dim=1)\n",
    "\n",
    "        imgs.extend(img.detach().cpu())\n",
    "        labels.extend(preds.cpu().tolist())\n"
   ],
   "id": "33fd716218b5c2b6",
   "outputs": [
    {
     "name": "stderr",
     "output_type": "stream",
     "text": [
      "100%|██████████| 20/20 [00:01<00:00, 13.50it/s]\n"
     ]
    }
   ],
   "execution_count": 15
  },
  {
   "metadata": {
    "ExecuteTime": {
     "end_time": "2025-03-29T20:30:50.910667Z",
     "start_time": "2025-03-29T20:30:50.189397Z"
    }
   },
   "cell_type": "code",
   "source": [
    "plt.figure(figsize=(8, 6))\n",
    "f, axarr = plt.subplots(2, 3)\n",
    "\n",
    "counter = 0\n",
    "for i in range(2):\n",
    "    for j in range(3):\n",
    "        axarr[i][j].imshow(imgs[counter].squeeze(), cmap=\"gray\")\n",
    "        axarr[i][j].set_title(f\"Predicted: {labels[counter]}\")\n",
    "        axarr[i][j].axis('off')\n",
    "        counter += 1\n",
    "plt.tight_layout()\n",
    "plt.show()\n"
   ],
   "id": "b0d06810f8487749",
   "outputs": [
    {
     "data": {
      "text/plain": [
       "<Figure size 800x600 with 0 Axes>"
      ]
     },
     "metadata": {},
     "output_type": "display_data"
    },
    {
     "data": {
      "text/plain": [
       "<Figure size 640x480 with 6 Axes>"
      ],
      "image/png": "[encoded data removed]"
     },
     "metadata": {},
     "output_type": "display_data"
    }
   ],
   "execution_count": 16
  }
 ],
 "metadata": {
  "kernelspec": {
   "display_name": "Python 3",
   "language": "python",
   "name": "python3"
  },
  "language_info": {
   "codemirror_mode": {
    "name": "ipython",
    "version": 2
   },
   "file_extension": ".py",
   "mimetype": "text/x-python",
   "name": "python",
   "nbconvert_exporter": "python",
   "pygments_lexer": "ipython2",
   "version": "2.7.6"
  }
 },
 "nbformat": 4,
 "nbformat_minor": 5
}
