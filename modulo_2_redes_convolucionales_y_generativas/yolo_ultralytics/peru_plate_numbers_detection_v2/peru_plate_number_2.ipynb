{
 "cells": [
  {
   "cell_type": "code",
   "id": "initial_id",
   "metadata": {
    "collapsed": true,
    "ExecuteTime": {
     "end_time": "2025-04-08T03:23:00.476661Z",
     "start_time": "2025-04-08T03:22:56.249409Z"
    }
   },
   "source": " from ultralytics import YOLO\n",
   "outputs": [],
   "execution_count": 3
  },
  {
   "metadata": {
    "ExecuteTime": {
     "end_time": "2025-04-07T12:25:01.817153Z",
     "start_time": "2025-04-07T12:24:59.320657Z"
    }
   },
   "cell_type": "code",
   "source": "model=YOLO('yolo11n.pt')\n",
   "id": "81a23853f2c068a1",
   "outputs": [
    {
     "name": "stdout",
     "output_type": "stream",
     "text": [
      "Downloading https://github.com/ultralytics/assets/releases/download/v8.3.0/yolo11n.pt to 'yolo11n.pt'...\n"
     ]
    },
    {
     "name": "stderr",
     "output_type": "stream",
     "text": [
      "100%|██████████| 5.35M/5.35M [00:00<00:00, 90.3MB/s]\n"
     ]
    }
   ],
   "execution_count": 2
  },
  {
   "metadata": {
    "ExecuteTime": {
     "end_time": "2025-04-07T12:34:24.158795Z",
     "start_time": "2025-04-07T12:34:24.155458Z"
    }
   },
   "cell_type": "code",
   "source": [
    "import os\n",
    "\n",
    "# Obtener el directorio raíz del proyecto\n",
    "root_dir = os.getcwd()\n",
    "\n",
    "# Construir la ruta al archivo YAML\n",
    "data_path = os.path.join(root_dir, \"dataset\", \"data.yaml\")\n",
    "print(\"Ruta al archivo YAML:\", data_path)"
   ],
   "id": "5323c9191dbe36d6",
   "outputs": [
    {
     "name": "stdout",
     "output_type": "stream",
     "text": [
      "Ruta al archivo YAML: D:\\programacion\\proyectos\\utec\\IA\\modulo_2_redes_convolucionales_y_generativas\\yolo_ultralytics\\peru_plate_numbers_detection_v2\\dataset\\data.yaml\n"
     ]
    }
   ],
   "execution_count": 4
  },
  {
   "metadata": {
    "ExecuteTime": {
     "end_time": "2025-04-07T12:56:31.943323Z",
     "start_time": "2025-04-07T12:35:18.511286Z"
    }
   },
   "cell_type": "code",
   "source": [
    "\n",
    "model.train(\n",
    "    data=data_path,  # Ruta al archivo YAML\n",
    "    epochs=50,                 # Número de épocas\n",
    "    imgsz=640,                 # Tamaño de las imágenes de entrada\n",
    "    batch=16,                  # Tamaño de batch (ajusta según tu GPU)\n",
    "    device=0,                  # 0 para usar GPU (CUDA); 'cpu' para forzar CPU\n",
    "    name=\"yolo_car_detector\"   # Nombre de la carpeta de resultados\n",
    ")"
   ],
   "id": "9604deec7d3e1ab1",
   "outputs": [
    {
     "name": "stdout",
     "output_type": "stream",
     "text": [
      "New https://pypi.org/project/ultralytics/8.3.103 available  Update with 'pip install -U ultralytics'\n",
      "Ultralytics 8.3.102  Python-3.13.1 torch-2.6.0+cu126 CUDA:0 (NVIDIA GeForce RTX 2070 SUPER, 8192MiB)\n",
      "\u001B[34m\u001B[1mengine\\trainer: \u001B[0mtask=detect, mode=train, model=yolo11n.pt, data=D:\\programacion\\proyectos\\utec\\IA\\modulo_2_redes_convolucionales_y_generativas\\yolo_ultralytics\\peru_plate_numbers_detection_v2\\dataset\\data.yaml, epochs=50, time=None, patience=100, batch=16, imgsz=640, save=True, save_period=-1, cache=False, device=0, workers=8, project=None, name=yolo_car_detector2, exist_ok=False, pretrained=True, optimizer=auto, verbose=True, seed=0, deterministic=True, single_cls=False, rect=False, cos_lr=False, close_mosaic=10, resume=False, amp=True, fraction=1.0, profile=False, freeze=None, multi_scale=False, overlap_mask=True, mask_ratio=4, dropout=0.0, val=True, split=val, save_json=False, save_hybrid=False, conf=None, iou=0.7, max_det=300, half=False, dnn=False, plots=True, source=None, vid_stride=1, stream_buffer=False, visualize=False, augment=False, agnostic_nms=False, classes=None, retina_masks=False, embed=None, show=False, save_frames=False, save_txt=False, save_conf=False, save_crop=False, show_labels=True, show_conf=True, show_boxes=True, line_width=None, format=torchscript, keras=False, optimize=False, int8=False, dynamic=False, simplify=True, opset=None, workspace=None, nms=False, lr0=0.01, lrf=0.01, momentum=0.937, weight_decay=0.0005, warmup_epochs=3.0, warmup_momentum=0.8, warmup_bias_lr=0.1, box=7.5, cls=0.5, dfl=1.5, pose=12.0, kobj=1.0, nbs=64, hsv_h=0.015, hsv_s=0.7, hsv_v=0.4, degrees=0.0, translate=0.1, scale=0.5, shear=0.0, perspective=0.0, flipud=0.0, fliplr=0.5, bgr=0.0, mosaic=1.0, mixup=0.0, copy_paste=0.0, copy_paste_mode=flip, auto_augment=randaugment, erasing=0.4, crop_fraction=1.0, cfg=None, tracker=botsort.yaml, save_dir=runs\\detect\\yolo_car_detector2\n",
      "Overriding model.yaml nc=80 with nc=1\n",
      "\n",
      "                   from  n    params  module                                       arguments                     \n",
      "  0                  -1  1       464  ultralytics.nn.modules.conv.Conv             [3, 16, 3, 2]                 \n",
      "  1                  -1  1      4672  ultralytics.nn.modules.conv.Conv             [16, 32, 3, 2]                \n",
      "  2                  -1  1      6640  ultralytics.nn.modules.block.C3k2            [32, 64, 1, False, 0.25]      \n",
      "  3                  -1  1     36992  ultralytics.nn.modules.conv.Conv             [64, 64, 3, 2]                \n",
      "  4                  -1  1     26080  ultralytics.nn.modules.block.C3k2            [64, 128, 1, False, 0.25]     \n",
      "  5                  -1  1    147712  ultralytics.nn.modules.conv.Conv             [128, 128, 3, 2]              \n",
      "  6                  -1  1     87040  ultralytics.nn.modules.block.C3k2            [128, 128, 1, True]           \n",
      "  7                  -1  1    295424  ultralytics.nn.modules.conv.Conv             [128, 256, 3, 2]              \n",
      "  8                  -1  1    346112  ultralytics.nn.modules.block.C3k2            [256, 256, 1, True]           \n",
      "  9                  -1  1    164608  ultralytics.nn.modules.block.SPPF            [256, 256, 5]                 \n",
      " 10                  -1  1    249728  ultralytics.nn.modules.block.C2PSA           [256, 256, 1]                 \n",
      " 11                  -1  1         0  torch.nn.modules.upsampling.Upsample         [None, 2, 'nearest']          \n",
      " 12             [-1, 6]  1         0  ultralytics.nn.modules.conv.Concat           [1]                           \n",
      " 13                  -1  1    111296  ultralytics.nn.modules.block.C3k2            [384, 128, 1, False]          \n",
      " 14                  -1  1         0  torch.nn.modules.upsampling.Upsample         [None, 2, 'nearest']          \n",
      " 15             [-1, 4]  1         0  ultralytics.nn.modules.conv.Concat           [1]                           \n",
      " 16                  -1  1     32096  ultralytics.nn.modules.block.C3k2            [256, 64, 1, False]           \n",
      " 17                  -1  1     36992  ultralytics.nn.modules.conv.Conv             [64, 64, 3, 2]                \n",
      " 18            [-1, 13]  1         0  ultralytics.nn.modules.conv.Concat           [1]                           \n",
      " 19                  -1  1     86720  ultralytics.nn.modules.block.C3k2            [192, 128, 1, False]          \n",
      " 20                  -1  1    147712  ultralytics.nn.modules.conv.Conv             [128, 128, 3, 2]              \n",
      " 21            [-1, 10]  1         0  ultralytics.nn.modules.conv.Concat           [1]                           \n",
      " 22                  -1  1    378880  ultralytics.nn.modules.block.C3k2            [384, 256, 1, True]           \n",
      " 23        [16, 19, 22]  1    430867  ultralytics.nn.modules.head.Detect           [1, [64, 128, 256]]           \n",
      "YOLO11n summary: 181 layers, 2,590,035 parameters, 2,590,019 gradients, 6.4 GFLOPs\n",
      "\n",
      "Transferred 448/499 items from pretrained weights\n",
      "Freezing layer 'model.23.dfl.conv.weight'\n",
      "\u001B[34m\u001B[1mAMP: \u001B[0mrunning Automatic Mixed Precision (AMP) checks...\n",
      "\u001B[34m\u001B[1mAMP: \u001B[0mchecks passed \n"
     ]
    },
    {
     "name": "stderr",
     "output_type": "stream",
     "text": [
      "\u001B[34m\u001B[1mtrain: \u001B[0mScanning D:\\programacion\\proyectos\\utec\\IA\\modulo_2_redes_convolucionales_y_generativas\\yolo_ultralytics\\peru_plate_numbers_detection_v2\\dataset\\train\\labels... 2445 images, 4 backgrounds, 0 corrupt: 100%|██████████| 2445/2445 [00:01<00:00, 2439.24it/s]\n"
     ]
    },
    {
     "name": "stdout",
     "output_type": "stream",
     "text": [
      "\u001B[34m\u001B[1mtrain: \u001B[0mNew cache created: D:\\programacion\\proyectos\\utec\\IA\\modulo_2_redes_convolucionales_y_generativas\\yolo_ultralytics\\peru_plate_numbers_detection_v2\\dataset\\train\\labels.cache\n",
      "WARNING  Box and segment counts should be equal, but got len(segments) = 4104, len(boxes) = 4172. To resolve this only boxes will be used and all segments will be removed. To avoid this please supply either a detect or segment dataset, not a detect-segment mixed dataset.\n"
     ]
    },
    {
     "name": "stderr",
     "output_type": "stream",
     "text": [
      "\u001B[34m\u001B[1mval: \u001B[0mScanning D:\\programacion\\proyectos\\utec\\IA\\modulo_2_redes_convolucionales_y_generativas\\yolo_ultralytics\\peru_plate_numbers_detection_v2\\dataset\\valid\\labels... 128 images, 0 backgrounds, 0 corrupt: 100%|██████████| 128/128 [00:00<00:00, 2347.19it/s]"
     ]
    },
    {
     "name": "stdout",
     "output_type": "stream",
     "text": [
      "\u001B[34m\u001B[1mval: \u001B[0mNew cache created: D:\\programacion\\proyectos\\utec\\IA\\modulo_2_redes_convolucionales_y_generativas\\yolo_ultralytics\\peru_plate_numbers_detection_v2\\dataset\\valid\\labels.cache\n",
      "WARNING  Box and segment counts should be equal, but got len(segments) = 217, len(boxes) = 235. To resolve this only boxes will be used and all segments will be removed. To avoid this please supply either a detect or segment dataset, not a detect-segment mixed dataset.\n"
     ]
    },
    {
     "name": "stderr",
     "output_type": "stream",
     "text": [
      "\n"
     ]
    },
    {
     "name": "stdout",
     "output_type": "stream",
     "text": [
      "Plotting labels to runs\\detect\\yolo_car_detector2\\labels.jpg... \n",
      "\u001B[34m\u001B[1moptimizer:\u001B[0m 'optimizer=auto' found, ignoring 'lr0=0.01' and 'momentum=0.937' and determining best 'optimizer', 'lr0' and 'momentum' automatically... \n",
      "\u001B[34m\u001B[1moptimizer:\u001B[0m AdamW(lr=0.002, momentum=0.9) with parameter groups 81 weight(decay=0.0), 88 weight(decay=0.0005), 87 bias(decay=0.0)\n",
      "Image sizes 640 train, 640 val\n",
      "Using 8 dataloader workers\n",
      "Logging results to \u001B[1mruns\\detect\\yolo_car_detector2\u001B[0m\n",
      "Starting training for 50 epochs...\n",
      "\n",
      "      Epoch    GPU_mem   box_loss   cls_loss   dfl_loss  Instances       Size\n"
     ]
    },
    {
     "name": "stderr",
     "output_type": "stream",
     "text": [
      "       1/50      2.18G      1.311      2.521      1.015         24        640: 100%|██████████| 153/153 [00:30<00:00,  5.03it/s]\n",
      "                 Class     Images  Instances      Box(P          R      mAP50  mAP50-95): 100%|██████████| 4/4 [00:01<00:00,  3.81it/s]\n"
     ]
    },
    {
     "name": "stdout",
     "output_type": "stream",
     "text": [
      "                   all        128        235      0.828      0.779      0.824      0.488\n",
      "\n",
      "      Epoch    GPU_mem   box_loss   cls_loss   dfl_loss  Instances       Size\n"
     ]
    },
    {
     "name": "stderr",
     "output_type": "stream",
     "text": [
      "       2/50      2.57G      1.276      1.445      1.001         31        640: 100%|██████████| 153/153 [00:23<00:00,  6.64it/s]\n",
      "                 Class     Images  Instances      Box(P          R      mAP50  mAP50-95): 100%|██████████| 4/4 [00:00<00:00,  4.92it/s]"
     ]
    },
    {
     "name": "stdout",
     "output_type": "stream",
     "text": [
      "                   all        128        235      0.871      0.802      0.887      0.538\n"
     ]
    },
    {
     "name": "stderr",
     "output_type": "stream",
     "text": [
      "\n"
     ]
    },
    {
     "name": "stdout",
     "output_type": "stream",
     "text": [
      "\n",
      "      Epoch    GPU_mem   box_loss   cls_loss   dfl_loss  Instances       Size\n"
     ]
    },
    {
     "name": "stderr",
     "output_type": "stream",
     "text": [
      "       3/50      2.59G      1.252      1.088      1.014         20        640: 100%|██████████| 153/153 [00:21<00:00,  6.98it/s]\n",
      "                 Class     Images  Instances      Box(P          R      mAP50  mAP50-95): 100%|██████████| 4/4 [00:00<00:00,  4.91it/s]"
     ]
    },
    {
     "name": "stdout",
     "output_type": "stream",
     "text": [
      "                   all        128        235      0.763      0.796      0.831      0.501\n"
     ]
    },
    {
     "name": "stderr",
     "output_type": "stream",
     "text": [
      "\n"
     ]
    },
    {
     "name": "stdout",
     "output_type": "stream",
     "text": [
      "\n",
      "      Epoch    GPU_mem   box_loss   cls_loss   dfl_loss  Instances       Size\n"
     ]
    },
    {
     "name": "stderr",
     "output_type": "stream",
     "text": [
      "       4/50       2.6G       1.23     0.9569     0.9971         36        640: 100%|██████████| 153/153 [00:22<00:00,  6.93it/s]\n",
      "                 Class     Images  Instances      Box(P          R      mAP50  mAP50-95): 100%|██████████| 4/4 [00:00<00:00,  4.97it/s]"
     ]
    },
    {
     "name": "stdout",
     "output_type": "stream",
     "text": [
      "                   all        128        235      0.899      0.821      0.885      0.491\n"
     ]
    },
    {
     "name": "stderr",
     "output_type": "stream",
     "text": [
      "\n"
     ]
    },
    {
     "name": "stdout",
     "output_type": "stream",
     "text": [
      "\n",
      "      Epoch    GPU_mem   box_loss   cls_loss   dfl_loss  Instances       Size\n"
     ]
    },
    {
     "name": "stderr",
     "output_type": "stream",
     "text": [
      "       5/50      2.62G      1.191     0.8489      0.977         30        640: 100%|██████████| 153/153 [00:21<00:00,  7.08it/s]\n",
      "                 Class     Images  Instances      Box(P          R      mAP50  mAP50-95): 100%|██████████| 4/4 [00:00<00:00,  5.09it/s]"
     ]
    },
    {
     "name": "stdout",
     "output_type": "stream",
     "text": [
      "                   all        128        235      0.921      0.795      0.903      0.556\n"
     ]
    },
    {
     "name": "stderr",
     "output_type": "stream",
     "text": [
      "\n"
     ]
    },
    {
     "name": "stdout",
     "output_type": "stream",
     "text": [
      "\n",
      "      Epoch    GPU_mem   box_loss   cls_loss   dfl_loss  Instances       Size\n"
     ]
    },
    {
     "name": "stderr",
     "output_type": "stream",
     "text": [
      "       6/50      2.63G      1.167     0.8329     0.9893         36        640: 100%|██████████| 153/153 [00:22<00:00,  6.75it/s]\n",
      "                 Class     Images  Instances      Box(P          R      mAP50  mAP50-95): 100%|██████████| 4/4 [00:00<00:00,  5.07it/s]"
     ]
    },
    {
     "name": "stdout",
     "output_type": "stream",
     "text": [
      "                   all        128        235      0.884      0.872      0.919      0.532\n"
     ]
    },
    {
     "name": "stderr",
     "output_type": "stream",
     "text": [
      "\n"
     ]
    },
    {
     "name": "stdout",
     "output_type": "stream",
     "text": [
      "\n",
      "      Epoch    GPU_mem   box_loss   cls_loss   dfl_loss  Instances       Size\n"
     ]
    },
    {
     "name": "stderr",
     "output_type": "stream",
     "text": [
      "       7/50      2.64G      1.132     0.7829     0.9604         25        640: 100%|██████████| 153/153 [00:21<00:00,  7.09it/s]\n",
      "                 Class     Images  Instances      Box(P          R      mAP50  mAP50-95): 100%|██████████| 4/4 [00:00<00:00,  5.35it/s]"
     ]
    },
    {
     "name": "stdout",
     "output_type": "stream",
     "text": [
      "                   all        128        235      0.903      0.833      0.892      0.558\n"
     ]
    },
    {
     "name": "stderr",
     "output_type": "stream",
     "text": [
      "\n"
     ]
    },
    {
     "name": "stdout",
     "output_type": "stream",
     "text": [
      "\n",
      "      Epoch    GPU_mem   box_loss   cls_loss   dfl_loss  Instances       Size\n"
     ]
    },
    {
     "name": "stderr",
     "output_type": "stream",
     "text": [
      "       8/50      2.66G      1.117     0.7566     0.9545         28        640: 100%|██████████| 153/153 [00:21<00:00,  7.14it/s]\n",
      "                 Class     Images  Instances      Box(P          R      mAP50  mAP50-95): 100%|██████████| 4/4 [00:00<00:00,  5.12it/s]"
     ]
    },
    {
     "name": "stdout",
     "output_type": "stream",
     "text": [
      "                   all        128        235      0.909       0.83      0.934      0.607\n"
     ]
    },
    {
     "name": "stderr",
     "output_type": "stream",
     "text": [
      "\n"
     ]
    },
    {
     "name": "stdout",
     "output_type": "stream",
     "text": [
      "\n",
      "      Epoch    GPU_mem   box_loss   cls_loss   dfl_loss  Instances       Size\n"
     ]
    },
    {
     "name": "stderr",
     "output_type": "stream",
     "text": [
      "       9/50      2.68G      1.103     0.7514     0.9525         30        640: 100%|██████████| 153/153 [00:21<00:00,  6.98it/s]\n",
      "                 Class     Images  Instances      Box(P          R      mAP50  mAP50-95): 100%|██████████| 4/4 [00:00<00:00,  5.28it/s]"
     ]
    },
    {
     "name": "stdout",
     "output_type": "stream",
     "text": [
      "                   all        128        235      0.858      0.889      0.919      0.603\n"
     ]
    },
    {
     "name": "stderr",
     "output_type": "stream",
     "text": [
      "\n"
     ]
    },
    {
     "name": "stdout",
     "output_type": "stream",
     "text": [
      "\n",
      "      Epoch    GPU_mem   box_loss   cls_loss   dfl_loss  Instances       Size\n"
     ]
    },
    {
     "name": "stderr",
     "output_type": "stream",
     "text": [
      "      10/50      2.69G      1.085     0.7228     0.9476         32        640: 100%|██████████| 153/153 [00:21<00:00,  7.10it/s]\n",
      "                 Class     Images  Instances      Box(P          R      mAP50  mAP50-95): 100%|██████████| 4/4 [00:00<00:00,  5.42it/s]"
     ]
    },
    {
     "name": "stdout",
     "output_type": "stream",
     "text": [
      "                   all        128        235      0.882      0.864      0.925      0.615\n"
     ]
    },
    {
     "name": "stderr",
     "output_type": "stream",
     "text": [
      "\n"
     ]
    },
    {
     "name": "stdout",
     "output_type": "stream",
     "text": [
      "\n",
      "      Epoch    GPU_mem   box_loss   cls_loss   dfl_loss  Instances       Size\n"
     ]
    },
    {
     "name": "stderr",
     "output_type": "stream",
     "text": [
      "      11/50      2.71G      1.054     0.6927     0.9324         30        640: 100%|██████████| 153/153 [00:20<00:00,  7.32it/s]\n",
      "                 Class     Images  Instances      Box(P          R      mAP50  mAP50-95): 100%|██████████| 4/4 [00:00<00:00,  5.25it/s]"
     ]
    },
    {
     "name": "stdout",
     "output_type": "stream",
     "text": [
      "                   all        128        235      0.856      0.885      0.918      0.618\n"
     ]
    },
    {
     "name": "stderr",
     "output_type": "stream",
     "text": [
      "\n"
     ]
    },
    {
     "name": "stdout",
     "output_type": "stream",
     "text": [
      "\n",
      "      Epoch    GPU_mem   box_loss   cls_loss   dfl_loss  Instances       Size\n"
     ]
    },
    {
     "name": "stderr",
     "output_type": "stream",
     "text": [
      "      12/50      2.72G      1.089     0.7147      0.955         22        640: 100%|██████████| 153/153 [00:21<00:00,  7.02it/s]\n",
      "                 Class     Images  Instances      Box(P          R      mAP50  mAP50-95): 100%|██████████| 4/4 [00:00<00:00,  4.87it/s]"
     ]
    },
    {
     "name": "stdout",
     "output_type": "stream",
     "text": [
      "                   all        128        235      0.874      0.864      0.912      0.595\n"
     ]
    },
    {
     "name": "stderr",
     "output_type": "stream",
     "text": [
      "\n"
     ]
    },
    {
     "name": "stdout",
     "output_type": "stream",
     "text": [
      "\n",
      "      Epoch    GPU_mem   box_loss   cls_loss   dfl_loss  Instances       Size\n"
     ]
    },
    {
     "name": "stderr",
     "output_type": "stream",
     "text": [
      "      13/50      2.73G      1.075     0.6965      0.946         28        640: 100%|██████████| 153/153 [00:22<00:00,  6.94it/s]\n",
      "                 Class     Images  Instances      Box(P          R      mAP50  mAP50-95): 100%|██████████| 4/4 [00:00<00:00,  5.29it/s]"
     ]
    },
    {
     "name": "stdout",
     "output_type": "stream",
     "text": [
      "                   all        128        235      0.873      0.878      0.917       0.58\n"
     ]
    },
    {
     "name": "stderr",
     "output_type": "stream",
     "text": [
      "\n"
     ]
    },
    {
     "name": "stdout",
     "output_type": "stream",
     "text": [
      "\n",
      "      Epoch    GPU_mem   box_loss   cls_loss   dfl_loss  Instances       Size\n"
     ]
    },
    {
     "name": "stderr",
     "output_type": "stream",
     "text": [
      "      14/50      2.75G      1.042     0.6773       0.94         31        640: 100%|██████████| 153/153 [00:22<00:00,  6.91it/s]\n",
      "                 Class     Images  Instances      Box(P          R      mAP50  mAP50-95): 100%|██████████| 4/4 [00:00<00:00,  5.13it/s]"
     ]
    },
    {
     "name": "stdout",
     "output_type": "stream",
     "text": [
      "                   all        128        235      0.871      0.877      0.914      0.598\n"
     ]
    },
    {
     "name": "stderr",
     "output_type": "stream",
     "text": [
      "\n"
     ]
    },
    {
     "name": "stdout",
     "output_type": "stream",
     "text": [
      "\n",
      "      Epoch    GPU_mem   box_loss   cls_loss   dfl_loss  Instances       Size\n"
     ]
    },
    {
     "name": "stderr",
     "output_type": "stream",
     "text": [
      "      15/50      2.76G      1.025     0.6605      0.927         22        640: 100%|██████████| 153/153 [00:22<00:00,  6.87it/s]\n",
      "                 Class     Images  Instances      Box(P          R      mAP50  mAP50-95): 100%|██████████| 4/4 [00:00<00:00,  4.79it/s]"
     ]
    },
    {
     "name": "stdout",
     "output_type": "stream",
     "text": [
      "                   all        128        235       0.87      0.885      0.929      0.611\n"
     ]
    },
    {
     "name": "stderr",
     "output_type": "stream",
     "text": [
      "\n"
     ]
    },
    {
     "name": "stdout",
     "output_type": "stream",
     "text": [
      "\n",
      "      Epoch    GPU_mem   box_loss   cls_loss   dfl_loss  Instances       Size\n"
     ]
    },
    {
     "name": "stderr",
     "output_type": "stream",
     "text": [
      "      16/50      2.78G     0.9928     0.6247     0.9109         24        640: 100%|██████████| 153/153 [00:21<00:00,  7.06it/s]\n",
      "                 Class     Images  Instances      Box(P          R      mAP50  mAP50-95): 100%|██████████| 4/4 [00:00<00:00,  4.90it/s]"
     ]
    },
    {
     "name": "stdout",
     "output_type": "stream",
     "text": [
      "                   all        128        235      0.875      0.877      0.941      0.629\n"
     ]
    },
    {
     "name": "stderr",
     "output_type": "stream",
     "text": [
      "\n"
     ]
    },
    {
     "name": "stdout",
     "output_type": "stream",
     "text": [
      "\n",
      "      Epoch    GPU_mem   box_loss   cls_loss   dfl_loss  Instances       Size\n"
     ]
    },
    {
     "name": "stderr",
     "output_type": "stream",
     "text": [
      "      17/50      2.79G     0.9932     0.6293     0.9127         24        640: 100%|██████████| 153/153 [00:22<00:00,  6.93it/s]\n",
      "                 Class     Images  Instances      Box(P          R      mAP50  mAP50-95): 100%|██████████| 4/4 [00:00<00:00,  4.95it/s]"
     ]
    },
    {
     "name": "stdout",
     "output_type": "stream",
     "text": [
      "                   all        128        235       0.88      0.877      0.936      0.634\n"
     ]
    },
    {
     "name": "stderr",
     "output_type": "stream",
     "text": [
      "\n"
     ]
    },
    {
     "name": "stdout",
     "output_type": "stream",
     "text": [
      "\n",
      "      Epoch    GPU_mem   box_loss   cls_loss   dfl_loss  Instances       Size\n"
     ]
    },
    {
     "name": "stderr",
     "output_type": "stream",
     "text": [
      "      18/50      2.81G     0.9999     0.6393     0.9186         29        640: 100%|██████████| 153/153 [00:21<00:00,  7.15it/s]\n",
      "                 Class     Images  Instances      Box(P          R      mAP50  mAP50-95): 100%|██████████| 4/4 [00:00<00:00,  5.74it/s]"
     ]
    },
    {
     "name": "stdout",
     "output_type": "stream",
     "text": [
      "                   all        128        235      0.845      0.911      0.933      0.638\n"
     ]
    },
    {
     "name": "stderr",
     "output_type": "stream",
     "text": [
      "\n"
     ]
    },
    {
     "name": "stdout",
     "output_type": "stream",
     "text": [
      "\n",
      "      Epoch    GPU_mem   box_loss   cls_loss   dfl_loss  Instances       Size\n"
     ]
    },
    {
     "name": "stderr",
     "output_type": "stream",
     "text": [
      "      19/50      2.82G      1.006     0.6355     0.9167         22        640: 100%|██████████| 153/153 [00:20<00:00,  7.37it/s]\n",
      "                 Class     Images  Instances      Box(P          R      mAP50  mAP50-95): 100%|██████████| 4/4 [00:00<00:00,  5.25it/s]"
     ]
    },
    {
     "name": "stdout",
     "output_type": "stream",
     "text": [
      "                   all        128        235      0.849      0.872      0.932      0.616\n"
     ]
    },
    {
     "name": "stderr",
     "output_type": "stream",
     "text": [
      "\n"
     ]
    },
    {
     "name": "stdout",
     "output_type": "stream",
     "text": [
      "\n",
      "      Epoch    GPU_mem   box_loss   cls_loss   dfl_loss  Instances       Size\n"
     ]
    },
    {
     "name": "stderr",
     "output_type": "stream",
     "text": [
      "      20/50      2.84G     0.9883     0.6086     0.9121         27        640: 100%|██████████| 153/153 [00:21<00:00,  7.14it/s]\n",
      "                 Class     Images  Instances      Box(P          R      mAP50  mAP50-95): 100%|██████████| 4/4 [00:00<00:00,  4.69it/s]"
     ]
    },
    {
     "name": "stdout",
     "output_type": "stream",
     "text": [
      "                   all        128        235      0.858      0.898      0.934      0.648\n"
     ]
    },
    {
     "name": "stderr",
     "output_type": "stream",
     "text": [
      "\n"
     ]
    },
    {
     "name": "stdout",
     "output_type": "stream",
     "text": [
      "\n",
      "      Epoch    GPU_mem   box_loss   cls_loss   dfl_loss  Instances       Size\n"
     ]
    },
    {
     "name": "stderr",
     "output_type": "stream",
     "text": [
      "      21/50      2.85G     0.9619     0.6061     0.9099         38        640: 100%|██████████| 153/153 [00:21<00:00,  7.17it/s]\n",
      "                 Class     Images  Instances      Box(P          R      mAP50  mAP50-95): 100%|██████████| 4/4 [00:00<00:00,  5.40it/s]\n"
     ]
    },
    {
     "name": "stdout",
     "output_type": "stream",
     "text": [
      "                   all        128        235      0.848      0.899      0.925      0.619\n",
      "\n",
      "      Epoch    GPU_mem   box_loss   cls_loss   dfl_loss  Instances       Size\n"
     ]
    },
    {
     "name": "stderr",
     "output_type": "stream",
     "text": [
      "      22/50      2.87G     0.9612     0.5971     0.9057         33        640: 100%|██████████| 153/153 [00:24<00:00,  6.32it/s]\n",
      "                 Class     Images  Instances      Box(P          R      mAP50  mAP50-95): 100%|██████████| 4/4 [00:00<00:00,  4.61it/s]"
     ]
    },
    {
     "name": "stdout",
     "output_type": "stream",
     "text": [
      "                   all        128        235      0.862      0.902      0.933      0.638\n"
     ]
    },
    {
     "name": "stderr",
     "output_type": "stream",
     "text": [
      "\n"
     ]
    },
    {
     "name": "stdout",
     "output_type": "stream",
     "text": [
      "\n",
      "      Epoch    GPU_mem   box_loss   cls_loss   dfl_loss  Instances       Size\n"
     ]
    },
    {
     "name": "stderr",
     "output_type": "stream",
     "text": [
      "      23/50      2.88G     0.9397      0.596     0.8993         45        640: 100%|██████████| 153/153 [00:23<00:00,  6.61it/s]\n",
      "                 Class     Images  Instances      Box(P          R      mAP50  mAP50-95): 100%|██████████| 4/4 [00:00<00:00,  5.50it/s]"
     ]
    },
    {
     "name": "stdout",
     "output_type": "stream",
     "text": [
      "                   all        128        235      0.864      0.889      0.928      0.647\n"
     ]
    },
    {
     "name": "stderr",
     "output_type": "stream",
     "text": [
      "\n"
     ]
    },
    {
     "name": "stdout",
     "output_type": "stream",
     "text": [
      "\n",
      "      Epoch    GPU_mem   box_loss   cls_loss   dfl_loss  Instances       Size\n"
     ]
    },
    {
     "name": "stderr",
     "output_type": "stream",
     "text": [
      "      24/50       2.9G     0.9538     0.5869     0.9043         30        640: 100%|██████████| 153/153 [00:21<00:00,  7.27it/s]\n",
      "                 Class     Images  Instances      Box(P          R      mAP50  mAP50-95): 100%|██████████| 4/4 [00:00<00:00,  5.26it/s]"
     ]
    },
    {
     "name": "stdout",
     "output_type": "stream",
     "text": [
      "                   all        128        235       0.89      0.863      0.934      0.645\n"
     ]
    },
    {
     "name": "stderr",
     "output_type": "stream",
     "text": [
      "\n"
     ]
    },
    {
     "name": "stdout",
     "output_type": "stream",
     "text": [
      "\n",
      "      Epoch    GPU_mem   box_loss   cls_loss   dfl_loss  Instances       Size\n"
     ]
    },
    {
     "name": "stderr",
     "output_type": "stream",
     "text": [
      "      25/50      2.91G      0.926     0.5765     0.9008         20        640: 100%|██████████| 153/153 [00:20<00:00,  7.34it/s]\n",
      "                 Class     Images  Instances      Box(P          R      mAP50  mAP50-95): 100%|██████████| 4/4 [00:00<00:00,  5.48it/s]"
     ]
    },
    {
     "name": "stdout",
     "output_type": "stream",
     "text": [
      "                   all        128        235      0.892      0.843       0.92      0.617\n"
     ]
    },
    {
     "name": "stderr",
     "output_type": "stream",
     "text": [
      "\n"
     ]
    },
    {
     "name": "stdout",
     "output_type": "stream",
     "text": [
      "\n",
      "      Epoch    GPU_mem   box_loss   cls_loss   dfl_loss  Instances       Size\n"
     ]
    },
    {
     "name": "stderr",
     "output_type": "stream",
     "text": [
      "      26/50      2.93G     0.9363     0.5659     0.8991         38        640: 100%|██████████| 153/153 [00:20<00:00,  7.38it/s]\n",
      "                 Class     Images  Instances      Box(P          R      mAP50  mAP50-95): 100%|██████████| 4/4 [00:00<00:00,  5.58it/s]"
     ]
    },
    {
     "name": "stdout",
     "output_type": "stream",
     "text": [
      "                   all        128        235      0.873      0.868      0.922      0.645\n"
     ]
    },
    {
     "name": "stderr",
     "output_type": "stream",
     "text": [
      "\n"
     ]
    },
    {
     "name": "stdout",
     "output_type": "stream",
     "text": [
      "\n",
      "      Epoch    GPU_mem   box_loss   cls_loss   dfl_loss  Instances       Size\n"
     ]
    },
    {
     "name": "stderr",
     "output_type": "stream",
     "text": [
      "      27/50      2.94G     0.9198     0.5675     0.9011         31        640: 100%|██████████| 153/153 [00:21<00:00,  7.25it/s]\n",
      "                 Class     Images  Instances      Box(P          R      mAP50  mAP50-95): 100%|██████████| 4/4 [00:00<00:00,  5.29it/s]"
     ]
    },
    {
     "name": "stdout",
     "output_type": "stream",
     "text": [
      "                   all        128        235      0.865      0.898      0.931      0.651\n"
     ]
    },
    {
     "name": "stderr",
     "output_type": "stream",
     "text": [
      "\n"
     ]
    },
    {
     "name": "stdout",
     "output_type": "stream",
     "text": [
      "\n",
      "      Epoch    GPU_mem   box_loss   cls_loss   dfl_loss  Instances       Size\n"
     ]
    },
    {
     "name": "stderr",
     "output_type": "stream",
     "text": [
      "      28/50      2.96G     0.9035      0.559     0.8897         25        640: 100%|██████████| 153/153 [00:20<00:00,  7.32it/s]\n",
      "                 Class     Images  Instances      Box(P          R      mAP50  mAP50-95): 100%|██████████| 4/4 [00:00<00:00,  5.35it/s]"
     ]
    },
    {
     "name": "stdout",
     "output_type": "stream",
     "text": [
      "                   all        128        235      0.874      0.884      0.927      0.643\n"
     ]
    },
    {
     "name": "stderr",
     "output_type": "stream",
     "text": [
      "\n"
     ]
    },
    {
     "name": "stdout",
     "output_type": "stream",
     "text": [
      "\n",
      "      Epoch    GPU_mem   box_loss   cls_loss   dfl_loss  Instances       Size\n"
     ]
    },
    {
     "name": "stderr",
     "output_type": "stream",
     "text": [
      "      29/50      2.97G     0.8993     0.5461     0.8898         25        640: 100%|██████████| 153/153 [00:20<00:00,  7.31it/s]\n",
      "                 Class     Images  Instances      Box(P          R      mAP50  mAP50-95): 100%|██████████| 4/4 [00:00<00:00,  5.40it/s]"
     ]
    },
    {
     "name": "stdout",
     "output_type": "stream",
     "text": [
      "                   all        128        235      0.839      0.932       0.94      0.654\n"
     ]
    },
    {
     "name": "stderr",
     "output_type": "stream",
     "text": [
      "\n"
     ]
    },
    {
     "name": "stdout",
     "output_type": "stream",
     "text": [
      "\n",
      "      Epoch    GPU_mem   box_loss   cls_loss   dfl_loss  Instances       Size\n"
     ]
    },
    {
     "name": "stderr",
     "output_type": "stream",
     "text": [
      "      30/50      2.99G     0.9052     0.5511     0.8919         36        640: 100%|██████████| 153/153 [00:21<00:00,  7.27it/s]\n",
      "                 Class     Images  Instances      Box(P          R      mAP50  mAP50-95): 100%|██████████| 4/4 [00:00<00:00,  5.32it/s]"
     ]
    },
    {
     "name": "stdout",
     "output_type": "stream",
     "text": [
      "                   all        128        235      0.864      0.894      0.931       0.65\n"
     ]
    },
    {
     "name": "stderr",
     "output_type": "stream",
     "text": [
      "\n"
     ]
    },
    {
     "name": "stdout",
     "output_type": "stream",
     "text": [
      "\n",
      "      Epoch    GPU_mem   box_loss   cls_loss   dfl_loss  Instances       Size\n"
     ]
    },
    {
     "name": "stderr",
     "output_type": "stream",
     "text": [
      "      31/50         3G     0.8804     0.5217     0.8875         41        640: 100%|██████████| 153/153 [00:20<00:00,  7.30it/s]\n",
      "                 Class     Images  Instances      Box(P          R      mAP50  mAP50-95): 100%|██████████| 4/4 [00:00<00:00,  5.42it/s]"
     ]
    },
    {
     "name": "stdout",
     "output_type": "stream",
     "text": [
      "                   all        128        235      0.882      0.889      0.932      0.632\n"
     ]
    },
    {
     "name": "stderr",
     "output_type": "stream",
     "text": [
      "\n"
     ]
    },
    {
     "name": "stdout",
     "output_type": "stream",
     "text": [
      "\n",
      "      Epoch    GPU_mem   box_loss   cls_loss   dfl_loss  Instances       Size\n"
     ]
    },
    {
     "name": "stderr",
     "output_type": "stream",
     "text": [
      "      32/50      3.02G     0.8754     0.5233      0.881         36        640: 100%|██████████| 153/153 [00:20<00:00,  7.30it/s]\n",
      "                 Class     Images  Instances      Box(P          R      mAP50  mAP50-95): 100%|██████████| 4/4 [00:00<00:00,  5.21it/s]"
     ]
    },
    {
     "name": "stdout",
     "output_type": "stream",
     "text": [
      "                   all        128        235      0.866      0.909      0.932      0.649\n"
     ]
    },
    {
     "name": "stderr",
     "output_type": "stream",
     "text": [
      "\n"
     ]
    },
    {
     "name": "stdout",
     "output_type": "stream",
     "text": [
      "\n",
      "      Epoch    GPU_mem   box_loss   cls_loss   dfl_loss  Instances       Size\n"
     ]
    },
    {
     "name": "stderr",
     "output_type": "stream",
     "text": [
      "      33/50      3.03G     0.8721     0.5204     0.8845         23        640: 100%|██████████| 153/153 [00:21<00:00,  7.24it/s]\n",
      "                 Class     Images  Instances      Box(P          R      mAP50  mAP50-95): 100%|██████████| 4/4 [00:00<00:00,  5.20it/s]"
     ]
    },
    {
     "name": "stdout",
     "output_type": "stream",
     "text": [
      "                   all        128        235      0.891      0.902      0.949      0.663\n"
     ]
    },
    {
     "name": "stderr",
     "output_type": "stream",
     "text": [
      "\n"
     ]
    },
    {
     "name": "stdout",
     "output_type": "stream",
     "text": [
      "\n",
      "      Epoch    GPU_mem   box_loss   cls_loss   dfl_loss  Instances       Size\n"
     ]
    },
    {
     "name": "stderr",
     "output_type": "stream",
     "text": [
      "      34/50      3.05G     0.8731     0.5157     0.8789         26        640: 100%|██████████| 153/153 [00:21<00:00,  7.27it/s]\n",
      "                 Class     Images  Instances      Box(P          R      mAP50  mAP50-95): 100%|██████████| 4/4 [00:00<00:00,  5.55it/s]"
     ]
    },
    {
     "name": "stdout",
     "output_type": "stream",
     "text": [
      "                   all        128        235      0.894      0.872      0.941      0.643\n"
     ]
    },
    {
     "name": "stderr",
     "output_type": "stream",
     "text": [
      "\n"
     ]
    },
    {
     "name": "stdout",
     "output_type": "stream",
     "text": [
      "\n",
      "      Epoch    GPU_mem   box_loss   cls_loss   dfl_loss  Instances       Size\n"
     ]
    },
    {
     "name": "stderr",
     "output_type": "stream",
     "text": [
      "      35/50      3.06G     0.8686     0.5168     0.8808         29        640: 100%|██████████| 153/153 [00:21<00:00,  7.20it/s]\n",
      "                 Class     Images  Instances      Box(P          R      mAP50  mAP50-95): 100%|██████████| 4/4 [00:00<00:00,  5.07it/s]"
     ]
    },
    {
     "name": "stdout",
     "output_type": "stream",
     "text": [
      "                   all        128        235      0.854      0.906      0.939      0.658\n"
     ]
    },
    {
     "name": "stderr",
     "output_type": "stream",
     "text": [
      "\n"
     ]
    },
    {
     "name": "stdout",
     "output_type": "stream",
     "text": [
      "\n",
      "      Epoch    GPU_mem   box_loss   cls_loss   dfl_loss  Instances       Size\n"
     ]
    },
    {
     "name": "stderr",
     "output_type": "stream",
     "text": [
      "      36/50      3.08G     0.8611     0.5091     0.8789         27        640: 100%|██████████| 153/153 [00:21<00:00,  7.28it/s]\n",
      "                 Class     Images  Instances      Box(P          R      mAP50  mAP50-95): 100%|██████████| 4/4 [00:00<00:00,  5.23it/s]"
     ]
    },
    {
     "name": "stdout",
     "output_type": "stream",
     "text": [
      "                   all        128        235      0.884      0.898      0.939       0.66\n"
     ]
    },
    {
     "name": "stderr",
     "output_type": "stream",
     "text": [
      "\n"
     ]
    },
    {
     "name": "stdout",
     "output_type": "stream",
     "text": [
      "\n",
      "      Epoch    GPU_mem   box_loss   cls_loss   dfl_loss  Instances       Size\n"
     ]
    },
    {
     "name": "stderr",
     "output_type": "stream",
     "text": [
      "      37/50      3.09G     0.8369     0.4907     0.8733         21        640: 100%|██████████| 153/153 [00:31<00:00,  4.92it/s]\n",
      "                 Class     Images  Instances      Box(P          R      mAP50  mAP50-95): 100%|██████████| 4/4 [00:01<00:00,  3.66it/s]"
     ]
    },
    {
     "name": "stdout",
     "output_type": "stream",
     "text": [
      "                   all        128        235      0.882      0.881      0.936      0.654\n"
     ]
    },
    {
     "name": "stderr",
     "output_type": "stream",
     "text": [
      "\n"
     ]
    },
    {
     "name": "stdout",
     "output_type": "stream",
     "text": [
      "\n",
      "      Epoch    GPU_mem   box_loss   cls_loss   dfl_loss  Instances       Size\n"
     ]
    },
    {
     "name": "stderr",
     "output_type": "stream",
     "text": [
      "      38/50      3.11G      0.852      0.496     0.8749         35        640: 100%|██████████| 153/153 [00:27<00:00,  5.56it/s]\n",
      "                 Class     Images  Instances      Box(P          R      mAP50  mAP50-95): 100%|██████████| 4/4 [00:01<00:00,  3.24it/s]"
     ]
    },
    {
     "name": "stdout",
     "output_type": "stream",
     "text": [
      "                   all        128        235      0.893      0.881       0.94       0.67\n"
     ]
    },
    {
     "name": "stderr",
     "output_type": "stream",
     "text": [
      "\n"
     ]
    },
    {
     "name": "stdout",
     "output_type": "stream",
     "text": [
      "\n",
      "      Epoch    GPU_mem   box_loss   cls_loss   dfl_loss  Instances       Size\n"
     ]
    },
    {
     "name": "stderr",
     "output_type": "stream",
     "text": [
      "      39/50      3.12G     0.8466     0.4906     0.8772         27        640: 100%|██████████| 153/153 [00:21<00:00,  6.96it/s]\n",
      "                 Class     Images  Instances      Box(P          R      mAP50  mAP50-95): 100%|██████████| 4/4 [00:00<00:00,  5.13it/s]"
     ]
    },
    {
     "name": "stdout",
     "output_type": "stream",
     "text": [
      "                   all        128        235       0.84      0.932      0.939      0.671\n"
     ]
    },
    {
     "name": "stderr",
     "output_type": "stream",
     "text": [
      "\n"
     ]
    },
    {
     "name": "stdout",
     "output_type": "stream",
     "text": [
      "\n",
      "      Epoch    GPU_mem   box_loss   cls_loss   dfl_loss  Instances       Size\n"
     ]
    },
    {
     "name": "stderr",
     "output_type": "stream",
     "text": [
      "      40/50      3.13G     0.8351     0.4771     0.8635         29        640: 100%|██████████| 153/153 [00:21<00:00,  7.17it/s]\n",
      "                 Class     Images  Instances      Box(P          R      mAP50  mAP50-95): 100%|██████████| 4/4 [00:00<00:00,  5.10it/s]"
     ]
    },
    {
     "name": "stdout",
     "output_type": "stream",
     "text": [
      "                   all        128        235      0.885      0.902      0.943       0.67\n"
     ]
    },
    {
     "name": "stderr",
     "output_type": "stream",
     "text": [
      "\n"
     ]
    },
    {
     "name": "stdout",
     "output_type": "stream",
     "text": [
      "Closing dataloader mosaic\n",
      "\n",
      "      Epoch    GPU_mem   box_loss   cls_loss   dfl_loss  Instances       Size\n"
     ]
    },
    {
     "name": "stderr",
     "output_type": "stream",
     "text": [
      "      41/50      3.15G     0.7981     0.4445     0.8603         24        640: 100%|██████████| 153/153 [00:20<00:00,  7.43it/s]\n",
      "                 Class     Images  Instances      Box(P          R      mAP50  mAP50-95): 100%|██████████| 4/4 [00:00<00:00,  5.23it/s]"
     ]
    },
    {
     "name": "stdout",
     "output_type": "stream",
     "text": [
      "                   all        128        235      0.845       0.94      0.946      0.654\n"
     ]
    },
    {
     "name": "stderr",
     "output_type": "stream",
     "text": [
      "\n"
     ]
    },
    {
     "name": "stdout",
     "output_type": "stream",
     "text": [
      "\n",
      "      Epoch    GPU_mem   box_loss   cls_loss   dfl_loss  Instances       Size\n"
     ]
    },
    {
     "name": "stderr",
     "output_type": "stream",
     "text": [
      "      42/50      3.16G     0.7987     0.4368     0.8604         14        640: 100%|██████████| 153/153 [00:20<00:00,  7.34it/s]\n",
      "                 Class     Images  Instances      Box(P          R      mAP50  mAP50-95): 100%|██████████| 4/4 [00:00<00:00,  5.51it/s]"
     ]
    },
    {
     "name": "stdout",
     "output_type": "stream",
     "text": [
      "                   all        128        235      0.856       0.91      0.945      0.656\n"
     ]
    },
    {
     "name": "stderr",
     "output_type": "stream",
     "text": [
      "\n"
     ]
    },
    {
     "name": "stdout",
     "output_type": "stream",
     "text": [
      "\n",
      "      Epoch    GPU_mem   box_loss   cls_loss   dfl_loss  Instances       Size\n"
     ]
    },
    {
     "name": "stderr",
     "output_type": "stream",
     "text": [
      "      43/50      3.18G     0.7753      0.431     0.8566         17        640: 100%|██████████| 153/153 [00:20<00:00,  7.37it/s]\n",
      "                 Class     Images  Instances      Box(P          R      mAP50  mAP50-95): 100%|██████████| 4/4 [00:00<00:00,  4.77it/s]"
     ]
    },
    {
     "name": "stdout",
     "output_type": "stream",
     "text": [
      "                   all        128        235      0.895      0.889      0.944      0.669\n"
     ]
    },
    {
     "name": "stderr",
     "output_type": "stream",
     "text": [
      "\n"
     ]
    },
    {
     "name": "stdout",
     "output_type": "stream",
     "text": [
      "\n",
      "      Epoch    GPU_mem   box_loss   cls_loss   dfl_loss  Instances       Size\n"
     ]
    },
    {
     "name": "stderr",
     "output_type": "stream",
     "text": [
      "      44/50      3.19G      0.772     0.4266     0.8536         26        640: 100%|██████████| 153/153 [00:23<00:00,  6.40it/s]\n",
      "                 Class     Images  Instances      Box(P          R      mAP50  mAP50-95): 100%|██████████| 4/4 [00:00<00:00,  5.26it/s]"
     ]
    },
    {
     "name": "stdout",
     "output_type": "stream",
     "text": [
      "                   all        128        235      0.899      0.877      0.938      0.665\n"
     ]
    },
    {
     "name": "stderr",
     "output_type": "stream",
     "text": [
      "\n"
     ]
    },
    {
     "name": "stdout",
     "output_type": "stream",
     "text": [
      "\n",
      "      Epoch    GPU_mem   box_loss   cls_loss   dfl_loss  Instances       Size\n"
     ]
    },
    {
     "name": "stderr",
     "output_type": "stream",
     "text": [
      "      45/50      3.21G     0.7581     0.4154     0.8486         25        640: 100%|██████████| 153/153 [00:22<00:00,  6.80it/s]\n",
      "                 Class     Images  Instances      Box(P          R      mAP50  mAP50-95): 100%|██████████| 4/4 [00:00<00:00,  5.05it/s]"
     ]
    },
    {
     "name": "stdout",
     "output_type": "stream",
     "text": [
      "                   all        128        235      0.919      0.871      0.947      0.679\n"
     ]
    },
    {
     "name": "stderr",
     "output_type": "stream",
     "text": [
      "\n"
     ]
    },
    {
     "name": "stdout",
     "output_type": "stream",
     "text": [
      "\n",
      "      Epoch    GPU_mem   box_loss   cls_loss   dfl_loss  Instances       Size\n"
     ]
    },
    {
     "name": "stderr",
     "output_type": "stream",
     "text": [
      "      46/50      3.22G     0.7581     0.4148     0.8476         15        640: 100%|██████████| 153/153 [00:21<00:00,  7.05it/s]\n",
      "                 Class     Images  Instances      Box(P          R      mAP50  mAP50-95): 100%|██████████| 4/4 [00:00<00:00,  4.60it/s]"
     ]
    },
    {
     "name": "stdout",
     "output_type": "stream",
     "text": [
      "                   all        128        235      0.887      0.899      0.941      0.681\n"
     ]
    },
    {
     "name": "stderr",
     "output_type": "stream",
     "text": [
      "\n"
     ]
    },
    {
     "name": "stdout",
     "output_type": "stream",
     "text": [
      "\n",
      "      Epoch    GPU_mem   box_loss   cls_loss   dfl_loss  Instances       Size\n"
     ]
    },
    {
     "name": "stderr",
     "output_type": "stream",
     "text": [
      "      47/50      3.24G     0.7493     0.4047     0.8487         23        640: 100%|██████████| 153/153 [00:23<00:00,  6.61it/s]\n",
      "                 Class     Images  Instances      Box(P          R      mAP50  mAP50-95): 100%|██████████| 4/4 [00:00<00:00,  4.92it/s]"
     ]
    },
    {
     "name": "stdout",
     "output_type": "stream",
     "text": [
      "                   all        128        235      0.912       0.86      0.946      0.684\n"
     ]
    },
    {
     "name": "stderr",
     "output_type": "stream",
     "text": [
      "\n"
     ]
    },
    {
     "name": "stdout",
     "output_type": "stream",
     "text": [
      "\n",
      "      Epoch    GPU_mem   box_loss   cls_loss   dfl_loss  Instances       Size\n"
     ]
    },
    {
     "name": "stderr",
     "output_type": "stream",
     "text": [
      "      48/50      3.25G     0.7315     0.4003     0.8458         21        640: 100%|██████████| 153/153 [00:21<00:00,  7.04it/s]\n",
      "                 Class     Images  Instances      Box(P          R      mAP50  mAP50-95): 100%|██████████| 4/4 [00:00<00:00,  4.68it/s]\n"
     ]
    },
    {
     "name": "stdout",
     "output_type": "stream",
     "text": [
      "                   all        128        235      0.886      0.894      0.947      0.684\n",
      "\n",
      "      Epoch    GPU_mem   box_loss   cls_loss   dfl_loss  Instances       Size\n"
     ]
    },
    {
     "name": "stderr",
     "output_type": "stream",
     "text": [
      "      49/50      3.27G     0.7426     0.3976     0.8444         24        640: 100%|██████████| 153/153 [00:22<00:00,  6.90it/s]\n",
      "                 Class     Images  Instances      Box(P          R      mAP50  mAP50-95): 100%|██████████| 4/4 [00:00<00:00,  5.35it/s]"
     ]
    },
    {
     "name": "stdout",
     "output_type": "stream",
     "text": [
      "                   all        128        235      0.897      0.894      0.946      0.688\n"
     ]
    },
    {
     "name": "stderr",
     "output_type": "stream",
     "text": [
      "\n"
     ]
    },
    {
     "name": "stdout",
     "output_type": "stream",
     "text": [
      "\n",
      "      Epoch    GPU_mem   box_loss   cls_loss   dfl_loss  Instances       Size\n"
     ]
    },
    {
     "name": "stderr",
     "output_type": "stream",
     "text": [
      "      50/50      3.28G     0.7186     0.3881     0.8415         19        640: 100%|██████████| 153/153 [00:21<00:00,  7.11it/s]\n",
      "                 Class     Images  Instances      Box(P          R      mAP50  mAP50-95): 100%|██████████| 4/4 [00:00<00:00,  4.97it/s]"
     ]
    },
    {
     "name": "stdout",
     "output_type": "stream",
     "text": [
      "                   all        128        235      0.908      0.877      0.947      0.681\n"
     ]
    },
    {
     "name": "stderr",
     "output_type": "stream",
     "text": [
      "\n"
     ]
    },
    {
     "name": "stdout",
     "output_type": "stream",
     "text": [
      "\n",
      "50 epochs completed in 0.332 hours.\n",
      "Optimizer stripped from runs\\detect\\yolo_car_detector2\\weights\\last.pt, 5.5MB\n",
      "Optimizer stripped from runs\\detect\\yolo_car_detector2\\weights\\best.pt, 5.5MB\n",
      "\n",
      "Validating runs\\detect\\yolo_car_detector2\\weights\\best.pt...\n",
      "Ultralytics 8.3.102  Python-3.13.1 torch-2.6.0+cu126 CUDA:0 (NVIDIA GeForce RTX 2070 SUPER, 8192MiB)\n",
      "YOLO11n summary (fused): 100 layers, 2,582,347 parameters, 0 gradients, 6.3 GFLOPs\n"
     ]
    },
    {
     "name": "stderr",
     "output_type": "stream",
     "text": [
      "                 Class     Images  Instances      Box(P          R      mAP50  mAP50-95): 100%|██████████| 4/4 [00:01<00:00,  3.01it/s]\n"
     ]
    },
    {
     "name": "stdout",
     "output_type": "stream",
     "text": [
      "                   all        128        235      0.897      0.893      0.946      0.688\n",
      "Speed: 0.2ms preprocess, 2.5ms inference, 0.0ms loss, 1.5ms postprocess per image\n",
      "Results saved to \u001B[1mruns\\detect\\yolo_car_detector2\u001B[0m\n"
     ]
    },
    {
     "data": {
      "text/plain": [
       "ultralytics.utils.metrics.DetMetrics object with attributes:\n",
       "\n",
       "ap_class_index: array([0])\n",
       "box: ultralytics.utils.metrics.Metric object\n",
       "confusion_matrix: <ultralytics.utils.metrics.ConfusionMatrix object at 0x000001BD4F71D400>\n",
       "curves: ['Precision-Recall(B)', 'F1-Confidence(B)', 'Precision-Confidence(B)', 'Recall-Confidence(B)']\n",
       "curves_results: [[array([          0,    0.001001,    0.002002,    0.003003,    0.004004,    0.005005,    0.006006,    0.007007,    0.008008,    0.009009,     0.01001,    0.011011,    0.012012,    0.013013,    0.014014,    0.015015,    0.016016,    0.017017,    0.018018,    0.019019,     0.02002,    0.021021,    0.022022,    0.023023,\n",
       "          0.024024,    0.025025,    0.026026,    0.027027,    0.028028,    0.029029,     0.03003,    0.031031,    0.032032,    0.033033,    0.034034,    0.035035,    0.036036,    0.037037,    0.038038,    0.039039,     0.04004,    0.041041,    0.042042,    0.043043,    0.044044,    0.045045,    0.046046,    0.047047,\n",
       "          0.048048,    0.049049,     0.05005,    0.051051,    0.052052,    0.053053,    0.054054,    0.055055,    0.056056,    0.057057,    0.058058,    0.059059,     0.06006,    0.061061,    0.062062,    0.063063,    0.064064,    0.065065,    0.066066,    0.067067,    0.068068,    0.069069,     0.07007,    0.071071,\n",
       "          0.072072,    0.073073,    0.074074,    0.075075,    0.076076,    0.077077,    0.078078,    0.079079,     0.08008,    0.081081,    0.082082,    0.083083,    0.084084,    0.085085,    0.086086,    0.087087,    0.088088,    0.089089,     0.09009,    0.091091,    0.092092,    0.093093,    0.094094,    0.095095,\n",
       "          0.096096,    0.097097,    0.098098,    0.099099,      0.1001,      0.1011,      0.1021,      0.1031,      0.1041,     0.10511,     0.10611,     0.10711,     0.10811,     0.10911,     0.11011,     0.11111,     0.11211,     0.11311,     0.11411,     0.11512,     0.11612,     0.11712,     0.11812,     0.11912,\n",
       "           0.12012,     0.12112,     0.12212,     0.12312,     0.12412,     0.12513,     0.12613,     0.12713,     0.12813,     0.12913,     0.13013,     0.13113,     0.13213,     0.13313,     0.13413,     0.13514,     0.13614,     0.13714,     0.13814,     0.13914,     0.14014,     0.14114,     0.14214,     0.14314,\n",
       "           0.14414,     0.14515,     0.14615,     0.14715,     0.14815,     0.14915,     0.15015,     0.15115,     0.15215,     0.15315,     0.15415,     0.15516,     0.15616,     0.15716,     0.15816,     0.15916,     0.16016,     0.16116,     0.16216,     0.16316,     0.16416,     0.16517,     0.16617,     0.16717,\n",
       "           0.16817,     0.16917,     0.17017,     0.17117,     0.17217,     0.17317,     0.17417,     0.17518,     0.17618,     0.17718,     0.17818,     0.17918,     0.18018,     0.18118,     0.18218,     0.18318,     0.18418,     0.18519,     0.18619,     0.18719,     0.18819,     0.18919,     0.19019,     0.19119,\n",
       "           0.19219,     0.19319,     0.19419,      0.1952,      0.1962,      0.1972,      0.1982,      0.1992,      0.2002,      0.2012,      0.2022,      0.2032,      0.2042,     0.20521,     0.20621,     0.20721,     0.20821,     0.20921,     0.21021,     0.21121,     0.21221,     0.21321,     0.21421,     0.21522,\n",
       "           0.21622,     0.21722,     0.21822,     0.21922,     0.22022,     0.22122,     0.22222,     0.22322,     0.22422,     0.22523,     0.22623,     0.22723,     0.22823,     0.22923,     0.23023,     0.23123,     0.23223,     0.23323,     0.23423,     0.23524,     0.23624,     0.23724,     0.23824,     0.23924,\n",
       "           0.24024,     0.24124,     0.24224,     0.24324,     0.24424,     0.24525,     0.24625,     0.24725,     0.24825,     0.24925,     0.25025,     0.25125,     0.25225,     0.25325,     0.25425,     0.25526,     0.25626,     0.25726,     0.25826,     0.25926,     0.26026,     0.26126,     0.26226,     0.26326,\n",
       "           0.26426,     0.26527,     0.26627,     0.26727,     0.26827,     0.26927,     0.27027,     0.27127,     0.27227,     0.27327,     0.27427,     0.27528,     0.27628,     0.27728,     0.27828,     0.27928,     0.28028,     0.28128,     0.28228,     0.28328,     0.28428,     0.28529,     0.28629,     0.28729,\n",
       "           0.28829,     0.28929,     0.29029,     0.29129,     0.29229,     0.29329,     0.29429,      0.2953,      0.2963,      0.2973,      0.2983,      0.2993,      0.3003,      0.3013,      0.3023,      0.3033,      0.3043,     0.30531,     0.30631,     0.30731,     0.30831,     0.30931,     0.31031,     0.31131,\n",
       "           0.31231,     0.31331,     0.31431,     0.31532,     0.31632,     0.31732,     0.31832,     0.31932,     0.32032,     0.32132,     0.32232,     0.32332,     0.32432,     0.32533,     0.32633,     0.32733,     0.32833,     0.32933,     0.33033,     0.33133,     0.33233,     0.33333,     0.33433,     0.33534,\n",
       "           0.33634,     0.33734,     0.33834,     0.33934,     0.34034,     0.34134,     0.34234,     0.34334,     0.34434,     0.34535,     0.34635,     0.34735,     0.34835,     0.34935,     0.35035,     0.35135,     0.35235,     0.35335,     0.35435,     0.35536,     0.35636,     0.35736,     0.35836,     0.35936,\n",
       "           0.36036,     0.36136,     0.36236,     0.36336,     0.36436,     0.36537,     0.36637,     0.36737,     0.36837,     0.36937,     0.37037,     0.37137,     0.37237,     0.37337,     0.37437,     0.37538,     0.37638,     0.37738,     0.37838,     0.37938,     0.38038,     0.38138,     0.38238,     0.38338,\n",
       "           0.38438,     0.38539,     0.38639,     0.38739,     0.38839,     0.38939,     0.39039,     0.39139,     0.39239,     0.39339,     0.39439,      0.3954,      0.3964,      0.3974,      0.3984,      0.3994,      0.4004,      0.4014,      0.4024,      0.4034,      0.4044,     0.40541,     0.40641,     0.40741,\n",
       "           0.40841,     0.40941,     0.41041,     0.41141,     0.41241,     0.41341,     0.41441,     0.41542,     0.41642,     0.41742,     0.41842,     0.41942,     0.42042,     0.42142,     0.42242,     0.42342,     0.42442,     0.42543,     0.42643,     0.42743,     0.42843,     0.42943,     0.43043,     0.43143,\n",
       "           0.43243,     0.43343,     0.43443,     0.43544,     0.43644,     0.43744,     0.43844,     0.43944,     0.44044,     0.44144,     0.44244,     0.44344,     0.44444,     0.44545,     0.44645,     0.44745,     0.44845,     0.44945,     0.45045,     0.45145,     0.45245,     0.45345,     0.45445,     0.45546,\n",
       "           0.45646,     0.45746,     0.45846,     0.45946,     0.46046,     0.46146,     0.46246,     0.46346,     0.46446,     0.46547,     0.46647,     0.46747,     0.46847,     0.46947,     0.47047,     0.47147,     0.47247,     0.47347,     0.47447,     0.47548,     0.47648,     0.47748,     0.47848,     0.47948,\n",
       "           0.48048,     0.48148,     0.48248,     0.48348,     0.48448,     0.48549,     0.48649,     0.48749,     0.48849,     0.48949,     0.49049,     0.49149,     0.49249,     0.49349,     0.49449,      0.4955,      0.4965,      0.4975,      0.4985,      0.4995,      0.5005,      0.5015,      0.5025,      0.5035,\n",
       "            0.5045,     0.50551,     0.50651,     0.50751,     0.50851,     0.50951,     0.51051,     0.51151,     0.51251,     0.51351,     0.51451,     0.51552,     0.51652,     0.51752,     0.51852,     0.51952,     0.52052,     0.52152,     0.52252,     0.52352,     0.52452,     0.52553,     0.52653,     0.52753,\n",
       "           0.52853,     0.52953,     0.53053,     0.53153,     0.53253,     0.53353,     0.53453,     0.53554,     0.53654,     0.53754,     0.53854,     0.53954,     0.54054,     0.54154,     0.54254,     0.54354,     0.54454,     0.54555,     0.54655,     0.54755,     0.54855,     0.54955,     0.55055,     0.55155,\n",
       "           0.55255,     0.55355,     0.55455,     0.55556,     0.55656,     0.55756,     0.55856,     0.55956,     0.56056,     0.56156,     0.56256,     0.56356,     0.56456,     0.56557,     0.56657,     0.56757,     0.56857,     0.56957,     0.57057,     0.57157,     0.57257,     0.57357,     0.57457,     0.57558,\n",
       "           0.57658,     0.57758,     0.57858,     0.57958,     0.58058,     0.58158,     0.58258,     0.58358,     0.58458,     0.58559,     0.58659,     0.58759,     0.58859,     0.58959,     0.59059,     0.59159,     0.59259,     0.59359,     0.59459,      0.5956,      0.5966,      0.5976,      0.5986,      0.5996,\n",
       "            0.6006,      0.6016,      0.6026,      0.6036,      0.6046,     0.60561,     0.60661,     0.60761,     0.60861,     0.60961,     0.61061,     0.61161,     0.61261,     0.61361,     0.61461,     0.61562,     0.61662,     0.61762,     0.61862,     0.61962,     0.62062,     0.62162,     0.62262,     0.62362,\n",
       "           0.62462,     0.62563,     0.62663,     0.62763,     0.62863,     0.62963,     0.63063,     0.63163,     0.63263,     0.63363,     0.63463,     0.63564,     0.63664,     0.63764,     0.63864,     0.63964,     0.64064,     0.64164,     0.64264,     0.64364,     0.64464,     0.64565,     0.64665,     0.64765,\n",
       "           0.64865,     0.64965,     0.65065,     0.65165,     0.65265,     0.65365,     0.65465,     0.65566,     0.65666,     0.65766,     0.65866,     0.65966,     0.66066,     0.66166,     0.66266,     0.66366,     0.66466,     0.66567,     0.66667,     0.66767,     0.66867,     0.66967,     0.67067,     0.67167,\n",
       "           0.67267,     0.67367,     0.67467,     0.67568,     0.67668,     0.67768,     0.67868,     0.67968,     0.68068,     0.68168,     0.68268,     0.68368,     0.68468,     0.68569,     0.68669,     0.68769,     0.68869,     0.68969,     0.69069,     0.69169,     0.69269,     0.69369,     0.69469,      0.6957,\n",
       "            0.6967,      0.6977,      0.6987,      0.6997,      0.7007,      0.7017,      0.7027,      0.7037,      0.7047,     0.70571,     0.70671,     0.70771,     0.70871,     0.70971,     0.71071,     0.71171,     0.71271,     0.71371,     0.71471,     0.71572,     0.71672,     0.71772,     0.71872,     0.71972,\n",
       "           0.72072,     0.72172,     0.72272,     0.72372,     0.72472,     0.72573,     0.72673,     0.72773,     0.72873,     0.72973,     0.73073,     0.73173,     0.73273,     0.73373,     0.73473,     0.73574,     0.73674,     0.73774,     0.73874,     0.73974,     0.74074,     0.74174,     0.74274,     0.74374,\n",
       "           0.74474,     0.74575,     0.74675,     0.74775,     0.74875,     0.74975,     0.75075,     0.75175,     0.75275,     0.75375,     0.75475,     0.75576,     0.75676,     0.75776,     0.75876,     0.75976,     0.76076,     0.76176,     0.76276,     0.76376,     0.76476,     0.76577,     0.76677,     0.76777,\n",
       "           0.76877,     0.76977,     0.77077,     0.77177,     0.77277,     0.77377,     0.77477,     0.77578,     0.77678,     0.77778,     0.77878,     0.77978,     0.78078,     0.78178,     0.78278,     0.78378,     0.78478,     0.78579,     0.78679,     0.78779,     0.78879,     0.78979,     0.79079,     0.79179,\n",
       "           0.79279,     0.79379,     0.79479,      0.7958,      0.7968,      0.7978,      0.7988,      0.7998,      0.8008,      0.8018,      0.8028,      0.8038,      0.8048,     0.80581,     0.80681,     0.80781,     0.80881,     0.80981,     0.81081,     0.81181,     0.81281,     0.81381,     0.81481,     0.81582,\n",
       "           0.81682,     0.81782,     0.81882,     0.81982,     0.82082,     0.82182,     0.82282,     0.82382,     0.82482,     0.82583,     0.82683,     0.82783,     0.82883,     0.82983,     0.83083,     0.83183,     0.83283,     0.83383,     0.83483,     0.83584,     0.83684,     0.83784,     0.83884,     0.83984,\n",
       "           0.84084,     0.84184,     0.84284,     0.84384,     0.84484,     0.84585,     0.84685,     0.84785,     0.84885,     0.84985,     0.85085,     0.85185,     0.85285,     0.85385,     0.85485,     0.85586,     0.85686,     0.85786,     0.85886,     0.85986,     0.86086,     0.86186,     0.86286,     0.86386,\n",
       "           0.86486,     0.86587,     0.86687,     0.86787,     0.86887,     0.86987,     0.87087,     0.87187,     0.87287,     0.87387,     0.87487,     0.87588,     0.87688,     0.87788,     0.87888,     0.87988,     0.88088,     0.88188,     0.88288,     0.88388,     0.88488,     0.88589,     0.88689,     0.88789,\n",
       "           0.88889,     0.88989,     0.89089,     0.89189,     0.89289,     0.89389,     0.89489,      0.8959,      0.8969,      0.8979,      0.8989,      0.8999,      0.9009,      0.9019,      0.9029,      0.9039,      0.9049,     0.90591,     0.90691,     0.90791,     0.90891,     0.90991,     0.91091,     0.91191,\n",
       "           0.91291,     0.91391,     0.91491,     0.91592,     0.91692,     0.91792,     0.91892,     0.91992,     0.92092,     0.92192,     0.92292,     0.92392,     0.92492,     0.92593,     0.92693,     0.92793,     0.92893,     0.92993,     0.93093,     0.93193,     0.93293,     0.93393,     0.93493,     0.93594,\n",
       "           0.93694,     0.93794,     0.93894,     0.93994,     0.94094,     0.94194,     0.94294,     0.94394,     0.94494,     0.94595,     0.94695,     0.94795,     0.94895,     0.94995,     0.95095,     0.95195,     0.95295,     0.95395,     0.95495,     0.95596,     0.95696,     0.95796,     0.95896,     0.95996,\n",
       "           0.96096,     0.96196,     0.96296,     0.96396,     0.96496,     0.96597,     0.96697,     0.96797,     0.96897,     0.96997,     0.97097,     0.97197,     0.97297,     0.97397,     0.97497,     0.97598,     0.97698,     0.97798,     0.97898,     0.97998,     0.98098,     0.98198,     0.98298,     0.98398,\n",
       "           0.98498,     0.98599,     0.98699,     0.98799,     0.98899,     0.98999,     0.99099,     0.99199,     0.99299,     0.99399,     0.99499,       0.996,       0.997,       0.998,       0.999,           1]), array([[          1,           1,           1,           1,           1,           1,           1,           1,           1,           1,           1,           1,           1,           1,           1,           1,           1,           1,           1,           1,           1,           1,           1,\n",
       "                  1,           1,           1,           1,           1,           1,           1,           1,           1,           1,           1,           1,           1,           1,           1,           1,           1,           1,           1,           1,           1,           1,           1,\n",
       "                  1,           1,           1,           1,           1,           1,           1,           1,           1,           1,           1,           1,           1,           1,           1,           1,           1,           1,           1,           1,           1,           1,           1,\n",
       "                  1,           1,           1,           1,           1,           1,           1,           1,           1,           1,           1,           1,           1,           1,           1,           1,           1,           1,           1,           1,           1,           1,           1,\n",
       "                  1,           1,           1,           1,           1,           1,           1,           1,           1,           1,           1,           1,           1,           1,           1,           1,           1,           1,           1,           1,           1,           1,           1,\n",
       "                  1,           1,           1,           1,           1,           1,           1,           1,           1,           1,           1,           1,           1,           1,           1,           1,           1,           1,           1,           1,           1,           1,           1,\n",
       "                  1,           1,           1,           1,           1,           1,           1,           1,           1,           1,           1,           1,           1,           1,           1,           1,           1,           1,           1,           1,           1,           1,           1,\n",
       "                  1,           1,           1,           1,           1,           1,           1,           1,           1,           1,           1,           1,           1,           1,           1,           1,           1,           1,           1,           1,           1,           1,           1,\n",
       "                  1,           1,           1,           1,           1,           1,           1,           1,           1,           1,           1,           1,           1,           1,           1,           1,           1,           1,           1,           1,           1,     0.98592,     0.98592,\n",
       "            0.98592,     0.98592,     0.98592,     0.98592,     0.98592,     0.98592,     0.98592,     0.98592,     0.98592,     0.98592,     0.98592,     0.98592,     0.98592,     0.98592,     0.98592,     0.98592,     0.98592,     0.98592,     0.98592,     0.98592,     0.98592,     0.98592,     0.98592,\n",
       "            0.98592,     0.98592,     0.98592,     0.98592,     0.98592,     0.98592,     0.98592,     0.98592,     0.98592,     0.98592,     0.98592,     0.98592,     0.98592,     0.98592,     0.98592,     0.98592,     0.98592,     0.98592,     0.98592,     0.98592,     0.98592,     0.98592,     0.98592,\n",
       "            0.98592,     0.98592,     0.98592,     0.98592,     0.98592,     0.98592,     0.98592,     0.98592,     0.98592,     0.98592,     0.98592,     0.98592,     0.98592,     0.98592,     0.98592,     0.98592,     0.98592,     0.98592,     0.98592,     0.98592,     0.98592,     0.98592,     0.98592,\n",
       "            0.98592,     0.98592,     0.98592,     0.98592,     0.98592,     0.98592,     0.98592,     0.98592,     0.98592,     0.98592,     0.98592,     0.98592,     0.98592,     0.98592,     0.98592,     0.98592,     0.98592,     0.98592,     0.98592,     0.98592,     0.98592,     0.98592,     0.98148,\n",
       "            0.98148,     0.98148,     0.98148,     0.98148,     0.98148,     0.98148,     0.98148,     0.98148,     0.98148,     0.98148,     0.98148,     0.98148,     0.98148,     0.98148,     0.98148,     0.98148,     0.98148,     0.98148,     0.98148,     0.98148,     0.98148,     0.98148,     0.98148,\n",
       "            0.98148,     0.98148,     0.98148,     0.98148,     0.98148,     0.98148,     0.98148,     0.98148,     0.98148,     0.98148,     0.98148,     0.98148,     0.98148,     0.98148,     0.98148,     0.98148,     0.98148,     0.98148,     0.98148,     0.98148,     0.98148,     0.98148,     0.98148,\n",
       "            0.98148,     0.98148,     0.98148,     0.98148,     0.98148,     0.98148,     0.98148,     0.98148,     0.98148,     0.98148,     0.98148,     0.98148,     0.98148,     0.98148,     0.98148,     0.98148,     0.98148,     0.98148,     0.98148,     0.98148,     0.98148,     0.98148,     0.98148,\n",
       "            0.98148,     0.98148,     0.98148,     0.98148,     0.98148,     0.98148,     0.98148,     0.98148,     0.98148,     0.98148,     0.98148,     0.98148,     0.98148,     0.98148,     0.98148,     0.98148,     0.98148,     0.98148,     0.98148,     0.98148,     0.98148,     0.98148,     0.98148,\n",
       "            0.98148,     0.98148,     0.98148,     0.98148,     0.98148,     0.98148,     0.98148,     0.98148,     0.98148,     0.98148,     0.98148,     0.98148,     0.98148,     0.98148,     0.98148,     0.98148,     0.98148,     0.98148,     0.98148,     0.98148,     0.98148,     0.98148,     0.98148,\n",
       "            0.98148,     0.98148,     0.98148,     0.98148,     0.98148,     0.98148,     0.98148,     0.98148,     0.98148,     0.98148,     0.98148,     0.98148,     0.98148,     0.98148,     0.98148,     0.98148,     0.98148,     0.98148,     0.98148,     0.98148,     0.98148,     0.98148,     0.98148,\n",
       "            0.98148,     0.98148,     0.98148,     0.98148,     0.98148,     0.98148,     0.98148,     0.98148,     0.98148,     0.98148,     0.98148,     0.98148,     0.98148,     0.98148,     0.98026,     0.98026,     0.98026,     0.98026,     0.98026,     0.98026,     0.98026,     0.98026,     0.98026,\n",
       "            0.98026,     0.98026,     0.98026,     0.98026,     0.98026,     0.98026,     0.98026,     0.98026,     0.98026,     0.98026,     0.98026,     0.98026,     0.98026,     0.98026,     0.98026,     0.98026,     0.98026,     0.98026,     0.98026,     0.98026,     0.98026,     0.98026,     0.98026,\n",
       "            0.98026,     0.98026,     0.98026,     0.98026,     0.98026,     0.98026,     0.98026,     0.98026,     0.98026,     0.98026,     0.98026,     0.98026,     0.98026,     0.98026,     0.98026,     0.98026,     0.98026,     0.98026,     0.98026,     0.98026,     0.98026,     0.98026,     0.98026,\n",
       "            0.98026,     0.98026,     0.98026,     0.98026,     0.98026,     0.98026,     0.98026,     0.98026,     0.98026,     0.98026,     0.98026,     0.98026,     0.98026,     0.98026,     0.98026,     0.98026,     0.98026,     0.98026,     0.98026,     0.98026,     0.98026,     0.98026,     0.98026,\n",
       "            0.98026,     0.98026,     0.98026,     0.98026,     0.98026,     0.98026,     0.98026,     0.98026,     0.98026,     0.98026,     0.98026,     0.98026,     0.98026,     0.98026,     0.98026,     0.98026,     0.98026,     0.98026,     0.98026,     0.98026,     0.98026,     0.98026,     0.98026,\n",
       "            0.98026,     0.98026,     0.98026,     0.98026,     0.98026,     0.98026,     0.98026,     0.98026,     0.98026,     0.98026,     0.98026,     0.98026,     0.98026,     0.98026,     0.98026,     0.98026,     0.98026,     0.98026,     0.98026,     0.98026,     0.98026,     0.98026,     0.98026,\n",
       "            0.98026,     0.98026,     0.98026,     0.98026,     0.98026,     0.98026,     0.98026,     0.98026,     0.98026,     0.98026,     0.98026,     0.98026,     0.98026,     0.98026,     0.98026,     0.98026,     0.98026,     0.98026,     0.98026,     0.98026,     0.98026,     0.98026,     0.98026,\n",
       "            0.98026,     0.98026,     0.98026,     0.98026,     0.98026,     0.98026,     0.98026,     0.98026,     0.98026,     0.98026,     0.98026,     0.98026,     0.98026,     0.98026,     0.98026,     0.98026,     0.98026,     0.98026,     0.98026,     0.98026,     0.98026,     0.98026,     0.98026,\n",
       "            0.98026,     0.98026,     0.98026,     0.98026,     0.98026,     0.98026,     0.98026,     0.98026,     0.98026,     0.98026,     0.98026,     0.98026,     0.98026,     0.97546,     0.97546,     0.97546,     0.97546,     0.97546,     0.97546,     0.97546,     0.97546,     0.97546,     0.97546,\n",
       "            0.97546,     0.97546,     0.97546,     0.97546,     0.97546,     0.97546,     0.97546,     0.97546,     0.97546,     0.97546,     0.97546,     0.97546,     0.97546,     0.97546,     0.97546,     0.97546,     0.97546,     0.97546,     0.97546,     0.97546,     0.97546,     0.97546,     0.97546,\n",
       "            0.97546,     0.97546,     0.97546,     0.97546,     0.97546,     0.97546,     0.97546,     0.97546,     0.97546,      0.9711,      0.9711,      0.9711,      0.9711,      0.9711,      0.9711,      0.9711,      0.9711,      0.9711,      0.9711,      0.9711,      0.9711,      0.9711,      0.9711,\n",
       "             0.9711,      0.9711,      0.9711,      0.9711,      0.9711,      0.9711,      0.9711,      0.9711,      0.9711,      0.9711,      0.9711,      0.9711,      0.9711,      0.9711,      0.9711,      0.9711,      0.9711,      0.9711,      0.9711,      0.9711,      0.9711,      0.9711,      0.9711,\n",
       "             0.9711,      0.9711,     0.96703,     0.96703,     0.96703,     0.96703,     0.96703,     0.96703,     0.96703,     0.96703,     0.96703,     0.96703,     0.96703,     0.96703,     0.96703,     0.96703,     0.96703,     0.96703,     0.96703,     0.96703,     0.96703,     0.96703,     0.96703,\n",
       "            0.96703,     0.96703,     0.96703,     0.96703,     0.96703,     0.96703,     0.96703,     0.96703,     0.96703,     0.96703,     0.96703,     0.96703,     0.96703,     0.96277,     0.96277,     0.96277,     0.96277,     0.96277,     0.96277,     0.96277,     0.96277,     0.96277,     0.96277,\n",
       "            0.96277,     0.96277,     0.96277,     0.96277,     0.96277,     0.96277,     0.96277,     0.96277,     0.96277,     0.96277,     0.96277,     0.95918,     0.95918,     0.95918,     0.95918,     0.95918,     0.95918,     0.95918,     0.95918,     0.95918,     0.95918,     0.95918,     0.95918,\n",
       "            0.95918,     0.95918,     0.95918,     0.95918,     0.95918,     0.95918,     0.95918,     0.95918,     0.95918,     0.95918,     0.95918,     0.95918,     0.95918,     0.95918,     0.95918,     0.95918,     0.95918,     0.95918,     0.95477,     0.95477,     0.95477,     0.95477,     0.95477,\n",
       "            0.95477,     0.95477,     0.95477,     0.94608,     0.94608,     0.94608,     0.94608,     0.94608,     0.94608,     0.94608,     0.94608,     0.94608,     0.94608,     0.94608,     0.94608,     0.94608,     0.94231,     0.94231,     0.94231,     0.94231,     0.94231,     0.94231,     0.94231,\n",
       "            0.94231,     0.94231,     0.94231,     0.94231,     0.94231,     0.94231,     0.92593,     0.92593,     0.92593,     0.92593,     0.92593,     0.92593,     0.92593,     0.92593,     0.92593,     0.92593,     0.92593,     0.92593,     0.92593,     0.92593,     0.92593,     0.92593,     0.92593,\n",
       "            0.92237,     0.92237,     0.92237,     0.92237,     0.92237,     0.92237,     0.92237,     0.92237,     0.91518,     0.91518,     0.91518,     0.91518,     0.91518,     0.91518,     0.91518,     0.91518,     0.91518,     0.91518,     0.91518,     0.91518,     0.91518,      0.9115,      0.9115,\n",
       "             0.9115,      0.9115,     0.90043,     0.90043,     0.90043,     0.90043,     0.90043,     0.90043,     0.90043,     0.90043,     0.90043,     0.89744,     0.89744,     0.89744,     0.89744,     0.89744,     0.89744,     0.89744,     0.89744,     0.89407,     0.89407,     0.89407,     0.89407,\n",
       "            0.87603,     0.87603,     0.87603,     0.87603,     0.87603,     0.86939,     0.86939,     0.86939,     0.86939,     0.86694,     0.86694,     0.86694,     0.86694,     0.86694,     0.86694,     0.86694,     0.86694,     0.86111,     0.86111,     0.86111,     0.86111,     0.86111,     0.86111,\n",
       "            0.86111,     0.86111,     0.86111,     0.85827,     0.85827,     0.85827,     0.85827,     0.84884,     0.84884,     0.84884,     0.84884,     0.83969,     0.83969,     0.83969,     0.83969,     0.83969,     0.82463,     0.82463,     0.82463,     0.82463,     0.82222,     0.82222,     0.82222,\n",
       "            0.82222,     0.80505,     0.80505,     0.80505,     0.80505,     0.79433,     0.79433,     0.79433,     0.79433,     0.79433,     0.78472,     0.78472,     0.78472,     0.78472,     0.78472,     0.78472,     0.78472,     0.78472,     0.75415,     0.75415,     0.75415,     0.75415,     0.75248,\n",
       "            0.75248,     0.75248,     0.75248,     0.75248,     0.72698,     0.72698,     0.72698,     0.72698,     0.37097,     0.37097,     0.37097,     0.37097,     0.36094,     0.36094,     0.36094,     0.36094,     0.23566,     0.22179,     0.20793,     0.19407,     0.18021,     0.16634,     0.15248,\n",
       "            0.13862,     0.12476,      0.1109,    0.097035,    0.083172,     0.06931,    0.055448,    0.041586,    0.027724,    0.013862,           0]]), 'Recall', 'Precision'], [array([          0,    0.001001,    0.002002,    0.003003,    0.004004,    0.005005,    0.006006,    0.007007,    0.008008,    0.009009,     0.01001,    0.011011,    0.012012,    0.013013,    0.014014,    0.015015,    0.016016,    0.017017,    0.018018,    0.019019,     0.02002,    0.021021,    0.022022,    0.023023,\n",
       "          0.024024,    0.025025,    0.026026,    0.027027,    0.028028,    0.029029,     0.03003,    0.031031,    0.032032,    0.033033,    0.034034,    0.035035,    0.036036,    0.037037,    0.038038,    0.039039,     0.04004,    0.041041,    0.042042,    0.043043,    0.044044,    0.045045,    0.046046,    0.047047,\n",
       "          0.048048,    0.049049,     0.05005,    0.051051,    0.052052,    0.053053,    0.054054,    0.055055,    0.056056,    0.057057,    0.058058,    0.059059,     0.06006,    0.061061,    0.062062,    0.063063,    0.064064,    0.065065,    0.066066,    0.067067,    0.068068,    0.069069,     0.07007,    0.071071,\n",
       "          0.072072,    0.073073,    0.074074,    0.075075,    0.076076,    0.077077,    0.078078,    0.079079,     0.08008,    0.081081,    0.082082,    0.083083,    0.084084,    0.085085,    0.086086,    0.087087,    0.088088,    0.089089,     0.09009,    0.091091,    0.092092,    0.093093,    0.094094,    0.095095,\n",
       "          0.096096,    0.097097,    0.098098,    0.099099,      0.1001,      0.1011,      0.1021,      0.1031,      0.1041,     0.10511,     0.10611,     0.10711,     0.10811,     0.10911,     0.11011,     0.11111,     0.11211,     0.11311,     0.11411,     0.11512,     0.11612,     0.11712,     0.11812,     0.11912,\n",
       "           0.12012,     0.12112,     0.12212,     0.12312,     0.12412,     0.12513,     0.12613,     0.12713,     0.12813,     0.12913,     0.13013,     0.13113,     0.13213,     0.13313,     0.13413,     0.13514,     0.13614,     0.13714,     0.13814,     0.13914,     0.14014,     0.14114,     0.14214,     0.14314,\n",
       "           0.14414,     0.14515,     0.14615,     0.14715,     0.14815,     0.14915,     0.15015,     0.15115,     0.15215,     0.15315,     0.15415,     0.15516,     0.15616,     0.15716,     0.15816,     0.15916,     0.16016,     0.16116,     0.16216,     0.16316,     0.16416,     0.16517,     0.16617,     0.16717,\n",
       "           0.16817,     0.16917,     0.17017,     0.17117,     0.17217,     0.17317,     0.17417,     0.17518,     0.17618,     0.17718,     0.17818,     0.17918,     0.18018,     0.18118,     0.18218,     0.18318,     0.18418,     0.18519,     0.18619,     0.18719,     0.18819,     0.18919,     0.19019,     0.19119,\n",
       "           0.19219,     0.19319,     0.19419,      0.1952,      0.1962,      0.1972,      0.1982,      0.1992,      0.2002,      0.2012,      0.2022,      0.2032,      0.2042,     0.20521,     0.20621,     0.20721,     0.20821,     0.20921,     0.21021,     0.21121,     0.21221,     0.21321,     0.21421,     0.21522,\n",
       "           0.21622,     0.21722,     0.21822,     0.21922,     0.22022,     0.22122,     0.22222,     0.22322,     0.22422,     0.22523,     0.22623,     0.22723,     0.22823,     0.22923,     0.23023,     0.23123,     0.23223,     0.23323,     0.23423,     0.23524,     0.23624,     0.23724,     0.23824,     0.23924,\n",
       "           0.24024,     0.24124,     0.24224,     0.24324,     0.24424,     0.24525,     0.24625,     0.24725,     0.24825,     0.24925,     0.25025,     0.25125,     0.25225,     0.25325,     0.25425,     0.25526,     0.25626,     0.25726,     0.25826,     0.25926,     0.26026,     0.26126,     0.26226,     0.26326,\n",
       "           0.26426,     0.26527,     0.26627,     0.26727,     0.26827,     0.26927,     0.27027,     0.27127,     0.27227,     0.27327,     0.27427,     0.27528,     0.27628,     0.27728,     0.27828,     0.27928,     0.28028,     0.28128,     0.28228,     0.28328,     0.28428,     0.28529,     0.28629,     0.28729,\n",
       "           0.28829,     0.28929,     0.29029,     0.29129,     0.29229,     0.29329,     0.29429,      0.2953,      0.2963,      0.2973,      0.2983,      0.2993,      0.3003,      0.3013,      0.3023,      0.3033,      0.3043,     0.30531,     0.30631,     0.30731,     0.30831,     0.30931,     0.31031,     0.31131,\n",
       "           0.31231,     0.31331,     0.31431,     0.31532,     0.31632,     0.31732,     0.31832,     0.31932,     0.32032,     0.32132,     0.32232,     0.32332,     0.32432,     0.32533,     0.32633,     0.32733,     0.32833,     0.32933,     0.33033,     0.33133,     0.33233,     0.33333,     0.33433,     0.33534,\n",
       "           0.33634,     0.33734,     0.33834,     0.33934,     0.34034,     0.34134,     0.34234,     0.34334,     0.34434,     0.34535,     0.34635,     0.34735,     0.34835,     0.34935,     0.35035,     0.35135,     0.35235,     0.35335,     0.35435,     0.35536,     0.35636,     0.35736,     0.35836,     0.35936,\n",
       "           0.36036,     0.36136,     0.36236,     0.36336,     0.36436,     0.36537,     0.36637,     0.36737,     0.36837,     0.36937,     0.37037,     0.37137,     0.37237,     0.37337,     0.37437,     0.37538,     0.37638,     0.37738,     0.37838,     0.37938,     0.38038,     0.38138,     0.38238,     0.38338,\n",
       "           0.38438,     0.38539,     0.38639,     0.38739,     0.38839,     0.38939,     0.39039,     0.39139,     0.39239,     0.39339,     0.39439,      0.3954,      0.3964,      0.3974,      0.3984,      0.3994,      0.4004,      0.4014,      0.4024,      0.4034,      0.4044,     0.40541,     0.40641,     0.40741,\n",
       "           0.40841,     0.40941,     0.41041,     0.41141,     0.41241,     0.41341,     0.41441,     0.41542,     0.41642,     0.41742,     0.41842,     0.41942,     0.42042,     0.42142,     0.42242,     0.42342,     0.42442,     0.42543,     0.42643,     0.42743,     0.42843,     0.42943,     0.43043,     0.43143,\n",
       "           0.43243,     0.43343,     0.43443,     0.43544,     0.43644,     0.43744,     0.43844,     0.43944,     0.44044,     0.44144,     0.44244,     0.44344,     0.44444,     0.44545,     0.44645,     0.44745,     0.44845,     0.44945,     0.45045,     0.45145,     0.45245,     0.45345,     0.45445,     0.45546,\n",
       "           0.45646,     0.45746,     0.45846,     0.45946,     0.46046,     0.46146,     0.46246,     0.46346,     0.46446,     0.46547,     0.46647,     0.46747,     0.46847,     0.46947,     0.47047,     0.47147,     0.47247,     0.47347,     0.47447,     0.47548,     0.47648,     0.47748,     0.47848,     0.47948,\n",
       "           0.48048,     0.48148,     0.48248,     0.48348,     0.48448,     0.48549,     0.48649,     0.48749,     0.48849,     0.48949,     0.49049,     0.49149,     0.49249,     0.49349,     0.49449,      0.4955,      0.4965,      0.4975,      0.4985,      0.4995,      0.5005,      0.5015,      0.5025,      0.5035,\n",
       "            0.5045,     0.50551,     0.50651,     0.50751,     0.50851,     0.50951,     0.51051,     0.51151,     0.51251,     0.51351,     0.51451,     0.51552,     0.51652,     0.51752,     0.51852,     0.51952,     0.52052,     0.52152,     0.52252,     0.52352,     0.52452,     0.52553,     0.52653,     0.52753,\n",
       "           0.52853,     0.52953,     0.53053,     0.53153,     0.53253,     0.53353,     0.53453,     0.53554,     0.53654,     0.53754,     0.53854,     0.53954,     0.54054,     0.54154,     0.54254,     0.54354,     0.54454,     0.54555,     0.54655,     0.54755,     0.54855,     0.54955,     0.55055,     0.55155,\n",
       "           0.55255,     0.55355,     0.55455,     0.55556,     0.55656,     0.55756,     0.55856,     0.55956,     0.56056,     0.56156,     0.56256,     0.56356,     0.56456,     0.56557,     0.56657,     0.56757,     0.56857,     0.56957,     0.57057,     0.57157,     0.57257,     0.57357,     0.57457,     0.57558,\n",
       "           0.57658,     0.57758,     0.57858,     0.57958,     0.58058,     0.58158,     0.58258,     0.58358,     0.58458,     0.58559,     0.58659,     0.58759,     0.58859,     0.58959,     0.59059,     0.59159,     0.59259,     0.59359,     0.59459,      0.5956,      0.5966,      0.5976,      0.5986,      0.5996,\n",
       "            0.6006,      0.6016,      0.6026,      0.6036,      0.6046,     0.60561,     0.60661,     0.60761,     0.60861,     0.60961,     0.61061,     0.61161,     0.61261,     0.61361,     0.61461,     0.61562,     0.61662,     0.61762,     0.61862,     0.61962,     0.62062,     0.62162,     0.62262,     0.62362,\n",
       "           0.62462,     0.62563,     0.62663,     0.62763,     0.62863,     0.62963,     0.63063,     0.63163,     0.63263,     0.63363,     0.63463,     0.63564,     0.63664,     0.63764,     0.63864,     0.63964,     0.64064,     0.64164,     0.64264,     0.64364,     0.64464,     0.64565,     0.64665,     0.64765,\n",
       "           0.64865,     0.64965,     0.65065,     0.65165,     0.65265,     0.65365,     0.65465,     0.65566,     0.65666,     0.65766,     0.65866,     0.65966,     0.66066,     0.66166,     0.66266,     0.66366,     0.66466,     0.66567,     0.66667,     0.66767,     0.66867,     0.66967,     0.67067,     0.67167,\n",
       "           0.67267,     0.67367,     0.67467,     0.67568,     0.67668,     0.67768,     0.67868,     0.67968,     0.68068,     0.68168,     0.68268,     0.68368,     0.68468,     0.68569,     0.68669,     0.68769,     0.68869,     0.68969,     0.69069,     0.69169,     0.69269,     0.69369,     0.69469,      0.6957,\n",
       "            0.6967,      0.6977,      0.6987,      0.6997,      0.7007,      0.7017,      0.7027,      0.7037,      0.7047,     0.70571,     0.70671,     0.70771,     0.70871,     0.70971,     0.71071,     0.71171,     0.71271,     0.71371,     0.71471,     0.71572,     0.71672,     0.71772,     0.71872,     0.71972,\n",
       "           0.72072,     0.72172,     0.72272,     0.72372,     0.72472,     0.72573,     0.72673,     0.72773,     0.72873,     0.72973,     0.73073,     0.73173,     0.73273,     0.73373,     0.73473,     0.73574,     0.73674,     0.73774,     0.73874,     0.73974,     0.74074,     0.74174,     0.74274,     0.74374,\n",
       "           0.74474,     0.74575,     0.74675,     0.74775,     0.74875,     0.74975,     0.75075,     0.75175,     0.75275,     0.75375,     0.75475,     0.75576,     0.75676,     0.75776,     0.75876,     0.75976,     0.76076,     0.76176,     0.76276,     0.76376,     0.76476,     0.76577,     0.76677,     0.76777,\n",
       "           0.76877,     0.76977,     0.77077,     0.77177,     0.77277,     0.77377,     0.77477,     0.77578,     0.77678,     0.77778,     0.77878,     0.77978,     0.78078,     0.78178,     0.78278,     0.78378,     0.78478,     0.78579,     0.78679,     0.78779,     0.78879,     0.78979,     0.79079,     0.79179,\n",
       "           0.79279,     0.79379,     0.79479,      0.7958,      0.7968,      0.7978,      0.7988,      0.7998,      0.8008,      0.8018,      0.8028,      0.8038,      0.8048,     0.80581,     0.80681,     0.80781,     0.80881,     0.80981,     0.81081,     0.81181,     0.81281,     0.81381,     0.81481,     0.81582,\n",
       "           0.81682,     0.81782,     0.81882,     0.81982,     0.82082,     0.82182,     0.82282,     0.82382,     0.82482,     0.82583,     0.82683,     0.82783,     0.82883,     0.82983,     0.83083,     0.83183,     0.83283,     0.83383,     0.83483,     0.83584,     0.83684,     0.83784,     0.83884,     0.83984,\n",
       "           0.84084,     0.84184,     0.84284,     0.84384,     0.84484,     0.84585,     0.84685,     0.84785,     0.84885,     0.84985,     0.85085,     0.85185,     0.85285,     0.85385,     0.85485,     0.85586,     0.85686,     0.85786,     0.85886,     0.85986,     0.86086,     0.86186,     0.86286,     0.86386,\n",
       "           0.86486,     0.86587,     0.86687,     0.86787,     0.86887,     0.86987,     0.87087,     0.87187,     0.87287,     0.87387,     0.87487,     0.87588,     0.87688,     0.87788,     0.87888,     0.87988,     0.88088,     0.88188,     0.88288,     0.88388,     0.88488,     0.88589,     0.88689,     0.88789,\n",
       "           0.88889,     0.88989,     0.89089,     0.89189,     0.89289,     0.89389,     0.89489,      0.8959,      0.8969,      0.8979,      0.8989,      0.8999,      0.9009,      0.9019,      0.9029,      0.9039,      0.9049,     0.90591,     0.90691,     0.90791,     0.90891,     0.90991,     0.91091,     0.91191,\n",
       "           0.91291,     0.91391,     0.91491,     0.91592,     0.91692,     0.91792,     0.91892,     0.91992,     0.92092,     0.92192,     0.92292,     0.92392,     0.92492,     0.92593,     0.92693,     0.92793,     0.92893,     0.92993,     0.93093,     0.93193,     0.93293,     0.93393,     0.93493,     0.93594,\n",
       "           0.93694,     0.93794,     0.93894,     0.93994,     0.94094,     0.94194,     0.94294,     0.94394,     0.94494,     0.94595,     0.94695,     0.94795,     0.94895,     0.94995,     0.95095,     0.95195,     0.95295,     0.95395,     0.95495,     0.95596,     0.95696,     0.95796,     0.95896,     0.95996,\n",
       "           0.96096,     0.96196,     0.96296,     0.96396,     0.96496,     0.96597,     0.96697,     0.96797,     0.96897,     0.96997,     0.97097,     0.97197,     0.97297,     0.97397,     0.97497,     0.97598,     0.97698,     0.97798,     0.97898,     0.97998,     0.98098,     0.98198,     0.98298,     0.98398,\n",
       "           0.98498,     0.98599,     0.98699,     0.98799,     0.98899,     0.98999,     0.99099,     0.99199,     0.99299,     0.99399,     0.99499,       0.996,       0.997,       0.998,       0.999,           1]), array([[    0.38025,     0.38025,     0.47237,     0.52201,     0.54934,     0.57654,     0.60504,     0.62273,      0.6397,     0.65646,     0.66622,     0.67535,     0.68606,     0.69496,     0.69917,      0.7057,     0.70767,     0.71248,       0.717,     0.72177,     0.72699,     0.73536,     0.73949,\n",
       "            0.74068,     0.74397,      0.7479,       0.753,     0.75769,     0.76118,     0.76481,     0.76793,     0.77082,     0.77435,      0.7761,     0.77913,     0.78002,     0.78198,     0.78325,     0.78389,     0.78449,     0.78506,     0.78609,     0.78749,      0.7881,     0.78972,     0.79177,\n",
       "            0.79296,     0.79363,     0.79556,     0.79653,     0.79761,     0.80183,      0.8041,     0.80471,      0.8075,     0.80961,     0.81011,     0.81061,     0.81245,     0.81316,     0.81627,     0.81948,     0.82264,     0.82534,     0.82865,     0.82984,     0.83052,     0.83121,     0.83171,\n",
       "            0.83069,     0.83212,     0.83312,     0.83434,     0.83567,     0.83673,     0.83706,     0.83739,     0.83773,     0.83806,     0.83839,     0.83872,     0.83905,     0.83938,      0.8397,     0.84011,     0.84054,     0.84097,     0.84145,     0.84216,     0.84287,     0.84328,     0.84368,\n",
       "            0.84408,     0.84483,     0.84623,     0.84652,     0.84681,      0.8471,     0.84739,     0.84557,     0.84555,     0.84567,     0.84579,     0.84591,     0.84603,     0.84615,     0.84627,     0.84638,      0.8465,     0.84662,     0.84674,     0.84686,     0.84698,     0.84518,     0.84618,\n",
       "             0.8471,       0.848,     0.85034,     0.85197,     0.85348,     0.85463,     0.85502,     0.85542,     0.85581,     0.85624,     0.85678,     0.85731,     0.85781,     0.85823,     0.85864,     0.85906,      0.8598,     0.86096,     0.86119,     0.86141,     0.86164,     0.86186,     0.86209,\n",
       "            0.86231,     0.86254,     0.86267,     0.86276,     0.86286,     0.86295,     0.86305,     0.86315,     0.86324,     0.86334,     0.86343,     0.86353,     0.86363,     0.86372,     0.86382,     0.86391,     0.86401,      0.8641,      0.8642,     0.86392,     0.86333,     0.86273,     0.86214,\n",
       "            0.86031,     0.86024,     0.86069,     0.86114,     0.86324,     0.86358,     0.86393,     0.86427,     0.86461,     0.86505,     0.86582,     0.86653,     0.86638,     0.86622,     0.86607,     0.86592,     0.86577,     0.86561,     0.86546,     0.86531,     0.86516,       0.865,     0.86485,\n",
       "             0.8647,     0.86455,     0.86439,     0.86623,     0.86654,     0.86686,     0.86717,     0.86748,     0.86967,      0.8706,     0.87053,     0.86932,     0.86904,     0.86929,     0.86954,     0.86979,     0.87004,     0.87029,     0.87054,     0.87113,      0.8718,       0.873,     0.87552,\n",
       "            0.87588,     0.87604,      0.8762,     0.87636,     0.87651,     0.87667,     0.87683,     0.87699,     0.87714,      0.8773,     0.87746,     0.87763,      0.8778,     0.87797,     0.87815,     0.87832,     0.87849,     0.87866,     0.87883,       0.879,     0.87918,     0.87901,     0.87877,\n",
       "            0.87853,     0.87828,     0.87804,      0.8778,     0.87755,     0.87731,     0.87707,     0.87707,      0.8772,     0.87732,     0.87745,     0.87758,     0.87771,     0.87784,     0.87796,     0.87809,     0.87822,     0.87835,     0.87847,      0.8786,     0.87873,     0.87845,     0.87817,\n",
       "            0.87789,     0.87762,     0.87734,     0.87706,     0.87678,     0.87651,     0.87677,     0.87706,     0.87734,     0.87763,     0.87792,      0.8782,     0.87844,     0.87868,     0.87891,     0.87914,     0.87937,     0.87961,     0.87984,     0.88014,     0.88059,     0.88104,     0.88149,\n",
       "            0.88181,     0.88191,     0.88202,     0.88213,     0.88223,     0.88234,     0.88245,     0.88255,     0.88266,     0.88277,     0.88287,     0.88298,     0.88309,     0.88319,      0.8833,     0.88341,     0.88351,     0.88501,     0.88314,     0.88387,      0.8846,     0.88493,     0.88504,\n",
       "            0.88515,     0.88527,     0.88538,      0.8855,     0.88561,     0.88573,     0.88584,     0.88596,     0.88607,     0.88619,      0.8863,     0.88642,     0.88653,     0.88674,     0.88618,     0.88626,     0.88633,      0.8864,     0.88648,     0.88655,     0.88662,     0.88669,     0.88677,\n",
       "            0.88684,     0.88691,     0.88698,     0.88706,     0.88713,      0.8872,     0.88727,     0.88735,     0.88742,     0.88749,     0.88756,     0.88764,     0.88771,     0.88778,     0.88785,     0.88793,     0.88801,     0.88815,     0.88829,     0.88843,     0.88856,      0.8887,     0.88884,\n",
       "            0.88898,     0.88911,     0.88925,     0.88939,     0.88953,     0.88966,     0.88982,      0.8905,     0.89118,     0.89143,     0.89092,      0.8904,     0.88988,     0.88937,     0.88958,     0.88983,     0.89008,     0.89033,     0.89058,     0.89083,     0.89108,     0.89102,      0.8908,\n",
       "            0.89057,     0.89034,     0.89011,     0.88988,     0.88966,     0.88943,      0.8892,     0.88897,     0.88877,     0.88857,     0.88838,     0.88819,       0.888,     0.88781,     0.88762,     0.88742,     0.88723,     0.88704,     0.88685,     0.88666,      0.8879,     0.88856,     0.88874,\n",
       "            0.88892,      0.8891,     0.88928,     0.88946,     0.88964,     0.88982,        0.89,     0.89017,     0.89013,     0.88982,     0.88952,     0.88921,     0.88891,      0.8886,      0.8883,     0.88799,     0.88751,     0.88701,     0.88651,     0.88602,     0.88592,     0.88686,     0.88741,\n",
       "            0.88714,     0.88687,      0.8866,     0.88632,     0.88605,     0.88578,     0.88551,     0.88523,     0.88558,     0.88608,     0.88659,     0.88704,     0.88712,      0.8872,     0.88728,     0.88736,     0.88744,     0.88752,      0.8876,     0.88768,     0.88776,     0.88784,     0.88792,\n",
       "              0.888,     0.88808,     0.88816,     0.88824,     0.88832,     0.88841,     0.88849,     0.88857,     0.88865,     0.88873,     0.88881,     0.88889,     0.88874,     0.88859,     0.88844,     0.88829,     0.88814,     0.88798,     0.88783,     0.88768,     0.88753,     0.88738,     0.88722,\n",
       "            0.88707,     0.88692,     0.88677,     0.88662,     0.88667,     0.88686,     0.88705,     0.88724,     0.88743,     0.88763,     0.88782,     0.88801,      0.8882,     0.88839,     0.88856,     0.88872,     0.88888,     0.88904,      0.8892,     0.88936,     0.88952,     0.88968,     0.88984,\n",
       "               0.89,     0.89016,     0.89038,     0.89103,     0.89167,     0.89222,     0.89241,     0.89261,      0.8928,     0.89299,     0.89319,     0.89338,     0.89357,     0.89377,     0.89396,      0.8941,     0.89417,     0.89423,      0.8943,     0.89437,     0.89443,      0.8945,     0.89457,\n",
       "            0.89464,      0.8947,     0.89477,     0.89484,      0.8949,     0.89497,     0.89504,     0.89511,     0.89517,     0.89524,     0.89531,     0.89537,     0.89544,     0.89551,     0.89557,     0.89564,     0.89571,     0.89578,     0.89584,     0.89591,     0.89587,     0.89527,     0.89467,\n",
       "            0.89406,     0.89369,     0.89397,     0.89425,     0.89453,     0.89481,     0.89508,     0.89536,     0.89526,     0.89466,     0.89406,     0.89345,     0.89309,     0.89294,     0.89279,     0.89264,      0.8925,     0.89235,      0.8922,     0.89206,     0.89191,     0.89176,     0.89161,\n",
       "            0.89147,     0.89132,     0.89117,     0.89102,     0.89088,     0.89163,     0.89258,     0.89231,     0.89204,     0.89177,      0.8915,     0.89123,     0.89095,     0.89068,     0.89041,     0.88868,     0.88802,     0.88815,     0.88827,      0.8884,     0.88853,     0.88865,     0.88878,\n",
       "            0.88891,     0.88904,     0.88916,     0.88929,     0.88942,     0.88954,     0.88967,      0.8898,     0.89001,     0.89029,     0.89058,     0.89086,     0.89114,     0.89142,      0.8917,     0.89197,     0.89224,      0.8925,     0.89277,     0.89303,     0.89329,     0.89356,     0.89358,\n",
       "            0.89327,     0.89296,     0.89265,     0.89235,     0.89204,     0.89173,     0.89142,     0.89193,     0.89292,     0.89077,     0.89046,     0.89015,     0.88984,     0.88953,     0.88922,     0.88891,      0.8886,     0.88605,     0.88626,     0.88647,     0.88668,     0.88689,      0.8871,\n",
       "            0.88731,     0.88752,     0.88773,     0.88796,     0.88841,     0.88885,      0.8893,     0.88974,     0.88721,     0.88694,     0.88665,     0.88637,     0.88609,     0.88581,     0.88553,     0.88525,     0.88497,     0.88559,     0.88626,     0.88688,     0.88442,     0.88386,     0.88329,\n",
       "            0.88272,     0.88216,     0.88174,      0.8814,     0.88106,     0.88072,     0.88038,     0.88003,     0.87969,     0.87922,     0.87849,     0.87775,     0.87702,     0.88016,       0.881,     0.88123,     0.88145,     0.88168,     0.88191,     0.88213,     0.88236,     0.88258,     0.88281,\n",
       "              0.884,     0.88271,      0.8811,     0.87977,     0.87958,      0.8794,     0.87921,     0.87903,     0.87884,     0.87865,     0.87847,     0.87828,     0.87809,     0.87791,     0.87772,     0.87753,     0.87735,     0.87912,     0.87887,     0.87862,     0.87837,     0.87812,     0.87787,\n",
       "            0.87762,     0.87737,     0.87712,     0.87687,     0.87652,       0.876,     0.87547,     0.87494,     0.87442,     0.87399,     0.87368,     0.87337,     0.87306,     0.87275,     0.87244,     0.87212,     0.87181,     0.87169,     0.87237,     0.87306,      0.8736,     0.87376,     0.87392,\n",
       "            0.87408,     0.87424,      0.8744,     0.87456,     0.87472,     0.87488,     0.87503,     0.87519,     0.87535,     0.87551,     0.87481,     0.87348,     0.87186,      0.8706,     0.87198,     0.87114,     0.86934,     0.86754,     0.86573,     0.86392,      0.8621,     0.86147,     0.86105,\n",
       "            0.86063,     0.86021,     0.85979,     0.85936,     0.85823,     0.85639,     0.85455,     0.85457,     0.85558,     0.85373,     0.85187,     0.85024,     0.84962,     0.84899,     0.84837,     0.84774,     0.84612,     0.84455,     0.84361,     0.84266,     0.84267,     0.84405,      0.8409,\n",
       "            0.84042,     0.83994,     0.83947,     0.83899,     0.83845,      0.8373,     0.83615,     0.83546,     0.83502,     0.83457,     0.83413,     0.83368,     0.83324,     0.83203,     0.82971,     0.82854,     0.82737,     0.82263,     0.82174,     0.82226,     0.82277,     0.82329,     0.82248,\n",
       "             0.8176,     0.81561,      0.8071,     0.80171,      0.7998,     0.79856,     0.79733,     0.79799,     0.79845,     0.79638,     0.78736,     0.78507,     0.77703,     0.77575,     0.77446,     0.77362,     0.77281,       0.772,     0.76806,     0.76887,     0.76969,     0.76813,     0.75908,\n",
       "            0.75345,     0.74699,     0.74474,     0.73498,     0.71872,     0.71257,     0.69519,     0.69274,     0.68564,     0.67195,     0.66966,     0.66775,     0.66556,       0.663,     0.65158,     0.62422,      0.6215,     0.59941,     0.58678,     0.58332,     0.57166,     0.55413,     0.54543,\n",
       "            0.54237,     0.52453,     0.50109,     0.48176,      0.4732,     0.46017,     0.45761,     0.45045,      0.4349,     0.41983,     0.41621,     0.41346,      0.3945,      0.3917,     0.37761,     0.36624,     0.35471,     0.34329,     0.33931,     0.33513,      0.3231,     0.31694,       0.307,\n",
       "            0.30387,     0.28579,     0.26937,     0.26609,     0.25993,     0.22694,      0.2165,     0.21302,     0.19926,     0.19641,     0.19357,     0.19151,     0.19008,     0.18865,     0.18722,     0.18579,     0.18207,     0.17673,     0.16318,     0.15949,     0.15625,     0.15413,       0.152,\n",
       "            0.14987,     0.13965,     0.13663,     0.13161,     0.12042,     0.11029,     0.10806,     0.10583,    0.092749,    0.084782,    0.080747,    0.079285,    0.077821,    0.076355,    0.074886,    0.069859,    0.059677,    0.048187,    0.042633,    0.040853,    0.039868,    0.038881,    0.037894,\n",
       "           0.036906,    0.035916,    0.034926,    0.033935,    0.032972,    0.032034,    0.031095,    0.030155,    0.029215,    0.028273,     0.02733,    0.026387,    0.025443,    0.020926,    0.016789,    0.016482,    0.016176,    0.015869,    0.015562,    0.015256,    0.014949,    0.014642,    0.014335,\n",
       "           0.014028,     0.01372,    0.013413,    0.013106,    0.012798,     0.01249,    0.012183,    0.011875,    0.011567,    0.011259,    0.010951,    0.010643,    0.010334,    0.010026,   0.0097175,   0.0094089,   0.0091002,   0.0087914,   0.0084826,           0,           0,           0,           0,\n",
       "                  0,           0,           0,           0,           0,           0,           0,           0,           0,           0,           0,           0,           0,           0,           0,           0,           0,           0,           0,           0,           0,           0,           0,\n",
       "                  0,           0,           0,           0,           0,           0,           0,           0,           0,           0,           0,           0,           0,           0,           0,           0,           0,           0,           0,           0,           0,           0,           0,\n",
       "                  0,           0,           0,           0,           0,           0,           0,           0,           0,           0,           0]]), 'Confidence', 'F1'], [array([          0,    0.001001,    0.002002,    0.003003,    0.004004,    0.005005,    0.006006,    0.007007,    0.008008,    0.009009,     0.01001,    0.011011,    0.012012,    0.013013,    0.014014,    0.015015,    0.016016,    0.017017,    0.018018,    0.019019,     0.02002,    0.021021,    0.022022,    0.023023,\n",
       "          0.024024,    0.025025,    0.026026,    0.027027,    0.028028,    0.029029,     0.03003,    0.031031,    0.032032,    0.033033,    0.034034,    0.035035,    0.036036,    0.037037,    0.038038,    0.039039,     0.04004,    0.041041,    0.042042,    0.043043,    0.044044,    0.045045,    0.046046,    0.047047,\n",
       "          0.048048,    0.049049,     0.05005,    0.051051,    0.052052,    0.053053,    0.054054,    0.055055,    0.056056,    0.057057,    0.058058,    0.059059,     0.06006,    0.061061,    0.062062,    0.063063,    0.064064,    0.065065,    0.066066,    0.067067,    0.068068,    0.069069,     0.07007,    0.071071,\n",
       "          0.072072,    0.073073,    0.074074,    0.075075,    0.076076,    0.077077,    0.078078,    0.079079,     0.08008,    0.081081,    0.082082,    0.083083,    0.084084,    0.085085,    0.086086,    0.087087,    0.088088,    0.089089,     0.09009,    0.091091,    0.092092,    0.093093,    0.094094,    0.095095,\n",
       "          0.096096,    0.097097,    0.098098,    0.099099,      0.1001,      0.1011,      0.1021,      0.1031,      0.1041,     0.10511,     0.10611,     0.10711,     0.10811,     0.10911,     0.11011,     0.11111,     0.11211,     0.11311,     0.11411,     0.11512,     0.11612,     0.11712,     0.11812,     0.11912,\n",
       "           0.12012,     0.12112,     0.12212,     0.12312,     0.12412,     0.12513,     0.12613,     0.12713,     0.12813,     0.12913,     0.13013,     0.13113,     0.13213,     0.13313,     0.13413,     0.13514,     0.13614,     0.13714,     0.13814,     0.13914,     0.14014,     0.14114,     0.14214,     0.14314,\n",
       "           0.14414,     0.14515,     0.14615,     0.14715,     0.14815,     0.14915,     0.15015,     0.15115,     0.15215,     0.15315,     0.15415,     0.15516,     0.15616,     0.15716,     0.15816,     0.15916,     0.16016,     0.16116,     0.16216,     0.16316,     0.16416,     0.16517,     0.16617,     0.16717,\n",
       "           0.16817,     0.16917,     0.17017,     0.17117,     0.17217,     0.17317,     0.17417,     0.17518,     0.17618,     0.17718,     0.17818,     0.17918,     0.18018,     0.18118,     0.18218,     0.18318,     0.18418,     0.18519,     0.18619,     0.18719,     0.18819,     0.18919,     0.19019,     0.19119,\n",
       "           0.19219,     0.19319,     0.19419,      0.1952,      0.1962,      0.1972,      0.1982,      0.1992,      0.2002,      0.2012,      0.2022,      0.2032,      0.2042,     0.20521,     0.20621,     0.20721,     0.20821,     0.20921,     0.21021,     0.21121,     0.21221,     0.21321,     0.21421,     0.21522,\n",
       "           0.21622,     0.21722,     0.21822,     0.21922,     0.22022,     0.22122,     0.22222,     0.22322,     0.22422,     0.22523,     0.22623,     0.22723,     0.22823,     0.22923,     0.23023,     0.23123,     0.23223,     0.23323,     0.23423,     0.23524,     0.23624,     0.23724,     0.23824,     0.23924,\n",
       "           0.24024,     0.24124,     0.24224,     0.24324,     0.24424,     0.24525,     0.24625,     0.24725,     0.24825,     0.24925,     0.25025,     0.25125,     0.25225,     0.25325,     0.25425,     0.25526,     0.25626,     0.25726,     0.25826,     0.25926,     0.26026,     0.26126,     0.26226,     0.26326,\n",
       "           0.26426,     0.26527,     0.26627,     0.26727,     0.26827,     0.26927,     0.27027,     0.27127,     0.27227,     0.27327,     0.27427,     0.27528,     0.27628,     0.27728,     0.27828,     0.27928,     0.28028,     0.28128,     0.28228,     0.28328,     0.28428,     0.28529,     0.28629,     0.28729,\n",
       "           0.28829,     0.28929,     0.29029,     0.29129,     0.29229,     0.29329,     0.29429,      0.2953,      0.2963,      0.2973,      0.2983,      0.2993,      0.3003,      0.3013,      0.3023,      0.3033,      0.3043,     0.30531,     0.30631,     0.30731,     0.30831,     0.30931,     0.31031,     0.31131,\n",
       "           0.31231,     0.31331,     0.31431,     0.31532,     0.31632,     0.31732,     0.31832,     0.31932,     0.32032,     0.32132,     0.32232,     0.32332,     0.32432,     0.32533,     0.32633,     0.32733,     0.32833,     0.32933,     0.33033,     0.33133,     0.33233,     0.33333,     0.33433,     0.33534,\n",
       "           0.33634,     0.33734,     0.33834,     0.33934,     0.34034,     0.34134,     0.34234,     0.34334,     0.34434,     0.34535,     0.34635,     0.34735,     0.34835,     0.34935,     0.35035,     0.35135,     0.35235,     0.35335,     0.35435,     0.35536,     0.35636,     0.35736,     0.35836,     0.35936,\n",
       "           0.36036,     0.36136,     0.36236,     0.36336,     0.36436,     0.36537,     0.36637,     0.36737,     0.36837,     0.36937,     0.37037,     0.37137,     0.37237,     0.37337,     0.37437,     0.37538,     0.37638,     0.37738,     0.37838,     0.37938,     0.38038,     0.38138,     0.38238,     0.38338,\n",
       "           0.38438,     0.38539,     0.38639,     0.38739,     0.38839,     0.38939,     0.39039,     0.39139,     0.39239,     0.39339,     0.39439,      0.3954,      0.3964,      0.3974,      0.3984,      0.3994,      0.4004,      0.4014,      0.4024,      0.4034,      0.4044,     0.40541,     0.40641,     0.40741,\n",
       "           0.40841,     0.40941,     0.41041,     0.41141,     0.41241,     0.41341,     0.41441,     0.41542,     0.41642,     0.41742,     0.41842,     0.41942,     0.42042,     0.42142,     0.42242,     0.42342,     0.42442,     0.42543,     0.42643,     0.42743,     0.42843,     0.42943,     0.43043,     0.43143,\n",
       "           0.43243,     0.43343,     0.43443,     0.43544,     0.43644,     0.43744,     0.43844,     0.43944,     0.44044,     0.44144,     0.44244,     0.44344,     0.44444,     0.44545,     0.44645,     0.44745,     0.44845,     0.44945,     0.45045,     0.45145,     0.45245,     0.45345,     0.45445,     0.45546,\n",
       "           0.45646,     0.45746,     0.45846,     0.45946,     0.46046,     0.46146,     0.46246,     0.46346,     0.46446,     0.46547,     0.46647,     0.46747,     0.46847,     0.46947,     0.47047,     0.47147,     0.47247,     0.47347,     0.47447,     0.47548,     0.47648,     0.47748,     0.47848,     0.47948,\n",
       "           0.48048,     0.48148,     0.48248,     0.48348,     0.48448,     0.48549,     0.48649,     0.48749,     0.48849,     0.48949,     0.49049,     0.49149,     0.49249,     0.49349,     0.49449,      0.4955,      0.4965,      0.4975,      0.4985,      0.4995,      0.5005,      0.5015,      0.5025,      0.5035,\n",
       "            0.5045,     0.50551,     0.50651,     0.50751,     0.50851,     0.50951,     0.51051,     0.51151,     0.51251,     0.51351,     0.51451,     0.51552,     0.51652,     0.51752,     0.51852,     0.51952,     0.52052,     0.52152,     0.52252,     0.52352,     0.52452,     0.52553,     0.52653,     0.52753,\n",
       "           0.52853,     0.52953,     0.53053,     0.53153,     0.53253,     0.53353,     0.53453,     0.53554,     0.53654,     0.53754,     0.53854,     0.53954,     0.54054,     0.54154,     0.54254,     0.54354,     0.54454,     0.54555,     0.54655,     0.54755,     0.54855,     0.54955,     0.55055,     0.55155,\n",
       "           0.55255,     0.55355,     0.55455,     0.55556,     0.55656,     0.55756,     0.55856,     0.55956,     0.56056,     0.56156,     0.56256,     0.56356,     0.56456,     0.56557,     0.56657,     0.56757,     0.56857,     0.56957,     0.57057,     0.57157,     0.57257,     0.57357,     0.57457,     0.57558,\n",
       "           0.57658,     0.57758,     0.57858,     0.57958,     0.58058,     0.58158,     0.58258,     0.58358,     0.58458,     0.58559,     0.58659,     0.58759,     0.58859,     0.58959,     0.59059,     0.59159,     0.59259,     0.59359,     0.59459,      0.5956,      0.5966,      0.5976,      0.5986,      0.5996,\n",
       "            0.6006,      0.6016,      0.6026,      0.6036,      0.6046,     0.60561,     0.60661,     0.60761,     0.60861,     0.60961,     0.61061,     0.61161,     0.61261,     0.61361,     0.61461,     0.61562,     0.61662,     0.61762,     0.61862,     0.61962,     0.62062,     0.62162,     0.62262,     0.62362,\n",
       "           0.62462,     0.62563,     0.62663,     0.62763,     0.62863,     0.62963,     0.63063,     0.63163,     0.63263,     0.63363,     0.63463,     0.63564,     0.63664,     0.63764,     0.63864,     0.63964,     0.64064,     0.64164,     0.64264,     0.64364,     0.64464,     0.64565,     0.64665,     0.64765,\n",
       "           0.64865,     0.64965,     0.65065,     0.65165,     0.65265,     0.65365,     0.65465,     0.65566,     0.65666,     0.65766,     0.65866,     0.65966,     0.66066,     0.66166,     0.66266,     0.66366,     0.66466,     0.66567,     0.66667,     0.66767,     0.66867,     0.66967,     0.67067,     0.67167,\n",
       "           0.67267,     0.67367,     0.67467,     0.67568,     0.67668,     0.67768,     0.67868,     0.67968,     0.68068,     0.68168,     0.68268,     0.68368,     0.68468,     0.68569,     0.68669,     0.68769,     0.68869,     0.68969,     0.69069,     0.69169,     0.69269,     0.69369,     0.69469,      0.6957,\n",
       "            0.6967,      0.6977,      0.6987,      0.6997,      0.7007,      0.7017,      0.7027,      0.7037,      0.7047,     0.70571,     0.70671,     0.70771,     0.70871,     0.70971,     0.71071,     0.71171,     0.71271,     0.71371,     0.71471,     0.71572,     0.71672,     0.71772,     0.71872,     0.71972,\n",
       "           0.72072,     0.72172,     0.72272,     0.72372,     0.72472,     0.72573,     0.72673,     0.72773,     0.72873,     0.72973,     0.73073,     0.73173,     0.73273,     0.73373,     0.73473,     0.73574,     0.73674,     0.73774,     0.73874,     0.73974,     0.74074,     0.74174,     0.74274,     0.74374,\n",
       "           0.74474,     0.74575,     0.74675,     0.74775,     0.74875,     0.74975,     0.75075,     0.75175,     0.75275,     0.75375,     0.75475,     0.75576,     0.75676,     0.75776,     0.75876,     0.75976,     0.76076,     0.76176,     0.76276,     0.76376,     0.76476,     0.76577,     0.76677,     0.76777,\n",
       "           0.76877,     0.76977,     0.77077,     0.77177,     0.77277,     0.77377,     0.77477,     0.77578,     0.77678,     0.77778,     0.77878,     0.77978,     0.78078,     0.78178,     0.78278,     0.78378,     0.78478,     0.78579,     0.78679,     0.78779,     0.78879,     0.78979,     0.79079,     0.79179,\n",
       "           0.79279,     0.79379,     0.79479,      0.7958,      0.7968,      0.7978,      0.7988,      0.7998,      0.8008,      0.8018,      0.8028,      0.8038,      0.8048,     0.80581,     0.80681,     0.80781,     0.80881,     0.80981,     0.81081,     0.81181,     0.81281,     0.81381,     0.81481,     0.81582,\n",
       "           0.81682,     0.81782,     0.81882,     0.81982,     0.82082,     0.82182,     0.82282,     0.82382,     0.82482,     0.82583,     0.82683,     0.82783,     0.82883,     0.82983,     0.83083,     0.83183,     0.83283,     0.83383,     0.83483,     0.83584,     0.83684,     0.83784,     0.83884,     0.83984,\n",
       "           0.84084,     0.84184,     0.84284,     0.84384,     0.84484,     0.84585,     0.84685,     0.84785,     0.84885,     0.84985,     0.85085,     0.85185,     0.85285,     0.85385,     0.85485,     0.85586,     0.85686,     0.85786,     0.85886,     0.85986,     0.86086,     0.86186,     0.86286,     0.86386,\n",
       "           0.86486,     0.86587,     0.86687,     0.86787,     0.86887,     0.86987,     0.87087,     0.87187,     0.87287,     0.87387,     0.87487,     0.87588,     0.87688,     0.87788,     0.87888,     0.87988,     0.88088,     0.88188,     0.88288,     0.88388,     0.88488,     0.88589,     0.88689,     0.88789,\n",
       "           0.88889,     0.88989,     0.89089,     0.89189,     0.89289,     0.89389,     0.89489,      0.8959,      0.8969,      0.8979,      0.8989,      0.8999,      0.9009,      0.9019,      0.9029,      0.9039,      0.9049,     0.90591,     0.90691,     0.90791,     0.90891,     0.90991,     0.91091,     0.91191,\n",
       "           0.91291,     0.91391,     0.91491,     0.91592,     0.91692,     0.91792,     0.91892,     0.91992,     0.92092,     0.92192,     0.92292,     0.92392,     0.92492,     0.92593,     0.92693,     0.92793,     0.92893,     0.92993,     0.93093,     0.93193,     0.93293,     0.93393,     0.93493,     0.93594,\n",
       "           0.93694,     0.93794,     0.93894,     0.93994,     0.94094,     0.94194,     0.94294,     0.94394,     0.94494,     0.94595,     0.94695,     0.94795,     0.94895,     0.94995,     0.95095,     0.95195,     0.95295,     0.95395,     0.95495,     0.95596,     0.95696,     0.95796,     0.95896,     0.95996,\n",
       "           0.96096,     0.96196,     0.96296,     0.96396,     0.96496,     0.96597,     0.96697,     0.96797,     0.96897,     0.96997,     0.97097,     0.97197,     0.97297,     0.97397,     0.97497,     0.97598,     0.97698,     0.97798,     0.97898,     0.97998,     0.98098,     0.98198,     0.98298,     0.98398,\n",
       "           0.98498,     0.98599,     0.98699,     0.98799,     0.98899,     0.98999,     0.99099,     0.99199,     0.99299,     0.99399,     0.99499,       0.996,       0.997,       0.998,       0.999,           1]), array([[    0.23571,     0.23571,     0.31088,     0.35536,     0.38248,     0.40937,     0.43872,     0.45757,     0.47613,     0.49494,     0.50613,     0.51674,     0.52938,     0.54005,     0.54516,     0.55314,     0.55557,     0.56151,     0.56715,     0.57314,     0.57975,     0.59047,     0.59582,\n",
       "            0.59736,     0.60166,     0.60681,     0.61355,      0.6198,     0.62449,      0.6294,     0.63364,     0.63757,     0.64242,     0.64484,     0.64903,     0.65027,       0.653,     0.65476,     0.65566,      0.6565,      0.6573,     0.65874,     0.66072,     0.66157,     0.66385,     0.66676,\n",
       "            0.66845,     0.66941,     0.67216,     0.67354,     0.67509,     0.68116,     0.68443,     0.68532,     0.68938,     0.69247,      0.6932,     0.69393,     0.69663,     0.69767,     0.70227,     0.70703,     0.71175,     0.71579,      0.7208,     0.72259,     0.72363,     0.72467,     0.72657,\n",
       "            0.72615,     0.72844,     0.72997,     0.73185,      0.7339,     0.73553,     0.73605,     0.73656,     0.73708,     0.73759,      0.7381,     0.73861,     0.73912,     0.73963,     0.74014,     0.74078,     0.74145,     0.74212,     0.74286,     0.74397,     0.74507,     0.74571,     0.74634,\n",
       "            0.74696,     0.74815,     0.75035,     0.75081,     0.75126,     0.75172,     0.75218,      0.7517,     0.75184,     0.75203,     0.75222,      0.7524,     0.75259,     0.75278,     0.75297,     0.75315,     0.75334,     0.75353,     0.75372,     0.75391,     0.75409,     0.75384,     0.75543,\n",
       "            0.75691,     0.75834,      0.7621,     0.76471,     0.76715,     0.76902,     0.76965,     0.77028,     0.77092,     0.77163,      0.7725,     0.77336,     0.77417,     0.77486,     0.77554,     0.77622,     0.77742,     0.77933,      0.7797,     0.78007,     0.78044,      0.7808,     0.78117,\n",
       "            0.78154,     0.78191,     0.78212,     0.78228,     0.78244,      0.7826,     0.78275,     0.78291,     0.78307,     0.78323,     0.78339,     0.78354,      0.7837,     0.78386,     0.78402,     0.78418,     0.78433,     0.78449,     0.78465,     0.78461,     0.78441,      0.7842,       0.784,\n",
       "            0.78337,     0.78381,     0.78456,     0.78531,      0.7888,     0.78938,     0.78995,     0.79052,     0.79109,     0.79184,     0.79312,     0.79432,     0.79427,     0.79422,     0.79417,     0.79412,     0.79407,     0.79402,     0.79397,     0.79392,     0.79387,     0.79381,     0.79376,\n",
       "            0.79371,     0.79366,     0.79361,     0.79678,     0.79731,     0.79785,     0.79838,     0.79891,     0.80263,     0.80421,     0.80487,     0.80449,     0.80462,     0.80505,     0.80548,     0.80591,     0.80633,     0.80676,     0.80719,      0.8082,     0.80935,     0.81143,      0.8158,\n",
       "            0.81643,      0.8167,     0.81697,     0.81725,     0.81752,      0.8178,     0.81807,     0.81835,     0.81862,      0.8189,     0.81917,     0.81947,     0.81977,     0.82007,     0.82037,     0.82067,     0.82097,     0.82127,     0.82157,     0.82187,     0.82217,     0.82216,     0.82209,\n",
       "            0.82202,     0.82195,     0.82187,      0.8218,     0.82173,     0.82166,     0.82159,     0.82171,     0.82193,     0.82216,     0.82238,     0.82261,     0.82283,     0.82306,     0.82328,     0.82351,     0.82373,     0.82395,     0.82418,      0.8244,     0.82463,     0.82454,     0.82446,\n",
       "            0.82438,      0.8243,     0.82422,     0.82414,     0.82406,     0.82397,     0.82446,     0.82496,     0.82547,     0.82598,     0.82649,       0.827,     0.82742,     0.82784,     0.82825,     0.82866,     0.82907,     0.82949,      0.8299,     0.83043,     0.83124,     0.83204,     0.83285,\n",
       "            0.83341,      0.8336,     0.83379,     0.83398,     0.83417,     0.83436,     0.83456,     0.83475,     0.83494,     0.83513,     0.83532,     0.83551,      0.8357,     0.83589,     0.83608,     0.83627,     0.83647,     0.83916,     0.83922,     0.84054,     0.84187,     0.84245,     0.84265,\n",
       "            0.84286,     0.84307,     0.84328,     0.84349,      0.8437,      0.8439,     0.84411,     0.84432,     0.84453,     0.84474,     0.84495,     0.84515,     0.84536,     0.84575,     0.84826,     0.84839,     0.84853,     0.84866,     0.84879,     0.84893,     0.84906,     0.84919,     0.84933,\n",
       "            0.84946,     0.84959,     0.84972,     0.84986,     0.84999,     0.85012,     0.85026,     0.85039,     0.85052,     0.85066,     0.85079,     0.85092,     0.85106,     0.85119,     0.85132,     0.85146,     0.85161,     0.85187,     0.85212,     0.85237,     0.85263,     0.85288,     0.85314,\n",
       "            0.85339,     0.85364,      0.8539,     0.85415,      0.8544,     0.85466,     0.85494,      0.8562,     0.85745,     0.85822,      0.8581,     0.85797,     0.85784,     0.85771,     0.85815,     0.85862,     0.85908,     0.85955,     0.86001,     0.86048,     0.86095,     0.86108,     0.86102,\n",
       "            0.86096,     0.86091,     0.86085,      0.8608,     0.86074,     0.86069,     0.86063,     0.86058,     0.86053,     0.86048,     0.86043,     0.86039,     0.86034,     0.86029,     0.86025,      0.8602,     0.86015,     0.86011,     0.86006,     0.86001,     0.86245,      0.8637,     0.86404,\n",
       "            0.86438,     0.86472,     0.86506,      0.8654,     0.86574,     0.86608,     0.86642,     0.86676,      0.8669,     0.86683,     0.86676,     0.86669,     0.86662,     0.86655,     0.86647,      0.8664,     0.86629,     0.86617,     0.86606,     0.86594,     0.86636,     0.86817,     0.86937,\n",
       "             0.8693,     0.86924,     0.86918,     0.86912,     0.86905,     0.86899,     0.86893,     0.86887,     0.86963,      0.8706,     0.87158,     0.87245,      0.8726,     0.87276,     0.87292,     0.87307,     0.87323,     0.87338,     0.87354,     0.87369,     0.87385,       0.874,     0.87416,\n",
       "            0.87432,     0.87447,     0.87463,     0.87478,     0.87494,     0.87509,     0.87525,      0.8754,     0.87556,     0.87572,     0.87587,     0.87603,       0.876,     0.87597,     0.87593,      0.8759,     0.87587,     0.87583,      0.8758,     0.87577,     0.87573,      0.8757,     0.87567,\n",
       "            0.87563,      0.8756,     0.87557,     0.87553,     0.87574,     0.87612,     0.87649,     0.87686,     0.87724,     0.87761,     0.87799,     0.87836,     0.87873,     0.87911,     0.87943,     0.87975,     0.88006,     0.88037,     0.88069,       0.881,     0.88132,     0.88163,     0.88194,\n",
       "            0.88226,     0.88257,     0.88301,     0.88428,     0.88555,     0.88663,     0.88702,      0.8874,     0.88778,     0.88817,     0.88855,     0.88893,     0.88932,      0.8897,     0.89008,     0.89036,     0.89049,     0.89062,     0.89076,     0.89089,     0.89102,     0.89116,     0.89129,\n",
       "            0.89142,     0.89156,     0.89169,     0.89182,     0.89196,     0.89209,     0.89222,     0.89236,     0.89249,     0.89262,     0.89276,     0.89289,     0.89302,     0.89316,     0.89329,     0.89342,     0.89356,     0.89369,     0.89382,     0.89396,     0.89405,     0.89393,     0.89382,\n",
       "             0.8937,     0.89376,     0.89432,     0.89488,     0.89544,       0.896,     0.89656,     0.89712,     0.89739,     0.89727,     0.89716,     0.89705,     0.89698,     0.89695,     0.89693,      0.8969,     0.89687,     0.89684,     0.89682,     0.89679,     0.89676,     0.89673,     0.89671,\n",
       "            0.89668,     0.89665,     0.89662,      0.8966,     0.89657,     0.89826,     0.90041,     0.90036,     0.90031,     0.90026,     0.90021,     0.90016,     0.90011,     0.90007,     0.90002,      0.8997,     0.89975,     0.90001,     0.90027,     0.90053,     0.90079,     0.90105,     0.90131,\n",
       "            0.90157,     0.90183,     0.90209,     0.90235,     0.90262,     0.90288,     0.90314,      0.9034,     0.90384,     0.90443,     0.90501,     0.90559,     0.90618,     0.90676,     0.90734,      0.9079,     0.90845,       0.909,     0.90954,     0.91009,     0.91064,     0.91119,     0.91148,\n",
       "            0.91143,     0.91138,     0.91133,     0.91128,     0.91123,     0.91118,     0.91113,     0.91241,      0.9145,     0.91479,     0.91474,     0.91469,     0.91464,     0.91459,     0.91454,     0.91449,     0.91444,      0.9142,     0.91465,     0.91509,     0.91554,     0.91599,     0.91644,\n",
       "            0.91689,     0.91734,     0.91778,     0.91829,     0.91924,      0.9202,     0.92115,     0.92211,     0.92199,     0.92195,     0.92191,     0.92187,     0.92183,     0.92178,     0.92174,      0.9217,     0.92166,     0.92303,     0.92449,     0.92592,     0.92558,      0.9255,     0.92542,\n",
       "            0.92534,     0.92526,      0.9252,     0.92515,     0.92511,     0.92506,     0.92501,     0.92496,     0.92491,     0.92485,     0.92474,     0.92464,     0.92454,     0.93169,     0.93356,     0.93407,     0.93458,     0.93509,      0.9356,     0.93611,     0.93662,     0.93713,     0.93763,\n",
       "            0.94221,     0.94207,     0.94189,     0.94174,     0.94172,      0.9417,     0.94168,     0.94166,     0.94164,     0.94162,      0.9416,     0.94158,     0.94155,     0.94153,     0.94151,     0.94149,     0.94147,     0.94606,     0.94604,     0.94601,     0.94599,     0.94596,     0.94593,\n",
       "            0.94591,     0.94588,     0.94586,     0.94583,     0.94579,     0.94574,     0.94568,     0.94563,     0.94557,     0.94553,      0.9455,     0.94546,     0.94543,      0.9454,     0.94537,     0.94533,      0.9453,     0.94558,     0.94719,     0.94881,      0.9501,     0.95047,     0.95085,\n",
       "            0.95123,      0.9516,     0.95198,     0.95236,     0.95273,     0.95311,     0.95349,     0.95386,     0.95424,     0.95462,     0.95471,     0.95459,     0.95445,     0.95486,     0.95819,     0.95908,     0.95894,      0.9588,     0.95865,      0.9585,     0.95836,      0.9583,     0.95827,\n",
       "            0.95824,      0.9582,     0.95817,     0.95813,     0.95804,     0.95789,     0.95774,     0.95969,     0.96275,     0.96261,     0.96248,     0.96236,     0.96231,     0.96226,     0.96222,     0.96217,     0.96205,     0.96193,     0.96186,     0.96179,     0.96322,     0.96684,     0.96682,\n",
       "            0.96679,     0.96676,     0.96673,      0.9667,     0.96666,     0.96658,     0.96651,     0.96646,     0.96643,      0.9664,     0.96637,     0.96634,     0.96631,     0.96623,     0.96608,       0.966,     0.96592,     0.96559,     0.96614,     0.96757,       0.969,     0.97043,     0.97104,\n",
       "            0.97075,     0.97063,     0.97013,      0.9698,     0.96968,     0.96961,     0.96953,     0.97247,     0.97543,     0.97533,     0.97487,     0.97475,     0.97433,     0.97427,      0.9742,     0.97415,     0.97411,     0.97407,     0.97391,     0.97653,     0.97916,     0.98019,     0.97981,\n",
       "            0.97957,     0.97929,      0.9792,     0.97877,     0.97802,     0.97773,     0.97689,     0.97677,     0.97641,     0.97569,     0.97557,     0.97547,     0.97535,     0.97521,     0.97458,     0.97297,      0.9728,     0.98066,     0.98008,     0.97992,     0.97935,     0.97845,     0.97799,\n",
       "            0.97782,     0.97681,     0.97538,     0.97409,     0.97349,     0.97254,     0.97234,     0.98563,     0.98498,      0.9843,     0.98413,       0.984,     0.98305,      0.9829,     0.98212,     0.98145,     0.98072,     0.97996,     0.97968,           1,           1,           1,           1,\n",
       "                  1,           1,           1,           1,           1,           1,           1,           1,           1,           1,           1,           1,           1,           1,           1,           1,           1,           1,           1,           1,           1,           1,           1,\n",
       "                  1,           1,           1,           1,           1,           1,           1,           1,           1,           1,           1,           1,           1,           1,           1,           1,           1,           1,           1,           1,           1,           1,           1,\n",
       "                  1,           1,           1,           1,           1,           1,           1,           1,           1,           1,           1,           1,           1,           1,           1,           1,           1,           1,           1,           1,           1,           1,           1,\n",
       "                  1,           1,           1,           1,           1,           1,           1,           1,           1,           1,           1,           1,           1,           1,           1,           1,           1,           1,           1,           1,           1,           1,           1,\n",
       "                  1,           1,           1,           1,           1,           1,           1,           1,           1,           1,           1,           1,           1,           1,           1,           1,           1,           1,           1,           1,           1,           1,           1,\n",
       "                  1,           1,           1,           1,           1,           1,           1,           1,           1,           1,           1,           1,           1,           1,           1,           1,           1,           1,           1,           1,           1,           1,           1,\n",
       "                  1,           1,           1,           1,           1,           1,           1,           1,           1,           1,           1]]), 'Confidence', 'Precision'], [array([          0,    0.001001,    0.002002,    0.003003,    0.004004,    0.005005,    0.006006,    0.007007,    0.008008,    0.009009,     0.01001,    0.011011,    0.012012,    0.013013,    0.014014,    0.015015,    0.016016,    0.017017,    0.018018,    0.019019,     0.02002,    0.021021,    0.022022,    0.023023,\n",
       "          0.024024,    0.025025,    0.026026,    0.027027,    0.028028,    0.029029,     0.03003,    0.031031,    0.032032,    0.033033,    0.034034,    0.035035,    0.036036,    0.037037,    0.038038,    0.039039,     0.04004,    0.041041,    0.042042,    0.043043,    0.044044,    0.045045,    0.046046,    0.047047,\n",
       "          0.048048,    0.049049,     0.05005,    0.051051,    0.052052,    0.053053,    0.054054,    0.055055,    0.056056,    0.057057,    0.058058,    0.059059,     0.06006,    0.061061,    0.062062,    0.063063,    0.064064,    0.065065,    0.066066,    0.067067,    0.068068,    0.069069,     0.07007,    0.071071,\n",
       "          0.072072,    0.073073,    0.074074,    0.075075,    0.076076,    0.077077,    0.078078,    0.079079,     0.08008,    0.081081,    0.082082,    0.083083,    0.084084,    0.085085,    0.086086,    0.087087,    0.088088,    0.089089,     0.09009,    0.091091,    0.092092,    0.093093,    0.094094,    0.095095,\n",
       "          0.096096,    0.097097,    0.098098,    0.099099,      0.1001,      0.1011,      0.1021,      0.1031,      0.1041,     0.10511,     0.10611,     0.10711,     0.10811,     0.10911,     0.11011,     0.11111,     0.11211,     0.11311,     0.11411,     0.11512,     0.11612,     0.11712,     0.11812,     0.11912,\n",
       "           0.12012,     0.12112,     0.12212,     0.12312,     0.12412,     0.12513,     0.12613,     0.12713,     0.12813,     0.12913,     0.13013,     0.13113,     0.13213,     0.13313,     0.13413,     0.13514,     0.13614,     0.13714,     0.13814,     0.13914,     0.14014,     0.14114,     0.14214,     0.14314,\n",
       "           0.14414,     0.14515,     0.14615,     0.14715,     0.14815,     0.14915,     0.15015,     0.15115,     0.15215,     0.15315,     0.15415,     0.15516,     0.15616,     0.15716,     0.15816,     0.15916,     0.16016,     0.16116,     0.16216,     0.16316,     0.16416,     0.16517,     0.16617,     0.16717,\n",
       "           0.16817,     0.16917,     0.17017,     0.17117,     0.17217,     0.17317,     0.17417,     0.17518,     0.17618,     0.17718,     0.17818,     0.17918,     0.18018,     0.18118,     0.18218,     0.18318,     0.18418,     0.18519,     0.18619,     0.18719,     0.18819,     0.18919,     0.19019,     0.19119,\n",
       "           0.19219,     0.19319,     0.19419,      0.1952,      0.1962,      0.1972,      0.1982,      0.1992,      0.2002,      0.2012,      0.2022,      0.2032,      0.2042,     0.20521,     0.20621,     0.20721,     0.20821,     0.20921,     0.21021,     0.21121,     0.21221,     0.21321,     0.21421,     0.21522,\n",
       "           0.21622,     0.21722,     0.21822,     0.21922,     0.22022,     0.22122,     0.22222,     0.22322,     0.22422,     0.22523,     0.22623,     0.22723,     0.22823,     0.22923,     0.23023,     0.23123,     0.23223,     0.23323,     0.23423,     0.23524,     0.23624,     0.23724,     0.23824,     0.23924,\n",
       "           0.24024,     0.24124,     0.24224,     0.24324,     0.24424,     0.24525,     0.24625,     0.24725,     0.24825,     0.24925,     0.25025,     0.25125,     0.25225,     0.25325,     0.25425,     0.25526,     0.25626,     0.25726,     0.25826,     0.25926,     0.26026,     0.26126,     0.26226,     0.26326,\n",
       "           0.26426,     0.26527,     0.26627,     0.26727,     0.26827,     0.26927,     0.27027,     0.27127,     0.27227,     0.27327,     0.27427,     0.27528,     0.27628,     0.27728,     0.27828,     0.27928,     0.28028,     0.28128,     0.28228,     0.28328,     0.28428,     0.28529,     0.28629,     0.28729,\n",
       "           0.28829,     0.28929,     0.29029,     0.29129,     0.29229,     0.29329,     0.29429,      0.2953,      0.2963,      0.2973,      0.2983,      0.2993,      0.3003,      0.3013,      0.3023,      0.3033,      0.3043,     0.30531,     0.30631,     0.30731,     0.30831,     0.30931,     0.31031,     0.31131,\n",
       "           0.31231,     0.31331,     0.31431,     0.31532,     0.31632,     0.31732,     0.31832,     0.31932,     0.32032,     0.32132,     0.32232,     0.32332,     0.32432,     0.32533,     0.32633,     0.32733,     0.32833,     0.32933,     0.33033,     0.33133,     0.33233,     0.33333,     0.33433,     0.33534,\n",
       "           0.33634,     0.33734,     0.33834,     0.33934,     0.34034,     0.34134,     0.34234,     0.34334,     0.34434,     0.34535,     0.34635,     0.34735,     0.34835,     0.34935,     0.35035,     0.35135,     0.35235,     0.35335,     0.35435,     0.35536,     0.35636,     0.35736,     0.35836,     0.35936,\n",
       "           0.36036,     0.36136,     0.36236,     0.36336,     0.36436,     0.36537,     0.36637,     0.36737,     0.36837,     0.36937,     0.37037,     0.37137,     0.37237,     0.37337,     0.37437,     0.37538,     0.37638,     0.37738,     0.37838,     0.37938,     0.38038,     0.38138,     0.38238,     0.38338,\n",
       "           0.38438,     0.38539,     0.38639,     0.38739,     0.38839,     0.38939,     0.39039,     0.39139,     0.39239,     0.39339,     0.39439,      0.3954,      0.3964,      0.3974,      0.3984,      0.3994,      0.4004,      0.4014,      0.4024,      0.4034,      0.4044,     0.40541,     0.40641,     0.40741,\n",
       "           0.40841,     0.40941,     0.41041,     0.41141,     0.41241,     0.41341,     0.41441,     0.41542,     0.41642,     0.41742,     0.41842,     0.41942,     0.42042,     0.42142,     0.42242,     0.42342,     0.42442,     0.42543,     0.42643,     0.42743,     0.42843,     0.42943,     0.43043,     0.43143,\n",
       "           0.43243,     0.43343,     0.43443,     0.43544,     0.43644,     0.43744,     0.43844,     0.43944,     0.44044,     0.44144,     0.44244,     0.44344,     0.44444,     0.44545,     0.44645,     0.44745,     0.44845,     0.44945,     0.45045,     0.45145,     0.45245,     0.45345,     0.45445,     0.45546,\n",
       "           0.45646,     0.45746,     0.45846,     0.45946,     0.46046,     0.46146,     0.46246,     0.46346,     0.46446,     0.46547,     0.46647,     0.46747,     0.46847,     0.46947,     0.47047,     0.47147,     0.47247,     0.47347,     0.47447,     0.47548,     0.47648,     0.47748,     0.47848,     0.47948,\n",
       "           0.48048,     0.48148,     0.48248,     0.48348,     0.48448,     0.48549,     0.48649,     0.48749,     0.48849,     0.48949,     0.49049,     0.49149,     0.49249,     0.49349,     0.49449,      0.4955,      0.4965,      0.4975,      0.4985,      0.4995,      0.5005,      0.5015,      0.5025,      0.5035,\n",
       "            0.5045,     0.50551,     0.50651,     0.50751,     0.50851,     0.50951,     0.51051,     0.51151,     0.51251,     0.51351,     0.51451,     0.51552,     0.51652,     0.51752,     0.51852,     0.51952,     0.52052,     0.52152,     0.52252,     0.52352,     0.52452,     0.52553,     0.52653,     0.52753,\n",
       "           0.52853,     0.52953,     0.53053,     0.53153,     0.53253,     0.53353,     0.53453,     0.53554,     0.53654,     0.53754,     0.53854,     0.53954,     0.54054,     0.54154,     0.54254,     0.54354,     0.54454,     0.54555,     0.54655,     0.54755,     0.54855,     0.54955,     0.55055,     0.55155,\n",
       "           0.55255,     0.55355,     0.55455,     0.55556,     0.55656,     0.55756,     0.55856,     0.55956,     0.56056,     0.56156,     0.56256,     0.56356,     0.56456,     0.56557,     0.56657,     0.56757,     0.56857,     0.56957,     0.57057,     0.57157,     0.57257,     0.57357,     0.57457,     0.57558,\n",
       "           0.57658,     0.57758,     0.57858,     0.57958,     0.58058,     0.58158,     0.58258,     0.58358,     0.58458,     0.58559,     0.58659,     0.58759,     0.58859,     0.58959,     0.59059,     0.59159,     0.59259,     0.59359,     0.59459,      0.5956,      0.5966,      0.5976,      0.5986,      0.5996,\n",
       "            0.6006,      0.6016,      0.6026,      0.6036,      0.6046,     0.60561,     0.60661,     0.60761,     0.60861,     0.60961,     0.61061,     0.61161,     0.61261,     0.61361,     0.61461,     0.61562,     0.61662,     0.61762,     0.61862,     0.61962,     0.62062,     0.62162,     0.62262,     0.62362,\n",
       "           0.62462,     0.62563,     0.62663,     0.62763,     0.62863,     0.62963,     0.63063,     0.63163,     0.63263,     0.63363,     0.63463,     0.63564,     0.63664,     0.63764,     0.63864,     0.63964,     0.64064,     0.64164,     0.64264,     0.64364,     0.64464,     0.64565,     0.64665,     0.64765,\n",
       "           0.64865,     0.64965,     0.65065,     0.65165,     0.65265,     0.65365,     0.65465,     0.65566,     0.65666,     0.65766,     0.65866,     0.65966,     0.66066,     0.66166,     0.66266,     0.66366,     0.66466,     0.66567,     0.66667,     0.66767,     0.66867,     0.66967,     0.67067,     0.67167,\n",
       "           0.67267,     0.67367,     0.67467,     0.67568,     0.67668,     0.67768,     0.67868,     0.67968,     0.68068,     0.68168,     0.68268,     0.68368,     0.68468,     0.68569,     0.68669,     0.68769,     0.68869,     0.68969,     0.69069,     0.69169,     0.69269,     0.69369,     0.69469,      0.6957,\n",
       "            0.6967,      0.6977,      0.6987,      0.6997,      0.7007,      0.7017,      0.7027,      0.7037,      0.7047,     0.70571,     0.70671,     0.70771,     0.70871,     0.70971,     0.71071,     0.71171,     0.71271,     0.71371,     0.71471,     0.71572,     0.71672,     0.71772,     0.71872,     0.71972,\n",
       "           0.72072,     0.72172,     0.72272,     0.72372,     0.72472,     0.72573,     0.72673,     0.72773,     0.72873,     0.72973,     0.73073,     0.73173,     0.73273,     0.73373,     0.73473,     0.73574,     0.73674,     0.73774,     0.73874,     0.73974,     0.74074,     0.74174,     0.74274,     0.74374,\n",
       "           0.74474,     0.74575,     0.74675,     0.74775,     0.74875,     0.74975,     0.75075,     0.75175,     0.75275,     0.75375,     0.75475,     0.75576,     0.75676,     0.75776,     0.75876,     0.75976,     0.76076,     0.76176,     0.76276,     0.76376,     0.76476,     0.76577,     0.76677,     0.76777,\n",
       "           0.76877,     0.76977,     0.77077,     0.77177,     0.77277,     0.77377,     0.77477,     0.77578,     0.77678,     0.77778,     0.77878,     0.77978,     0.78078,     0.78178,     0.78278,     0.78378,     0.78478,     0.78579,     0.78679,     0.78779,     0.78879,     0.78979,     0.79079,     0.79179,\n",
       "           0.79279,     0.79379,     0.79479,      0.7958,      0.7968,      0.7978,      0.7988,      0.7998,      0.8008,      0.8018,      0.8028,      0.8038,      0.8048,     0.80581,     0.80681,     0.80781,     0.80881,     0.80981,     0.81081,     0.81181,     0.81281,     0.81381,     0.81481,     0.81582,\n",
       "           0.81682,     0.81782,     0.81882,     0.81982,     0.82082,     0.82182,     0.82282,     0.82382,     0.82482,     0.82583,     0.82683,     0.82783,     0.82883,     0.82983,     0.83083,     0.83183,     0.83283,     0.83383,     0.83483,     0.83584,     0.83684,     0.83784,     0.83884,     0.83984,\n",
       "           0.84084,     0.84184,     0.84284,     0.84384,     0.84484,     0.84585,     0.84685,     0.84785,     0.84885,     0.84985,     0.85085,     0.85185,     0.85285,     0.85385,     0.85485,     0.85586,     0.85686,     0.85786,     0.85886,     0.85986,     0.86086,     0.86186,     0.86286,     0.86386,\n",
       "           0.86486,     0.86587,     0.86687,     0.86787,     0.86887,     0.86987,     0.87087,     0.87187,     0.87287,     0.87387,     0.87487,     0.87588,     0.87688,     0.87788,     0.87888,     0.87988,     0.88088,     0.88188,     0.88288,     0.88388,     0.88488,     0.88589,     0.88689,     0.88789,\n",
       "           0.88889,     0.88989,     0.89089,     0.89189,     0.89289,     0.89389,     0.89489,      0.8959,      0.8969,      0.8979,      0.8989,      0.8999,      0.9009,      0.9019,      0.9029,      0.9039,      0.9049,     0.90591,     0.90691,     0.90791,     0.90891,     0.90991,     0.91091,     0.91191,\n",
       "           0.91291,     0.91391,     0.91491,     0.91592,     0.91692,     0.91792,     0.91892,     0.91992,     0.92092,     0.92192,     0.92292,     0.92392,     0.92492,     0.92593,     0.92693,     0.92793,     0.92893,     0.92993,     0.93093,     0.93193,     0.93293,     0.93393,     0.93493,     0.93594,\n",
       "           0.93694,     0.93794,     0.93894,     0.93994,     0.94094,     0.94194,     0.94294,     0.94394,     0.94494,     0.94595,     0.94695,     0.94795,     0.94895,     0.94995,     0.95095,     0.95195,     0.95295,     0.95395,     0.95495,     0.95596,     0.95696,     0.95796,     0.95896,     0.95996,\n",
       "           0.96096,     0.96196,     0.96296,     0.96396,     0.96496,     0.96597,     0.96697,     0.96797,     0.96897,     0.96997,     0.97097,     0.97197,     0.97297,     0.97397,     0.97497,     0.97598,     0.97698,     0.97798,     0.97898,     0.97998,     0.98098,     0.98198,     0.98298,     0.98398,\n",
       "           0.98498,     0.98599,     0.98699,     0.98799,     0.98899,     0.98999,     0.99099,     0.99199,     0.99299,     0.99399,     0.99499,       0.996,       0.997,       0.998,       0.999,           1]), array([[    0.98298,     0.98298,     0.98298,     0.98298,     0.97447,     0.97447,     0.97447,     0.97447,     0.97447,     0.97447,     0.97447,     0.97447,     0.97447,     0.97447,     0.97447,     0.97447,     0.97447,     0.97447,     0.97447,     0.97447,     0.97447,     0.97447,     0.97447,\n",
       "            0.97447,     0.97447,     0.97447,     0.97447,     0.97447,     0.97447,     0.97447,     0.97447,     0.97447,     0.97447,     0.97447,     0.97447,     0.97447,     0.97447,     0.97447,     0.97447,     0.97447,     0.97447,     0.97447,     0.97447,     0.97447,     0.97447,     0.97447,\n",
       "            0.97447,     0.97447,     0.97447,     0.97447,     0.97447,     0.97447,     0.97447,     0.97447,     0.97447,     0.97447,     0.97447,     0.97447,     0.97447,     0.97447,     0.97447,     0.97447,     0.97447,     0.97447,     0.97447,     0.97447,     0.97447,     0.97447,     0.97244,\n",
       "            0.97038,     0.97021,     0.97021,     0.97021,     0.97021,     0.97021,     0.97021,     0.97021,     0.97021,     0.97021,     0.97021,     0.97021,     0.97021,     0.97021,     0.97021,     0.97021,     0.97021,     0.97021,     0.97021,     0.97021,     0.97021,     0.97021,     0.97021,\n",
       "            0.97021,     0.97021,     0.97021,     0.97021,     0.97021,     0.97021,     0.97021,     0.96621,     0.96596,     0.96596,     0.96596,     0.96596,     0.96596,     0.96596,     0.96596,     0.96596,     0.96596,     0.96596,     0.96596,     0.96596,     0.96596,      0.9617,      0.9617,\n",
       "             0.9617,      0.9617,      0.9617,      0.9617,      0.9617,      0.9617,      0.9617,      0.9617,      0.9617,      0.9617,      0.9617,      0.9617,      0.9617,      0.9617,      0.9617,      0.9617,      0.9617,      0.9617,      0.9617,      0.9617,      0.9617,      0.9617,      0.9617,\n",
       "             0.9617,      0.9617,      0.9617,      0.9617,      0.9617,      0.9617,      0.9617,      0.9617,      0.9617,      0.9617,      0.9617,      0.9617,      0.9617,      0.9617,      0.9617,      0.9617,      0.9617,      0.9617,      0.9617,     0.96107,     0.95991,     0.95875,     0.95758,\n",
       "            0.95403,     0.95319,     0.95319,     0.95319,     0.95319,     0.95319,     0.95319,     0.95319,     0.95319,     0.95319,     0.95319,     0.95318,     0.95288,     0.95258,     0.95229,     0.95199,      0.9517,      0.9514,     0.95111,     0.95081,     0.95051,     0.95022,     0.94992,\n",
       "            0.94963,     0.94933,     0.94904,     0.94894,     0.94894,     0.94894,     0.94894,     0.94894,     0.94894,     0.94894,     0.94785,     0.94552,     0.94468,     0.94468,     0.94468,     0.94468,     0.94468,     0.94468,     0.94468,     0.94468,     0.94468,     0.94468,     0.94468,\n",
       "            0.94468,     0.94468,     0.94468,     0.94468,     0.94468,     0.94468,     0.94468,     0.94468,     0.94468,     0.94468,     0.94468,     0.94468,     0.94468,     0.94468,     0.94468,     0.94468,     0.94468,     0.94468,     0.94468,     0.94468,     0.94468,      0.9443,     0.94384,\n",
       "            0.94337,     0.94291,     0.94244,     0.94198,     0.94151,     0.94105,     0.94058,     0.94043,     0.94043,     0.94043,     0.94043,     0.94043,     0.94043,     0.94043,     0.94043,     0.94043,     0.94043,     0.94043,     0.94043,     0.94043,     0.94042,     0.93989,     0.93936,\n",
       "            0.93884,     0.93831,     0.93778,     0.93725,     0.93672,     0.93619,     0.93617,     0.93617,     0.93617,     0.93617,     0.93617,     0.93617,     0.93617,     0.93617,     0.93617,     0.93617,     0.93617,     0.93617,     0.93617,     0.93617,     0.93617,     0.93617,     0.93617,\n",
       "            0.93617,     0.93617,     0.93617,     0.93617,     0.93617,     0.93617,     0.93617,     0.93617,     0.93617,     0.93617,     0.93617,     0.93617,     0.93617,     0.93617,     0.93617,     0.93617,     0.93617,     0.93617,     0.93191,     0.93191,     0.93191,     0.93191,     0.93191,\n",
       "            0.93191,     0.93191,     0.93191,     0.93191,     0.93191,     0.93191,     0.93191,     0.93191,     0.93191,     0.93191,     0.93191,     0.93191,     0.93191,     0.93191,     0.92766,     0.92766,     0.92766,     0.92766,     0.92766,     0.92766,     0.92766,     0.92766,     0.92766,\n",
       "            0.92766,     0.92766,     0.92766,     0.92766,     0.92766,     0.92766,     0.92766,     0.92766,     0.92766,     0.92766,     0.92766,     0.92766,     0.92766,     0.92766,     0.92766,     0.92766,     0.92766,     0.92766,     0.92766,     0.92766,     0.92766,     0.92766,     0.92766,\n",
       "            0.92766,     0.92766,     0.92766,     0.92766,     0.92766,     0.92766,     0.92766,     0.92766,     0.92766,     0.92732,     0.92635,     0.92538,     0.92441,     0.92344,      0.9234,      0.9234,      0.9234,      0.9234,      0.9234,      0.9234,      0.9234,     0.92313,     0.92271,\n",
       "            0.92228,     0.92185,     0.92143,       0.921,     0.92058,     0.92015,     0.91973,      0.9193,     0.91892,     0.91856,     0.91821,     0.91785,      0.9175,     0.91714,     0.91678,     0.91643,     0.91607,     0.91572,     0.91536,       0.915,     0.91489,     0.91489,     0.91489,\n",
       "            0.91489,     0.91489,     0.91489,     0.91489,     0.91489,     0.91489,     0.91489,     0.91489,     0.91463,     0.91406,      0.9135,     0.91294,     0.91238,     0.91181,     0.91125,     0.91069,      0.9098,     0.90888,     0.90796,     0.90705,     0.90638,     0.90638,     0.90622,\n",
       "            0.90572,     0.90522,     0.90472,     0.90423,     0.90373,     0.90323,     0.90273,     0.90223,     0.90213,     0.90213,     0.90213,     0.90213,     0.90213,     0.90213,     0.90213,     0.90213,     0.90213,     0.90213,     0.90213,     0.90213,     0.90213,     0.90213,     0.90213,\n",
       "            0.90213,     0.90213,     0.90213,     0.90213,     0.90213,     0.90213,     0.90213,     0.90213,     0.90213,     0.90213,     0.90213,     0.90213,     0.90186,     0.90158,     0.90131,     0.90103,     0.90075,     0.90048,      0.9002,     0.89992,     0.89965,     0.89937,     0.89909,\n",
       "            0.89881,     0.89854,     0.89826,     0.89798,     0.89787,     0.89787,     0.89787,     0.89787,     0.89787,     0.89787,     0.89787,     0.89787,     0.89787,     0.89787,     0.89787,     0.89787,     0.89787,     0.89787,     0.89787,     0.89787,     0.89787,     0.89787,     0.89787,\n",
       "            0.89787,     0.89787,     0.89787,     0.89787,     0.89787,     0.89787,     0.89787,     0.89787,     0.89787,     0.89787,     0.89787,     0.89787,     0.89787,     0.89787,     0.89787,     0.89787,     0.89787,     0.89787,     0.89787,     0.89787,     0.89787,     0.89787,     0.89787,\n",
       "            0.89787,     0.89787,     0.89787,     0.89787,     0.89787,     0.89787,     0.89787,     0.89787,     0.89787,     0.89787,     0.89787,     0.89787,     0.89787,     0.89787,     0.89787,     0.89787,     0.89787,     0.89787,     0.89787,     0.89787,      0.8977,     0.89661,     0.89552,\n",
       "            0.89443,     0.89362,     0.89362,     0.89362,     0.89362,     0.89362,     0.89362,     0.89362,     0.89315,     0.89206,     0.89097,     0.88988,     0.88922,     0.88896,     0.88869,     0.88843,     0.88817,      0.8879,     0.88764,     0.88737,     0.88711,     0.88684,     0.88658,\n",
       "            0.88631,     0.88605,     0.88579,     0.88552,     0.88526,     0.88511,     0.88489,      0.8844,     0.88392,     0.88343,     0.88295,     0.88246,     0.88198,     0.88149,     0.88101,     0.87792,      0.8766,      0.8766,      0.8766,      0.8766,      0.8766,      0.8766,      0.8766,\n",
       "             0.8766,      0.8766,      0.8766,      0.8766,      0.8766,      0.8766,      0.8766,      0.8766,      0.8766,      0.8766,      0.8766,      0.8766,      0.8766,      0.8766,      0.8766,      0.8766,      0.8766,      0.8766,      0.8766,      0.8766,      0.8766,      0.8766,     0.87636,\n",
       "            0.87582,     0.87527,     0.87473,     0.87418,     0.87364,     0.87309,     0.87255,     0.87234,     0.87234,     0.86798,     0.86744,     0.86689,     0.86635,      0.8658,     0.86526,     0.86471,     0.86417,     0.85957,     0.85957,     0.85957,     0.85957,     0.85957,     0.85957,\n",
       "            0.85957,     0.85957,     0.85957,     0.85957,     0.85957,     0.85957,     0.85957,     0.85957,     0.85497,     0.85448,       0.854,     0.85351,     0.85303,     0.85255,     0.85206,     0.85158,     0.85109,     0.85106,     0.85106,       0.851,     0.84677,      0.8458,     0.84483,\n",
       "            0.84386,     0.84289,     0.84218,     0.84159,     0.84101,     0.84043,     0.83985,     0.83927,     0.83869,     0.83788,     0.83664,     0.83539,     0.83414,     0.83404,     0.83404,     0.83404,     0.83404,     0.83404,     0.83404,     0.83404,     0.83404,     0.83404,     0.83404,\n",
       "            0.83257,     0.83039,     0.82768,     0.82545,     0.82514,     0.82483,     0.82452,      0.8242,     0.82389,     0.82358,     0.82327,     0.82296,     0.82265,     0.82234,     0.82202,     0.82171,      0.8214,     0.82103,     0.82061,      0.8202,     0.81978,     0.81936,     0.81895,\n",
       "            0.81853,     0.81812,      0.8177,     0.81729,     0.81671,     0.81584,     0.81496,     0.81409,     0.81322,     0.81252,     0.81201,     0.81149,     0.81098,     0.81047,     0.80995,     0.80944,     0.80893,     0.80851,     0.80851,     0.80851,     0.80851,     0.80851,     0.80851,\n",
       "            0.80851,     0.80851,     0.80851,     0.80851,     0.80851,     0.80851,     0.80851,     0.80851,     0.80851,     0.80851,     0.80725,     0.80507,     0.80243,         0.8,         0.8,     0.79796,     0.79505,     0.79215,     0.78924,     0.78633,     0.78342,     0.78241,     0.78174,\n",
       "            0.78107,      0.7804,     0.77973,     0.77905,     0.77725,     0.77434,     0.77144,     0.77021,     0.76988,     0.76697,     0.76406,     0.76152,     0.76055,     0.75958,     0.75861,     0.75764,     0.75512,      0.7527,     0.75125,      0.7498,     0.74894,     0.74894,     0.74399,\n",
       "            0.74327,     0.74254,     0.74181,     0.74109,     0.74027,     0.73852,     0.73678,     0.73573,     0.73506,     0.73439,     0.73372,     0.73305,     0.73238,     0.73056,     0.72707,     0.72533,     0.72358,     0.71654,     0.71489,     0.71489,     0.71489,     0.71489,     0.71335,\n",
       "            0.70619,     0.70328,     0.69098,     0.68328,     0.68056,     0.67882,     0.67707,      0.6766,     0.67583,     0.67292,     0.66034,     0.65718,     0.64618,     0.64443,     0.64269,     0.64155,     0.64046,     0.63937,     0.63404,     0.63404,     0.63404,     0.63151,     0.61952,\n",
       "            0.61215,     0.60377,     0.60086,     0.58842,      0.5681,     0.56055,     0.53959,     0.53668,     0.52832,     0.51242,      0.5098,     0.50762,     0.50512,     0.50221,     0.48938,     0.45952,     0.45661,     0.43161,     0.41874,     0.41526,     0.40364,     0.38651,     0.37817,\n",
       "            0.37526,     0.35853,     0.33715,     0.32002,     0.31257,     0.30139,     0.29921,     0.29193,     0.27906,     0.26682,     0.26391,     0.26171,     0.24676,     0.24458,     0.23374,     0.22512,     0.21651,      0.2081,     0.20519,     0.20129,     0.19268,     0.18831,     0.18134,\n",
       "            0.17916,     0.16672,     0.15565,     0.15347,     0.14938,     0.12799,     0.12139,     0.11921,     0.11065,      0.1089,     0.10715,      0.1059,     0.10502,     0.10415,     0.10328,     0.10241,     0.10015,    0.096929,    0.088837,    0.086656,    0.084746,    0.083499,    0.082253,\n",
       "           0.081007,    0.075069,    0.073324,    0.070439,    0.064068,    0.058362,    0.057116,     0.05587,    0.048629,    0.044268,    0.042072,    0.041279,    0.040486,    0.039693,      0.0389,    0.036194,    0.030756,    0.024689,    0.021781,    0.020852,    0.020339,    0.019826,    0.019313,\n",
       "             0.0188,    0.018287,    0.017773,     0.01726,    0.016762,    0.016278,    0.015793,    0.015308,    0.014824,    0.014339,    0.013855,     0.01337,    0.012885,    0.010574,   0.0084654,   0.0083096,   0.0081538,    0.007998,   0.0078423,   0.0076865,   0.0075307,   0.0073749,   0.0072191,\n",
       "          0.0070634,   0.0069076,   0.0067518,    0.006596,   0.0064403,   0.0062845,   0.0061287,   0.0059729,   0.0058171,   0.0056614,   0.0055056,   0.0053498,    0.005194,   0.0050382,   0.0048825,   0.0047267,   0.0045709,   0.0044151,   0.0042594,           0,           0,           0,           0,\n",
       "                  0,           0,           0,           0,           0,           0,           0,           0,           0,           0,           0,           0,           0,           0,           0,           0,           0,           0,           0,           0,           0,           0,           0,\n",
       "                  0,           0,           0,           0,           0,           0,           0,           0,           0,           0,           0,           0,           0,           0,           0,           0,           0,           0,           0,           0,           0,           0,           0,\n",
       "                  0,           0,           0,           0,           0,           0,           0,           0,           0,           0,           0]]), 'Confidence', 'Recall']]\n",
       "fitness: np.float64(0.7135702121045124)\n",
       "keys: ['metrics/precision(B)', 'metrics/recall(B)', 'metrics/mAP50(B)', 'metrics/mAP50-95(B)']\n",
       "maps: array([    0.68775])\n",
       "names: {0: 'placa'}\n",
       "plot: True\n",
       "results_dict: {'metrics/precision(B)': np.float64(0.8973876484606099), 'metrics/recall(B)': np.float64(0.8931505974059165), 'metrics/mAP50(B)': np.float64(0.9459348095571163), 'metrics/mAP50-95(B)': np.float64(0.6877519234986675), 'fitness': np.float64(0.7135702121045124)}\n",
       "save_dir: WindowsPath('runs/detect/yolo_car_detector2')\n",
       "speed: {'preprocess': 0.20983203012292506, 'inference': 2.461412500451843, 'loss': 0.00031328181648859754, 'postprocess': 1.4763117187612806}\n",
       "task: 'detect'"
      ]
     },
     "execution_count": 6,
     "metadata": {},
     "output_type": "execute_result"
    }
   ],
   "execution_count": 6
  },
  {
   "metadata": {
    "ExecuteTime": {
     "end_time": "2025-04-08T03:23:13.589597Z",
     "start_time": "2025-04-08T03:23:13.537595Z"
    }
   },
   "cell_type": "code",
   "source": "model = YOLO(\"runs/detect//yolo_car_detector2/weights/best.pt\")\n",
   "id": "f51f2ce0e5bed50",
   "outputs": [],
   "execution_count": 4
  },
  {
   "metadata": {
    "ExecuteTime": {
     "end_time": "2025-04-08T03:23:54.544848Z",
     "start_time": "2025-04-08T03:23:15.347962Z"
    }
   },
   "cell_type": "code",
   "source": [
    "model.val()\n",
    "results = model(r\"D:\\programacion\\proyectos\\utec\\IA\\modulo_2_redes_convolucionales_y_generativas\\yolo_ultralytics\\peru_plate_numbers_detection_v2\\dataset\\valid\\images\\20231009_194712_jpg.rf.b2160651d32351fecff493910362ce0d.jpg\")\n",
    "results[0].show()"
   ],
   "id": "fcbac4067fad0d6a",
   "outputs": [
    {
     "name": "stdout",
     "output_type": "stream",
     "text": [
      "Ultralytics 8.3.102  Python-3.13.1 torch-2.6.0+cu126 CUDA:0 (NVIDIA GeForce RTX 2070 SUPER, 8192MiB)\n",
      "YOLO11n summary (fused): 100 layers, 2,582,347 parameters, 0 gradients, 6.3 GFLOPs\n"
     ]
    },
    {
     "name": "stderr",
     "output_type": "stream",
     "text": [
      "\u001B[34m\u001B[1mval: \u001B[0mScanning D:\\programacion\\proyectos\\utec\\IA\\modulo_2_redes_convolucionales_y_generativas\\yolo_ultralytics\\peru_plate_numbers_detection_v2\\dataset\\valid\\labels.cache... 128 images, 0 backgrounds, 0 corrupt: 100%|██████████| 128/128 [00:00<?, ?it/s]"
     ]
    },
    {
     "name": "stdout",
     "output_type": "stream",
     "text": [
      "WARNING  Box and segment counts should be equal, but got len(segments) = 217, len(boxes) = 235. To resolve this only boxes will be used and all segments will be removed. To avoid this please supply either a detect or segment dataset, not a detect-segment mixed dataset.\n"
     ]
    },
    {
     "name": "stderr",
     "output_type": "stream",
     "text": [
      "\n",
      "                 Class     Images  Instances      Box(P          R      mAP50  mAP50-95): 100%|██████████| 8/8 [00:02<00:00,  3.48it/s]\n"
     ]
    },
    {
     "name": "stdout",
     "output_type": "stream",
     "text": [
      "                   all        128        235      0.897      0.894      0.945      0.691\n",
      "Speed: 1.7ms preprocess, 3.3ms inference, 0.0ms loss, 3.0ms postprocess per image\n",
      "Results saved to \u001B[1mruns\\detect\\val\u001B[0m\n",
      "\n",
      "image 1/1 D:\\programacion\\proyectos\\utec\\IA\\modulo_2_redes_convolucionales_y_generativas\\yolo_ultralytics\\peru_plate_numbers_detection_v2\\dataset\\valid\\images\\20231009_194712_jpg.rf.b2160651d32351fecff493910362ce0d.jpg: 640x640 1 placa, 15.8ms\n",
      "Speed: 7.8ms preprocess, 15.8ms inference, 1.8ms postprocess per image at shape (1, 3, 640, 640)\n"
     ]
    }
   ],
   "execution_count": 5
  },
  {
   "metadata": {
    "ExecuteTime": {
     "end_time": "2025-04-08T03:27:16.723325Z",
     "start_time": "2025-04-08T03:26:39.404715Z"
    }
   },
   "cell_type": "code",
   "source": [
    "model.val()\n",
    "results = model(r\"D:\\programacion\\proyectos\\utec\\IA\\modulo_2_redes_convolucionales_y_generativas\\yolo_ultralytics\\peru_plate_numbers_detection\\assets\\testing.jpg\")\n",
    "results[0].show()"
   ],
   "id": "f1d102adc7d3dbdc",
   "outputs": [
    {
     "name": "stdout",
     "output_type": "stream",
     "text": [
      "Ultralytics 8.3.102  Python-3.13.1 torch-2.6.0+cu126 CUDA:0 (NVIDIA GeForce RTX 2070 SUPER, 8192MiB)\n"
     ]
    },
    {
     "name": "stderr",
     "output_type": "stream",
     "text": [
      "\u001B[34m\u001B[1mval: \u001B[0mScanning D:\\programacion\\proyectos\\utec\\IA\\modulo_2_redes_convolucionales_y_generativas\\yolo_ultralytics\\peru_plate_numbers_detection_v2\\dataset\\valid\\labels.cache... 128 images, 0 backgrounds, 0 corrupt: 100%|██████████| 128/128 [00:00<?, ?it/s]"
     ]
    },
    {
     "name": "stdout",
     "output_type": "stream",
     "text": [
      "WARNING  Box and segment counts should be equal, but got len(segments) = 217, len(boxes) = 235. To resolve this only boxes will be used and all segments will be removed. To avoid this please supply either a detect or segment dataset, not a detect-segment mixed dataset.\n"
     ]
    },
    {
     "name": "stderr",
     "output_type": "stream",
     "text": [
      "\n",
      "                 Class     Images  Instances      Box(P          R      mAP50  mAP50-95): 100%|██████████| 8/8 [00:02<00:00,  3.48it/s]\n"
     ]
    },
    {
     "name": "stdout",
     "output_type": "stream",
     "text": [
      "                   all        128        235      0.897      0.894      0.945      0.691\n",
      "Speed: 1.7ms preprocess, 3.3ms inference, 0.0ms loss, 2.3ms postprocess per image\n",
      "Results saved to \u001B[1mruns\\detect\\val2\u001B[0m\n",
      "\n",
      "image 1/1 D:\\programacion\\proyectos\\utec\\IA\\modulo_2_redes_convolucionales_y_generativas\\yolo_ultralytics\\peru_plate_numbers_detection\\assets\\testing.jpg: 480x640 1 placa, 56.7ms\n",
      "Speed: 5.4ms preprocess, 56.7ms inference, 4.4ms postprocess per image at shape (1, 3, 480, 640)\n"
     ]
    }
   ],
   "execution_count": 6
  }
 ],
 "metadata": {
  "kernelspec": {
   "display_name": "Python 3",
   "language": "python",
   "name": "python3"
  },
  "language_info": {
   "codemirror_mode": {
    "name": "ipython",
    "version": 2
   },
   "file_extension": ".py",
   "mimetype": "text/x-python",
   "name": "python",
   "nbconvert_exporter": "python",
   "pygments_lexer": "ipython2",
   "version": "2.7.6"
  }
 },
 "nbformat": 4,
 "nbformat_minor": 5
}
