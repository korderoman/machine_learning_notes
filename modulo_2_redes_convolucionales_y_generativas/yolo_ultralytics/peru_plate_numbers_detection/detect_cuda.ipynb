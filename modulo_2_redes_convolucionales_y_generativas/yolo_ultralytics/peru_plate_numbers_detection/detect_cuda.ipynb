{
 "cells": [
  {
   "metadata": {},
   "cell_type": "markdown",
   "source": "# VERIFICACIÓN DE CUDA",
   "id": "b24ddfbe61efff6d"
  },
  {
   "cell_type": "code",
   "id": "initial_id",
   "metadata": {
    "collapsed": true,
    "ExecuteTime": {
     "end_time": "2025-04-06T23:56:52.067378Z",
     "start_time": "2025-04-06T23:56:48.433268Z"
    }
   },
   "source": [
    "import torch\n",
    "import torchvision\n",
    "\n",
    "print(\"PyTorch version:\", torch.__version__)\n",
    "print(\"CUDA available:\", torch.cuda.is_available())\n",
    "print(\"CUDA version:\", torch.version.cuda)\n",
    "print(\"torchvision version:\", torchvision.__version__)"
   ],
   "outputs": [
    {
     "name": "stdout",
     "output_type": "stream",
     "text": [
      "PyTorch version: 2.6.0+cu126\n",
      "CUDA available: True\n",
      "CUDA version: 12.6\n",
      "torchvision version: 0.21.0+cu126\n"
     ]
    }
   ],
   "execution_count": 1
  },
  {
   "metadata": {},
   "cell_type": "markdown",
   "source": "# Verificamos la integración con YOLO",
   "id": "7a97bad5322d1357"
  },
  {
   "metadata": {
    "ExecuteTime": {
     "end_time": "2025-04-06T23:58:15.257991Z",
     "start_time": "2025-04-06T23:58:15.045609Z"
    }
   },
   "cell_type": "code",
   "source": [
    "from torchvision.ops import nms\n",
    "\n",
    "boxes = torch.tensor([[10,10,20,20],[12,12,22,22]], dtype=torch.float).cuda()\n",
    "scores = torch.tensor([0.9, 0.8], dtype=torch.float).cuda()\n",
    "keep = nms(boxes, scores, 0.5)\n",
    "print(keep)"
   ],
   "id": "1fe325ef5d4a7462",
   "outputs": [
    {
     "name": "stdout",
     "output_type": "stream",
     "text": [
      "tensor([0, 1], device='cuda:0')\n"
     ]
    }
   ],
   "execution_count": 2
  }
 ],
 "metadata": {
  "kernelspec": {
   "display_name": "Python 3",
   "language": "python",
   "name": "python3"
  },
  "language_info": {
   "codemirror_mode": {
    "name": "ipython",
    "version": 2
   },
   "file_extension": ".py",
   "mimetype": "text/x-python",
   "name": "python",
   "nbconvert_exporter": "python",
   "pygments_lexer": "ipython2",
   "version": "2.7.6"
  }
 },
 "nbformat": 4,
 "nbformat_minor": 5
}
