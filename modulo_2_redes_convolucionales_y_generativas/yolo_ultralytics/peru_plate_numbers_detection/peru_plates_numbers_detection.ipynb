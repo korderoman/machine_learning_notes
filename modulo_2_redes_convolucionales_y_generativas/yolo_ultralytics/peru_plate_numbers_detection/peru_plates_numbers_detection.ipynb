{
 "cells": [
  {
   "metadata": {},
   "cell_type": "markdown",
   "source": [
    "# REFERENCIAS\n",
    "- **[dataset](https://universe.roboflow.com/grupo-6-placas/peru-plate-numbers/dataset/3)**"
   ],
   "id": "12964c05019658ab"
  },
  {
   "metadata": {},
   "cell_type": "markdown",
   "source": [
    "# TAREAS DE COMPATIBILIDAD CON CUDA\n",
    "- **[Archivo de referencia (detect_cuda)](peru_plate_numbers_detection/detect_cuda.ipynb)**\n",
    "- **Verificamos cuda**\n",
    "- **Verificamos la integración con YOLO**"
   ],
   "id": "40c49c08700511be"
  },
  {
   "metadata": {},
   "cell_type": "markdown",
   "source": "# IMPORTAMOS LAS LIBRERIAS",
   "id": "31971c3e313c1508"
  },
  {
   "metadata": {
    "ExecuteTime": {
     "end_time": "2025-04-07T02:30:52.717617Z",
     "start_time": "2025-04-07T02:30:49.675763Z"
    }
   },
   "cell_type": "code",
   "source": " from ultralytics import YOLO",
   "id": "a7f603623a49f3b6",
   "outputs": [],
   "execution_count": 1
  },
  {
   "metadata": {},
   "cell_type": "markdown",
   "source": "# CARGAMOS EL MODELO",
   "id": "aca0e9db9e74764f"
  },
  {
   "cell_type": "code",
   "id": "initial_id",
   "metadata": {
    "collapsed": true,
    "ExecuteTime": {
     "end_time": "2025-04-07T02:30:54.314907Z",
     "start_time": "2025-04-07T02:30:54.265921Z"
    }
   },
   "source": "model=YOLO('yolo11n.pt')\n",
   "outputs": [],
   "execution_count": 2
  },
  {
   "metadata": {},
   "cell_type": "markdown",
   "source": [
    "# VERIFICAMOS CUDA\n",
    "# Verificamos integración con YOLO"
   ],
   "id": "26fc489ba9ce030"
  },
  {
   "metadata": {},
   "cell_type": "markdown",
   "source": "# OBTENEMOS LA RUTA",
   "id": "1ae7b1ab8e213ef3"
  },
  {
   "metadata": {
    "ExecuteTime": {
     "end_time": "2025-04-07T02:30:56.829803Z",
     "start_time": "2025-04-07T02:30:56.827170Z"
    }
   },
   "cell_type": "code",
   "source": [
    "import os\n",
    "\n",
    "# Obtener el directorio raíz del proyecto\n",
    "root_dir = os.getcwd()\n",
    "\n",
    "# Construir la ruta al archivo YAML\n",
    "data_path = os.path.join(root_dir, \"dataset\", \"data.yaml\")\n",
    "print(\"Ruta al archivo YAML:\", data_path)"
   ],
   "id": "d9bae6f3c3165874",
   "outputs": [
    {
     "name": "stdout",
     "output_type": "stream",
     "text": [
      "Ruta al archivo YAML: D:\\programacion\\proyectos\\utec\\IA\\modulo_2_redes_convolucionales_y_generativas\\yolo_ultralytics\\peru_plate_numbers_detection\\dataset\\data.yaml\n"
     ]
    }
   ],
   "execution_count": 3
  },
  {
   "metadata": {},
   "cell_type": "markdown",
   "source": "#",
   "id": "81916b99ceba1f0"
  },
  {
   "metadata": {
    "ExecuteTime": {
     "end_time": "2025-04-07T02:56:33.989220Z",
     "start_time": "2025-04-07T02:32:39.087718Z"
    }
   },
   "cell_type": "code",
   "source": [
    "# 2. Entrenar el modelo con tu dataset en formato COCO\n",
    "model.train(\n",
    "    data=data_path,  # Ruta al archivo YAML\n",
    "    epochs=50,                 # Número de épocas\n",
    "    imgsz=640,                 # Tamaño de las imágenes de entrada\n",
    "    batch=16,                  # Tamaño de batch (ajusta según tu GPU)\n",
    "    device=0,                  # 0 para usar GPU (CUDA); 'cpu' para forzar CPU\n",
    "    name=\"yolo_car_detector\"   # Nombre de la carpeta de resultados\n",
    ")"
   ],
   "id": "cd1ac9c453ec9b8c",
   "outputs": [
    {
     "name": "stdout",
     "output_type": "stream",
     "text": [
      "New https://pypi.org/project/ultralytics/8.3.103 available  Update with 'pip install -U ultralytics'\n",
      "Ultralytics 8.3.102  Python-3.13.1 torch-2.6.0+cu126 CUDA:0 (NVIDIA GeForce RTX 2070 SUPER, 8192MiB)\n",
      "\u001B[34m\u001B[1mengine\\trainer: \u001B[0mtask=detect, mode=train, model=yolo11n.pt, data=D:\\programacion\\proyectos\\utec\\IA\\modulo_2_redes_convolucionales_y_generativas\\yolo_ultralytics\\peru_plate_numbers_detection\\dataset\\data.yaml, epochs=50, time=None, patience=100, batch=16, imgsz=640, save=True, save_period=-1, cache=False, device=0, workers=8, project=None, name=yolo_car_detector2, exist_ok=False, pretrained=True, optimizer=auto, verbose=True, seed=0, deterministic=True, single_cls=False, rect=False, cos_lr=False, close_mosaic=10, resume=False, amp=True, fraction=1.0, profile=False, freeze=None, multi_scale=False, overlap_mask=True, mask_ratio=4, dropout=0.0, val=True, split=val, save_json=False, save_hybrid=False, conf=None, iou=0.7, max_det=300, half=False, dnn=False, plots=True, source=None, vid_stride=1, stream_buffer=False, visualize=False, augment=False, agnostic_nms=False, classes=None, retina_masks=False, embed=None, show=False, save_frames=False, save_txt=False, save_conf=False, save_crop=False, show_labels=True, show_conf=True, show_boxes=True, line_width=None, format=torchscript, keras=False, optimize=False, int8=False, dynamic=False, simplify=True, opset=None, workspace=None, nms=False, lr0=0.01, lrf=0.01, momentum=0.937, weight_decay=0.0005, warmup_epochs=3.0, warmup_momentum=0.8, warmup_bias_lr=0.1, box=7.5, cls=0.5, dfl=1.5, pose=12.0, kobj=1.0, nbs=64, hsv_h=0.015, hsv_s=0.7, hsv_v=0.4, degrees=0.0, translate=0.1, scale=0.5, shear=0.0, perspective=0.0, flipud=0.0, fliplr=0.5, bgr=0.0, mosaic=1.0, mixup=0.0, copy_paste=0.0, copy_paste_mode=flip, auto_augment=randaugment, erasing=0.4, crop_fraction=1.0, cfg=None, tracker=botsort.yaml, save_dir=runs\\detect\\yolo_car_detector2\n",
      "Overriding model.yaml nc=80 with nc=2\n",
      "\n",
      "                   from  n    params  module                                       arguments                     \n",
      "  0                  -1  1       464  ultralytics.nn.modules.conv.Conv             [3, 16, 3, 2]                 \n",
      "  1                  -1  1      4672  ultralytics.nn.modules.conv.Conv             [16, 32, 3, 2]                \n",
      "  2                  -1  1      6640  ultralytics.nn.modules.block.C3k2            [32, 64, 1, False, 0.25]      \n",
      "  3                  -1  1     36992  ultralytics.nn.modules.conv.Conv             [64, 64, 3, 2]                \n",
      "  4                  -1  1     26080  ultralytics.nn.modules.block.C3k2            [64, 128, 1, False, 0.25]     \n",
      "  5                  -1  1    147712  ultralytics.nn.modules.conv.Conv             [128, 128, 3, 2]              \n",
      "  6                  -1  1     87040  ultralytics.nn.modules.block.C3k2            [128, 128, 1, True]           \n",
      "  7                  -1  1    295424  ultralytics.nn.modules.conv.Conv             [128, 256, 3, 2]              \n",
      "  8                  -1  1    346112  ultralytics.nn.modules.block.C3k2            [256, 256, 1, True]           \n",
      "  9                  -1  1    164608  ultralytics.nn.modules.block.SPPF            [256, 256, 5]                 \n",
      " 10                  -1  1    249728  ultralytics.nn.modules.block.C2PSA           [256, 256, 1]                 \n",
      " 11                  -1  1         0  torch.nn.modules.upsampling.Upsample         [None, 2, 'nearest']          \n",
      " 12             [-1, 6]  1         0  ultralytics.nn.modules.conv.Concat           [1]                           \n",
      " 13                  -1  1    111296  ultralytics.nn.modules.block.C3k2            [384, 128, 1, False]          \n",
      " 14                  -1  1         0  torch.nn.modules.upsampling.Upsample         [None, 2, 'nearest']          \n",
      " 15             [-1, 4]  1         0  ultralytics.nn.modules.conv.Concat           [1]                           \n",
      " 16                  -1  1     32096  ultralytics.nn.modules.block.C3k2            [256, 64, 1, False]           \n",
      " 17                  -1  1     36992  ultralytics.nn.modules.conv.Conv             [64, 64, 3, 2]                \n",
      " 18            [-1, 13]  1         0  ultralytics.nn.modules.conv.Concat           [1]                           \n",
      " 19                  -1  1     86720  ultralytics.nn.modules.block.C3k2            [192, 128, 1, False]          \n",
      " 20                  -1  1    147712  ultralytics.nn.modules.conv.Conv             [128, 128, 3, 2]              \n",
      " 21            [-1, 10]  1         0  ultralytics.nn.modules.conv.Concat           [1]                           \n",
      " 22                  -1  1    378880  ultralytics.nn.modules.block.C3k2            [384, 256, 1, True]           \n",
      " 23        [16, 19, 22]  1    431062  ultralytics.nn.modules.head.Detect           [2, [64, 128, 256]]           \n",
      "YOLO11n summary: 181 layers, 2,590,230 parameters, 2,590,214 gradients, 6.4 GFLOPs\n",
      "\n",
      "Transferred 448/499 items from pretrained weights\n",
      "Freezing layer 'model.23.dfl.conv.weight'\n",
      "\u001B[34m\u001B[1mAMP: \u001B[0mrunning Automatic Mixed Precision (AMP) checks...\n",
      "\u001B[34m\u001B[1mAMP: \u001B[0mchecks passed \n"
     ]
    },
    {
     "name": "stderr",
     "output_type": "stream",
     "text": [
      "\u001B[34m\u001B[1mtrain: \u001B[0mScanning D:\\programacion\\proyectos\\utec\\IA\\modulo_2_redes_convolucionales_y_generativas\\yolo_ultralytics\\peru_plate_numbers_detection\\dataset\\train\\labels.cache... 1134 images, 0 backgrounds, 0 corrupt: 100%|██████████| 1134/1134 [00:00<?, ?it/s]\n",
      "\u001B[34m\u001B[1mval: \u001B[0mScanning D:\\programacion\\proyectos\\utec\\IA\\modulo_2_redes_convolucionales_y_generativas\\yolo_ultralytics\\peru_plate_numbers_detection\\dataset\\valid\\labels.cache... 106 images, 0 backgrounds, 0 corrupt: 100%|██████████| 106/106 [00:00<?, ?it/s]\n"
     ]
    },
    {
     "name": "stdout",
     "output_type": "stream",
     "text": [
      "Plotting labels to runs\\detect\\yolo_car_detector2\\labels.jpg... \n",
      "\u001B[34m\u001B[1moptimizer:\u001B[0m 'optimizer=auto' found, ignoring 'lr0=0.01' and 'momentum=0.937' and determining best 'optimizer', 'lr0' and 'momentum' automatically... \n",
      "\u001B[34m\u001B[1moptimizer:\u001B[0m AdamW(lr=0.001667, momentum=0.9) with parameter groups 81 weight(decay=0.0), 88 weight(decay=0.0005), 87 bias(decay=0.0)\n",
      "Image sizes 640 train, 640 val\n",
      "Using 8 dataloader workers\n",
      "Logging results to \u001B[1mruns\\detect\\yolo_car_detector2\u001B[0m\n",
      "Starting training for 50 epochs...\n",
      "\n",
      "      Epoch    GPU_mem   box_loss   cls_loss   dfl_loss  Instances       Size\n"
     ]
    },
    {
     "name": "stderr",
     "output_type": "stream",
     "text": [
      "       1/50      2.17G      1.972       4.11      1.046         33        640: 100%|██████████| 71/71 [00:27<00:00,  2.61it/s]\n",
      "                 Class     Images  Instances      Box(P          R      mAP50  mAP50-95): 100%|██████████| 4/4 [00:02<00:00,  1.95it/s]"
     ]
    },
    {
     "name": "stdout",
     "output_type": "stream",
     "text": [
      "                   all        106        203    0.00753      0.714      0.557      0.227\n"
     ]
    },
    {
     "name": "stderr",
     "output_type": "stream",
     "text": [
      "\n"
     ]
    },
    {
     "name": "stdout",
     "output_type": "stream",
     "text": [
      "\n",
      "      Epoch    GPU_mem   box_loss   cls_loss   dfl_loss  Instances       Size\n"
     ]
    },
    {
     "name": "stderr",
     "output_type": "stream",
     "text": [
      "       2/50      2.31G       1.62      2.016     0.8885         35        640: 100%|██████████| 71/71 [00:26<00:00,  2.72it/s]\n",
      "                 Class     Images  Instances      Box(P          R      mAP50  mAP50-95): 100%|██████████| 4/4 [00:02<00:00,  1.63it/s]"
     ]
    },
    {
     "name": "stdout",
     "output_type": "stream",
     "text": [
      "                   all        106        203      0.252      0.788      0.236      0.124\n"
     ]
    },
    {
     "name": "stderr",
     "output_type": "stream",
     "text": [
      "\n"
     ]
    },
    {
     "name": "stdout",
     "output_type": "stream",
     "text": [
      "\n",
      "      Epoch    GPU_mem   box_loss   cls_loss   dfl_loss  Instances       Size\n"
     ]
    },
    {
     "name": "stderr",
     "output_type": "stream",
     "text": [
      "       3/50      2.32G      1.577       1.67     0.8884         59        640: 100%|██████████| 71/71 [00:23<00:00,  2.99it/s]\n",
      "                 Class     Images  Instances      Box(P          R      mAP50  mAP50-95): 100%|██████████| 4/4 [00:02<00:00,  1.94it/s]"
     ]
    },
    {
     "name": "stdout",
     "output_type": "stream",
     "text": [
      "                   all        106        203      0.858      0.803      0.868      0.469\n"
     ]
    },
    {
     "name": "stderr",
     "output_type": "stream",
     "text": [
      "\n"
     ]
    },
    {
     "name": "stdout",
     "output_type": "stream",
     "text": [
      "\n",
      "      Epoch    GPU_mem   box_loss   cls_loss   dfl_loss  Instances       Size\n"
     ]
    },
    {
     "name": "stderr",
     "output_type": "stream",
     "text": [
      "       4/50      2.34G       1.55       1.35     0.8826         60        640: 100%|██████████| 71/71 [00:22<00:00,  3.17it/s]\n",
      "                 Class     Images  Instances      Box(P          R      mAP50  mAP50-95): 100%|██████████| 4/4 [00:02<00:00,  1.98it/s]"
     ]
    },
    {
     "name": "stdout",
     "output_type": "stream",
     "text": [
      "                   all        106        203      0.734      0.787      0.799      0.455\n"
     ]
    },
    {
     "name": "stderr",
     "output_type": "stream",
     "text": [
      "\n"
     ]
    },
    {
     "name": "stdout",
     "output_type": "stream",
     "text": [
      "\n",
      "      Epoch    GPU_mem   box_loss   cls_loss   dfl_loss  Instances       Size\n"
     ]
    },
    {
     "name": "stderr",
     "output_type": "stream",
     "text": [
      "       5/50      2.35G      1.517      1.158     0.8808         29        640: 100%|██████████| 71/71 [00:23<00:00,  3.08it/s]\n",
      "                 Class     Images  Instances      Box(P          R      mAP50  mAP50-95): 100%|██████████| 4/4 [00:02<00:00,  1.77it/s]"
     ]
    },
    {
     "name": "stdout",
     "output_type": "stream",
     "text": [
      "                   all        106        203      0.775      0.842      0.888      0.513\n"
     ]
    },
    {
     "name": "stderr",
     "output_type": "stream",
     "text": [
      "\n"
     ]
    },
    {
     "name": "stdout",
     "output_type": "stream",
     "text": [
      "\n",
      "      Epoch    GPU_mem   box_loss   cls_loss   dfl_loss  Instances       Size\n"
     ]
    },
    {
     "name": "stderr",
     "output_type": "stream",
     "text": [
      "       6/50      2.37G      1.478      1.053     0.8669         26        640: 100%|██████████| 71/71 [00:22<00:00,  3.15it/s]\n",
      "                 Class     Images  Instances      Box(P          R      mAP50  mAP50-95): 100%|██████████| 4/4 [00:01<00:00,  2.29it/s]"
     ]
    },
    {
     "name": "stdout",
     "output_type": "stream",
     "text": [
      "                   all        106        203      0.842      0.897      0.894      0.512\n"
     ]
    },
    {
     "name": "stderr",
     "output_type": "stream",
     "text": [
      "\n"
     ]
    },
    {
     "name": "stdout",
     "output_type": "stream",
     "text": [
      "\n",
      "      Epoch    GPU_mem   box_loss   cls_loss   dfl_loss  Instances       Size\n"
     ]
    },
    {
     "name": "stderr",
     "output_type": "stream",
     "text": [
      "       7/50      2.38G      1.453     0.9958     0.8612         56        640: 100%|██████████| 71/71 [00:22<00:00,  3.15it/s]\n",
      "                 Class     Images  Instances      Box(P          R      mAP50  mAP50-95): 100%|██████████| 4/4 [00:01<00:00,  2.25it/s]"
     ]
    },
    {
     "name": "stdout",
     "output_type": "stream",
     "text": [
      "                   all        106        203      0.842      0.901      0.867      0.499\n"
     ]
    },
    {
     "name": "stderr",
     "output_type": "stream",
     "text": [
      "\n"
     ]
    },
    {
     "name": "stdout",
     "output_type": "stream",
     "text": [
      "\n",
      "      Epoch    GPU_mem   box_loss   cls_loss   dfl_loss  Instances       Size\n"
     ]
    },
    {
     "name": "stderr",
     "output_type": "stream",
     "text": [
      "       8/50      2.38G      1.431     0.9715      0.859         47        640: 100%|██████████| 71/71 [00:23<00:00,  3.02it/s]\n",
      "                 Class     Images  Instances      Box(P          R      mAP50  mAP50-95): 100%|██████████| 4/4 [00:01<00:00,  2.13it/s]"
     ]
    },
    {
     "name": "stdout",
     "output_type": "stream",
     "text": [
      "                   all        106        203      0.877      0.803      0.908      0.472\n"
     ]
    },
    {
     "name": "stderr",
     "output_type": "stream",
     "text": [
      "\n"
     ]
    },
    {
     "name": "stdout",
     "output_type": "stream",
     "text": [
      "\n",
      "      Epoch    GPU_mem   box_loss   cls_loss   dfl_loss  Instances       Size\n"
     ]
    },
    {
     "name": "stderr",
     "output_type": "stream",
     "text": [
      "       9/50      2.38G      1.421     0.9233     0.8566         37        640: 100%|██████████| 71/71 [00:24<00:00,  2.85it/s]\n",
      "                 Class     Images  Instances      Box(P          R      mAP50  mAP50-95): 100%|██████████| 4/4 [00:02<00:00,  1.69it/s]"
     ]
    },
    {
     "name": "stdout",
     "output_type": "stream",
     "text": [
      "                   all        106        203      0.829      0.909      0.867      0.513\n"
     ]
    },
    {
     "name": "stderr",
     "output_type": "stream",
     "text": [
      "\n"
     ]
    },
    {
     "name": "stdout",
     "output_type": "stream",
     "text": [
      "\n",
      "      Epoch    GPU_mem   box_loss   cls_loss   dfl_loss  Instances       Size\n"
     ]
    },
    {
     "name": "stderr",
     "output_type": "stream",
     "text": [
      "      10/50      2.38G      1.398     0.9027     0.8626         56        640: 100%|██████████| 71/71 [00:24<00:00,  2.86it/s]\n",
      "                 Class     Images  Instances      Box(P          R      mAP50  mAP50-95): 100%|██████████| 4/4 [00:02<00:00,  1.59it/s]"
     ]
    },
    {
     "name": "stdout",
     "output_type": "stream",
     "text": [
      "                   all        106        203      0.864      0.846      0.889      0.534\n"
     ]
    },
    {
     "name": "stderr",
     "output_type": "stream",
     "text": [
      "\n"
     ]
    },
    {
     "name": "stdout",
     "output_type": "stream",
     "text": [
      "\n",
      "      Epoch    GPU_mem   box_loss   cls_loss   dfl_loss  Instances       Size\n"
     ]
    },
    {
     "name": "stderr",
     "output_type": "stream",
     "text": [
      "      11/50      2.38G      1.406     0.8942     0.8584         41        640: 100%|██████████| 71/71 [00:23<00:00,  2.97it/s]\n",
      "                 Class     Images  Instances      Box(P          R      mAP50  mAP50-95): 100%|██████████| 4/4 [00:02<00:00,  1.92it/s]"
     ]
    },
    {
     "name": "stdout",
     "output_type": "stream",
     "text": [
      "                   all        106        203      0.792      0.921      0.812      0.439\n"
     ]
    },
    {
     "name": "stderr",
     "output_type": "stream",
     "text": [
      "\n"
     ]
    },
    {
     "name": "stdout",
     "output_type": "stream",
     "text": [
      "\n",
      "      Epoch    GPU_mem   box_loss   cls_loss   dfl_loss  Instances       Size\n"
     ]
    },
    {
     "name": "stderr",
     "output_type": "stream",
     "text": [
      "      12/50      2.38G      1.387     0.8692     0.8586         44        640: 100%|██████████| 71/71 [00:25<00:00,  2.78it/s]\n",
      "                 Class     Images  Instances      Box(P          R      mAP50  mAP50-95): 100%|██████████| 4/4 [00:01<00:00,  2.22it/s]"
     ]
    },
    {
     "name": "stdout",
     "output_type": "stream",
     "text": [
      "                   all        106        203      0.881      0.901      0.889      0.513\n"
     ]
    },
    {
     "name": "stderr",
     "output_type": "stream",
     "text": [
      "\n"
     ]
    },
    {
     "name": "stdout",
     "output_type": "stream",
     "text": [
      "\n",
      "      Epoch    GPU_mem   box_loss   cls_loss   dfl_loss  Instances       Size\n"
     ]
    },
    {
     "name": "stderr",
     "output_type": "stream",
     "text": [
      "      13/50      2.38G      1.349     0.8575     0.8487         48        640: 100%|██████████| 71/71 [00:27<00:00,  2.60it/s]\n",
      "                 Class     Images  Instances      Box(P          R      mAP50  mAP50-95): 100%|██████████| 4/4 [00:01<00:00,  2.12it/s]"
     ]
    },
    {
     "name": "stdout",
     "output_type": "stream",
     "text": [
      "                   all        106        203      0.823      0.916      0.861      0.529\n"
     ]
    },
    {
     "name": "stderr",
     "output_type": "stream",
     "text": [
      "\n"
     ]
    },
    {
     "name": "stdout",
     "output_type": "stream",
     "text": [
      "\n",
      "      Epoch    GPU_mem   box_loss   cls_loss   dfl_loss  Instances       Size\n"
     ]
    },
    {
     "name": "stderr",
     "output_type": "stream",
     "text": [
      "      14/50      2.38G      1.376     0.8644      0.849         42        640: 100%|██████████| 71/71 [00:26<00:00,  2.68it/s]\n",
      "                 Class     Images  Instances      Box(P          R      mAP50  mAP50-95): 100%|██████████| 4/4 [00:02<00:00,  1.96it/s]"
     ]
    },
    {
     "name": "stdout",
     "output_type": "stream",
     "text": [
      "                   all        106        203       0.87      0.887      0.872      0.532\n"
     ]
    },
    {
     "name": "stderr",
     "output_type": "stream",
     "text": [
      "\n"
     ]
    },
    {
     "name": "stdout",
     "output_type": "stream",
     "text": [
      "\n",
      "      Epoch    GPU_mem   box_loss   cls_loss   dfl_loss  Instances       Size\n"
     ]
    },
    {
     "name": "stderr",
     "output_type": "stream",
     "text": [
      "      15/50      2.38G      1.336     0.8566     0.8506         44        640: 100%|██████████| 71/71 [00:25<00:00,  2.78it/s]\n",
      "                 Class     Images  Instances      Box(P          R      mAP50  mAP50-95): 100%|██████████| 4/4 [00:02<00:00,  1.76it/s]"
     ]
    },
    {
     "name": "stdout",
     "output_type": "stream",
     "text": [
      "                   all        106        203      0.882      0.921        0.9      0.532\n"
     ]
    },
    {
     "name": "stderr",
     "output_type": "stream",
     "text": [
      "\n"
     ]
    },
    {
     "name": "stdout",
     "output_type": "stream",
     "text": [
      "\n",
      "      Epoch    GPU_mem   box_loss   cls_loss   dfl_loss  Instances       Size\n"
     ]
    },
    {
     "name": "stderr",
     "output_type": "stream",
     "text": [
      "      16/50      2.38G      1.329     0.8663     0.8416         43        640: 100%|██████████| 71/71 [00:27<00:00,  2.58it/s]\n",
      "                 Class     Images  Instances      Box(P          R      mAP50  mAP50-95): 100%|██████████| 4/4 [00:02<00:00,  1.75it/s]"
     ]
    },
    {
     "name": "stdout",
     "output_type": "stream",
     "text": [
      "                   all        106        203      0.845       0.94      0.896      0.529\n"
     ]
    },
    {
     "name": "stderr",
     "output_type": "stream",
     "text": [
      "\n"
     ]
    },
    {
     "name": "stdout",
     "output_type": "stream",
     "text": [
      "\n",
      "      Epoch    GPU_mem   box_loss   cls_loss   dfl_loss  Instances       Size\n"
     ]
    },
    {
     "name": "stderr",
     "output_type": "stream",
     "text": [
      "      17/50      2.38G      1.339     0.8475     0.8479         47        640: 100%|██████████| 71/71 [00:26<00:00,  2.70it/s]\n",
      "                 Class     Images  Instances      Box(P          R      mAP50  mAP50-95): 100%|██████████| 4/4 [00:02<00:00,  1.53it/s]"
     ]
    },
    {
     "name": "stdout",
     "output_type": "stream",
     "text": [
      "                   all        106        203      0.844      0.906      0.886      0.557\n"
     ]
    },
    {
     "name": "stderr",
     "output_type": "stream",
     "text": [
      "\n"
     ]
    },
    {
     "name": "stdout",
     "output_type": "stream",
     "text": [
      "\n",
      "      Epoch    GPU_mem   box_loss   cls_loss   dfl_loss  Instances       Size\n"
     ]
    },
    {
     "name": "stderr",
     "output_type": "stream",
     "text": [
      "      18/50      2.38G      1.332     0.8496     0.8448         37        640: 100%|██████████| 71/71 [00:26<00:00,  2.73it/s]\n",
      "                 Class     Images  Instances      Box(P          R      mAP50  mAP50-95): 100%|██████████| 4/4 [00:01<00:00,  2.30it/s]"
     ]
    },
    {
     "name": "stdout",
     "output_type": "stream",
     "text": [
      "                   all        106        203      0.909      0.885      0.927       0.58\n"
     ]
    },
    {
     "name": "stderr",
     "output_type": "stream",
     "text": [
      "\n"
     ]
    },
    {
     "name": "stdout",
     "output_type": "stream",
     "text": [
      "\n",
      "      Epoch    GPU_mem   box_loss   cls_loss   dfl_loss  Instances       Size\n"
     ]
    },
    {
     "name": "stderr",
     "output_type": "stream",
     "text": [
      "      19/50      2.38G      1.313      0.838     0.8481         66        640: 100%|██████████| 71/71 [00:24<00:00,  2.86it/s]\n",
      "                 Class     Images  Instances      Box(P          R      mAP50  mAP50-95): 100%|██████████| 4/4 [00:02<00:00,  1.77it/s]"
     ]
    },
    {
     "name": "stdout",
     "output_type": "stream",
     "text": [
      "                   all        106        203      0.838       0.94      0.866      0.513\n"
     ]
    },
    {
     "name": "stderr",
     "output_type": "stream",
     "text": [
      "\n"
     ]
    },
    {
     "name": "stdout",
     "output_type": "stream",
     "text": [
      "\n",
      "      Epoch    GPU_mem   box_loss   cls_loss   dfl_loss  Instances       Size\n"
     ]
    },
    {
     "name": "stderr",
     "output_type": "stream",
     "text": [
      "      20/50      2.38G      1.303     0.8294     0.8416         38        640: 100%|██████████| 71/71 [00:23<00:00,  2.97it/s]\n",
      "                 Class     Images  Instances      Box(P          R      mAP50  mAP50-95): 100%|██████████| 4/4 [00:01<00:00,  2.03it/s]"
     ]
    },
    {
     "name": "stdout",
     "output_type": "stream",
     "text": [
      "                   all        106        203      0.796      0.906      0.858       0.51\n"
     ]
    },
    {
     "name": "stderr",
     "output_type": "stream",
     "text": [
      "\n"
     ]
    },
    {
     "name": "stdout",
     "output_type": "stream",
     "text": [
      "\n",
      "      Epoch    GPU_mem   box_loss   cls_loss   dfl_loss  Instances       Size\n"
     ]
    },
    {
     "name": "stderr",
     "output_type": "stream",
     "text": [
      "      21/50      2.38G      1.294      0.835     0.8431         27        640: 100%|██████████| 71/71 [00:22<00:00,  3.16it/s]\n",
      "                 Class     Images  Instances      Box(P          R      mAP50  mAP50-95): 100%|██████████| 4/4 [00:02<00:00,  1.97it/s]"
     ]
    },
    {
     "name": "stdout",
     "output_type": "stream",
     "text": [
      "                   all        106        203      0.846      0.941      0.869      0.505\n"
     ]
    },
    {
     "name": "stderr",
     "output_type": "stream",
     "text": [
      "\n"
     ]
    },
    {
     "name": "stdout",
     "output_type": "stream",
     "text": [
      "\n",
      "      Epoch    GPU_mem   box_loss   cls_loss   dfl_loss  Instances       Size\n"
     ]
    },
    {
     "name": "stderr",
     "output_type": "stream",
     "text": [
      "      22/50      2.38G      1.322     0.8299     0.8472         60        640: 100%|██████████| 71/71 [00:23<00:00,  3.06it/s]\n",
      "                 Class     Images  Instances      Box(P          R      mAP50  mAP50-95): 100%|██████████| 4/4 [00:02<00:00,  1.99it/s]"
     ]
    },
    {
     "name": "stdout",
     "output_type": "stream",
     "text": [
      "                   all        106        203      0.814      0.941      0.828      0.513\n"
     ]
    },
    {
     "name": "stderr",
     "output_type": "stream",
     "text": [
      "\n"
     ]
    },
    {
     "name": "stdout",
     "output_type": "stream",
     "text": [
      "\n",
      "      Epoch    GPU_mem   box_loss   cls_loss   dfl_loss  Instances       Size\n"
     ]
    },
    {
     "name": "stderr",
     "output_type": "stream",
     "text": [
      "      23/50      2.38G      1.289     0.8391     0.8406         41        640: 100%|██████████| 71/71 [00:23<00:00,  3.05it/s]\n",
      "                 Class     Images  Instances      Box(P          R      mAP50  mAP50-95): 100%|██████████| 4/4 [00:01<00:00,  2.30it/s]"
     ]
    },
    {
     "name": "stdout",
     "output_type": "stream",
     "text": [
      "                   all        106        203      0.869      0.926       0.88      0.541\n"
     ]
    },
    {
     "name": "stderr",
     "output_type": "stream",
     "text": [
      "\n"
     ]
    },
    {
     "name": "stdout",
     "output_type": "stream",
     "text": [
      "\n",
      "      Epoch    GPU_mem   box_loss   cls_loss   dfl_loss  Instances       Size\n"
     ]
    },
    {
     "name": "stderr",
     "output_type": "stream",
     "text": [
      "      24/50      2.38G      1.272     0.8247     0.8416         46        640: 100%|██████████| 71/71 [00:23<00:00,  2.97it/s]\n",
      "                 Class     Images  Instances      Box(P          R      mAP50  mAP50-95): 100%|██████████| 4/4 [00:01<00:00,  2.34it/s]"
     ]
    },
    {
     "name": "stdout",
     "output_type": "stream",
     "text": [
      "                   all        106        203      0.859      0.936      0.856      0.535\n"
     ]
    },
    {
     "name": "stderr",
     "output_type": "stream",
     "text": [
      "\n"
     ]
    },
    {
     "name": "stdout",
     "output_type": "stream",
     "text": [
      "\n",
      "      Epoch    GPU_mem   box_loss   cls_loss   dfl_loss  Instances       Size\n"
     ]
    },
    {
     "name": "stderr",
     "output_type": "stream",
     "text": [
      "      25/50      2.38G      1.253     0.8342     0.8393         33        640: 100%|██████████| 71/71 [00:22<00:00,  3.10it/s]\n",
      "                 Class     Images  Instances      Box(P          R      mAP50  mAP50-95): 100%|██████████| 4/4 [00:01<00:00,  2.26it/s]"
     ]
    },
    {
     "name": "stdout",
     "output_type": "stream",
     "text": [
      "                   all        106        203      0.837      0.926      0.873      0.553\n"
     ]
    },
    {
     "name": "stderr",
     "output_type": "stream",
     "text": [
      "\n"
     ]
    },
    {
     "name": "stdout",
     "output_type": "stream",
     "text": [
      "\n",
      "      Epoch    GPU_mem   box_loss   cls_loss   dfl_loss  Instances       Size\n"
     ]
    },
    {
     "name": "stderr",
     "output_type": "stream",
     "text": [
      "      26/50      2.38G      1.252     0.8201     0.8342         43        640: 100%|██████████| 71/71 [00:23<00:00,  3.05it/s]\n",
      "                 Class     Images  Instances      Box(P          R      mAP50  mAP50-95): 100%|██████████| 4/4 [00:01<00:00,  2.70it/s]\n"
     ]
    },
    {
     "name": "stdout",
     "output_type": "stream",
     "text": [
      "                   all        106        203      0.882       0.92      0.892      0.557\n",
      "\n",
      "      Epoch    GPU_mem   box_loss   cls_loss   dfl_loss  Instances       Size\n"
     ]
    },
    {
     "name": "stderr",
     "output_type": "stream",
     "text": [
      "      27/50      2.38G      1.267     0.8402     0.8441         45        640: 100%|██████████| 71/71 [00:22<00:00,  3.19it/s]\n",
      "                 Class     Images  Instances      Box(P          R      mAP50  mAP50-95): 100%|██████████| 4/4 [00:02<00:00,  1.83it/s]"
     ]
    },
    {
     "name": "stdout",
     "output_type": "stream",
     "text": [
      "                   all        106        203      0.834      0.911      0.873      0.531\n"
     ]
    },
    {
     "name": "stderr",
     "output_type": "stream",
     "text": [
      "\n"
     ]
    },
    {
     "name": "stdout",
     "output_type": "stream",
     "text": [
      "\n",
      "      Epoch    GPU_mem   box_loss   cls_loss   dfl_loss  Instances       Size\n"
     ]
    },
    {
     "name": "stderr",
     "output_type": "stream",
     "text": [
      "      28/50      2.38G      1.259     0.8108     0.8433         34        640: 100%|██████████| 71/71 [00:22<00:00,  3.15it/s]\n",
      "                 Class     Images  Instances      Box(P          R      mAP50  mAP50-95): 100%|██████████| 4/4 [00:01<00:00,  2.00it/s]"
     ]
    },
    {
     "name": "stdout",
     "output_type": "stream",
     "text": [
      "                   all        106        203      0.817      0.951      0.827      0.521\n"
     ]
    },
    {
     "name": "stderr",
     "output_type": "stream",
     "text": [
      "\n"
     ]
    },
    {
     "name": "stdout",
     "output_type": "stream",
     "text": [
      "\n",
      "      Epoch    GPU_mem   box_loss   cls_loss   dfl_loss  Instances       Size\n"
     ]
    },
    {
     "name": "stderr",
     "output_type": "stream",
     "text": [
      "      29/50      2.38G      1.266      0.824     0.8392         43        640: 100%|██████████| 71/71 [00:23<00:00,  3.06it/s]\n",
      "                 Class     Images  Instances      Box(P          R      mAP50  mAP50-95): 100%|██████████| 4/4 [00:01<00:00,  2.10it/s]"
     ]
    },
    {
     "name": "stdout",
     "output_type": "stream",
     "text": [
      "                   all        106        203      0.814      0.931      0.832      0.524\n"
     ]
    },
    {
     "name": "stderr",
     "output_type": "stream",
     "text": [
      "\n"
     ]
    },
    {
     "name": "stdout",
     "output_type": "stream",
     "text": [
      "\n",
      "      Epoch    GPU_mem   box_loss   cls_loss   dfl_loss  Instances       Size\n"
     ]
    },
    {
     "name": "stderr",
     "output_type": "stream",
     "text": [
      "      30/50      2.38G      1.254     0.8195     0.8425         55        640: 100%|██████████| 71/71 [00:23<00:00,  3.01it/s]\n",
      "                 Class     Images  Instances      Box(P          R      mAP50  mAP50-95): 100%|██████████| 4/4 [00:01<00:00,  2.33it/s]"
     ]
    },
    {
     "name": "stdout",
     "output_type": "stream",
     "text": [
      "                   all        106        203      0.865      0.912      0.878      0.556\n"
     ]
    },
    {
     "name": "stderr",
     "output_type": "stream",
     "text": [
      "\n"
     ]
    },
    {
     "name": "stdout",
     "output_type": "stream",
     "text": [
      "\n",
      "      Epoch    GPU_mem   box_loss   cls_loss   dfl_loss  Instances       Size\n"
     ]
    },
    {
     "name": "stderr",
     "output_type": "stream",
     "text": [
      "      31/50      2.38G      1.235     0.7928     0.8346         38        640: 100%|██████████| 71/71 [00:22<00:00,  3.12it/s]\n",
      "                 Class     Images  Instances      Box(P          R      mAP50  mAP50-95): 100%|██████████| 4/4 [00:02<00:00,  1.92it/s]"
     ]
    },
    {
     "name": "stdout",
     "output_type": "stream",
     "text": [
      "                   all        106        203      0.853      0.917       0.87      0.552\n"
     ]
    },
    {
     "name": "stderr",
     "output_type": "stream",
     "text": [
      "\n"
     ]
    },
    {
     "name": "stdout",
     "output_type": "stream",
     "text": [
      "\n",
      "      Epoch    GPU_mem   box_loss   cls_loss   dfl_loss  Instances       Size\n"
     ]
    },
    {
     "name": "stderr",
     "output_type": "stream",
     "text": [
      "      32/50      2.38G      1.233     0.8171      0.838         47        640: 100%|██████████| 71/71 [00:22<00:00,  3.09it/s]\n",
      "                 Class     Images  Instances      Box(P          R      mAP50  mAP50-95): 100%|██████████| 4/4 [00:01<00:00,  2.32it/s]"
     ]
    },
    {
     "name": "stdout",
     "output_type": "stream",
     "text": [
      "                   all        106        203      0.832      0.926      0.867      0.536\n"
     ]
    },
    {
     "name": "stderr",
     "output_type": "stream",
     "text": [
      "\n"
     ]
    },
    {
     "name": "stdout",
     "output_type": "stream",
     "text": [
      "\n",
      "      Epoch    GPU_mem   box_loss   cls_loss   dfl_loss  Instances       Size\n"
     ]
    },
    {
     "name": "stderr",
     "output_type": "stream",
     "text": [
      "      33/50      2.38G      1.224     0.7914     0.8316         44        640: 100%|██████████| 71/71 [00:23<00:00,  3.00it/s]\n",
      "                 Class     Images  Instances      Box(P          R      mAP50  mAP50-95): 100%|██████████| 4/4 [00:01<00:00,  2.18it/s]"
     ]
    },
    {
     "name": "stdout",
     "output_type": "stream",
     "text": [
      "                   all        106        203       0.86      0.908      0.862      0.531\n"
     ]
    },
    {
     "name": "stderr",
     "output_type": "stream",
     "text": [
      "\n"
     ]
    },
    {
     "name": "stdout",
     "output_type": "stream",
     "text": [
      "\n",
      "      Epoch    GPU_mem   box_loss   cls_loss   dfl_loss  Instances       Size\n"
     ]
    },
    {
     "name": "stderr",
     "output_type": "stream",
     "text": [
      "      34/50      2.38G      1.214     0.7828     0.8311         56        640: 100%|██████████| 71/71 [00:23<00:00,  3.04it/s]\n",
      "                 Class     Images  Instances      Box(P          R      mAP50  mAP50-95): 100%|██████████| 4/4 [00:01<00:00,  2.02it/s]"
     ]
    },
    {
     "name": "stdout",
     "output_type": "stream",
     "text": [
      "                   all        106        203      0.871      0.897      0.912      0.571\n"
     ]
    },
    {
     "name": "stderr",
     "output_type": "stream",
     "text": [
      "\n"
     ]
    },
    {
     "name": "stdout",
     "output_type": "stream",
     "text": [
      "\n",
      "      Epoch    GPU_mem   box_loss   cls_loss   dfl_loss  Instances       Size\n"
     ]
    },
    {
     "name": "stderr",
     "output_type": "stream",
     "text": [
      "      35/50      2.38G      1.209     0.8053     0.8365         30        640: 100%|██████████| 71/71 [00:23<00:00,  3.08it/s]\n",
      "                 Class     Images  Instances      Box(P          R      mAP50  mAP50-95): 100%|██████████| 4/4 [00:01<00:00,  2.62it/s]"
     ]
    },
    {
     "name": "stdout",
     "output_type": "stream",
     "text": [
      "                   all        106        203      0.923      0.916      0.915      0.568\n"
     ]
    },
    {
     "name": "stderr",
     "output_type": "stream",
     "text": [
      "\n"
     ]
    },
    {
     "name": "stdout",
     "output_type": "stream",
     "text": [
      "\n",
      "      Epoch    GPU_mem   box_loss   cls_loss   dfl_loss  Instances       Size\n"
     ]
    },
    {
     "name": "stderr",
     "output_type": "stream",
     "text": [
      "      36/50      2.38G      1.219     0.7797     0.8306         38        640: 100%|██████████| 71/71 [00:23<00:00,  2.99it/s]\n",
      "                 Class     Images  Instances      Box(P          R      mAP50  mAP50-95): 100%|██████████| 4/4 [00:02<00:00,  1.98it/s]"
     ]
    },
    {
     "name": "stdout",
     "output_type": "stream",
     "text": [
      "                   all        106        203      0.853      0.931      0.862       0.55\n"
     ]
    },
    {
     "name": "stderr",
     "output_type": "stream",
     "text": [
      "\n"
     ]
    },
    {
     "name": "stdout",
     "output_type": "stream",
     "text": [
      "\n",
      "      Epoch    GPU_mem   box_loss   cls_loss   dfl_loss  Instances       Size\n"
     ]
    },
    {
     "name": "stderr",
     "output_type": "stream",
     "text": [
      "      37/50      2.38G      1.213     0.7831     0.8317         49        640: 100%|██████████| 71/71 [00:24<00:00,  2.92it/s]\n",
      "                 Class     Images  Instances      Box(P          R      mAP50  mAP50-95): 100%|██████████| 4/4 [00:01<00:00,  2.38it/s]"
     ]
    },
    {
     "name": "stdout",
     "output_type": "stream",
     "text": [
      "                   all        106        203      0.833      0.936      0.858      0.554\n"
     ]
    },
    {
     "name": "stderr",
     "output_type": "stream",
     "text": [
      "\n"
     ]
    },
    {
     "name": "stdout",
     "output_type": "stream",
     "text": [
      "\n",
      "      Epoch    GPU_mem   box_loss   cls_loss   dfl_loss  Instances       Size\n"
     ]
    },
    {
     "name": "stderr",
     "output_type": "stream",
     "text": [
      "      38/50      2.38G      1.211     0.7872     0.8321         44        640: 100%|██████████| 71/71 [00:23<00:00,  3.01it/s]\n",
      "                 Class     Images  Instances      Box(P          R      mAP50  mAP50-95): 100%|██████████| 4/4 [00:01<00:00,  2.52it/s]"
     ]
    },
    {
     "name": "stdout",
     "output_type": "stream",
     "text": [
      "                   all        106        203      0.844      0.936      0.868      0.561\n"
     ]
    },
    {
     "name": "stderr",
     "output_type": "stream",
     "text": [
      "\n"
     ]
    },
    {
     "name": "stdout",
     "output_type": "stream",
     "text": [
      "\n",
      "      Epoch    GPU_mem   box_loss   cls_loss   dfl_loss  Instances       Size\n"
     ]
    },
    {
     "name": "stderr",
     "output_type": "stream",
     "text": [
      "      39/50      2.38G       1.19     0.7875     0.8266         33        640: 100%|██████████| 71/71 [00:24<00:00,  2.95it/s]\n",
      "                 Class     Images  Instances      Box(P          R      mAP50  mAP50-95): 100%|██████████| 4/4 [00:01<00:00,  2.28it/s]"
     ]
    },
    {
     "name": "stdout",
     "output_type": "stream",
     "text": [
      "                   all        106        203      0.868      0.931      0.872      0.556\n"
     ]
    },
    {
     "name": "stderr",
     "output_type": "stream",
     "text": [
      "\n"
     ]
    },
    {
     "name": "stdout",
     "output_type": "stream",
     "text": [
      "\n",
      "      Epoch    GPU_mem   box_loss   cls_loss   dfl_loss  Instances       Size\n"
     ]
    },
    {
     "name": "stderr",
     "output_type": "stream",
     "text": [
      "      40/50      2.38G      1.194     0.7851     0.8342         50        640: 100%|██████████| 71/71 [00:24<00:00,  2.91it/s]\n",
      "                 Class     Images  Instances      Box(P          R      mAP50  mAP50-95): 100%|██████████| 4/4 [00:01<00:00,  2.93it/s]"
     ]
    },
    {
     "name": "stdout",
     "output_type": "stream",
     "text": [
      "                   all        106        203      0.865      0.931      0.865      0.567\n"
     ]
    },
    {
     "name": "stderr",
     "output_type": "stream",
     "text": [
      "\n"
     ]
    },
    {
     "name": "stdout",
     "output_type": "stream",
     "text": [
      "Closing dataloader mosaic\n",
      "\n",
      "      Epoch    GPU_mem   box_loss   cls_loss   dfl_loss  Instances       Size\n"
     ]
    },
    {
     "name": "stderr",
     "output_type": "stream",
     "text": [
      "      41/50      2.38G      1.124     0.8053     0.8347         21        640: 100%|██████████| 71/71 [00:17<00:00,  4.09it/s]\n",
      "                 Class     Images  Instances      Box(P          R      mAP50  mAP50-95): 100%|██████████| 4/4 [00:01<00:00,  2.84it/s]"
     ]
    },
    {
     "name": "stdout",
     "output_type": "stream",
     "text": [
      "                   all        106        203      0.867      0.933      0.869      0.559\n"
     ]
    },
    {
     "name": "stderr",
     "output_type": "stream",
     "text": [
      "\n"
     ]
    },
    {
     "name": "stdout",
     "output_type": "stream",
     "text": [
      "\n",
      "      Epoch    GPU_mem   box_loss   cls_loss   dfl_loss  Instances       Size\n"
     ]
    },
    {
     "name": "stderr",
     "output_type": "stream",
     "text": [
      "      42/50      2.38G      1.136      0.782     0.8334         32        640: 100%|██████████| 71/71 [00:17<00:00,  4.02it/s]\n",
      "                 Class     Images  Instances      Box(P          R      mAP50  mAP50-95): 100%|██████████| 4/4 [00:01<00:00,  2.77it/s]"
     ]
    },
    {
     "name": "stdout",
     "output_type": "stream",
     "text": [
      "                   all        106        203      0.891      0.921      0.896      0.587\n"
     ]
    },
    {
     "name": "stderr",
     "output_type": "stream",
     "text": [
      "\n"
     ]
    },
    {
     "name": "stdout",
     "output_type": "stream",
     "text": [
      "\n",
      "      Epoch    GPU_mem   box_loss   cls_loss   dfl_loss  Instances       Size\n"
     ]
    },
    {
     "name": "stderr",
     "output_type": "stream",
     "text": [
      "      43/50      2.38G       1.12     0.7731     0.8325         23        640: 100%|██████████| 71/71 [00:19<00:00,  3.60it/s]\n",
      "                 Class     Images  Instances      Box(P          R      mAP50  mAP50-95): 100%|██████████| 4/4 [00:01<00:00,  2.67it/s]"
     ]
    },
    {
     "name": "stdout",
     "output_type": "stream",
     "text": [
      "                   all        106        203      0.875      0.931       0.88      0.541\n"
     ]
    },
    {
     "name": "stderr",
     "output_type": "stream",
     "text": [
      "\n"
     ]
    },
    {
     "name": "stdout",
     "output_type": "stream",
     "text": [
      "\n",
      "      Epoch    GPU_mem   box_loss   cls_loss   dfl_loss  Instances       Size\n"
     ]
    },
    {
     "name": "stderr",
     "output_type": "stream",
     "text": [
      "      44/50      2.38G      1.121      0.781     0.8332         25        640: 100%|██████████| 71/71 [00:21<00:00,  3.27it/s]\n",
      "                 Class     Images  Instances      Box(P          R      mAP50  mAP50-95): 100%|██████████| 4/4 [00:01<00:00,  3.37it/s]"
     ]
    },
    {
     "name": "stdout",
     "output_type": "stream",
     "text": [
      "                   all        106        203      0.894      0.911      0.902      0.569\n"
     ]
    },
    {
     "name": "stderr",
     "output_type": "stream",
     "text": [
      "\n"
     ]
    },
    {
     "name": "stdout",
     "output_type": "stream",
     "text": [
      "\n",
      "      Epoch    GPU_mem   box_loss   cls_loss   dfl_loss  Instances       Size\n"
     ]
    },
    {
     "name": "stderr",
     "output_type": "stream",
     "text": [
      "      45/50      2.38G      1.116      0.781     0.8282         25        640: 100%|██████████| 71/71 [00:21<00:00,  3.33it/s]\n",
      "                 Class     Images  Instances      Box(P          R      mAP50  mAP50-95): 100%|██████████| 4/4 [00:01<00:00,  2.41it/s]"
     ]
    },
    {
     "name": "stdout",
     "output_type": "stream",
     "text": [
      "                   all        106        203      0.893      0.926      0.898      0.585\n"
     ]
    },
    {
     "name": "stderr",
     "output_type": "stream",
     "text": [
      "\n"
     ]
    },
    {
     "name": "stdout",
     "output_type": "stream",
     "text": [
      "\n",
      "      Epoch    GPU_mem   box_loss   cls_loss   dfl_loss  Instances       Size\n"
     ]
    },
    {
     "name": "stderr",
     "output_type": "stream",
     "text": [
      "      46/50      2.38G      1.117     0.7825     0.8304         33        640: 100%|██████████| 71/71 [00:20<00:00,  3.39it/s]\n",
      "                 Class     Images  Instances      Box(P          R      mAP50  mAP50-95): 100%|██████████| 4/4 [00:01<00:00,  2.35it/s]"
     ]
    },
    {
     "name": "stdout",
     "output_type": "stream",
     "text": [
      "                   all        106        203      0.829      0.936      0.835      0.544\n"
     ]
    },
    {
     "name": "stderr",
     "output_type": "stream",
     "text": [
      "\n"
     ]
    },
    {
     "name": "stdout",
     "output_type": "stream",
     "text": [
      "\n",
      "      Epoch    GPU_mem   box_loss   cls_loss   dfl_loss  Instances       Size\n"
     ]
    },
    {
     "name": "stderr",
     "output_type": "stream",
     "text": [
      "      47/50      2.38G      1.101     0.7745     0.8252         41        640: 100%|██████████| 71/71 [00:21<00:00,  3.26it/s]\n",
      "                 Class     Images  Instances      Box(P          R      mAP50  mAP50-95): 100%|██████████| 4/4 [00:01<00:00,  2.92it/s]"
     ]
    },
    {
     "name": "stdout",
     "output_type": "stream",
     "text": [
      "                   all        106        203       0.88      0.941      0.872      0.576\n"
     ]
    },
    {
     "name": "stderr",
     "output_type": "stream",
     "text": [
      "\n"
     ]
    },
    {
     "name": "stdout",
     "output_type": "stream",
     "text": [
      "\n",
      "      Epoch    GPU_mem   box_loss   cls_loss   dfl_loss  Instances       Size\n"
     ]
    },
    {
     "name": "stderr",
     "output_type": "stream",
     "text": [
      "      48/50      2.38G       1.08     0.7792      0.826         31        640: 100%|██████████| 71/71 [00:22<00:00,  3.10it/s]\n",
      "                 Class     Images  Instances      Box(P          R      mAP50  mAP50-95): 100%|██████████| 4/4 [00:01<00:00,  2.12it/s]"
     ]
    },
    {
     "name": "stdout",
     "output_type": "stream",
     "text": [
      "                   all        106        203      0.861      0.941      0.864      0.562\n"
     ]
    },
    {
     "name": "stderr",
     "output_type": "stream",
     "text": [
      "\n"
     ]
    },
    {
     "name": "stdout",
     "output_type": "stream",
     "text": [
      "\n",
      "      Epoch    GPU_mem   box_loss   cls_loss   dfl_loss  Instances       Size\n"
     ]
    },
    {
     "name": "stderr",
     "output_type": "stream",
     "text": [
      "      49/50      2.38G      1.093     0.7838     0.8247         26        640: 100%|██████████| 71/71 [00:21<00:00,  3.24it/s]\n",
      "                 Class     Images  Instances      Box(P          R      mAP50  mAP50-95): 100%|██████████| 4/4 [00:01<00:00,  2.22it/s]"
     ]
    },
    {
     "name": "stdout",
     "output_type": "stream",
     "text": [
      "                   all        106        203      0.868      0.946      0.873      0.575\n"
     ]
    },
    {
     "name": "stderr",
     "output_type": "stream",
     "text": [
      "\n"
     ]
    },
    {
     "name": "stdout",
     "output_type": "stream",
     "text": [
      "\n",
      "      Epoch    GPU_mem   box_loss   cls_loss   dfl_loss  Instances       Size\n"
     ]
    },
    {
     "name": "stderr",
     "output_type": "stream",
     "text": [
      "      50/50      2.38G      1.075     0.7717     0.8331         23        640: 100%|██████████| 71/71 [00:22<00:00,  3.22it/s]\n",
      "                 Class     Images  Instances      Box(P          R      mAP50  mAP50-95): 100%|██████████| 4/4 [00:01<00:00,  2.04it/s]"
     ]
    },
    {
     "name": "stdout",
     "output_type": "stream",
     "text": [
      "                   all        106        203      0.866      0.946      0.863      0.569\n"
     ]
    },
    {
     "name": "stderr",
     "output_type": "stream",
     "text": [
      "\n"
     ]
    },
    {
     "name": "stdout",
     "output_type": "stream",
     "text": [
      "\n",
      "50 epochs completed in 0.379 hours.\n",
      "Optimizer stripped from runs\\detect\\yolo_car_detector2\\weights\\last.pt, 5.5MB\n",
      "Optimizer stripped from runs\\detect\\yolo_car_detector2\\weights\\best.pt, 5.5MB\n",
      "\n",
      "Validating runs\\detect\\yolo_car_detector2\\weights\\best.pt...\n",
      "Ultralytics 8.3.102  Python-3.13.1 torch-2.6.0+cu126 CUDA:0 (NVIDIA GeForce RTX 2070 SUPER, 8192MiB)\n",
      "YOLO11n summary (fused): 100 layers, 2,582,542 parameters, 0 gradients, 6.3 GFLOPs\n"
     ]
    },
    {
     "name": "stderr",
     "output_type": "stream",
     "text": [
      "                 Class     Images  Instances      Box(P          R      mAP50  mAP50-95): 100%|██████████| 4/4 [00:01<00:00,  3.48it/s]\n"
     ]
    },
    {
     "name": "stdout",
     "output_type": "stream",
     "text": [
      "                   all        106        203       0.89      0.921      0.896      0.587\n",
      "                 Placa        106        203       0.89      0.921      0.896      0.587\n",
      "Speed: 1.0ms preprocess, 1.5ms inference, 0.0ms loss, 1.7ms postprocess per image\n",
      "Results saved to \u001B[1mruns\\detect\\yolo_car_detector2\u001B[0m\n"
     ]
    },
    {
     "data": {
      "text/plain": [
       "ultralytics.utils.metrics.DetMetrics object with attributes:\n",
       "\n",
       "ap_class_index: array([1])\n",
       "box: ultralytics.utils.metrics.Metric object\n",
       "confusion_matrix: <ultralytics.utils.metrics.ConfusionMatrix object at 0x0000028E4121E820>\n",
       "curves: ['Precision-Recall(B)', 'F1-Confidence(B)', 'Precision-Confidence(B)', 'Recall-Confidence(B)']\n",
       "curves_results: [[array([          0,    0.001001,    0.002002,    0.003003,    0.004004,    0.005005,    0.006006,    0.007007,    0.008008,    0.009009,     0.01001,    0.011011,    0.012012,    0.013013,    0.014014,    0.015015,    0.016016,    0.017017,    0.018018,    0.019019,     0.02002,    0.021021,    0.022022,    0.023023,\n",
       "          0.024024,    0.025025,    0.026026,    0.027027,    0.028028,    0.029029,     0.03003,    0.031031,    0.032032,    0.033033,    0.034034,    0.035035,    0.036036,    0.037037,    0.038038,    0.039039,     0.04004,    0.041041,    0.042042,    0.043043,    0.044044,    0.045045,    0.046046,    0.047047,\n",
       "          0.048048,    0.049049,     0.05005,    0.051051,    0.052052,    0.053053,    0.054054,    0.055055,    0.056056,    0.057057,    0.058058,    0.059059,     0.06006,    0.061061,    0.062062,    0.063063,    0.064064,    0.065065,    0.066066,    0.067067,    0.068068,    0.069069,     0.07007,    0.071071,\n",
       "          0.072072,    0.073073,    0.074074,    0.075075,    0.076076,    0.077077,    0.078078,    0.079079,     0.08008,    0.081081,    0.082082,    0.083083,    0.084084,    0.085085,    0.086086,    0.087087,    0.088088,    0.089089,     0.09009,    0.091091,    0.092092,    0.093093,    0.094094,    0.095095,\n",
       "          0.096096,    0.097097,    0.098098,    0.099099,      0.1001,      0.1011,      0.1021,      0.1031,      0.1041,     0.10511,     0.10611,     0.10711,     0.10811,     0.10911,     0.11011,     0.11111,     0.11211,     0.11311,     0.11411,     0.11512,     0.11612,     0.11712,     0.11812,     0.11912,\n",
       "           0.12012,     0.12112,     0.12212,     0.12312,     0.12412,     0.12513,     0.12613,     0.12713,     0.12813,     0.12913,     0.13013,     0.13113,     0.13213,     0.13313,     0.13413,     0.13514,     0.13614,     0.13714,     0.13814,     0.13914,     0.14014,     0.14114,     0.14214,     0.14314,\n",
       "           0.14414,     0.14515,     0.14615,     0.14715,     0.14815,     0.14915,     0.15015,     0.15115,     0.15215,     0.15315,     0.15415,     0.15516,     0.15616,     0.15716,     0.15816,     0.15916,     0.16016,     0.16116,     0.16216,     0.16316,     0.16416,     0.16517,     0.16617,     0.16717,\n",
       "           0.16817,     0.16917,     0.17017,     0.17117,     0.17217,     0.17317,     0.17417,     0.17518,     0.17618,     0.17718,     0.17818,     0.17918,     0.18018,     0.18118,     0.18218,     0.18318,     0.18418,     0.18519,     0.18619,     0.18719,     0.18819,     0.18919,     0.19019,     0.19119,\n",
       "           0.19219,     0.19319,     0.19419,      0.1952,      0.1962,      0.1972,      0.1982,      0.1992,      0.2002,      0.2012,      0.2022,      0.2032,      0.2042,     0.20521,     0.20621,     0.20721,     0.20821,     0.20921,     0.21021,     0.21121,     0.21221,     0.21321,     0.21421,     0.21522,\n",
       "           0.21622,     0.21722,     0.21822,     0.21922,     0.22022,     0.22122,     0.22222,     0.22322,     0.22422,     0.22523,     0.22623,     0.22723,     0.22823,     0.22923,     0.23023,     0.23123,     0.23223,     0.23323,     0.23423,     0.23524,     0.23624,     0.23724,     0.23824,     0.23924,\n",
       "           0.24024,     0.24124,     0.24224,     0.24324,     0.24424,     0.24525,     0.24625,     0.24725,     0.24825,     0.24925,     0.25025,     0.25125,     0.25225,     0.25325,     0.25425,     0.25526,     0.25626,     0.25726,     0.25826,     0.25926,     0.26026,     0.26126,     0.26226,     0.26326,\n",
       "           0.26426,     0.26527,     0.26627,     0.26727,     0.26827,     0.26927,     0.27027,     0.27127,     0.27227,     0.27327,     0.27427,     0.27528,     0.27628,     0.27728,     0.27828,     0.27928,     0.28028,     0.28128,     0.28228,     0.28328,     0.28428,     0.28529,     0.28629,     0.28729,\n",
       "           0.28829,     0.28929,     0.29029,     0.29129,     0.29229,     0.29329,     0.29429,      0.2953,      0.2963,      0.2973,      0.2983,      0.2993,      0.3003,      0.3013,      0.3023,      0.3033,      0.3043,     0.30531,     0.30631,     0.30731,     0.30831,     0.30931,     0.31031,     0.31131,\n",
       "           0.31231,     0.31331,     0.31431,     0.31532,     0.31632,     0.31732,     0.31832,     0.31932,     0.32032,     0.32132,     0.32232,     0.32332,     0.32432,     0.32533,     0.32633,     0.32733,     0.32833,     0.32933,     0.33033,     0.33133,     0.33233,     0.33333,     0.33433,     0.33534,\n",
       "           0.33634,     0.33734,     0.33834,     0.33934,     0.34034,     0.34134,     0.34234,     0.34334,     0.34434,     0.34535,     0.34635,     0.34735,     0.34835,     0.34935,     0.35035,     0.35135,     0.35235,     0.35335,     0.35435,     0.35536,     0.35636,     0.35736,     0.35836,     0.35936,\n",
       "           0.36036,     0.36136,     0.36236,     0.36336,     0.36436,     0.36537,     0.36637,     0.36737,     0.36837,     0.36937,     0.37037,     0.37137,     0.37237,     0.37337,     0.37437,     0.37538,     0.37638,     0.37738,     0.37838,     0.37938,     0.38038,     0.38138,     0.38238,     0.38338,\n",
       "           0.38438,     0.38539,     0.38639,     0.38739,     0.38839,     0.38939,     0.39039,     0.39139,     0.39239,     0.39339,     0.39439,      0.3954,      0.3964,      0.3974,      0.3984,      0.3994,      0.4004,      0.4014,      0.4024,      0.4034,      0.4044,     0.40541,     0.40641,     0.40741,\n",
       "           0.40841,     0.40941,     0.41041,     0.41141,     0.41241,     0.41341,     0.41441,     0.41542,     0.41642,     0.41742,     0.41842,     0.41942,     0.42042,     0.42142,     0.42242,     0.42342,     0.42442,     0.42543,     0.42643,     0.42743,     0.42843,     0.42943,     0.43043,     0.43143,\n",
       "           0.43243,     0.43343,     0.43443,     0.43544,     0.43644,     0.43744,     0.43844,     0.43944,     0.44044,     0.44144,     0.44244,     0.44344,     0.44444,     0.44545,     0.44645,     0.44745,     0.44845,     0.44945,     0.45045,     0.45145,     0.45245,     0.45345,     0.45445,     0.45546,\n",
       "           0.45646,     0.45746,     0.45846,     0.45946,     0.46046,     0.46146,     0.46246,     0.46346,     0.46446,     0.46547,     0.46647,     0.46747,     0.46847,     0.46947,     0.47047,     0.47147,     0.47247,     0.47347,     0.47447,     0.47548,     0.47648,     0.47748,     0.47848,     0.47948,\n",
       "           0.48048,     0.48148,     0.48248,     0.48348,     0.48448,     0.48549,     0.48649,     0.48749,     0.48849,     0.48949,     0.49049,     0.49149,     0.49249,     0.49349,     0.49449,      0.4955,      0.4965,      0.4975,      0.4985,      0.4995,      0.5005,      0.5015,      0.5025,      0.5035,\n",
       "            0.5045,     0.50551,     0.50651,     0.50751,     0.50851,     0.50951,     0.51051,     0.51151,     0.51251,     0.51351,     0.51451,     0.51552,     0.51652,     0.51752,     0.51852,     0.51952,     0.52052,     0.52152,     0.52252,     0.52352,     0.52452,     0.52553,     0.52653,     0.52753,\n",
       "           0.52853,     0.52953,     0.53053,     0.53153,     0.53253,     0.53353,     0.53453,     0.53554,     0.53654,     0.53754,     0.53854,     0.53954,     0.54054,     0.54154,     0.54254,     0.54354,     0.54454,     0.54555,     0.54655,     0.54755,     0.54855,     0.54955,     0.55055,     0.55155,\n",
       "           0.55255,     0.55355,     0.55455,     0.55556,     0.55656,     0.55756,     0.55856,     0.55956,     0.56056,     0.56156,     0.56256,     0.56356,     0.56456,     0.56557,     0.56657,     0.56757,     0.56857,     0.56957,     0.57057,     0.57157,     0.57257,     0.57357,     0.57457,     0.57558,\n",
       "           0.57658,     0.57758,     0.57858,     0.57958,     0.58058,     0.58158,     0.58258,     0.58358,     0.58458,     0.58559,     0.58659,     0.58759,     0.58859,     0.58959,     0.59059,     0.59159,     0.59259,     0.59359,     0.59459,      0.5956,      0.5966,      0.5976,      0.5986,      0.5996,\n",
       "            0.6006,      0.6016,      0.6026,      0.6036,      0.6046,     0.60561,     0.60661,     0.60761,     0.60861,     0.60961,     0.61061,     0.61161,     0.61261,     0.61361,     0.61461,     0.61562,     0.61662,     0.61762,     0.61862,     0.61962,     0.62062,     0.62162,     0.62262,     0.62362,\n",
       "           0.62462,     0.62563,     0.62663,     0.62763,     0.62863,     0.62963,     0.63063,     0.63163,     0.63263,     0.63363,     0.63463,     0.63564,     0.63664,     0.63764,     0.63864,     0.63964,     0.64064,     0.64164,     0.64264,     0.64364,     0.64464,     0.64565,     0.64665,     0.64765,\n",
       "           0.64865,     0.64965,     0.65065,     0.65165,     0.65265,     0.65365,     0.65465,     0.65566,     0.65666,     0.65766,     0.65866,     0.65966,     0.66066,     0.66166,     0.66266,     0.66366,     0.66466,     0.66567,     0.66667,     0.66767,     0.66867,     0.66967,     0.67067,     0.67167,\n",
       "           0.67267,     0.67367,     0.67467,     0.67568,     0.67668,     0.67768,     0.67868,     0.67968,     0.68068,     0.68168,     0.68268,     0.68368,     0.68468,     0.68569,     0.68669,     0.68769,     0.68869,     0.68969,     0.69069,     0.69169,     0.69269,     0.69369,     0.69469,      0.6957,\n",
       "            0.6967,      0.6977,      0.6987,      0.6997,      0.7007,      0.7017,      0.7027,      0.7037,      0.7047,     0.70571,     0.70671,     0.70771,     0.70871,     0.70971,     0.71071,     0.71171,     0.71271,     0.71371,     0.71471,     0.71572,     0.71672,     0.71772,     0.71872,     0.71972,\n",
       "           0.72072,     0.72172,     0.72272,     0.72372,     0.72472,     0.72573,     0.72673,     0.72773,     0.72873,     0.72973,     0.73073,     0.73173,     0.73273,     0.73373,     0.73473,     0.73574,     0.73674,     0.73774,     0.73874,     0.73974,     0.74074,     0.74174,     0.74274,     0.74374,\n",
       "           0.74474,     0.74575,     0.74675,     0.74775,     0.74875,     0.74975,     0.75075,     0.75175,     0.75275,     0.75375,     0.75475,     0.75576,     0.75676,     0.75776,     0.75876,     0.75976,     0.76076,     0.76176,     0.76276,     0.76376,     0.76476,     0.76577,     0.76677,     0.76777,\n",
       "           0.76877,     0.76977,     0.77077,     0.77177,     0.77277,     0.77377,     0.77477,     0.77578,     0.77678,     0.77778,     0.77878,     0.77978,     0.78078,     0.78178,     0.78278,     0.78378,     0.78478,     0.78579,     0.78679,     0.78779,     0.78879,     0.78979,     0.79079,     0.79179,\n",
       "           0.79279,     0.79379,     0.79479,      0.7958,      0.7968,      0.7978,      0.7988,      0.7998,      0.8008,      0.8018,      0.8028,      0.8038,      0.8048,     0.80581,     0.80681,     0.80781,     0.80881,     0.80981,     0.81081,     0.81181,     0.81281,     0.81381,     0.81481,     0.81582,\n",
       "           0.81682,     0.81782,     0.81882,     0.81982,     0.82082,     0.82182,     0.82282,     0.82382,     0.82482,     0.82583,     0.82683,     0.82783,     0.82883,     0.82983,     0.83083,     0.83183,     0.83283,     0.83383,     0.83483,     0.83584,     0.83684,     0.83784,     0.83884,     0.83984,\n",
       "           0.84084,     0.84184,     0.84284,     0.84384,     0.84484,     0.84585,     0.84685,     0.84785,     0.84885,     0.84985,     0.85085,     0.85185,     0.85285,     0.85385,     0.85485,     0.85586,     0.85686,     0.85786,     0.85886,     0.85986,     0.86086,     0.86186,     0.86286,     0.86386,\n",
       "           0.86486,     0.86587,     0.86687,     0.86787,     0.86887,     0.86987,     0.87087,     0.87187,     0.87287,     0.87387,     0.87487,     0.87588,     0.87688,     0.87788,     0.87888,     0.87988,     0.88088,     0.88188,     0.88288,     0.88388,     0.88488,     0.88589,     0.88689,     0.88789,\n",
       "           0.88889,     0.88989,     0.89089,     0.89189,     0.89289,     0.89389,     0.89489,      0.8959,      0.8969,      0.8979,      0.8989,      0.8999,      0.9009,      0.9019,      0.9029,      0.9039,      0.9049,     0.90591,     0.90691,     0.90791,     0.90891,     0.90991,     0.91091,     0.91191,\n",
       "           0.91291,     0.91391,     0.91491,     0.91592,     0.91692,     0.91792,     0.91892,     0.91992,     0.92092,     0.92192,     0.92292,     0.92392,     0.92492,     0.92593,     0.92693,     0.92793,     0.92893,     0.92993,     0.93093,     0.93193,     0.93293,     0.93393,     0.93493,     0.93594,\n",
       "           0.93694,     0.93794,     0.93894,     0.93994,     0.94094,     0.94194,     0.94294,     0.94394,     0.94494,     0.94595,     0.94695,     0.94795,     0.94895,     0.94995,     0.95095,     0.95195,     0.95295,     0.95395,     0.95495,     0.95596,     0.95696,     0.95796,     0.95896,     0.95996,\n",
       "           0.96096,     0.96196,     0.96296,     0.96396,     0.96496,     0.96597,     0.96697,     0.96797,     0.96897,     0.96997,     0.97097,     0.97197,     0.97297,     0.97397,     0.97497,     0.97598,     0.97698,     0.97798,     0.97898,     0.97998,     0.98098,     0.98198,     0.98298,     0.98398,\n",
       "           0.98498,     0.98599,     0.98699,     0.98799,     0.98899,     0.98999,     0.99099,     0.99199,     0.99299,     0.99399,     0.99499,       0.996,       0.997,       0.998,       0.999,           1]), array([[    0.94118,     0.94118,     0.94118,     0.94118,     0.94118,     0.94118,     0.94118,     0.94118,     0.94118,     0.94118,     0.94118,     0.94118,     0.94118,     0.94118,     0.94118,     0.94118,     0.94118,     0.94118,     0.94118,     0.94118,     0.94118,     0.94118,     0.94118,\n",
       "            0.94118,     0.94118,     0.94118,     0.94118,     0.94118,     0.94118,     0.94118,     0.94118,     0.94118,     0.94118,     0.94118,     0.94118,     0.94118,     0.94118,     0.94118,     0.94118,     0.94118,     0.94118,     0.94118,     0.94118,     0.94118,     0.94118,     0.94118,\n",
       "            0.94118,     0.94118,     0.94118,     0.94118,     0.94118,     0.94118,     0.94118,     0.94118,     0.94118,     0.94118,     0.94118,     0.94118,     0.94118,     0.94118,     0.94118,     0.94118,     0.94118,     0.94118,     0.94118,     0.94118,     0.94118,     0.94118,     0.94118,\n",
       "            0.94118,     0.94118,     0.94118,     0.94118,     0.94118,     0.94118,     0.94118,     0.94118,     0.94118,     0.94118,     0.94118,     0.94118,     0.94118,     0.94118,     0.94118,     0.94118,     0.94118,     0.94118,     0.94118,     0.94118,     0.94118,     0.94118,     0.94118,\n",
       "            0.94118,     0.94118,     0.94118,     0.94118,     0.94118,     0.94118,     0.94118,     0.94118,     0.94118,     0.94118,     0.94118,     0.94118,     0.94118,     0.94118,     0.94118,     0.94118,     0.94118,     0.94118,     0.94118,     0.94118,     0.94118,     0.94118,     0.94118,\n",
       "            0.94118,     0.94118,     0.94118,     0.94118,     0.94118,     0.94118,     0.94118,     0.94118,     0.94118,     0.94118,     0.94118,     0.94118,     0.94118,     0.94118,     0.94118,     0.94118,     0.94118,     0.94118,     0.94118,     0.94118,     0.94118,     0.94118,     0.94118,\n",
       "            0.94118,     0.94118,     0.94118,     0.94118,     0.94118,     0.94118,     0.94118,     0.94118,     0.94118,     0.94118,     0.94118,     0.94118,     0.94118,     0.94118,     0.94118,     0.94118,     0.94118,     0.94118,     0.94118,     0.94118,     0.94118,     0.94118,     0.94118,\n",
       "            0.94118,     0.94118,     0.94118,     0.94118,     0.94118,     0.94118,     0.94118,     0.94118,     0.94118,     0.94118,     0.94118,     0.94118,     0.94118,     0.94118,     0.94118,     0.94118,     0.94118,     0.94118,     0.94118,     0.94118,     0.94118,     0.94118,     0.94118,\n",
       "            0.94118,     0.94118,     0.94118,     0.94118,     0.94118,     0.94118,     0.94118,     0.94118,     0.94118,     0.94118,     0.94118,     0.94118,     0.94118,     0.94118,     0.94118,     0.94118,     0.94118,     0.94118,     0.94118,     0.94118,     0.94118,     0.94118,     0.94118,\n",
       "            0.94118,     0.94118,     0.94118,     0.94118,     0.94118,     0.94118,     0.94118,     0.94118,     0.94118,     0.94118,     0.94118,     0.94118,     0.94118,     0.94118,     0.94118,     0.94118,     0.94118,     0.94118,     0.94118,     0.94118,     0.94118,     0.94118,     0.94118,\n",
       "            0.94118,     0.94118,     0.94118,     0.94118,     0.94118,     0.94118,     0.94118,     0.94118,     0.94118,     0.94118,     0.94118,     0.94118,     0.94118,     0.94118,     0.94118,     0.94118,     0.94118,     0.94118,     0.94118,     0.94118,     0.94118,     0.94118,     0.94118,\n",
       "            0.94118,     0.94118,     0.94118,     0.94118,     0.94118,     0.94118,     0.94118,     0.94118,     0.94118,     0.94118,     0.94118,     0.94118,     0.94118,     0.94118,     0.94118,     0.94118,     0.94118,     0.94118,     0.94118,     0.94118,     0.94118,     0.94118,     0.94118,\n",
       "            0.94118,     0.94118,     0.94118,     0.94118,     0.94118,     0.94118,     0.94118,     0.94118,     0.94118,     0.94118,     0.94118,     0.94118,     0.94118,     0.94118,     0.94118,     0.94118,     0.94118,     0.94118,     0.94118,     0.94118,     0.94118,     0.94118,     0.94118,\n",
       "            0.94118,     0.94118,     0.94118,     0.94118,     0.94118,     0.94118,     0.94118,     0.94118,     0.94118,     0.94118,     0.94118,     0.94118,     0.94118,     0.94118,     0.94118,     0.94118,     0.92958,     0.92958,     0.92958,     0.92958,     0.92958,     0.92958,     0.92958,\n",
       "            0.92958,     0.92958,     0.92958,     0.92105,     0.92105,     0.92105,     0.92105,     0.92105,     0.92105,     0.92105,     0.92105,     0.92105,     0.92105,     0.92105,     0.92105,     0.92105,     0.92105,     0.92105,     0.92105,     0.92105,     0.92105,     0.92105,     0.92105,\n",
       "            0.91503,     0.91503,     0.91503,     0.91503,     0.91503,     0.91503,     0.91503,     0.91503,     0.91503,     0.91503,     0.91503,     0.91503,     0.91503,     0.91503,     0.91503,     0.91503,     0.91503,     0.91503,     0.91503,     0.91503,     0.91503,     0.91503,     0.91503,\n",
       "            0.91503,     0.91503,     0.91503,     0.91503,     0.91503,     0.91503,     0.91503,     0.91503,     0.91503,     0.91503,     0.91503,     0.91503,     0.91503,     0.91503,     0.91503,     0.91503,     0.91503,     0.91503,     0.91503,     0.91503,     0.91503,     0.91503,     0.91503,\n",
       "            0.91503,     0.91503,     0.91503,     0.91503,     0.91503,     0.91503,     0.91503,     0.91503,     0.91503,     0.91503,     0.91503,     0.91503,     0.91503,     0.91503,     0.91503,     0.91503,     0.91503,     0.91503,     0.91503,     0.91503,     0.91503,     0.91503,     0.91503,\n",
       "            0.91503,     0.91503,     0.91503,     0.91503,     0.91503,     0.91503,     0.91503,     0.91503,     0.91503,     0.91503,     0.91503,     0.91503,     0.91503,     0.91503,     0.91503,     0.91503,     0.91503,     0.91503,     0.91503,     0.91503,     0.91503,     0.91503,     0.91503,\n",
       "            0.91503,     0.91503,     0.91503,     0.91503,     0.91503,     0.91503,     0.91503,     0.91503,     0.91503,     0.91503,     0.91503,     0.91503,     0.91503,     0.91503,     0.91503,     0.91503,     0.91503,     0.91503,     0.91503,     0.91503,     0.91503,     0.91503,     0.91503,\n",
       "            0.91503,     0.91503,     0.91503,     0.91503,     0.91503,     0.91503,     0.91503,     0.91503,     0.91503,     0.91503,     0.91503,     0.91503,     0.91503,     0.91503,     0.91503,     0.91503,     0.91503,     0.91503,     0.91503,     0.91503,     0.91503,     0.91503,     0.91503,\n",
       "            0.91503,     0.91503,     0.91503,     0.91503,     0.91503,     0.91503,     0.91503,     0.91503,     0.91503,     0.91503,     0.91503,     0.91503,     0.91503,     0.91503,     0.91503,     0.91503,     0.91503,     0.91503,     0.91503,     0.91503,     0.91503,     0.91503,     0.91503,\n",
       "            0.91503,     0.91503,     0.91503,     0.91503,     0.91503,     0.91503,     0.91503,     0.91503,     0.91503,     0.91503,     0.91503,     0.91503,     0.91503,     0.91503,     0.91503,     0.91503,     0.91503,     0.91503,     0.91503,     0.91503,     0.91503,     0.91503,     0.91503,\n",
       "            0.91503,     0.91503,     0.91503,     0.91503,     0.91503,     0.91503,     0.91503,     0.91503,     0.91503,     0.91503,     0.91503,     0.91503,     0.91503,     0.91503,     0.91503,     0.91503,     0.91503,     0.91503,     0.91503,     0.91503,     0.91503,     0.91503,     0.91503,\n",
       "            0.91503,     0.91503,     0.91503,     0.91503,     0.91503,     0.91503,     0.91503,     0.91503,     0.91503,     0.91503,     0.91503,     0.91503,     0.91503,     0.91503,     0.91503,     0.91503,     0.91503,     0.91503,     0.91503,     0.91503,     0.91503,     0.91503,     0.91503,\n",
       "            0.91503,     0.91503,     0.91503,     0.91503,     0.91503,     0.91503,     0.91503,     0.91503,     0.91503,     0.91503,     0.91503,     0.91503,     0.91503,     0.91503,     0.91503,     0.91503,     0.91503,     0.91503,     0.91503,     0.91503,     0.91503,     0.91503,     0.91503,\n",
       "            0.91503,     0.91503,     0.91503,     0.91503,     0.91503,     0.91503,     0.91503,     0.91503,     0.91503,     0.91503,     0.91503,     0.91503,     0.91503,     0.91503,     0.91503,     0.91503,     0.91503,     0.91503,     0.91503,     0.91503,     0.91503,     0.91503,     0.91503,\n",
       "            0.91503,     0.91503,     0.91503,     0.91503,     0.91503,     0.91503,     0.91503,     0.91503,     0.91503,     0.91503,     0.91503,     0.91503,     0.91503,     0.91503,     0.91503,     0.91503,     0.91503,     0.91503,     0.91503,     0.91503,     0.91503,     0.91503,     0.91503,\n",
       "            0.91503,     0.91503,     0.91503,     0.91503,     0.91503,     0.91503,     0.91503,     0.91503,     0.91503,     0.91503,     0.91503,     0.91503,     0.91503,     0.91503,     0.91503,     0.91503,     0.91503,     0.91503,     0.91503,     0.91503,     0.91503,     0.91503,     0.91503,\n",
       "            0.91503,     0.91503,     0.91503,     0.91503,     0.91503,     0.91503,     0.91503,     0.91503,     0.91503,     0.91503,     0.91503,     0.91503,     0.91503,     0.91503,     0.91503,     0.91503,     0.91503,     0.91503,     0.91503,     0.91503,     0.91503,     0.91503,     0.91477,\n",
       "            0.91477,     0.91477,     0.91477,     0.91477,     0.91477,     0.91477,     0.91477,     0.91477,     0.91477,     0.91477,     0.91477,     0.91477,     0.91477,     0.91477,     0.91477,     0.91477,     0.91477,     0.91477,     0.91477,     0.91477,     0.91477,     0.91477,     0.91477,\n",
       "            0.91477,     0.91477,     0.91477,     0.91477,     0.91477,     0.91477,     0.91477,     0.91477,     0.91477,     0.91477,     0.91477,     0.91477,     0.91477,     0.91477,     0.91477,     0.91477,     0.91477,     0.91477,     0.91477,     0.91477,     0.91477,     0.91477,     0.91477,\n",
       "            0.91477,     0.91477,     0.91477,     0.91477,     0.91477,     0.91477,     0.91477,     0.91477,     0.91477,     0.91477,     0.91477,     0.91477,     0.91477,     0.91477,     0.91477,     0.91477,     0.91477,     0.91477,     0.91477,     0.91477,     0.91477,     0.91477,     0.91477,\n",
       "            0.91477,     0.91477,     0.91477,     0.91477,     0.91477,     0.91477,     0.91477,     0.91477,     0.91477,     0.91477,     0.91477,     0.91477,     0.91477,     0.91477,     0.91477,     0.91477,     0.91477,     0.91477,     0.91477,     0.91477,     0.91477,     0.91477,     0.91477,\n",
       "            0.91477,     0.91477,     0.91477,     0.91477,     0.91477,     0.91477,     0.91477,     0.91477,     0.91477,     0.91477,     0.91477,     0.91061,     0.91061,     0.91061,     0.91061,     0.91061,     0.91061,     0.91061,     0.91061,     0.91061,     0.91061,     0.90625,     0.90625,\n",
       "            0.90625,     0.90625,     0.90625,     0.90625,     0.90625,     0.90625,     0.90625,     0.90625,     0.90625,     0.90625,     0.90625,     0.90625,     0.90625,     0.90625,     0.90625,     0.90625,     0.90625,     0.90625,     0.90625,     0.90625,     0.90625,     0.90625,     0.90625,\n",
       "            0.90625,     0.90625,     0.90625,     0.90625,     0.90625,     0.90625,     0.90625,     0.90625,     0.90625,     0.90625,     0.90625,     0.90625,     0.90625,     0.90625,     0.90625,     0.90625,     0.90625,     0.90625,     0.90625,     0.90625,     0.90625,     0.90625,     0.90625,\n",
       "            0.90625,     0.90625,     0.90625,     0.90625,     0.90625,     0.90625,     0.90404,     0.90404,     0.90404,     0.90404,     0.90404,     0.90404,     0.90404,     0.90404,     0.90404,     0.90404,     0.90404,     0.90404,     0.90404,     0.90404,     0.90404,     0.90404,     0.90404,\n",
       "            0.90404,     0.90404,     0.90404,     0.90404,     0.90404,     0.90404,     0.90404,     0.90099,     0.90099,     0.90099,     0.90099,     0.90099,     0.90099,     0.90099,     0.90099,     0.90099,     0.90099,     0.90099,     0.90099,     0.90099,     0.90099,     0.90099,     0.89756,\n",
       "            0.89756,     0.89756,     0.89756,     0.89756,     0.89756,     0.89756,     0.89756,     0.89756,     0.89756,     0.89474,     0.89474,     0.89474,     0.89474,     0.89474,     0.89474,     0.89474,     0.89474,     0.89474,     0.89474,     0.89474,     0.89474,     0.89474,     0.89474,\n",
       "            0.89474,     0.88263,     0.88263,     0.88263,     0.88263,     0.88263,     0.84753,     0.84753,     0.84753,     0.84753,     0.84753,     0.81545,     0.81545,     0.81545,     0.81545,     0.81545,     0.80591,     0.80591,     0.80591,     0.80591,     0.77733,     0.77733,     0.77733,\n",
       "            0.77733,     0.77733,     0.72119,     0.72119,     0.72119,     0.72119,     0.72119,     0.72119,     0.72119,     0.72119,     0.72119,     0.72119,       0.623,       0.623,       0.623,       0.623,       0.623,     0.60123,     0.60123,     0.60123,     0.60123,     0.60123,     0.56936,\n",
       "            0.56936,     0.56936,     0.56936,     0.56936,     0.53951,     0.53951,     0.53951,     0.53951,     0.53951,     0.53067,     0.53067,     0.53067,     0.53067,     0.53067,      0.4386,      0.4386,      0.4386,      0.4386,      0.4386,     0.27171,     0.25231,      0.2329,     0.21349,\n",
       "            0.19408,     0.17467,     0.15527,     0.13586,     0.11645,    0.097041,    0.077633,    0.058224,    0.038816,    0.019408,           0]]), 'Recall', 'Precision'], [array([          0,    0.001001,    0.002002,    0.003003,    0.004004,    0.005005,    0.006006,    0.007007,    0.008008,    0.009009,     0.01001,    0.011011,    0.012012,    0.013013,    0.014014,    0.015015,    0.016016,    0.017017,    0.018018,    0.019019,     0.02002,    0.021021,    0.022022,    0.023023,\n",
       "          0.024024,    0.025025,    0.026026,    0.027027,    0.028028,    0.029029,     0.03003,    0.031031,    0.032032,    0.033033,    0.034034,    0.035035,    0.036036,    0.037037,    0.038038,    0.039039,     0.04004,    0.041041,    0.042042,    0.043043,    0.044044,    0.045045,    0.046046,    0.047047,\n",
       "          0.048048,    0.049049,     0.05005,    0.051051,    0.052052,    0.053053,    0.054054,    0.055055,    0.056056,    0.057057,    0.058058,    0.059059,     0.06006,    0.061061,    0.062062,    0.063063,    0.064064,    0.065065,    0.066066,    0.067067,    0.068068,    0.069069,     0.07007,    0.071071,\n",
       "          0.072072,    0.073073,    0.074074,    0.075075,    0.076076,    0.077077,    0.078078,    0.079079,     0.08008,    0.081081,    0.082082,    0.083083,    0.084084,    0.085085,    0.086086,    0.087087,    0.088088,    0.089089,     0.09009,    0.091091,    0.092092,    0.093093,    0.094094,    0.095095,\n",
       "          0.096096,    0.097097,    0.098098,    0.099099,      0.1001,      0.1011,      0.1021,      0.1031,      0.1041,     0.10511,     0.10611,     0.10711,     0.10811,     0.10911,     0.11011,     0.11111,     0.11211,     0.11311,     0.11411,     0.11512,     0.11612,     0.11712,     0.11812,     0.11912,\n",
       "           0.12012,     0.12112,     0.12212,     0.12312,     0.12412,     0.12513,     0.12613,     0.12713,     0.12813,     0.12913,     0.13013,     0.13113,     0.13213,     0.13313,     0.13413,     0.13514,     0.13614,     0.13714,     0.13814,     0.13914,     0.14014,     0.14114,     0.14214,     0.14314,\n",
       "           0.14414,     0.14515,     0.14615,     0.14715,     0.14815,     0.14915,     0.15015,     0.15115,     0.15215,     0.15315,     0.15415,     0.15516,     0.15616,     0.15716,     0.15816,     0.15916,     0.16016,     0.16116,     0.16216,     0.16316,     0.16416,     0.16517,     0.16617,     0.16717,\n",
       "           0.16817,     0.16917,     0.17017,     0.17117,     0.17217,     0.17317,     0.17417,     0.17518,     0.17618,     0.17718,     0.17818,     0.17918,     0.18018,     0.18118,     0.18218,     0.18318,     0.18418,     0.18519,     0.18619,     0.18719,     0.18819,     0.18919,     0.19019,     0.19119,\n",
       "           0.19219,     0.19319,     0.19419,      0.1952,      0.1962,      0.1972,      0.1982,      0.1992,      0.2002,      0.2012,      0.2022,      0.2032,      0.2042,     0.20521,     0.20621,     0.20721,     0.20821,     0.20921,     0.21021,     0.21121,     0.21221,     0.21321,     0.21421,     0.21522,\n",
       "           0.21622,     0.21722,     0.21822,     0.21922,     0.22022,     0.22122,     0.22222,     0.22322,     0.22422,     0.22523,     0.22623,     0.22723,     0.22823,     0.22923,     0.23023,     0.23123,     0.23223,     0.23323,     0.23423,     0.23524,     0.23624,     0.23724,     0.23824,     0.23924,\n",
       "           0.24024,     0.24124,     0.24224,     0.24324,     0.24424,     0.24525,     0.24625,     0.24725,     0.24825,     0.24925,     0.25025,     0.25125,     0.25225,     0.25325,     0.25425,     0.25526,     0.25626,     0.25726,     0.25826,     0.25926,     0.26026,     0.26126,     0.26226,     0.26326,\n",
       "           0.26426,     0.26527,     0.26627,     0.26727,     0.26827,     0.26927,     0.27027,     0.27127,     0.27227,     0.27327,     0.27427,     0.27528,     0.27628,     0.27728,     0.27828,     0.27928,     0.28028,     0.28128,     0.28228,     0.28328,     0.28428,     0.28529,     0.28629,     0.28729,\n",
       "           0.28829,     0.28929,     0.29029,     0.29129,     0.29229,     0.29329,     0.29429,      0.2953,      0.2963,      0.2973,      0.2983,      0.2993,      0.3003,      0.3013,      0.3023,      0.3033,      0.3043,     0.30531,     0.30631,     0.30731,     0.30831,     0.30931,     0.31031,     0.31131,\n",
       "           0.31231,     0.31331,     0.31431,     0.31532,     0.31632,     0.31732,     0.31832,     0.31932,     0.32032,     0.32132,     0.32232,     0.32332,     0.32432,     0.32533,     0.32633,     0.32733,     0.32833,     0.32933,     0.33033,     0.33133,     0.33233,     0.33333,     0.33433,     0.33534,\n",
       "           0.33634,     0.33734,     0.33834,     0.33934,     0.34034,     0.34134,     0.34234,     0.34334,     0.34434,     0.34535,     0.34635,     0.34735,     0.34835,     0.34935,     0.35035,     0.35135,     0.35235,     0.35335,     0.35435,     0.35536,     0.35636,     0.35736,     0.35836,     0.35936,\n",
       "           0.36036,     0.36136,     0.36236,     0.36336,     0.36436,     0.36537,     0.36637,     0.36737,     0.36837,     0.36937,     0.37037,     0.37137,     0.37237,     0.37337,     0.37437,     0.37538,     0.37638,     0.37738,     0.37838,     0.37938,     0.38038,     0.38138,     0.38238,     0.38338,\n",
       "           0.38438,     0.38539,     0.38639,     0.38739,     0.38839,     0.38939,     0.39039,     0.39139,     0.39239,     0.39339,     0.39439,      0.3954,      0.3964,      0.3974,      0.3984,      0.3994,      0.4004,      0.4014,      0.4024,      0.4034,      0.4044,     0.40541,     0.40641,     0.40741,\n",
       "           0.40841,     0.40941,     0.41041,     0.41141,     0.41241,     0.41341,     0.41441,     0.41542,     0.41642,     0.41742,     0.41842,     0.41942,     0.42042,     0.42142,     0.42242,     0.42342,     0.42442,     0.42543,     0.42643,     0.42743,     0.42843,     0.42943,     0.43043,     0.43143,\n",
       "           0.43243,     0.43343,     0.43443,     0.43544,     0.43644,     0.43744,     0.43844,     0.43944,     0.44044,     0.44144,     0.44244,     0.44344,     0.44444,     0.44545,     0.44645,     0.44745,     0.44845,     0.44945,     0.45045,     0.45145,     0.45245,     0.45345,     0.45445,     0.45546,\n",
       "           0.45646,     0.45746,     0.45846,     0.45946,     0.46046,     0.46146,     0.46246,     0.46346,     0.46446,     0.46547,     0.46647,     0.46747,     0.46847,     0.46947,     0.47047,     0.47147,     0.47247,     0.47347,     0.47447,     0.47548,     0.47648,     0.47748,     0.47848,     0.47948,\n",
       "           0.48048,     0.48148,     0.48248,     0.48348,     0.48448,     0.48549,     0.48649,     0.48749,     0.48849,     0.48949,     0.49049,     0.49149,     0.49249,     0.49349,     0.49449,      0.4955,      0.4965,      0.4975,      0.4985,      0.4995,      0.5005,      0.5015,      0.5025,      0.5035,\n",
       "            0.5045,     0.50551,     0.50651,     0.50751,     0.50851,     0.50951,     0.51051,     0.51151,     0.51251,     0.51351,     0.51451,     0.51552,     0.51652,     0.51752,     0.51852,     0.51952,     0.52052,     0.52152,     0.52252,     0.52352,     0.52452,     0.52553,     0.52653,     0.52753,\n",
       "           0.52853,     0.52953,     0.53053,     0.53153,     0.53253,     0.53353,     0.53453,     0.53554,     0.53654,     0.53754,     0.53854,     0.53954,     0.54054,     0.54154,     0.54254,     0.54354,     0.54454,     0.54555,     0.54655,     0.54755,     0.54855,     0.54955,     0.55055,     0.55155,\n",
       "           0.55255,     0.55355,     0.55455,     0.55556,     0.55656,     0.55756,     0.55856,     0.55956,     0.56056,     0.56156,     0.56256,     0.56356,     0.56456,     0.56557,     0.56657,     0.56757,     0.56857,     0.56957,     0.57057,     0.57157,     0.57257,     0.57357,     0.57457,     0.57558,\n",
       "           0.57658,     0.57758,     0.57858,     0.57958,     0.58058,     0.58158,     0.58258,     0.58358,     0.58458,     0.58559,     0.58659,     0.58759,     0.58859,     0.58959,     0.59059,     0.59159,     0.59259,     0.59359,     0.59459,      0.5956,      0.5966,      0.5976,      0.5986,      0.5996,\n",
       "            0.6006,      0.6016,      0.6026,      0.6036,      0.6046,     0.60561,     0.60661,     0.60761,     0.60861,     0.60961,     0.61061,     0.61161,     0.61261,     0.61361,     0.61461,     0.61562,     0.61662,     0.61762,     0.61862,     0.61962,     0.62062,     0.62162,     0.62262,     0.62362,\n",
       "           0.62462,     0.62563,     0.62663,     0.62763,     0.62863,     0.62963,     0.63063,     0.63163,     0.63263,     0.63363,     0.63463,     0.63564,     0.63664,     0.63764,     0.63864,     0.63964,     0.64064,     0.64164,     0.64264,     0.64364,     0.64464,     0.64565,     0.64665,     0.64765,\n",
       "           0.64865,     0.64965,     0.65065,     0.65165,     0.65265,     0.65365,     0.65465,     0.65566,     0.65666,     0.65766,     0.65866,     0.65966,     0.66066,     0.66166,     0.66266,     0.66366,     0.66466,     0.66567,     0.66667,     0.66767,     0.66867,     0.66967,     0.67067,     0.67167,\n",
       "           0.67267,     0.67367,     0.67467,     0.67568,     0.67668,     0.67768,     0.67868,     0.67968,     0.68068,     0.68168,     0.68268,     0.68368,     0.68468,     0.68569,     0.68669,     0.68769,     0.68869,     0.68969,     0.69069,     0.69169,     0.69269,     0.69369,     0.69469,      0.6957,\n",
       "            0.6967,      0.6977,      0.6987,      0.6997,      0.7007,      0.7017,      0.7027,      0.7037,      0.7047,     0.70571,     0.70671,     0.70771,     0.70871,     0.70971,     0.71071,     0.71171,     0.71271,     0.71371,     0.71471,     0.71572,     0.71672,     0.71772,     0.71872,     0.71972,\n",
       "           0.72072,     0.72172,     0.72272,     0.72372,     0.72472,     0.72573,     0.72673,     0.72773,     0.72873,     0.72973,     0.73073,     0.73173,     0.73273,     0.73373,     0.73473,     0.73574,     0.73674,     0.73774,     0.73874,     0.73974,     0.74074,     0.74174,     0.74274,     0.74374,\n",
       "           0.74474,     0.74575,     0.74675,     0.74775,     0.74875,     0.74975,     0.75075,     0.75175,     0.75275,     0.75375,     0.75475,     0.75576,     0.75676,     0.75776,     0.75876,     0.75976,     0.76076,     0.76176,     0.76276,     0.76376,     0.76476,     0.76577,     0.76677,     0.76777,\n",
       "           0.76877,     0.76977,     0.77077,     0.77177,     0.77277,     0.77377,     0.77477,     0.77578,     0.77678,     0.77778,     0.77878,     0.77978,     0.78078,     0.78178,     0.78278,     0.78378,     0.78478,     0.78579,     0.78679,     0.78779,     0.78879,     0.78979,     0.79079,     0.79179,\n",
       "           0.79279,     0.79379,     0.79479,      0.7958,      0.7968,      0.7978,      0.7988,      0.7998,      0.8008,      0.8018,      0.8028,      0.8038,      0.8048,     0.80581,     0.80681,     0.80781,     0.80881,     0.80981,     0.81081,     0.81181,     0.81281,     0.81381,     0.81481,     0.81582,\n",
       "           0.81682,     0.81782,     0.81882,     0.81982,     0.82082,     0.82182,     0.82282,     0.82382,     0.82482,     0.82583,     0.82683,     0.82783,     0.82883,     0.82983,     0.83083,     0.83183,     0.83283,     0.83383,     0.83483,     0.83584,     0.83684,     0.83784,     0.83884,     0.83984,\n",
       "           0.84084,     0.84184,     0.84284,     0.84384,     0.84484,     0.84585,     0.84685,     0.84785,     0.84885,     0.84985,     0.85085,     0.85185,     0.85285,     0.85385,     0.85485,     0.85586,     0.85686,     0.85786,     0.85886,     0.85986,     0.86086,     0.86186,     0.86286,     0.86386,\n",
       "           0.86486,     0.86587,     0.86687,     0.86787,     0.86887,     0.86987,     0.87087,     0.87187,     0.87287,     0.87387,     0.87487,     0.87588,     0.87688,     0.87788,     0.87888,     0.87988,     0.88088,     0.88188,     0.88288,     0.88388,     0.88488,     0.88589,     0.88689,     0.88789,\n",
       "           0.88889,     0.88989,     0.89089,     0.89189,     0.89289,     0.89389,     0.89489,      0.8959,      0.8969,      0.8979,      0.8989,      0.8999,      0.9009,      0.9019,      0.9029,      0.9039,      0.9049,     0.90591,     0.90691,     0.90791,     0.90891,     0.90991,     0.91091,     0.91191,\n",
       "           0.91291,     0.91391,     0.91491,     0.91592,     0.91692,     0.91792,     0.91892,     0.91992,     0.92092,     0.92192,     0.92292,     0.92392,     0.92492,     0.92593,     0.92693,     0.92793,     0.92893,     0.92993,     0.93093,     0.93193,     0.93293,     0.93393,     0.93493,     0.93594,\n",
       "           0.93694,     0.93794,     0.93894,     0.93994,     0.94094,     0.94194,     0.94294,     0.94394,     0.94494,     0.94595,     0.94695,     0.94795,     0.94895,     0.94995,     0.95095,     0.95195,     0.95295,     0.95395,     0.95495,     0.95596,     0.95696,     0.95796,     0.95896,     0.95996,\n",
       "           0.96096,     0.96196,     0.96296,     0.96396,     0.96496,     0.96597,     0.96697,     0.96797,     0.96897,     0.96997,     0.97097,     0.97197,     0.97297,     0.97397,     0.97497,     0.97598,     0.97698,     0.97798,     0.97898,     0.97998,     0.98098,     0.98198,     0.98298,     0.98398,\n",
       "           0.98498,     0.98599,     0.98699,     0.98799,     0.98899,     0.98999,     0.99099,     0.99199,     0.99299,     0.99399,     0.99499,       0.996,       0.997,       0.998,       0.999,           1]), array([[    0.44395,     0.44395,     0.51122,     0.53972,     0.55865,     0.57045,     0.58438,     0.59404,     0.60185,     0.60871,     0.62188,     0.62707,     0.62929,     0.63438,     0.63691,     0.63936,     0.64368,     0.64704,     0.64982,     0.65324,     0.65418,     0.65662,     0.65959,\n",
       "            0.66211,       0.668,     0.67026,     0.67124,     0.67225,     0.67642,     0.68396,     0.68703,     0.68661,     0.68736,     0.68982,     0.69144,     0.69214,     0.69357,     0.69374,     0.69496,     0.69521,     0.69547,     0.69572,     0.69598,     0.69663,     0.69801,     0.70149,\n",
       "            0.70311,      0.7041,     0.70472,     0.70538,     0.70603,     0.70851,     0.71047,     0.71385,     0.71531,     0.71603,     0.71648,     0.71668,     0.71688,     0.71709,     0.71729,      0.7175,     0.71741,     0.71594,     0.71685,     0.71746,     0.71827,     0.72122,     0.72237,\n",
       "            0.72297,     0.72552,     0.72874,     0.73302,     0.73497,     0.74019,     0.73866,     0.73905,     0.73944,     0.73983,      0.7406,     0.74287,     0.74614,     0.74712,     0.74829,     0.74932,     0.75009,      0.7504,     0.75071,     0.75102,     0.75133,     0.75201,     0.75293,\n",
       "            0.75406,     0.75547,      0.7538,     0.75699,     0.75801,     0.75952,     0.76005,     0.76058,     0.76144,      0.7625,     0.76357,     0.76404,     0.76435,     0.76467,     0.76499,     0.76534,     0.76633,     0.76722,     0.76803,     0.76881,      0.7696,     0.77003,     0.77031,\n",
       "            0.77058,     0.77086,     0.77113,     0.77146,     0.77209,     0.77272,     0.77343,     0.77417,     0.77466,     0.77499,     0.77532,     0.77565,     0.77598,     0.77647,     0.77698,     0.77749,     0.77807,     0.77865,     0.77944,     0.78088,     0.78174,     0.78243,     0.78286,\n",
       "            0.78329,     0.78372,     0.78434,     0.78503,     0.78611,     0.78711,     0.78731,     0.78752,     0.78772,     0.78793,     0.78813,     0.78834,     0.78854,     0.78885,      0.7892,     0.78956,     0.78991,     0.79056,     0.79216,      0.7928,     0.79343,     0.79367,     0.79388,\n",
       "             0.7941,     0.79432,     0.79454,     0.79476,     0.79498,     0.79528,     0.79566,     0.79605,     0.79643,     0.79709,      0.7984,     0.79869,     0.79899,     0.79928,     0.79957,     0.79987,     0.80073,     0.80184,     0.80244,     0.80303,     0.80382,     0.80479,     0.80609,\n",
       "            0.80997,     0.81033,     0.81065,     0.81096,     0.81128,     0.81159,     0.81233,     0.81332,     0.81393,     0.81449,     0.81505,     0.81633,     0.81706,     0.81741,     0.81775,      0.8181,     0.81844,     0.81872,     0.81897,     0.81922,     0.81947,     0.81972,     0.81997,\n",
       "            0.82022,     0.82196,     0.82103,      0.8201,     0.81928,     0.81864,     0.81799,     0.81735,     0.81766,      0.8192,     0.82061,     0.82078,     0.82095,     0.82113,      0.8213,     0.82148,     0.82165,     0.82182,       0.822,     0.82217,     0.82421,     0.82464,     0.82507,\n",
       "             0.8255,      0.8277,     0.82814,     0.82857,       0.829,     0.82946,      0.8301,     0.83074,     0.83143,     0.83226,     0.83303,     0.83345,     0.83388,      0.8343,     0.83472,     0.83585,     0.83693,     0.83776,      0.8387,     0.84007,     0.84046,     0.84068,     0.84091,\n",
       "            0.84113,     0.84136,     0.84158,     0.84181,     0.84204,     0.84221,     0.84236,     0.84251,     0.84267,     0.84282,     0.84297,     0.84312,     0.84327,     0.84342,     0.84358,     0.84373,     0.84388,     0.84521,     0.84608,     0.84643,     0.84678,     0.84713,     0.84747,\n",
       "            0.84792,     0.84851,      0.8491,     0.84985,     0.85114,     0.85203,     0.85281,     0.85084,     0.85104,     0.85124,     0.85144,     0.85164,     0.85184,     0.85204,     0.85224,     0.85244,     0.85264,       0.853,     0.85339,     0.85378,     0.85417,     0.85456,     0.85511,\n",
       "            0.85567,     0.85623,     0.85787,     0.85905,     0.85984,     0.86056,     0.86113,      0.8617,     0.86227,      0.8625,     0.86271,     0.86292,     0.86313,     0.86334,     0.86355,     0.86376,     0.86397,     0.86418,     0.86675,     0.86756,     0.86805,     0.86746,     0.86687,\n",
       "            0.86629,      0.8657,     0.86657,     0.86773,     0.86889,     0.87124,     0.87048,     0.86972,     0.87097,     0.87156,     0.87215,     0.87274,     0.87462,     0.87679,     0.87756,     0.87816,     0.87875,     0.87929,     0.87976,     0.88022,     0.88069,     0.88118,     0.88195,\n",
       "            0.88272,     0.88402,     0.88576,     0.88698,     0.88698,     0.88649,       0.886,     0.88551,     0.88502,     0.88513,     0.88636,     0.88902,     0.88924,     0.88945,     0.88966,     0.88987,     0.89008,     0.89029,      0.8905,     0.89071,     0.89092,     0.89131,     0.89179,\n",
       "            0.89227,     0.89275,     0.89326,     0.89384,     0.89442,       0.895,     0.89567,      0.8964,     0.89713,     0.89757,     0.89786,     0.89816,     0.89845,     0.89875,     0.89904,     0.89933,     0.89969,     0.90015,     0.90062,     0.90108,     0.90155,     0.90178,     0.90191,\n",
       "            0.90205,     0.90219,     0.90232,     0.90246,      0.9026,     0.90273,     0.90287,     0.90301,     0.90314,     0.90328,     0.90342,     0.90355,     0.90369,     0.90383,     0.90322,      0.9025,     0.90178,     0.90132,     0.90188,     0.90244,     0.90299,     0.90344,     0.90365,\n",
       "            0.90386,     0.90407,     0.90428,     0.90449,      0.9047,     0.90491,     0.90511,     0.90532,     0.90553,     0.90596,     0.90643,     0.90691,     0.90738,     0.90773,     0.90752,      0.9073,     0.90709,     0.90687,     0.90666,     0.90645,     0.90623,     0.90602,     0.90581,\n",
       "            0.90559,     0.90538,     0.90516,     0.90496,     0.90477,     0.90457,     0.90438,     0.90418,     0.90399,     0.90379,      0.9036,      0.9034,     0.90321,     0.90301,     0.90281,     0.90262,     0.90231,     0.90074,     0.90061,     0.90141,     0.90002,     0.89905,     0.89859,\n",
       "            0.89813,     0.89767,      0.8972,     0.89674,     0.89723,     0.89836,     0.89696,     0.89587,     0.89561,     0.89536,      0.8951,     0.89485,     0.89459,     0.89434,     0.89408,     0.89383,     0.89357,     0.89332,     0.89286,     0.89239,     0.89192,     0.89145,     0.89098,\n",
       "            0.89074,     0.89261,      0.8912,     0.88994,     0.88959,     0.88923,     0.88888,     0.88852,     0.88816,     0.88781,     0.88745,     0.88715,     0.88694,     0.88674,     0.88653,     0.88633,     0.88612,     0.88592,     0.88571,     0.88551,      0.8853,      0.8851,     0.88489,\n",
       "            0.88469,     0.88448,     0.88128,      0.8808,     0.88031,     0.87983,     0.87935,     0.87886,     0.87975,     0.88089,      0.8727,     0.87155,     0.87056,     0.86958,      0.8681,     0.86664,     0.86605,     0.86545,     0.86485,     0.86426,     0.86073,     0.86013,     0.85952,\n",
       "            0.85892,     0.85832,     0.85767,     0.85691,     0.85615,     0.85539,     0.85454,     0.85352,     0.85251,     0.85215,     0.85261,     0.85306,     0.85352,     0.85397,     0.85329,     0.85175,     0.85153,      0.8521,     0.85267,     0.85324,     0.85118,     0.84808,      0.8492,\n",
       "            0.84869,     0.84817,     0.84765,     0.84713,      0.8466,     0.83285,     0.82406,     0.82243,      0.8176,     0.81596,     0.81108,     0.80941,     0.80824,     0.80741,     0.80657,     0.80573,     0.80627,      0.8074,     0.80707,     0.80622,     0.80538,     0.80454,     0.80298,\n",
       "            0.80129,       0.788,     0.78452,     0.78644,     0.78313,     0.77866,     0.77765,     0.77663,     0.77067,     0.76707,     0.76459,     0.76277,     0.75256,     0.75058,     0.74935,     0.74811,      0.7413,     0.73753,     0.73529,     0.73339,     0.72982,     0.72234,     0.72344,\n",
       "            0.72315,     0.72121,     0.71158,      0.7096,     0.70372,     0.70171,     0.69628,     0.69512,     0.69396,     0.68463,     0.68257,      0.6805,     0.67842,     0.66753,     0.66329,     0.65901,     0.65471,     0.64306,      0.6418,     0.64054,     0.63928,      0.6371,     0.63255,\n",
       "            0.63031,     0.61921,     0.61692,     0.61454,     0.61147,     0.60889,     0.60656,      0.6026,     0.60277,     0.60152,     0.59917,     0.59976,     0.59908,     0.59546,     0.59387,     0.59227,     0.58607,     0.58469,     0.58331,     0.57714,     0.57469,      0.5723,     0.57089,\n",
       "            0.56948,     0.56806,     0.56595,     0.56346,      0.5493,       0.529,     0.52637,     0.51424,     0.51477,      0.5153,     0.51583,      0.5008,     0.50172,     0.50035,     0.49877,     0.49719,       0.495,     0.49222,     0.47966,     0.47593,     0.47307,     0.47179,     0.46793,\n",
       "            0.46554,     0.46388,      0.4622,     0.45445,     0.45149,     0.44907,     0.44788,     0.44668,     0.44549,     0.44429,      0.4305,     0.42745,     0.41787,     0.40764,     0.40449,     0.40113,      0.3942,     0.38717,     0.38394,        0.38,     0.37586,     0.37259,     0.36259,\n",
       "            0.35815,     0.35196,     0.34521,     0.32686,     0.30851,     0.30378,     0.27888,     0.27521,     0.26851,     0.25919,     0.25417,     0.25037,     0.24647,     0.24136,     0.23621,     0.23122,     0.22732,     0.22365,     0.22102,      0.2184,     0.20063,     0.19968,     0.19873,\n",
       "            0.19778,     0.19683,     0.19587,     0.19492,     0.19397,     0.19301,     0.17971,      0.1742,     0.16866,     0.16307,     0.15996,     0.15867,     0.15737,     0.15607,     0.15477,     0.15346,     0.15112,     0.14543,     0.13127,      0.1265,       0.124,     0.12149,     0.11898,\n",
       "            0.10477,     0.10009,    0.097088,    0.094081,    0.091064,    0.088036,    0.085001,    0.080185,    0.074771,    0.074815,    0.074857,    0.074898,    0.074939,    0.074979,    0.075017,    0.075056,    0.075093,    0.075055,    0.073813,    0.072569,    0.071323,    0.070076,    0.068828,\n",
       "           0.067579,    0.066307,    0.063955,    0.061597,    0.059235,    0.056775,    0.053606,    0.050429,    0.046636,    0.040224,    0.028621,     0.02812,    0.027618,    0.027116,    0.026614,    0.026112,     0.02561,    0.025107,    0.024605,    0.024102,    0.023599,    0.023096,    0.022592,\n",
       "           0.022089,    0.021585,    0.021081,    0.020577,    0.020072,    0.019568,     0.01897,    0.018332,    0.017695,    0.017057,    0.016419,     0.01578,    0.015142,    0.014503,    0.013864,    0.013225,    0.012586,    0.011946,    0.011306,    0.010666,    0.010025,   0.0095802,   0.0092771,\n",
       "          0.0089741,   0.0086711,    0.008368,    0.008065,   0.0077619,   0.0074589,   0.0071559,   0.0068528,   0.0065498,   0.0062467,   0.0059437,   0.0056407,   0.0053376,   0.0050346,   0.0047316,   0.0044285,   0.0041255,   0.0038224,   0.0035194,   0.0032164,   0.0029133,   0.0026103,   0.0023073,\n",
       "          0.0020042,   0.0017012,   0.0013981,   0.0010951,  0.00079207,  0.00048903,    0.000186,           0,           0,           0,           0,           0,           0,           0,           0,           0,           0,           0,           0,           0,           0,           0,           0,\n",
       "                  0,           0,           0,           0,           0,           0,           0,           0,           0,           0,           0,           0,           0,           0,           0,           0,           0,           0,           0,           0,           0,           0,           0,\n",
       "                  0,           0,           0,           0,           0,           0,           0,           0,           0,           0,           0,           0,           0,           0,           0,           0,           0,           0,           0,           0,           0,           0,           0,\n",
       "                  0,           0,           0,           0,           0,           0,           0,           0,           0,           0,           0,           0,           0,           0,           0,           0,           0,           0,           0,           0,           0,           0,           0,\n",
       "                  0,           0,           0,           0,           0,           0,           0,           0,           0,           0,           0,           0,           0,           0,           0,           0,           0,           0,           0,           0,           0,           0,           0,\n",
       "                  0,           0,           0,           0,           0,           0,           0,           0,           0,           0,           0,           0,           0,           0,           0,           0,           0,           0,           0,           0,           0,           0,           0,\n",
       "                  0,           0,           0,           0,           0,           0,           0,           0,           0,           0,           0,           0,           0,           0,           0,           0,           0,           0,           0,           0,           0,           0,           0,\n",
       "                  0,           0,           0,           0,           0,           0,           0,           0,           0,           0,           0]]), 'Confidence', 'F1'], [array([          0,    0.001001,    0.002002,    0.003003,    0.004004,    0.005005,    0.006006,    0.007007,    0.008008,    0.009009,     0.01001,    0.011011,    0.012012,    0.013013,    0.014014,    0.015015,    0.016016,    0.017017,    0.018018,    0.019019,     0.02002,    0.021021,    0.022022,    0.023023,\n",
       "          0.024024,    0.025025,    0.026026,    0.027027,    0.028028,    0.029029,     0.03003,    0.031031,    0.032032,    0.033033,    0.034034,    0.035035,    0.036036,    0.037037,    0.038038,    0.039039,     0.04004,    0.041041,    0.042042,    0.043043,    0.044044,    0.045045,    0.046046,    0.047047,\n",
       "          0.048048,    0.049049,     0.05005,    0.051051,    0.052052,    0.053053,    0.054054,    0.055055,    0.056056,    0.057057,    0.058058,    0.059059,     0.06006,    0.061061,    0.062062,    0.063063,    0.064064,    0.065065,    0.066066,    0.067067,    0.068068,    0.069069,     0.07007,    0.071071,\n",
       "          0.072072,    0.073073,    0.074074,    0.075075,    0.076076,    0.077077,    0.078078,    0.079079,     0.08008,    0.081081,    0.082082,    0.083083,    0.084084,    0.085085,    0.086086,    0.087087,    0.088088,    0.089089,     0.09009,    0.091091,    0.092092,    0.093093,    0.094094,    0.095095,\n",
       "          0.096096,    0.097097,    0.098098,    0.099099,      0.1001,      0.1011,      0.1021,      0.1031,      0.1041,     0.10511,     0.10611,     0.10711,     0.10811,     0.10911,     0.11011,     0.11111,     0.11211,     0.11311,     0.11411,     0.11512,     0.11612,     0.11712,     0.11812,     0.11912,\n",
       "           0.12012,     0.12112,     0.12212,     0.12312,     0.12412,     0.12513,     0.12613,     0.12713,     0.12813,     0.12913,     0.13013,     0.13113,     0.13213,     0.13313,     0.13413,     0.13514,     0.13614,     0.13714,     0.13814,     0.13914,     0.14014,     0.14114,     0.14214,     0.14314,\n",
       "           0.14414,     0.14515,     0.14615,     0.14715,     0.14815,     0.14915,     0.15015,     0.15115,     0.15215,     0.15315,     0.15415,     0.15516,     0.15616,     0.15716,     0.15816,     0.15916,     0.16016,     0.16116,     0.16216,     0.16316,     0.16416,     0.16517,     0.16617,     0.16717,\n",
       "           0.16817,     0.16917,     0.17017,     0.17117,     0.17217,     0.17317,     0.17417,     0.17518,     0.17618,     0.17718,     0.17818,     0.17918,     0.18018,     0.18118,     0.18218,     0.18318,     0.18418,     0.18519,     0.18619,     0.18719,     0.18819,     0.18919,     0.19019,     0.19119,\n",
       "           0.19219,     0.19319,     0.19419,      0.1952,      0.1962,      0.1972,      0.1982,      0.1992,      0.2002,      0.2012,      0.2022,      0.2032,      0.2042,     0.20521,     0.20621,     0.20721,     0.20821,     0.20921,     0.21021,     0.21121,     0.21221,     0.21321,     0.21421,     0.21522,\n",
       "           0.21622,     0.21722,     0.21822,     0.21922,     0.22022,     0.22122,     0.22222,     0.22322,     0.22422,     0.22523,     0.22623,     0.22723,     0.22823,     0.22923,     0.23023,     0.23123,     0.23223,     0.23323,     0.23423,     0.23524,     0.23624,     0.23724,     0.23824,     0.23924,\n",
       "           0.24024,     0.24124,     0.24224,     0.24324,     0.24424,     0.24525,     0.24625,     0.24725,     0.24825,     0.24925,     0.25025,     0.25125,     0.25225,     0.25325,     0.25425,     0.25526,     0.25626,     0.25726,     0.25826,     0.25926,     0.26026,     0.26126,     0.26226,     0.26326,\n",
       "           0.26426,     0.26527,     0.26627,     0.26727,     0.26827,     0.26927,     0.27027,     0.27127,     0.27227,     0.27327,     0.27427,     0.27528,     0.27628,     0.27728,     0.27828,     0.27928,     0.28028,     0.28128,     0.28228,     0.28328,     0.28428,     0.28529,     0.28629,     0.28729,\n",
       "           0.28829,     0.28929,     0.29029,     0.29129,     0.29229,     0.29329,     0.29429,      0.2953,      0.2963,      0.2973,      0.2983,      0.2993,      0.3003,      0.3013,      0.3023,      0.3033,      0.3043,     0.30531,     0.30631,     0.30731,     0.30831,     0.30931,     0.31031,     0.31131,\n",
       "           0.31231,     0.31331,     0.31431,     0.31532,     0.31632,     0.31732,     0.31832,     0.31932,     0.32032,     0.32132,     0.32232,     0.32332,     0.32432,     0.32533,     0.32633,     0.32733,     0.32833,     0.32933,     0.33033,     0.33133,     0.33233,     0.33333,     0.33433,     0.33534,\n",
       "           0.33634,     0.33734,     0.33834,     0.33934,     0.34034,     0.34134,     0.34234,     0.34334,     0.34434,     0.34535,     0.34635,     0.34735,     0.34835,     0.34935,     0.35035,     0.35135,     0.35235,     0.35335,     0.35435,     0.35536,     0.35636,     0.35736,     0.35836,     0.35936,\n",
       "           0.36036,     0.36136,     0.36236,     0.36336,     0.36436,     0.36537,     0.36637,     0.36737,     0.36837,     0.36937,     0.37037,     0.37137,     0.37237,     0.37337,     0.37437,     0.37538,     0.37638,     0.37738,     0.37838,     0.37938,     0.38038,     0.38138,     0.38238,     0.38338,\n",
       "           0.38438,     0.38539,     0.38639,     0.38739,     0.38839,     0.38939,     0.39039,     0.39139,     0.39239,     0.39339,     0.39439,      0.3954,      0.3964,      0.3974,      0.3984,      0.3994,      0.4004,      0.4014,      0.4024,      0.4034,      0.4044,     0.40541,     0.40641,     0.40741,\n",
       "           0.40841,     0.40941,     0.41041,     0.41141,     0.41241,     0.41341,     0.41441,     0.41542,     0.41642,     0.41742,     0.41842,     0.41942,     0.42042,     0.42142,     0.42242,     0.42342,     0.42442,     0.42543,     0.42643,     0.42743,     0.42843,     0.42943,     0.43043,     0.43143,\n",
       "           0.43243,     0.43343,     0.43443,     0.43544,     0.43644,     0.43744,     0.43844,     0.43944,     0.44044,     0.44144,     0.44244,     0.44344,     0.44444,     0.44545,     0.44645,     0.44745,     0.44845,     0.44945,     0.45045,     0.45145,     0.45245,     0.45345,     0.45445,     0.45546,\n",
       "           0.45646,     0.45746,     0.45846,     0.45946,     0.46046,     0.46146,     0.46246,     0.46346,     0.46446,     0.46547,     0.46647,     0.46747,     0.46847,     0.46947,     0.47047,     0.47147,     0.47247,     0.47347,     0.47447,     0.47548,     0.47648,     0.47748,     0.47848,     0.47948,\n",
       "           0.48048,     0.48148,     0.48248,     0.48348,     0.48448,     0.48549,     0.48649,     0.48749,     0.48849,     0.48949,     0.49049,     0.49149,     0.49249,     0.49349,     0.49449,      0.4955,      0.4965,      0.4975,      0.4985,      0.4995,      0.5005,      0.5015,      0.5025,      0.5035,\n",
       "            0.5045,     0.50551,     0.50651,     0.50751,     0.50851,     0.50951,     0.51051,     0.51151,     0.51251,     0.51351,     0.51451,     0.51552,     0.51652,     0.51752,     0.51852,     0.51952,     0.52052,     0.52152,     0.52252,     0.52352,     0.52452,     0.52553,     0.52653,     0.52753,\n",
       "           0.52853,     0.52953,     0.53053,     0.53153,     0.53253,     0.53353,     0.53453,     0.53554,     0.53654,     0.53754,     0.53854,     0.53954,     0.54054,     0.54154,     0.54254,     0.54354,     0.54454,     0.54555,     0.54655,     0.54755,     0.54855,     0.54955,     0.55055,     0.55155,\n",
       "           0.55255,     0.55355,     0.55455,     0.55556,     0.55656,     0.55756,     0.55856,     0.55956,     0.56056,     0.56156,     0.56256,     0.56356,     0.56456,     0.56557,     0.56657,     0.56757,     0.56857,     0.56957,     0.57057,     0.57157,     0.57257,     0.57357,     0.57457,     0.57558,\n",
       "           0.57658,     0.57758,     0.57858,     0.57958,     0.58058,     0.58158,     0.58258,     0.58358,     0.58458,     0.58559,     0.58659,     0.58759,     0.58859,     0.58959,     0.59059,     0.59159,     0.59259,     0.59359,     0.59459,      0.5956,      0.5966,      0.5976,      0.5986,      0.5996,\n",
       "            0.6006,      0.6016,      0.6026,      0.6036,      0.6046,     0.60561,     0.60661,     0.60761,     0.60861,     0.60961,     0.61061,     0.61161,     0.61261,     0.61361,     0.61461,     0.61562,     0.61662,     0.61762,     0.61862,     0.61962,     0.62062,     0.62162,     0.62262,     0.62362,\n",
       "           0.62462,     0.62563,     0.62663,     0.62763,     0.62863,     0.62963,     0.63063,     0.63163,     0.63263,     0.63363,     0.63463,     0.63564,     0.63664,     0.63764,     0.63864,     0.63964,     0.64064,     0.64164,     0.64264,     0.64364,     0.64464,     0.64565,     0.64665,     0.64765,\n",
       "           0.64865,     0.64965,     0.65065,     0.65165,     0.65265,     0.65365,     0.65465,     0.65566,     0.65666,     0.65766,     0.65866,     0.65966,     0.66066,     0.66166,     0.66266,     0.66366,     0.66466,     0.66567,     0.66667,     0.66767,     0.66867,     0.66967,     0.67067,     0.67167,\n",
       "           0.67267,     0.67367,     0.67467,     0.67568,     0.67668,     0.67768,     0.67868,     0.67968,     0.68068,     0.68168,     0.68268,     0.68368,     0.68468,     0.68569,     0.68669,     0.68769,     0.68869,     0.68969,     0.69069,     0.69169,     0.69269,     0.69369,     0.69469,      0.6957,\n",
       "            0.6967,      0.6977,      0.6987,      0.6997,      0.7007,      0.7017,      0.7027,      0.7037,      0.7047,     0.70571,     0.70671,     0.70771,     0.70871,     0.70971,     0.71071,     0.71171,     0.71271,     0.71371,     0.71471,     0.71572,     0.71672,     0.71772,     0.71872,     0.71972,\n",
       "           0.72072,     0.72172,     0.72272,     0.72372,     0.72472,     0.72573,     0.72673,     0.72773,     0.72873,     0.72973,     0.73073,     0.73173,     0.73273,     0.73373,     0.73473,     0.73574,     0.73674,     0.73774,     0.73874,     0.73974,     0.74074,     0.74174,     0.74274,     0.74374,\n",
       "           0.74474,     0.74575,     0.74675,     0.74775,     0.74875,     0.74975,     0.75075,     0.75175,     0.75275,     0.75375,     0.75475,     0.75576,     0.75676,     0.75776,     0.75876,     0.75976,     0.76076,     0.76176,     0.76276,     0.76376,     0.76476,     0.76577,     0.76677,     0.76777,\n",
       "           0.76877,     0.76977,     0.77077,     0.77177,     0.77277,     0.77377,     0.77477,     0.77578,     0.77678,     0.77778,     0.77878,     0.77978,     0.78078,     0.78178,     0.78278,     0.78378,     0.78478,     0.78579,     0.78679,     0.78779,     0.78879,     0.78979,     0.79079,     0.79179,\n",
       "           0.79279,     0.79379,     0.79479,      0.7958,      0.7968,      0.7978,      0.7988,      0.7998,      0.8008,      0.8018,      0.8028,      0.8038,      0.8048,     0.80581,     0.80681,     0.80781,     0.80881,     0.80981,     0.81081,     0.81181,     0.81281,     0.81381,     0.81481,     0.81582,\n",
       "           0.81682,     0.81782,     0.81882,     0.81982,     0.82082,     0.82182,     0.82282,     0.82382,     0.82482,     0.82583,     0.82683,     0.82783,     0.82883,     0.82983,     0.83083,     0.83183,     0.83283,     0.83383,     0.83483,     0.83584,     0.83684,     0.83784,     0.83884,     0.83984,\n",
       "           0.84084,     0.84184,     0.84284,     0.84384,     0.84484,     0.84585,     0.84685,     0.84785,     0.84885,     0.84985,     0.85085,     0.85185,     0.85285,     0.85385,     0.85485,     0.85586,     0.85686,     0.85786,     0.85886,     0.85986,     0.86086,     0.86186,     0.86286,     0.86386,\n",
       "           0.86486,     0.86587,     0.86687,     0.86787,     0.86887,     0.86987,     0.87087,     0.87187,     0.87287,     0.87387,     0.87487,     0.87588,     0.87688,     0.87788,     0.87888,     0.87988,     0.88088,     0.88188,     0.88288,     0.88388,     0.88488,     0.88589,     0.88689,     0.88789,\n",
       "           0.88889,     0.88989,     0.89089,     0.89189,     0.89289,     0.89389,     0.89489,      0.8959,      0.8969,      0.8979,      0.8989,      0.8999,      0.9009,      0.9019,      0.9029,      0.9039,      0.9049,     0.90591,     0.90691,     0.90791,     0.90891,     0.90991,     0.91091,     0.91191,\n",
       "           0.91291,     0.91391,     0.91491,     0.91592,     0.91692,     0.91792,     0.91892,     0.91992,     0.92092,     0.92192,     0.92292,     0.92392,     0.92492,     0.92593,     0.92693,     0.92793,     0.92893,     0.92993,     0.93093,     0.93193,     0.93293,     0.93393,     0.93493,     0.93594,\n",
       "           0.93694,     0.93794,     0.93894,     0.93994,     0.94094,     0.94194,     0.94294,     0.94394,     0.94494,     0.94595,     0.94695,     0.94795,     0.94895,     0.94995,     0.95095,     0.95195,     0.95295,     0.95395,     0.95495,     0.95596,     0.95696,     0.95796,     0.95896,     0.95996,\n",
       "           0.96096,     0.96196,     0.96296,     0.96396,     0.96496,     0.96597,     0.96697,     0.96797,     0.96897,     0.96997,     0.97097,     0.97197,     0.97297,     0.97397,     0.97497,     0.97598,     0.97698,     0.97798,     0.97898,     0.97998,     0.98098,     0.98198,     0.98298,     0.98398,\n",
       "           0.98498,     0.98599,     0.98699,     0.98799,     0.98899,     0.98999,     0.99099,     0.99199,     0.99299,     0.99399,     0.99499,       0.996,       0.997,       0.998,       0.999,           1]), array([[    0.28653,     0.28653,     0.34516,     0.37166,     0.38986,     0.40145,     0.41538,     0.42521,     0.43326,      0.4414,     0.45538,     0.46097,     0.46337,     0.46891,     0.47169,     0.47438,     0.47915,     0.48289,     0.48599,     0.48982,     0.49087,     0.49363,       0.497,\n",
       "            0.49987,     0.50661,     0.50921,     0.51034,     0.51152,     0.51635,      0.5252,     0.52883,     0.52977,     0.53066,      0.5336,     0.53555,     0.53638,      0.5381,     0.53982,      0.5413,     0.54161,     0.54192,     0.54223,     0.54254,     0.54333,     0.54501,     0.54926,\n",
       "            0.55125,     0.55247,     0.55324,     0.55404,     0.55486,     0.55792,     0.56036,     0.56457,      0.5664,     0.56731,     0.56786,     0.56812,     0.56838,     0.56864,     0.56889,     0.56915,     0.56923,     0.56844,     0.57003,     0.57081,     0.57184,     0.57559,     0.57705,\n",
       "            0.57782,     0.58108,     0.58522,     0.59076,      0.5933,     0.60014,     0.60003,     0.60055,     0.60106,     0.60158,      0.6026,      0.6056,     0.60997,     0.61127,     0.61285,     0.61423,     0.61527,     0.61568,      0.6161,     0.61651,     0.61693,     0.61784,     0.61909,\n",
       "            0.62063,     0.62254,     0.62234,     0.62671,      0.6281,     0.63018,     0.63091,     0.63164,     0.63282,      0.6343,     0.63578,     0.63642,     0.63686,      0.6373,     0.63774,     0.63823,     0.63961,     0.64086,     0.64198,     0.64308,     0.64417,     0.64478,     0.64517,\n",
       "            0.64556,     0.64595,     0.64633,     0.64679,     0.64767,     0.64856,     0.64956,     0.65061,      0.6513,     0.65177,     0.65223,      0.6527,     0.65317,     0.65387,      0.6546,     0.65532,     0.65614,     0.65696,     0.65808,     0.66014,     0.66137,     0.66236,     0.66298,\n",
       "             0.6636,     0.66422,     0.66511,     0.66609,     0.66765,      0.6691,     0.66939,     0.66969,     0.66999,     0.67028,     0.67058,     0.67088,     0.67117,     0.67161,     0.67213,     0.67264,     0.67316,      0.6741,     0.67643,     0.67736,     0.67828,     0.67863,     0.67895,\n",
       "            0.67927,     0.67959,     0.67991,     0.68023,     0.68055,     0.68099,     0.68155,     0.68211,     0.68268,     0.68364,     0.68558,     0.68601,     0.68644,     0.68688,     0.68731,     0.68774,     0.68903,     0.69067,     0.69155,     0.69243,     0.69361,     0.69506,       0.697,\n",
       "            0.70282,     0.70337,     0.70384,     0.70432,     0.70479,     0.70527,     0.70638,     0.70789,      0.7088,     0.70965,      0.7105,     0.71246,     0.71357,      0.7141,     0.71462,     0.71515,     0.71568,     0.71611,     0.71649,     0.71687,     0.71726,     0.71764,     0.71802,\n",
       "             0.7184,     0.72116,     0.72077,     0.72038,     0.72004,     0.71977,     0.71951,     0.71924,     0.72009,     0.72248,     0.72468,     0.72495,     0.72522,     0.72549,     0.72576,     0.72603,      0.7263,     0.72657,     0.72684,     0.72712,     0.73032,     0.73099,     0.73166,\n",
       "            0.73234,     0.73582,      0.7365,     0.73718,     0.73787,     0.73859,     0.73961,     0.74062,     0.74174,     0.74304,     0.74427,     0.74495,     0.74563,     0.74631,     0.74699,      0.7488,     0.75053,     0.75187,     0.75339,      0.7556,     0.75622,     0.75659,     0.75695,\n",
       "            0.75732,     0.75768,     0.75805,     0.75841,     0.75878,     0.75906,     0.75931,     0.75956,      0.7598,     0.76005,      0.7603,     0.76055,     0.76079,     0.76104,     0.76129,     0.76153,     0.76178,     0.76396,     0.76538,     0.76595,     0.76652,     0.76709,     0.76766,\n",
       "            0.76839,     0.76936,     0.77033,     0.77157,     0.77369,     0.77517,     0.77646,     0.77653,     0.77686,      0.7772,     0.77753,     0.77786,      0.7782,     0.77853,     0.77886,      0.7792,     0.77953,     0.78012,     0.78078,     0.78143,     0.78209,     0.78274,     0.78367,\n",
       "            0.78461,     0.78555,     0.78831,     0.79031,     0.79166,     0.79287,     0.79384,      0.7948,     0.79577,     0.79617,     0.79653,     0.79689,     0.79725,     0.79761,     0.79797,     0.79832,     0.79868,     0.79904,     0.80345,     0.80483,     0.80586,     0.80568,     0.80549,\n",
       "             0.8053,     0.80512,     0.80676,     0.80877,      0.8108,     0.81535,     0.81512,     0.81489,     0.81819,     0.81923,     0.82027,     0.82132,     0.82465,     0.82853,      0.8299,     0.83096,     0.83203,     0.83299,     0.83383,     0.83467,     0.83551,      0.8364,     0.83778,\n",
       "            0.83917,     0.84153,     0.84469,      0.8469,     0.84744,     0.84731,     0.84719,     0.84706,     0.84693,     0.84763,     0.84988,      0.8548,     0.85519,     0.85558,     0.85597,     0.85636,     0.85675,     0.85714,     0.85753,     0.85792,     0.85831,     0.85902,     0.85992,\n",
       "            0.86082,     0.86172,     0.86266,     0.86375,     0.86483,     0.86592,     0.86717,     0.86854,     0.86992,     0.87074,     0.87129,     0.87185,      0.8724,     0.87295,     0.87351,     0.87406,     0.87473,     0.87561,     0.87649,     0.87737,     0.87825,     0.87869,     0.87895,\n",
       "            0.87921,     0.87947,     0.87973,     0.87999,     0.88025,     0.88051,     0.88077,     0.88103,     0.88129,     0.88155,     0.88181,     0.88207,     0.88233,     0.88259,      0.8825,     0.88235,      0.8822,      0.8823,     0.88337,     0.88444,     0.88551,     0.88638,     0.88678,\n",
       "            0.88718,     0.88758,     0.88799,     0.88839,     0.88879,     0.88919,      0.8896,        0.89,      0.8904,     0.89123,     0.89215,     0.89306,     0.89398,     0.89473,     0.89469,     0.89465,     0.89461,     0.89457,     0.89453,     0.89449,     0.89444,      0.8944,     0.89436,\n",
       "            0.89432,     0.89428,     0.89424,      0.8942,     0.89417,     0.89413,     0.89409,     0.89405,     0.89402,     0.89398,     0.89394,      0.8939,     0.89387,     0.89383,     0.89379,     0.89375,     0.89369,     0.89339,     0.89489,     0.89746,      0.8972,     0.89702,     0.89693,\n",
       "            0.89685,     0.89676,     0.89667,     0.89659,     0.89791,     0.90018,     0.90066,     0.90047,     0.90042,     0.90037,     0.90033,     0.90028,     0.90023,     0.90019,     0.90014,      0.9001,     0.90005,         0.9,     0.89992,     0.89983,     0.89975,     0.89966,     0.89958,\n",
       "            0.89989,     0.90401,     0.90376,     0.90354,     0.90348,     0.90342,     0.90335,     0.90329,     0.90323,     0.90317,      0.9031,     0.90305,     0.90301,     0.90298,     0.90294,      0.9029,     0.90287,     0.90283,     0.90279,     0.90276,     0.90272,     0.90268,     0.90265,\n",
       "            0.90261,     0.90258,       0.902,     0.90191,     0.90183,     0.90174,     0.90165,     0.90157,     0.90358,     0.90599,     0.90481,      0.9046,     0.90443,     0.90426,       0.904,     0.90374,     0.90363,     0.90353,     0.90342,     0.90332,     0.90269,     0.90258,     0.90247,\n",
       "            0.90236,     0.90225,     0.90214,       0.902,     0.90186,     0.90172,     0.90157,     0.90138,      0.9012,     0.90156,     0.90258,      0.9036,     0.90462,     0.90564,     0.90592,     0.90566,     0.90636,     0.90766,     0.90896,     0.91025,     0.91024,     0.90972,     0.91471,\n",
       "            0.91463,     0.91454,     0.91446,     0.91438,     0.91429,     0.91205,     0.91059,     0.91032,      0.9095,     0.90922,     0.90838,     0.90809,     0.90789,     0.90774,      0.9076,     0.90745,     0.90942,     0.91231,     0.91294,      0.9128,     0.91266,     0.91252,     0.91226,\n",
       "            0.91198,     0.90973,     0.90913,     0.91482,     0.91448,     0.91374,     0.91357,      0.9134,      0.9124,     0.91179,     0.91137,     0.91106,     0.90929,     0.90894,     0.90872,      0.9085,     0.90728,      0.9066,     0.90619,     0.90584,     0.90519,      0.9051,     0.90856,\n",
       "            0.91029,     0.90995,     0.90822,     0.90785,     0.90677,      0.9064,     0.90538,     0.90516,     0.90494,     0.90315,     0.90275,     0.90234,     0.90193,     0.89976,     0.89889,     0.89801,     0.89711,     0.89463,     0.89436,     0.89409,     0.89381,     0.89334,     0.89999,\n",
       "            0.89952,     0.89716,     0.89667,     0.89615,     0.89547,      0.8949,     0.89439,      0.8935,     0.89969,     0.90159,     0.90109,     0.90589,     0.90969,     0.90898,     0.90866,     0.90834,     0.90709,     0.90681,     0.90653,     0.90526,     0.90474,     0.90424,     0.90393,\n",
       "            0.90363,     0.90333,     0.90288,     0.90234,     0.90619,     0.90462,     0.90404,     0.90217,     0.90547,     0.90877,     0.91207,     0.91442,     0.92055,     0.92077,     0.92046,     0.92015,     0.91972,     0.91917,      0.9292,     0.92852,     0.92799,     0.94109,     0.94049,\n",
       "            0.94012,     0.93985,     0.93959,     0.93833,     0.93784,     0.93744,     0.93723,     0.93703,     0.93683,     0.93662,     0.93418,     0.93362,     0.93182,     0.92981,     0.92917,     0.92848,     0.92702,     0.92549,     0.92478,     0.92388,     0.92293,     0.92216,     0.91974,\n",
       "            0.91862,     0.91702,     0.91522,     0.90998,     0.90419,     0.90261,     0.89343,     0.89197,     0.90527,     0.91089,     0.90907,     0.90761,     0.90611,     0.90405,      0.9019,     0.89975,     0.89799,     0.89631,     0.89505,     0.89379,     0.88447,     0.88391,     0.88336,\n",
       "             0.8828,     0.88224,     0.88169,     0.88113,     0.88057,     0.88002,      0.8714,     0.86752,     0.86345,     0.85901,     0.85649,     0.85536,     0.85424,     0.85311,     0.85199,     0.85086,     0.84872,     0.84332,     0.82815,     0.82253,      0.8193,     0.81607,     0.81284,\n",
       "            0.79125,     0.78328,     0.77765,     0.77201,     0.76591,     0.75934,     0.75277,     0.74101,     0.72823,     0.73651,      0.7448,     0.75308,     0.76136,     0.76965,     0.77793,     0.78621,      0.7945,     0.88825,     0.88635,     0.88446,     0.88256,     0.88066,     0.87876,\n",
       "            0.87686,     0.87492,     0.87034,     0.86576,     0.86119,      0.8562,     0.84806,     0.83993,     0.82902,     0.80624,     0.74682,     0.74244,     0.73806,     0.73368,      0.7293,     0.72492,     0.72054,     0.71616,     0.71178,      0.7074,     0.70301,     0.69863,     0.69425,\n",
       "            0.68987,     0.68549,     0.68111,     0.67673,     0.67235,     0.66797,     0.65893,     0.64791,     0.63688,     0.62586,     0.61484,     0.60382,      0.5928,     0.58178,     0.57075,     0.55973,     0.54871,     0.53769,     0.52667,     0.51564,     0.50462,     0.49098,     0.47545,\n",
       "            0.45992,     0.44439,     0.42886,     0.41333,      0.3978,     0.38227,     0.36674,     0.35121,     0.33568,     0.32015,     0.30462,     0.28908,     0.27355,     0.25802,     0.24249,     0.22696,     0.21143,      0.1959,     0.18037,     0.16484,     0.14931,     0.13378,     0.11825,\n",
       "            0.10272,    0.087186,    0.071655,    0.056124,    0.040594,    0.025063,   0.0095323,           1,           1,           1,           1,           1,           1,           1,           1,           1,           1,           1,           1,           1,           1,           1,           1,\n",
       "                  1,           1,           1,           1,           1,           1,           1,           1,           1,           1,           1,           1,           1,           1,           1,           1,           1,           1,           1,           1,           1,           1,           1,\n",
       "                  1,           1,           1,           1,           1,           1,           1,           1,           1,           1,           1,           1,           1,           1,           1,           1,           1,           1,           1,           1,           1,           1,           1,\n",
       "                  1,           1,           1,           1,           1,           1,           1,           1,           1,           1,           1,           1,           1,           1,           1,           1,           1,           1,           1,           1,           1,           1,           1,\n",
       "                  1,           1,           1,           1,           1,           1,           1,           1,           1,           1,           1,           1,           1,           1,           1,           1,           1,           1,           1,           1,           1,           1,           1,\n",
       "                  1,           1,           1,           1,           1,           1,           1,           1,           1,           1,           1,           1,           1,           1,           1,           1,           1,           1,           1,           1,           1,           1,           1,\n",
       "                  1,           1,           1,           1,           1,           1,           1,           1,           1,           1,           1,           1,           1,           1,           1,           1,           1,           1,           1,           1,           1,           1,           1,\n",
       "                  1,           1,           1,           1,           1,           1,           1,           1,           1,           1,           1]]), 'Confidence', 'Precision'], [array([          0,    0.001001,    0.002002,    0.003003,    0.004004,    0.005005,    0.006006,    0.007007,    0.008008,    0.009009,     0.01001,    0.011011,    0.012012,    0.013013,    0.014014,    0.015015,    0.016016,    0.017017,    0.018018,    0.019019,     0.02002,    0.021021,    0.022022,    0.023023,\n",
       "          0.024024,    0.025025,    0.026026,    0.027027,    0.028028,    0.029029,     0.03003,    0.031031,    0.032032,    0.033033,    0.034034,    0.035035,    0.036036,    0.037037,    0.038038,    0.039039,     0.04004,    0.041041,    0.042042,    0.043043,    0.044044,    0.045045,    0.046046,    0.047047,\n",
       "          0.048048,    0.049049,     0.05005,    0.051051,    0.052052,    0.053053,    0.054054,    0.055055,    0.056056,    0.057057,    0.058058,    0.059059,     0.06006,    0.061061,    0.062062,    0.063063,    0.064064,    0.065065,    0.066066,    0.067067,    0.068068,    0.069069,     0.07007,    0.071071,\n",
       "          0.072072,    0.073073,    0.074074,    0.075075,    0.076076,    0.077077,    0.078078,    0.079079,     0.08008,    0.081081,    0.082082,    0.083083,    0.084084,    0.085085,    0.086086,    0.087087,    0.088088,    0.089089,     0.09009,    0.091091,    0.092092,    0.093093,    0.094094,    0.095095,\n",
       "          0.096096,    0.097097,    0.098098,    0.099099,      0.1001,      0.1011,      0.1021,      0.1031,      0.1041,     0.10511,     0.10611,     0.10711,     0.10811,     0.10911,     0.11011,     0.11111,     0.11211,     0.11311,     0.11411,     0.11512,     0.11612,     0.11712,     0.11812,     0.11912,\n",
       "           0.12012,     0.12112,     0.12212,     0.12312,     0.12412,     0.12513,     0.12613,     0.12713,     0.12813,     0.12913,     0.13013,     0.13113,     0.13213,     0.13313,     0.13413,     0.13514,     0.13614,     0.13714,     0.13814,     0.13914,     0.14014,     0.14114,     0.14214,     0.14314,\n",
       "           0.14414,     0.14515,     0.14615,     0.14715,     0.14815,     0.14915,     0.15015,     0.15115,     0.15215,     0.15315,     0.15415,     0.15516,     0.15616,     0.15716,     0.15816,     0.15916,     0.16016,     0.16116,     0.16216,     0.16316,     0.16416,     0.16517,     0.16617,     0.16717,\n",
       "           0.16817,     0.16917,     0.17017,     0.17117,     0.17217,     0.17317,     0.17417,     0.17518,     0.17618,     0.17718,     0.17818,     0.17918,     0.18018,     0.18118,     0.18218,     0.18318,     0.18418,     0.18519,     0.18619,     0.18719,     0.18819,     0.18919,     0.19019,     0.19119,\n",
       "           0.19219,     0.19319,     0.19419,      0.1952,      0.1962,      0.1972,      0.1982,      0.1992,      0.2002,      0.2012,      0.2022,      0.2032,      0.2042,     0.20521,     0.20621,     0.20721,     0.20821,     0.20921,     0.21021,     0.21121,     0.21221,     0.21321,     0.21421,     0.21522,\n",
       "           0.21622,     0.21722,     0.21822,     0.21922,     0.22022,     0.22122,     0.22222,     0.22322,     0.22422,     0.22523,     0.22623,     0.22723,     0.22823,     0.22923,     0.23023,     0.23123,     0.23223,     0.23323,     0.23423,     0.23524,     0.23624,     0.23724,     0.23824,     0.23924,\n",
       "           0.24024,     0.24124,     0.24224,     0.24324,     0.24424,     0.24525,     0.24625,     0.24725,     0.24825,     0.24925,     0.25025,     0.25125,     0.25225,     0.25325,     0.25425,     0.25526,     0.25626,     0.25726,     0.25826,     0.25926,     0.26026,     0.26126,     0.26226,     0.26326,\n",
       "           0.26426,     0.26527,     0.26627,     0.26727,     0.26827,     0.26927,     0.27027,     0.27127,     0.27227,     0.27327,     0.27427,     0.27528,     0.27628,     0.27728,     0.27828,     0.27928,     0.28028,     0.28128,     0.28228,     0.28328,     0.28428,     0.28529,     0.28629,     0.28729,\n",
       "           0.28829,     0.28929,     0.29029,     0.29129,     0.29229,     0.29329,     0.29429,      0.2953,      0.2963,      0.2973,      0.2983,      0.2993,      0.3003,      0.3013,      0.3023,      0.3033,      0.3043,     0.30531,     0.30631,     0.30731,     0.30831,     0.30931,     0.31031,     0.31131,\n",
       "           0.31231,     0.31331,     0.31431,     0.31532,     0.31632,     0.31732,     0.31832,     0.31932,     0.32032,     0.32132,     0.32232,     0.32332,     0.32432,     0.32533,     0.32633,     0.32733,     0.32833,     0.32933,     0.33033,     0.33133,     0.33233,     0.33333,     0.33433,     0.33534,\n",
       "           0.33634,     0.33734,     0.33834,     0.33934,     0.34034,     0.34134,     0.34234,     0.34334,     0.34434,     0.34535,     0.34635,     0.34735,     0.34835,     0.34935,     0.35035,     0.35135,     0.35235,     0.35335,     0.35435,     0.35536,     0.35636,     0.35736,     0.35836,     0.35936,\n",
       "           0.36036,     0.36136,     0.36236,     0.36336,     0.36436,     0.36537,     0.36637,     0.36737,     0.36837,     0.36937,     0.37037,     0.37137,     0.37237,     0.37337,     0.37437,     0.37538,     0.37638,     0.37738,     0.37838,     0.37938,     0.38038,     0.38138,     0.38238,     0.38338,\n",
       "           0.38438,     0.38539,     0.38639,     0.38739,     0.38839,     0.38939,     0.39039,     0.39139,     0.39239,     0.39339,     0.39439,      0.3954,      0.3964,      0.3974,      0.3984,      0.3994,      0.4004,      0.4014,      0.4024,      0.4034,      0.4044,     0.40541,     0.40641,     0.40741,\n",
       "           0.40841,     0.40941,     0.41041,     0.41141,     0.41241,     0.41341,     0.41441,     0.41542,     0.41642,     0.41742,     0.41842,     0.41942,     0.42042,     0.42142,     0.42242,     0.42342,     0.42442,     0.42543,     0.42643,     0.42743,     0.42843,     0.42943,     0.43043,     0.43143,\n",
       "           0.43243,     0.43343,     0.43443,     0.43544,     0.43644,     0.43744,     0.43844,     0.43944,     0.44044,     0.44144,     0.44244,     0.44344,     0.44444,     0.44545,     0.44645,     0.44745,     0.44845,     0.44945,     0.45045,     0.45145,     0.45245,     0.45345,     0.45445,     0.45546,\n",
       "           0.45646,     0.45746,     0.45846,     0.45946,     0.46046,     0.46146,     0.46246,     0.46346,     0.46446,     0.46547,     0.46647,     0.46747,     0.46847,     0.46947,     0.47047,     0.47147,     0.47247,     0.47347,     0.47447,     0.47548,     0.47648,     0.47748,     0.47848,     0.47948,\n",
       "           0.48048,     0.48148,     0.48248,     0.48348,     0.48448,     0.48549,     0.48649,     0.48749,     0.48849,     0.48949,     0.49049,     0.49149,     0.49249,     0.49349,     0.49449,      0.4955,      0.4965,      0.4975,      0.4985,      0.4995,      0.5005,      0.5015,      0.5025,      0.5035,\n",
       "            0.5045,     0.50551,     0.50651,     0.50751,     0.50851,     0.50951,     0.51051,     0.51151,     0.51251,     0.51351,     0.51451,     0.51552,     0.51652,     0.51752,     0.51852,     0.51952,     0.52052,     0.52152,     0.52252,     0.52352,     0.52452,     0.52553,     0.52653,     0.52753,\n",
       "           0.52853,     0.52953,     0.53053,     0.53153,     0.53253,     0.53353,     0.53453,     0.53554,     0.53654,     0.53754,     0.53854,     0.53954,     0.54054,     0.54154,     0.54254,     0.54354,     0.54454,     0.54555,     0.54655,     0.54755,     0.54855,     0.54955,     0.55055,     0.55155,\n",
       "           0.55255,     0.55355,     0.55455,     0.55556,     0.55656,     0.55756,     0.55856,     0.55956,     0.56056,     0.56156,     0.56256,     0.56356,     0.56456,     0.56557,     0.56657,     0.56757,     0.56857,     0.56957,     0.57057,     0.57157,     0.57257,     0.57357,     0.57457,     0.57558,\n",
       "           0.57658,     0.57758,     0.57858,     0.57958,     0.58058,     0.58158,     0.58258,     0.58358,     0.58458,     0.58559,     0.58659,     0.58759,     0.58859,     0.58959,     0.59059,     0.59159,     0.59259,     0.59359,     0.59459,      0.5956,      0.5966,      0.5976,      0.5986,      0.5996,\n",
       "            0.6006,      0.6016,      0.6026,      0.6036,      0.6046,     0.60561,     0.60661,     0.60761,     0.60861,     0.60961,     0.61061,     0.61161,     0.61261,     0.61361,     0.61461,     0.61562,     0.61662,     0.61762,     0.61862,     0.61962,     0.62062,     0.62162,     0.62262,     0.62362,\n",
       "           0.62462,     0.62563,     0.62663,     0.62763,     0.62863,     0.62963,     0.63063,     0.63163,     0.63263,     0.63363,     0.63463,     0.63564,     0.63664,     0.63764,     0.63864,     0.63964,     0.64064,     0.64164,     0.64264,     0.64364,     0.64464,     0.64565,     0.64665,     0.64765,\n",
       "           0.64865,     0.64965,     0.65065,     0.65165,     0.65265,     0.65365,     0.65465,     0.65566,     0.65666,     0.65766,     0.65866,     0.65966,     0.66066,     0.66166,     0.66266,     0.66366,     0.66466,     0.66567,     0.66667,     0.66767,     0.66867,     0.66967,     0.67067,     0.67167,\n",
       "           0.67267,     0.67367,     0.67467,     0.67568,     0.67668,     0.67768,     0.67868,     0.67968,     0.68068,     0.68168,     0.68268,     0.68368,     0.68468,     0.68569,     0.68669,     0.68769,     0.68869,     0.68969,     0.69069,     0.69169,     0.69269,     0.69369,     0.69469,      0.6957,\n",
       "            0.6967,      0.6977,      0.6987,      0.6997,      0.7007,      0.7017,      0.7027,      0.7037,      0.7047,     0.70571,     0.70671,     0.70771,     0.70871,     0.70971,     0.71071,     0.71171,     0.71271,     0.71371,     0.71471,     0.71572,     0.71672,     0.71772,     0.71872,     0.71972,\n",
       "           0.72072,     0.72172,     0.72272,     0.72372,     0.72472,     0.72573,     0.72673,     0.72773,     0.72873,     0.72973,     0.73073,     0.73173,     0.73273,     0.73373,     0.73473,     0.73574,     0.73674,     0.73774,     0.73874,     0.73974,     0.74074,     0.74174,     0.74274,     0.74374,\n",
       "           0.74474,     0.74575,     0.74675,     0.74775,     0.74875,     0.74975,     0.75075,     0.75175,     0.75275,     0.75375,     0.75475,     0.75576,     0.75676,     0.75776,     0.75876,     0.75976,     0.76076,     0.76176,     0.76276,     0.76376,     0.76476,     0.76577,     0.76677,     0.76777,\n",
       "           0.76877,     0.76977,     0.77077,     0.77177,     0.77277,     0.77377,     0.77477,     0.77578,     0.77678,     0.77778,     0.77878,     0.77978,     0.78078,     0.78178,     0.78278,     0.78378,     0.78478,     0.78579,     0.78679,     0.78779,     0.78879,     0.78979,     0.79079,     0.79179,\n",
       "           0.79279,     0.79379,     0.79479,      0.7958,      0.7968,      0.7978,      0.7988,      0.7998,      0.8008,      0.8018,      0.8028,      0.8038,      0.8048,     0.80581,     0.80681,     0.80781,     0.80881,     0.80981,     0.81081,     0.81181,     0.81281,     0.81381,     0.81481,     0.81582,\n",
       "           0.81682,     0.81782,     0.81882,     0.81982,     0.82082,     0.82182,     0.82282,     0.82382,     0.82482,     0.82583,     0.82683,     0.82783,     0.82883,     0.82983,     0.83083,     0.83183,     0.83283,     0.83383,     0.83483,     0.83584,     0.83684,     0.83784,     0.83884,     0.83984,\n",
       "           0.84084,     0.84184,     0.84284,     0.84384,     0.84484,     0.84585,     0.84685,     0.84785,     0.84885,     0.84985,     0.85085,     0.85185,     0.85285,     0.85385,     0.85485,     0.85586,     0.85686,     0.85786,     0.85886,     0.85986,     0.86086,     0.86186,     0.86286,     0.86386,\n",
       "           0.86486,     0.86587,     0.86687,     0.86787,     0.86887,     0.86987,     0.87087,     0.87187,     0.87287,     0.87387,     0.87487,     0.87588,     0.87688,     0.87788,     0.87888,     0.87988,     0.88088,     0.88188,     0.88288,     0.88388,     0.88488,     0.88589,     0.88689,     0.88789,\n",
       "           0.88889,     0.88989,     0.89089,     0.89189,     0.89289,     0.89389,     0.89489,      0.8959,      0.8969,      0.8979,      0.8989,      0.8999,      0.9009,      0.9019,      0.9029,      0.9039,      0.9049,     0.90591,     0.90691,     0.90791,     0.90891,     0.90991,     0.91091,     0.91191,\n",
       "           0.91291,     0.91391,     0.91491,     0.91592,     0.91692,     0.91792,     0.91892,     0.91992,     0.92092,     0.92192,     0.92292,     0.92392,     0.92492,     0.92593,     0.92693,     0.92793,     0.92893,     0.92993,     0.93093,     0.93193,     0.93293,     0.93393,     0.93493,     0.93594,\n",
       "           0.93694,     0.93794,     0.93894,     0.93994,     0.94094,     0.94194,     0.94294,     0.94394,     0.94494,     0.94595,     0.94695,     0.94795,     0.94895,     0.94995,     0.95095,     0.95195,     0.95295,     0.95395,     0.95495,     0.95596,     0.95696,     0.95796,     0.95896,     0.95996,\n",
       "           0.96096,     0.96196,     0.96296,     0.96396,     0.96496,     0.96597,     0.96697,     0.96797,     0.96897,     0.96997,     0.97097,     0.97197,     0.97297,     0.97397,     0.97497,     0.97598,     0.97698,     0.97798,     0.97898,     0.97998,     0.98098,     0.98198,     0.98298,     0.98398,\n",
       "           0.98498,     0.98599,     0.98699,     0.98799,     0.98899,     0.98999,     0.99099,     0.99199,     0.99299,     0.99399,     0.99499,       0.996,       0.997,       0.998,       0.999,           1]), array([[    0.98522,     0.98522,     0.98522,     0.98522,     0.98522,     0.98522,     0.98522,     0.98522,     0.98522,      0.9803,      0.9803,      0.9803,      0.9803,      0.9803,      0.9803,      0.9803,      0.9803,      0.9803,      0.9803,      0.9803,      0.9803,      0.9803,      0.9803,\n",
       "             0.9803,      0.9803,      0.9803,      0.9803,      0.9803,      0.9803,      0.9803,      0.9803,     0.97537,     0.97537,     0.97537,     0.97537,     0.97537,     0.97537,     0.97044,     0.97044,     0.97044,     0.97044,     0.97044,     0.97044,     0.97044,     0.97044,     0.97044,\n",
       "            0.97044,     0.97044,     0.97044,     0.97044,     0.97044,     0.97044,     0.97044,     0.97044,     0.97044,     0.97044,     0.97044,     0.97044,     0.97044,     0.97044,     0.97044,     0.97044,     0.96991,      0.9668,     0.96552,     0.96552,     0.96552,     0.96552,     0.96552,\n",
       "            0.96552,     0.96552,     0.96552,     0.96552,     0.96552,     0.96552,     0.96059,     0.96059,     0.96059,     0.96059,     0.96059,     0.96059,     0.96059,     0.96059,     0.96059,     0.96059,     0.96059,     0.96059,     0.96059,     0.96059,     0.96059,     0.96059,     0.96059,\n",
       "            0.96059,     0.96059,     0.95567,     0.95567,     0.95567,     0.95567,     0.95567,     0.95567,     0.95567,     0.95567,     0.95567,     0.95567,     0.95567,     0.95567,     0.95567,     0.95567,     0.95567,     0.95567,     0.95567,     0.95567,     0.95567,     0.95567,     0.95567,\n",
       "            0.95567,     0.95567,     0.95567,     0.95567,     0.95567,     0.95567,     0.95567,     0.95567,     0.95567,     0.95567,     0.95567,     0.95567,     0.95567,     0.95567,     0.95567,     0.95567,     0.95567,     0.95567,     0.95567,     0.95567,     0.95567,     0.95567,     0.95567,\n",
       "            0.95567,     0.95567,     0.95567,     0.95567,     0.95567,     0.95567,     0.95567,     0.95567,     0.95567,     0.95567,     0.95567,     0.95567,     0.95567,     0.95567,     0.95567,     0.95567,     0.95567,     0.95567,     0.95567,     0.95567,     0.95567,     0.95567,     0.95567,\n",
       "            0.95567,     0.95567,     0.95567,     0.95567,     0.95567,     0.95567,     0.95567,     0.95567,     0.95567,     0.95567,     0.95567,     0.95567,     0.95567,     0.95567,     0.95567,     0.95567,     0.95567,     0.95567,     0.95567,     0.95567,     0.95567,     0.95567,     0.95567,\n",
       "            0.95567,     0.95567,     0.95567,     0.95567,     0.95567,     0.95567,     0.95567,     0.95567,     0.95567,     0.95567,     0.95567,     0.95567,     0.95567,     0.95567,     0.95567,     0.95567,     0.95567,     0.95567,     0.95567,     0.95567,     0.95567,     0.95567,     0.95567,\n",
       "            0.95567,     0.95552,     0.95369,     0.95185,     0.95024,     0.94898,     0.94772,     0.94645,     0.94581,     0.94581,     0.94581,     0.94581,     0.94581,     0.94581,     0.94581,     0.94581,     0.94581,     0.94581,     0.94581,     0.94581,     0.94581,     0.94581,     0.94581,\n",
       "            0.94581,     0.94581,     0.94581,     0.94581,     0.94581,     0.94581,     0.94581,     0.94581,     0.94581,     0.94581,     0.94581,     0.94581,     0.94581,     0.94581,     0.94581,     0.94581,     0.94581,     0.94581,     0.94581,     0.94581,     0.94581,     0.94581,     0.94581,\n",
       "            0.94581,     0.94581,     0.94581,     0.94581,     0.94581,     0.94581,     0.94581,     0.94581,     0.94581,     0.94581,     0.94581,     0.94581,     0.94581,     0.94581,     0.94581,     0.94581,     0.94581,     0.94581,     0.94581,     0.94581,     0.94581,     0.94581,     0.94581,\n",
       "            0.94581,     0.94581,     0.94581,     0.94581,     0.94581,     0.94581,     0.94581,     0.94089,     0.94089,     0.94089,     0.94089,     0.94089,     0.94089,     0.94089,     0.94089,     0.94089,     0.94089,     0.94089,     0.94089,     0.94089,     0.94089,     0.94089,     0.94089,\n",
       "            0.94089,     0.94089,     0.94089,     0.94089,     0.94089,     0.94089,     0.94089,     0.94089,     0.94089,     0.94089,     0.94089,     0.94089,     0.94089,     0.94089,     0.94089,     0.94089,     0.94089,     0.94089,     0.94089,     0.94089,     0.94063,     0.93951,     0.93839,\n",
       "            0.93727,     0.93614,     0.93596,     0.93596,     0.93596,     0.93535,     0.93391,     0.93247,     0.93103,     0.93103,     0.93103,     0.93103,     0.93103,     0.93103,     0.93103,     0.93103,     0.93103,     0.93103,     0.93103,     0.93103,     0.93103,     0.93103,     0.93103,\n",
       "            0.93103,     0.93103,     0.93103,     0.93103,     0.93038,     0.92946,     0.92854,     0.92762,     0.92671,     0.92611,     0.92611,     0.92611,     0.92611,     0.92611,     0.92611,     0.92611,     0.92611,     0.92611,     0.92611,     0.92611,     0.92611,     0.92611,     0.92611,\n",
       "            0.92611,     0.92611,     0.92611,     0.92611,     0.92611,     0.92611,     0.92611,     0.92611,     0.92611,     0.92611,     0.92611,     0.92611,     0.92611,     0.92611,     0.92611,     0.92611,     0.92611,     0.92611,     0.92611,     0.92611,     0.92611,     0.92611,     0.92611,\n",
       "            0.92611,     0.92611,     0.92611,     0.92611,     0.92611,     0.92611,     0.92611,     0.92611,     0.92611,     0.92611,     0.92611,     0.92611,     0.92611,     0.92611,     0.92495,      0.9236,     0.92225,     0.92118,     0.92118,     0.92118,     0.92118,     0.92118,     0.92118,\n",
       "            0.92118,     0.92118,     0.92118,     0.92118,     0.92118,     0.92118,     0.92118,     0.92118,     0.92118,     0.92118,     0.92118,     0.92118,     0.92118,     0.92111,     0.92071,     0.92032,     0.91992,     0.91953,     0.91913,     0.91873,     0.91834,     0.91794,     0.91755,\n",
       "            0.91715,     0.91675,     0.91636,     0.91599,     0.91563,     0.91527,     0.91491,     0.91455,     0.91419,     0.91382,     0.91346,      0.9131,     0.91274,     0.91238,     0.91202,     0.91166,     0.91109,      0.9082,      0.9064,     0.90539,     0.90287,      0.9011,     0.90026,\n",
       "            0.89942,     0.89857,     0.89773,     0.89689,     0.89655,     0.89655,     0.89329,     0.89132,     0.89086,      0.8904,     0.88994,     0.88948,     0.88902,     0.88856,      0.8881,     0.88765,     0.88719,     0.88673,     0.88591,     0.88507,     0.88423,     0.88339,     0.88254,\n",
       "            0.88177,      0.8815,     0.87897,     0.87675,     0.87612,     0.87549,     0.87485,     0.87422,     0.87359,     0.87296,     0.87233,     0.87179,     0.87143,     0.87107,     0.87071,     0.87035,     0.86999,     0.86963,     0.86927,     0.86891,     0.86855,     0.86819,     0.86783,\n",
       "            0.86747,      0.8671,     0.86148,     0.86064,      0.8598,     0.85896,     0.85812,     0.85728,     0.85714,     0.85714,     0.84279,     0.84082,     0.83914,     0.83746,     0.83494,     0.83247,     0.83146,     0.83046,     0.82945,     0.82844,      0.8225,     0.82149,     0.82048,\n",
       "            0.81947,     0.81846,     0.81738,     0.81612,     0.81485,     0.81359,     0.81217,     0.81049,      0.8088,     0.80788,     0.80788,     0.80788,     0.80788,     0.80788,     0.80643,     0.80391,     0.80296,     0.80296,     0.80296,     0.80296,     0.79932,     0.79427,     0.79246,\n",
       "            0.79161,     0.79077,     0.78993,     0.78909,     0.78825,     0.76631,     0.75255,     0.75003,     0.74258,     0.74005,      0.7326,     0.73008,     0.72831,     0.72705,     0.72578,     0.72452,     0.72414,     0.72414,      0.7232,     0.72193,     0.72067,     0.71941,     0.71708,\n",
       "            0.71456,       0.695,     0.68995,     0.68966,     0.68478,     0.67838,     0.67693,     0.67549,     0.66705,       0.662,     0.65852,       0.656,     0.64192,     0.63922,     0.63754,     0.63585,     0.62665,      0.6216,     0.61862,      0.6161,     0.61138,     0.60099,     0.60099,\n",
       "            0.59984,     0.59732,     0.58494,     0.58241,     0.57496,     0.57244,     0.56564,     0.56419,     0.56275,     0.55126,     0.54873,     0.54621,     0.54368,     0.53059,     0.52554,     0.52049,     0.51544,     0.50191,     0.50047,     0.49903,     0.49759,      0.4951,     0.48765,\n",
       "            0.48512,     0.47274,     0.47022,      0.4676,     0.46423,     0.46141,     0.45889,      0.4546,      0.4532,     0.45132,     0.44879,     0.44828,      0.4466,     0.44275,     0.44107,     0.43938,     0.43288,     0.43143,     0.42999,     0.42361,     0.42108,     0.41863,     0.41718,\n",
       "            0.41574,      0.4143,     0.41215,     0.40963,     0.39409,     0.37379,     0.37127,     0.35961,     0.35961,     0.35961,     0.35961,     0.34483,     0.34483,      0.3435,     0.34206,     0.34062,     0.33863,      0.3361,     0.32326,     0.31997,     0.31745,     0.31481,     0.31144,\n",
       "            0.30937,     0.30793,     0.30649,     0.29984,     0.29731,     0.29525,     0.29424,     0.29323,     0.29222,     0.29121,      0.2797,     0.27717,     0.26932,     0.26104,     0.25852,     0.25583,     0.25032,     0.24479,     0.24226,     0.23919,     0.23598,     0.23346,     0.22581,\n",
       "            0.22244,     0.21777,     0.21272,      0.1992,     0.18599,     0.18262,     0.16523,      0.1627,     0.15764,     0.15109,     0.14774,     0.14522,     0.14264,     0.13927,      0.1359,     0.13265,     0.13013,     0.12776,     0.12608,      0.1244,     0.11315,     0.11255,     0.11196,\n",
       "            0.11136,     0.11077,     0.11018,     0.10958,     0.10899,     0.10839,     0.10019,    0.096821,    0.093455,    0.090088,     0.08822,    0.087444,    0.086667,     0.08589,    0.085113,    0.084336,    0.082945,    0.079579,    0.071286,    0.068517,    0.067075,    0.065632,    0.064189,\n",
       "           0.056097,    0.053459,    0.051776,    0.050093,     0.04841,    0.046727,    0.045043,    0.042386,    0.039409,    0.039409,    0.039409,    0.039409,    0.039409,    0.039409,    0.039409,    0.039409,    0.039409,    0.039183,     0.03851,    0.037837,    0.037163,     0.03649,    0.035817,\n",
       "           0.035144,    0.034459,    0.033197,    0.031935,    0.030672,    0.029361,    0.027678,    0.025995,    0.023993,    0.020627,     0.01459,    0.014331,    0.014072,    0.013813,    0.013555,    0.013296,    0.013037,    0.012778,    0.012519,     0.01226,    0.012001,    0.011742,    0.011483,\n",
       "           0.011224,    0.010965,    0.010706,    0.010447,    0.010188,   0.0099293,   0.0096235,   0.0092977,   0.0089719,   0.0086462,   0.0083204,   0.0079946,   0.0076689,   0.0073431,   0.0070173,   0.0066916,   0.0063658,     0.00604,   0.0057143,   0.0053885,   0.0050627,   0.0048373,   0.0046843,\n",
       "          0.0045313,   0.0043782,   0.0042252,   0.0040722,   0.0039192,   0.0037662,   0.0036132,   0.0034602,   0.0033072,   0.0031541,   0.0030011,   0.0028481,   0.0026951,   0.0025421,   0.0023891,   0.0022361,   0.0020831,   0.0019301,    0.001777,    0.001624,    0.001471,    0.001318,    0.001165,\n",
       "           0.001012,  0.00085897,  0.00070596,  0.00055295,  0.00039994,  0.00024693,  9.3914e-05,           0,           0,           0,           0,           0,           0,           0,           0,           0,           0,           0,           0,           0,           0,           0,           0,\n",
       "                  0,           0,           0,           0,           0,           0,           0,           0,           0,           0,           0,           0,           0,           0,           0,           0,           0,           0,           0,           0,           0,           0,           0,\n",
       "                  0,           0,           0,           0,           0,           0,           0,           0,           0,           0,           0,           0,           0,           0,           0,           0,           0,           0,           0,           0,           0,           0,           0,\n",
       "                  0,           0,           0,           0,           0,           0,           0,           0,           0,           0,           0,           0,           0,           0,           0,           0,           0,           0,           0,           0,           0,           0,           0,\n",
       "                  0,           0,           0,           0,           0,           0,           0,           0,           0,           0,           0,           0,           0,           0,           0,           0,           0,           0,           0,           0,           0,           0,           0,\n",
       "                  0,           0,           0,           0,           0,           0,           0,           0,           0,           0,           0,           0,           0,           0,           0,           0,           0,           0,           0,           0,           0,           0,           0,\n",
       "                  0,           0,           0,           0,           0,           0,           0,           0,           0,           0,           0,           0,           0,           0,           0,           0,           0,           0,           0,           0,           0,           0,           0,\n",
       "                  0,           0,           0,           0,           0,           0,           0,           0,           0,           0,           0]]), 'Confidence', 'Recall']]\n",
       "fitness: np.float64(0.6177213673434113)\n",
       "keys: ['metrics/precision(B)', 'metrics/recall(B)', 'metrics/mAP50(B)', 'metrics/mAP50-95(B)']\n",
       "maps: array([    0.58677,     0.58677])\n",
       "names: {0: 'Nada', 1: 'Placa'}\n",
       "plot: True\n",
       "results_dict: {'metrics/precision(B)': np.float64(0.8904018197893799), 'metrics/recall(B)': np.float64(0.9211822660098522), 'metrics/mAP50(B)': np.float64(0.8962591487548276), 'metrics/mAP50-95(B)': np.float64(0.5867727249643651), 'fitness': np.float64(0.6177213673434113)}\n",
       "save_dir: WindowsPath('runs/detect/yolo_car_detector2')\n",
       "speed: {'preprocess': 0.9731509446008307, 'inference': 1.533367924770024, 'loss': 0.00047452752214838874, 'postprocess': 1.712680189158627}\n",
       "task: 'detect'"
      ]
     },
     "execution_count": 5,
     "metadata": {},
     "output_type": "execute_result"
    }
   ],
   "execution_count": 5
  },
  {
   "metadata": {},
   "cell_type": "markdown",
   "source": "# EVALUAMOS EL MODELO",
   "id": "97e0cf50c7c4f60a"
  },
  {
   "metadata": {
    "ExecuteTime": {
     "end_time": "2025-04-07T03:15:00.496271Z",
     "start_time": "2025-04-07T03:14:22.880828Z"
    }
   },
   "cell_type": "code",
   "source": [
    "model.val()\n",
    "results = model(r\"D:\\programacion\\proyectos\\utec\\IA\\modulo_2_redes_convolucionales_y_generativas\\yolo_ultralytics\\peru_plate_numbers_detection\\dataset\\valid\\images\\Foto-Placa-6-_jpg.rf.0183f4c3576c6810b04cc4c615ca99c3.jpg\")\n",
    "results[0].show()\n"
   ],
   "id": "8d94d10b44fded52",
   "outputs": [
    {
     "name": "stdout",
     "output_type": "stream",
     "text": [
      "Ultralytics 8.3.102  Python-3.13.1 torch-2.6.0+cu126 CUDA:0 (NVIDIA GeForce RTX 2070 SUPER, 8192MiB)\n",
      "YOLO11n summary (fused): 100 layers, 2,582,542 parameters, 0 gradients, 6.3 GFLOPs\n"
     ]
    },
    {
     "name": "stderr",
     "output_type": "stream",
     "text": [
      "\u001B[34m\u001B[1mval: \u001B[0mScanning D:\\programacion\\proyectos\\utec\\IA\\modulo_2_redes_convolucionales_y_generativas\\yolo_ultralytics\\peru_plate_numbers_detection\\dataset\\valid\\labels.cache... 106 images, 0 backgrounds, 0 corrupt: 100%|██████████| 106/106 [00:00<?, ?it/s]\n",
      "                 Class     Images  Instances      Box(P          R      mAP50  mAP50-95): 100%|██████████| 7/7 [00:04<00:00,  1.57it/s]\n"
     ]
    },
    {
     "name": "stdout",
     "output_type": "stream",
     "text": [
      "                   all        106        203      0.898      0.926      0.902      0.591\n",
      "                 Placa        106        203      0.898      0.926      0.902      0.591\n",
      "Speed: 2.3ms preprocess, 5.4ms inference, 0.0ms loss, 2.1ms postprocess per image\n",
      "Results saved to \u001B[1mruns\\detect\\yolo_car_detector22\u001B[0m\n",
      "\n",
      "image 1/1 D:\\programacion\\proyectos\\utec\\IA\\modulo_2_redes_convolucionales_y_generativas\\yolo_ultralytics\\peru_plate_numbers_detection\\dataset\\valid\\images\\Foto-Placa-6-_jpg.rf.0183f4c3576c6810b04cc4c615ca99c3.jpg: 640x480 3 Placas, 37.4ms\n",
      "Speed: 3.6ms preprocess, 37.4ms inference, 1.5ms postprocess per image at shape (1, 3, 640, 480)\n"
     ]
    }
   ],
   "execution_count": 6
  },
  {
   "metadata": {},
   "cell_type": "markdown",
   "source": "# NUEVA EVALUACION",
   "id": "285d147a9f838596"
  },
  {
   "metadata": {
    "ExecuteTime": {
     "end_time": "2025-04-07T04:09:32.860388Z",
     "start_time": "2025-04-07T04:08:57.335706Z"
    }
   },
   "cell_type": "code",
   "source": [
    "model.val()\n",
    "results = model(r\"D:\\programacion\\proyectos\\utec\\IA\\modulo_2_redes_convolucionales_y_generativas\\yolo_ultralytics\\peru_plate_numbers_detection\\assets\\testing.jpg\")\n",
    "results[0].show()"
   ],
   "id": "e61287a20742981b",
   "outputs": [
    {
     "name": "stdout",
     "output_type": "stream",
     "text": [
      "Ultralytics 8.3.102  Python-3.13.1 torch-2.6.0+cu126 CUDA:0 (NVIDIA GeForce RTX 2070 SUPER, 8192MiB)\n"
     ]
    },
    {
     "name": "stderr",
     "output_type": "stream",
     "text": [
      "\u001B[34m\u001B[1mval: \u001B[0mScanning D:\\programacion\\proyectos\\utec\\IA\\modulo_2_redes_convolucionales_y_generativas\\yolo_ultralytics\\peru_plate_numbers_detection\\dataset\\valid\\labels.cache... 106 images, 0 backgrounds, 0 corrupt: 100%|██████████| 106/106 [00:00<?, ?it/s]\n",
      "                 Class     Images  Instances      Box(P          R      mAP50  mAP50-95): 100%|██████████| 7/7 [00:04<00:00,  1.48it/s]\n"
     ]
    },
    {
     "name": "stdout",
     "output_type": "stream",
     "text": [
      "                   all        106        203      0.898      0.926      0.902      0.591\n",
      "                 Placa        106        203      0.898      0.926      0.902      0.591\n",
      "Speed: 2.7ms preprocess, 4.3ms inference, 0.0ms loss, 1.8ms postprocess per image\n",
      "Results saved to \u001B[1mruns\\detect\\yolo_car_detector23\u001B[0m\n",
      "\n",
      "image 1/1 D:\\programacion\\proyectos\\utec\\IA\\modulo_2_redes_convolucionales_y_generativas\\yolo_ultralytics\\peru_plate_numbers_detection\\assets\\testing.jpg: 480x640 1 Placa, 52.0ms\n",
      "Speed: 2.3ms preprocess, 52.0ms inference, 2.7ms postprocess per image at shape (1, 3, 480, 640)\n"
     ]
    }
   ],
   "execution_count": 7
  }
 ],
 "metadata": {
  "kernelspec": {
   "display_name": "Python 3",
   "language": "python",
   "name": "python3"
  },
  "language_info": {
   "codemirror_mode": {
    "name": "ipython",
    "version": 2
   },
   "file_extension": ".py",
   "mimetype": "text/x-python",
   "name": "python",
   "nbconvert_exporter": "python",
   "pygments_lexer": "ipython2",
   "version": "2.7.6"
  }
 },
 "nbformat": 4,
 "nbformat_minor": 5
}
