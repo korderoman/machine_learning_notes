{
 "cells": [
  {
   "cell_type": "code",
   "id": "initial_id",
   "metadata": {
    "collapsed": true,
    "ExecuteTime": {
     "end_time": "2025-04-07T00:02:47.953013Z",
     "start_time": "2025-04-07T00:02:47.890150Z"
    }
   },
   "source": [
    "import json\n",
    "import os\n",
    "\n",
    "# Ruta al archivo .json y a la carpeta de imágenes\n",
    "json_path = \"dataset/train/_annotations.coco.json\"\n",
    "images_folder = \"dataset/train/images\"\n",
    "\n",
    "# Cargar anotaciones COCO\n",
    "with open(json_path, 'r', encoding='utf-8') as f:\n",
    "    coco_data = json.load(f)\n",
    "\n",
    "# Verificar imágenes faltantes\n",
    "missing_images = []\n",
    "for img in coco_data['images']:\n",
    "    filename = img['file_name']\n",
    "    img_path = os.path.join(images_folder, filename)\n",
    "    if not os.path.isfile(img_path):\n",
    "        missing_images.append(filename)\n",
    "\n",
    "# Mostrar resultados\n",
    "if missing_images:\n",
    "    print(f\"🔴 {len(missing_images)} imágenes faltantes:\")\n",
    "    for name in missing_images:\n",
    "        print(\" -\", name)\n",
    "else:\n",
    "    print(\"✅ Todas las imágenes del COCO .json existen en la carpeta.\")\n"
   ],
   "outputs": [
    {
     "name": "stdout",
     "output_type": "stream",
     "text": [
      "✅ Todas las imágenes del COCO .json existen en la carpeta.\n"
     ]
    }
   ],
   "execution_count": 2
  }
 ],
 "metadata": {
  "kernelspec": {
   "display_name": "Python 3",
   "language": "python",
   "name": "python3"
  },
  "language_info": {
   "codemirror_mode": {
    "name": "ipython",
    "version": 2
   },
   "file_extension": ".py",
   "mimetype": "text/x-python",
   "name": "python",
   "nbconvert_exporter": "python",
   "pygments_lexer": "ipython2",
   "version": "2.7.6"
  }
 },
 "nbformat": 4,
 "nbformat_minor": 5
}
