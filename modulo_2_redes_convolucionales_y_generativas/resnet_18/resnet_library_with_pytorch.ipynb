{
 "cells": [
  {
   "metadata": {},
   "cell_type": "markdown",
   "source": "# Importamos las dependencias necesarias",
   "id": "f3c2afbd580802ab"
  },
  {
   "cell_type": "code",
   "id": "initial_id",
   "metadata": {
    "collapsed": true,
    "ExecuteTime": {
     "end_time": "2025-03-19T23:13:56.422826Z",
     "start_time": "2025-03-19T23:13:35.404948Z"
    }
   },
   "source": [
    "import torch\n",
    "import torch.nn as nn\n",
    "import torch.optim as optim\n",
    "import torchvision\n",
    "import torchvision.transforms as transforms\n",
    "import torchvision.models as models"
   ],
   "outputs": [],
   "execution_count": 1
  },
  {
   "metadata": {},
   "cell_type": "markdown",
   "source": "# Configuración de dispositivo (GPU si está disponible)\n",
   "id": "c7ed3dca661fc5c9"
  },
  {
   "metadata": {
    "ExecuteTime": {
     "end_time": "2025-03-19T23:14:31.105554Z",
     "start_time": "2025-03-19T23:14:31.101498Z"
    }
   },
   "cell_type": "code",
   "source": "device = torch.device(\"cuda\" if torch.cuda.is_available() else \"cpu\")\n",
   "id": "192082704745939",
   "outputs": [],
   "execution_count": 2
  },
  {
   "metadata": {},
   "cell_type": "markdown",
   "source": "# Transformaciones para normalizar los datos",
   "id": "90ed03e687870d11"
  },
  {
   "metadata": {
    "ExecuteTime": {
     "end_time": "2025-03-19T23:14:33.528416Z",
     "start_time": "2025-03-19T23:14:33.523602Z"
    }
   },
   "cell_type": "code",
   "source": [
    "transform = transforms.Compose([\n",
    "    transforms.RandomHorizontalFlip(),  # Aumentación de datos\n",
    "    transforms.RandomCrop(32, padding=4),  # Aumentación de datos\n",
    "    transforms.ToTensor(),  # Convertir a tensor\n",
    "    transforms.Normalize((0.4914, 0.4822, 0.4465), (0.2470, 0.2435, 0.2616))  # Normalización\n",
    "])"
   ],
   "id": "3aef5d3cdb2a24ff",
   "outputs": [],
   "execution_count": 3
  },
  {
   "metadata": {},
   "cell_type": "markdown",
   "source": "# Cargar CIFAR-10",
   "id": "3a60551b153a68d0"
  },
  {
   "metadata": {
    "ExecuteTime": {
     "end_time": "2025-03-19T23:14:58.209003Z",
     "start_time": "2025-03-19T23:14:36.234200Z"
    }
   },
   "cell_type": "code",
   "source": [
    "batch_size = 128\n",
    "trainset = torchvision.datasets.CIFAR10(root='./data', train=True, download=True, transform=transform)\n",
    "trainloader = torch.utils.data.DataLoader(trainset, batch_size=batch_size, shuffle=True, num_workers=2)\n",
    "\n",
    "testset = torchvision.datasets.CIFAR10(root='./data', train=False, download=True, transform=transform)\n",
    "testloader = torch.utils.data.DataLoader(testset, batch_size=batch_size, shuffle=False, num_workers=2)\n"
   ],
   "id": "a2db7ca047c57b89",
   "outputs": [
    {
     "name": "stderr",
     "output_type": "stream",
     "text": [
      "100.0%\n"
     ]
    }
   ],
   "execution_count": 4
  },
  {
   "metadata": {},
   "cell_type": "markdown",
   "source": "# Cargar el modelo ResNet-18",
   "id": "4141f3c22cb0c64d"
  },
  {
   "metadata": {
    "ExecuteTime": {
     "end_time": "2025-03-19T23:17:49.382430Z",
     "start_time": "2025-03-19T23:17:49.146239Z"
    }
   },
   "cell_type": "code",
   "source": [
    "# Cargar modelo predefinido de torchvision\n",
    "model = models.resnet18(weights=models.ResNet18_Weights.DEFAULT)  # pretrained=True si quieres usar pesos de ImageNet\n",
    "\n",
    "# Cambiar la capa final para CIFAR-10 (10 clases en lugar de 1000 de ImageNet)\n",
    "num_ftrs = model.fc.in_features\n",
    "model.fc = nn.Linear(num_ftrs, 10)\n",
    "\n",
    "# Mover a GPU si está disponible\n",
    "model = model.to(device)"
   ],
   "id": "ca1988a52780adb2",
   "outputs": [],
   "execution_count": 6
  },
  {
   "metadata": {},
   "cell_type": "markdown",
   "source": "# Definir la función de pérdida y el optimizador",
   "id": "5cdc26cfa214cd82"
  },
  {
   "metadata": {
    "ExecuteTime": {
     "end_time": "2025-03-19T23:17:53.541128Z",
     "start_time": "2025-03-19T23:17:53.536263Z"
    }
   },
   "cell_type": "code",
   "source": [
    "criterion = nn.CrossEntropyLoss()  # Función de pérdida para clasificación\n",
    "optimizer = optim.Adam(model.parameters(), lr=0.001)  # Optimizador Adam"
   ],
   "id": "5cddbd7d0dea14ee",
   "outputs": [],
   "execution_count": 7
  },
  {
   "metadata": {},
   "cell_type": "markdown",
   "source": "# Entrenamiento del modelo",
   "id": "9bbd7d2c44d1ea57"
  },
  {
   "metadata": {
    "ExecuteTime": {
     "end_time": "2025-03-20T00:11:05.554672Z",
     "start_time": "2025-03-19T23:17:55.711559Z"
    }
   },
   "cell_type": "code",
   "source": [
    "num_epochs = 10  # Número de épocas\n",
    "\n",
    "for epoch in range(num_epochs):\n",
    "    model.train()  # Modo entrenamiento\n",
    "    running_loss = 0.0\n",
    "\n",
    "    for images, labels in trainloader:\n",
    "        images, labels = images.to(device), labels.to(device)\n",
    "\n",
    "        optimizer.zero_grad()  # Resetear gradientes\n",
    "        outputs = model(images)  # Forward pass\n",
    "        loss = criterion(outputs, labels)  # Calcular pérdida\n",
    "        loss.backward()  # Backpropagation\n",
    "        optimizer.step()  # Actualizar pesos\n",
    "\n",
    "        running_loss += loss.item()\n",
    "\n",
    "    print(f\"Época {epoch+1}/{num_epochs}, Pérdida: {running_loss/len(trainloader):.4f}\")"
   ],
   "id": "a7e91574b3d19558",
   "outputs": [
    {
     "name": "stdout",
     "output_type": "stream",
     "text": [
      "Época 1/10, Pérdida: 1.0377\n",
      "Época 2/10, Pérdida: 0.7345\n",
      "Época 3/10, Pérdida: 0.6431\n",
      "Época 4/10, Pérdida: 0.5912\n",
      "Época 5/10, Pérdida: 0.5507\n",
      "Época 6/10, Pérdida: 0.5148\n",
      "Época 7/10, Pérdida: 0.4988\n",
      "Época 8/10, Pérdida: 0.4682\n",
      "Época 9/10, Pérdida: 0.4503\n",
      "Época 10/10, Pérdida: 0.4317\n"
     ]
    }
   ],
   "execution_count": 8
  },
  {
   "metadata": {},
   "cell_type": "markdown",
   "source": "# Evaluación del modelo en datos de prueba",
   "id": "3856e88ce66d78c3"
  },
  {
   "metadata": {
    "ExecuteTime": {
     "end_time": "2025-03-20T00:27:47.403299Z",
     "start_time": "2025-03-20T00:27:36.030592Z"
    }
   },
   "cell_type": "code",
   "source": [
    "model.eval()  # Modo evaluación\n",
    "correct = 0\n",
    "total = 0\n",
    "\n",
    "with torch.no_grad():  # Desactivar cálculo de gradientes\n",
    "    for images, labels in testloader:\n",
    "        images, labels = images.to(device), labels.to(device)\n",
    "        outputs = model(images)\n",
    "        _, predicted = torch.max(outputs, 1)  # Obtener predicción\n",
    "        total += labels.size(0)\n",
    "        correct += (predicted == labels).sum().item()\n",
    "\n",
    "accuracy = 100 * correct / total\n",
    "print(f\"Precisión en el conjunto de prueba: {accuracy:.2f}%\")"
   ],
   "id": "c9c76373f8a34ae",
   "outputs": [
    {
     "name": "stdout",
     "output_type": "stream",
     "text": [
      "Precisión en el conjunto de prueba: 81.54%\n"
     ]
    }
   ],
   "execution_count": 9
  }
 ],
 "metadata": {
  "kernelspec": {
   "display_name": "Python 3",
   "language": "python",
   "name": "python3"
  },
  "language_info": {
   "codemirror_mode": {
    "name": "ipython",
    "version": 2
   },
   "file_extension": ".py",
   "mimetype": "text/x-python",
   "name": "python",
   "nbconvert_exporter": "python",
   "pygments_lexer": "ipython2",
   "version": "2.7.6"
  }
 },
 "nbformat": 4,
 "nbformat_minor": 5
}
