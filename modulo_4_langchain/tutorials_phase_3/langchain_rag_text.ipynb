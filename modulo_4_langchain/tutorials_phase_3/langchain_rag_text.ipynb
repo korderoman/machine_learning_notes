{
 "cells": [
  {
   "metadata": {},
   "cell_type": "code",
   "outputs": [],
   "execution_count": null,
   "source": "# Dependencias básicas",
   "id": "13de2ffca783a7d"
  },
  {
   "cell_type": "code",
   "id": "initial_id",
   "metadata": {
    "collapsed": true,
    "ExecuteTime": {
     "end_time": "2025-04-13T23:00:22.828882Z",
     "start_time": "2025-04-13T23:00:22.822593Z"
    }
   },
   "source": [
    "from dotenv import load_dotenv\n",
    "from langchain_openai import ChatOpenAI\n",
    "\n",
    "load_dotenv()"
   ],
   "outputs": [
    {
     "data": {
      "text/plain": [
       "True"
      ]
     },
     "execution_count": 42,
     "metadata": {},
     "output_type": "execute_result"
    }
   ],
   "execution_count": 42
  },
  {
   "metadata": {},
   "cell_type": "markdown",
   "source": "# Iniciando el modelo",
   "id": "ea848e75936cd1a3"
  },
  {
   "metadata": {
    "ExecuteTime": {
     "end_time": "2025-04-14T02:59:56.406914Z",
     "start_time": "2025-04-14T02:59:55.560575Z"
    }
   },
   "cell_type": "code",
   "source": [
    "from langchain_core.language_models import BaseChatModel\n",
    "from langchain.chat_models import init_chat_model\n",
    "\n",
    "llm: BaseChatModel = init_chat_model(\"gpt-4o-mini\", model_provider=\"openai\")"
   ],
   "id": "443e8b3f5414bf01",
   "outputs": [],
   "execution_count": 57
  },
  {
   "metadata": {
    "ExecuteTime": {
     "end_time": "2025-04-14T04:17:38.293438Z",
     "start_time": "2025-04-14T04:17:37.182768Z"
    }
   },
   "cell_type": "code",
   "source": [
    "from langchain_openai import OpenAIEmbeddings\n",
    "\n",
    "embeddings:OpenAIEmbeddings = OpenAIEmbeddings(model=\"text-embedding-3-large\")"
   ],
   "id": "d2bb80efcda63f9c",
   "outputs": [],
   "execution_count": 58
  },
  {
   "metadata": {},
   "cell_type": "markdown",
   "source": "# Usando Pinecone",
   "id": "74deda5043ea31bd"
  },
  {
   "metadata": {
    "ExecuteTime": {
     "end_time": "2025-04-13T23:00:30.285053Z",
     "start_time": "2025-04-13T23:00:30.273591Z"
    }
   },
   "cell_type": "code",
   "source": [
    "from langchain_pinecone import PineconeVectorStore\n",
    "vector_store=PineconeVectorStore(index_name=\"attention-all-you-need\", embedding=embeddings)"
   ],
   "id": "d29cdbefb4d72c9c",
   "outputs": [],
   "execution_count": 45
  },
  {
   "metadata": {},
   "cell_type": "markdown",
   "source": "# Iniciando el modelo de embeddings",
   "id": "b32e11e5ce185e3"
  },
  {
   "metadata": {},
   "cell_type": "markdown",
   "source": "# Loaders",
   "id": "400a52ff0ebd04ce"
  },
  {
   "metadata": {
    "ExecuteTime": {
     "end_time": "2025-04-13T23:00:33.581481Z",
     "start_time": "2025-04-13T23:00:32.295193Z"
    }
   },
   "cell_type": "code",
   "source": [
    "from langchain_community.document_loaders import PyPDFLoader\n",
    "from langchain_core.documents import Document\n",
    "file_path=r\"D:\\programacion\\proyectos\\utec\\IA\\modulo_4_langchain\\tutorials_phase_3\\data\\inputs\\attention_is_all_you_need.pdf\"\n",
    "loader = PyPDFLoader(file_path)\n",
    "docs: list[Document] = loader.load()"
   ],
   "id": "6b1471c2c9583540",
   "outputs": [],
   "execution_count": 46
  },
  {
   "metadata": {},
   "cell_type": "markdown",
   "source": "# Split documents",
   "id": "16ff546cc44c55b0"
  },
  {
   "metadata": {
    "ExecuteTime": {
     "end_time": "2025-04-13T23:00:39.224823Z",
     "start_time": "2025-04-13T23:00:34.485793Z"
    }
   },
   "cell_type": "code",
   "source": [
    "from langchain_text_splitters import RecursiveCharacterTextSplitter\n",
    "text_splitter = RecursiveCharacterTextSplitter(chunk_size=1000, chunk_overlap=200)\n",
    "all_splits=text_splitter.split_documents(docs)\n",
    "vector_store.add_documents(all_splits)\n"
   ],
   "id": "48512063eb5bf395",
   "outputs": [
    {
     "data": {
      "text/plain": [
       "['46d3f3c1-51ce-4056-8994-062339f55303',\n",
       " 'e102c687-21eb-4f37-a061-891cee7c0c84',\n",
       " 'f41a9949-b9db-482a-8fa3-72a78921928c',\n",
       " 'b8d177db-1751-43ad-9e81-e79cfd51da35',\n",
       " '867738f6-2d94-4cb9-be79-469f827b916b',\n",
       " '790a0cb6-7b78-44bd-98a2-b96a3cc45ac2',\n",
       " '6d156c13-537b-4be0-a78c-50e597b0e5d3',\n",
       " '22c0d99b-b207-4759-9bf8-7e75db7e5ed0',\n",
       " 'e23f6687-aef0-4961-a914-5a4349f7be07',\n",
       " 'f8a2979c-e90b-48c3-9f48-6e4e43828fc5',\n",
       " '7df3ac5e-46be-402e-a949-1617ae804a38',\n",
       " '2df63f80-5c61-4cfe-8877-849d5e81e1b6',\n",
       " '48808e7d-8257-435d-90dd-f81723a4a1d7',\n",
       " 'fe4644e8-0cf8-49e8-9536-0c5d5bb7c94b',\n",
       " '2e5f1de0-ce57-4fcf-b3b4-11118cbfde1a',\n",
       " '61d92b81-1fb0-4da1-bbbd-5b0079cedc71',\n",
       " '442fba58-3fcd-424f-b2b4-e009a1bc4cb6',\n",
       " 'e011d644-95a7-42f3-97c4-45f2d0bbcd2f',\n",
       " '9c8c2ec4-2fe9-44d6-b0d4-a9afabfdc9ce',\n",
       " '7310e648-0edb-4540-a894-f342d4a401a3',\n",
       " '22791151-0f9b-4433-afe2-9459914745a5',\n",
       " '6d2c0481-5158-48cf-ae61-ea4fe48d0767',\n",
       " '858376bb-ad4e-42ae-95ce-9183d3d31ac6',\n",
       " '9065445a-a141-46f0-8f17-5d4be19c5787',\n",
       " '9f4dd6ad-391d-4722-bb24-1d6481aa8511',\n",
       " 'd4b8fde9-5fb8-4ab4-b8c9-694cb7862a6e',\n",
       " 'cd7c8594-6d56-4c0a-b626-998ba09750c2',\n",
       " 'b05e010c-f7bf-4a79-8afe-7e39a98fc01f',\n",
       " 'cb72a9c4-dfd6-41c1-8041-f74e578e7eae',\n",
       " '28370ea0-74c1-48bb-bfcd-bbf6c921bf2f',\n",
       " '48218c1b-68d5-44a0-a8e5-05141f67906e',\n",
       " '85a6b08a-a0a1-4db4-93c3-5ecc46daec48',\n",
       " '448fcb32-305c-48d7-993d-1e4b71038d4a',\n",
       " '98fdec6a-36f7-465d-b18c-5c98bfc2d1f3',\n",
       " 'd3110b85-43de-4cbd-8517-54d220044ebd',\n",
       " '63067cf5-5428-487e-8501-dcc376f84a5f',\n",
       " '979f6cb2-dc82-4243-815d-723dec37d935',\n",
       " '556aad79-5226-4f06-8e65-d115de4b9464',\n",
       " 'fb179bbd-3789-49cd-9b88-e2da1b93ba30',\n",
       " '4fe8b170-23c8-453c-b4a8-9624c62eb397',\n",
       " '822dcac1-8589-43d1-94b9-a528e448eca2',\n",
       " '19c3cb26-54b2-4f85-86c0-ba6eafb8717e',\n",
       " '4ab1d6d6-5c81-4507-8e7a-e8963feff0ee',\n",
       " 'fa7113ce-cef5-4022-9c84-ca2861885900',\n",
       " 'fc4e9cdc-8dec-4072-8e13-ac1b30a82a30',\n",
       " '8591172e-2adf-4996-8b1d-9cbdfdd411cc',\n",
       " '657b05ab-c01d-4d4a-8b64-3f442845ebd5',\n",
       " 'ebd12cd5-c71d-4ffc-95ce-b3d441dc5433',\n",
       " '067199f1-98c1-4c61-8030-b48290335715',\n",
       " '8b72f747-4a07-4457-ae01-6ac44a33084c',\n",
       " '56d21856-59e7-4f74-8d10-d4b75488c48f',\n",
       " '784ba63d-a553-494a-99f6-20e29c726ff8']"
      ]
     },
     "execution_count": 47,
     "metadata": {},
     "output_type": "execute_result"
    }
   ],
   "execution_count": 47
  },
  {
   "metadata": {},
   "cell_type": "markdown",
   "source": "# Conexión a Hub",
   "id": "9d391aa05c513f9b"
  },
  {
   "metadata": {
    "ExecuteTime": {
     "end_time": "2025-04-13T23:00:43.733403Z",
     "start_time": "2025-04-13T23:00:43.003987Z"
    }
   },
   "cell_type": "code",
   "source": [
    "from langchain import hub\n",
    "#https://smith.langchain.com/hub/rlm/rag-prompt\n",
    "prompt = hub.pull(\"rlm/rag-prompt\")"
   ],
   "id": "63123232406bae64",
   "outputs": [],
   "execution_count": 48
  },
  {
   "metadata": {},
   "cell_type": "markdown",
   "source": "# Creamos el workflow",
   "id": "248f422647e2b73b"
  },
  {
   "metadata": {},
   "cell_type": "markdown",
   "source": "## Creamos el estado",
   "id": "ab20a02a16b87fd8"
  },
  {
   "metadata": {
    "ExecuteTime": {
     "end_time": "2025-04-13T23:00:49.281550Z",
     "start_time": "2025-04-13T23:00:49.276554Z"
    }
   },
   "cell_type": "code",
   "source": [
    "from typing_extensions import TypedDict, List\n",
    "from langchain_core.documents import Document\n",
    "class State(TypedDict):\n",
    "    question:str\n",
    "    context:List[Document]\n",
    "    answer:str"
   ],
   "id": "6e70f59ad1245d58",
   "outputs": [],
   "execution_count": 50
  },
  {
   "metadata": {},
   "cell_type": "markdown",
   "source": "# Creamos los nodos",
   "id": "34ce72eb81a37905"
  },
  {
   "metadata": {
    "ExecuteTime": {
     "end_time": "2025-04-13T23:02:46.953174Z",
     "start_time": "2025-04-13T23:02:46.655159Z"
    }
   },
   "cell_type": "code",
   "source": [
    "from langgraph.graph import START, END, StateGraph\n",
    "from IPython.display import display, Image\n",
    "def retrieve(state:State):\n",
    "    \"\"\"Retrieve the relevant documents\"\"\"\n",
    "    retrieve_docs=vector_store.similarity_search(state[\"question\"])\n",
    "    return {\"context\":retrieve_docs}\n",
    "\n",
    "def generate(state:State):\n",
    "    \"\"\"Generate the answer using the retrieved documents\"\"\"\n",
    "    docs_content=\"\\n\\n\".join(doc.page_content for doc in state[\"context\"])\n",
    "    messages=prompt.invoke({\"question\":state[\"question\"], \"context\":docs_content})\n",
    "    print(messages)\n",
    "    print(\"--------------------------------------------------------------------\")\n",
    "    response=llm.invoke( input=messages)\n",
    "    return {\"answer\":response.content}\n",
    "\n",
    "#Creando los nodos\n",
    "rag_builder=StateGraph(State)\n",
    "rag_builder.add_node(\"retrieve\", retrieve)\n",
    "rag_builder.add_node(\"generate\", generate)\n",
    "# Creando los edges\n",
    "rag_builder.add_edge(START, \"retrieve\")\n",
    "rag_builder.add_edge(\"retrieve\", \"generate\")\n",
    "rag_builder.add_edge(\"generate\", END)\n",
    "rag=rag_builder.compile()\n",
    "display(Image(rag.get_graph(xray=True).draw_mermaid_png()))\n",
    "\n"
   ],
   "id": "b83bc70591538e24",
   "outputs": [
    {
     "data": {
      "image/png": "[encoded data removed]",
      "text/plain": [
       "<IPython.core.display.Image object>"
      ]
     },
     "metadata": {},
     "output_type": "display_data"
    }
   ],
   "execution_count": 55
  },
  {
   "metadata": {
    "ExecuteTime": {
     "end_time": "2025-04-13T23:02:51.701852Z",
     "start_time": "2025-04-13T23:02:49.029900Z"
    }
   },
   "cell_type": "code",
   "source": [
    "response=rag.invoke({\"question\":\"What is the main idea of the paper?\"})\n",
    "print(response[\"answer\"])"
   ],
   "id": "438be96a608d8b5d",
   "outputs": [
    {
     "name": "stdout",
     "output_type": "stream",
     "text": [
      "messages=[HumanMessage(content=\"You are an assistant for question-answering tasks. Use the following pieces of retrieved context to answer the question. If you don't know the answer, just say that you don't know. Use three sentences maximum and keep the answer concise.\\nQuestion: What is the main idea of the paper? \\nContext: Provided proper attribution is provided, Google hereby grants permission to\\nreproduce the tables and figures in this paper solely for use in journalistic or\\nscholarly works.\\nAttention Is All You Need\\nAshish Vaswani∗\\nGoogle Brain\\navaswani@google.com\\nNoam Shazeer∗\\nGoogle Brain\\nnoam@google.com\\nNiki Parmar∗\\nGoogle Research\\nnikip@google.com\\nJakob Uszkoreit∗\\nGoogle Research\\nusz@google.com\\nLlion Jones∗\\nGoogle Research\\nllion@google.com\\nAidan N. Gomez∗ †\\nUniversity of Toronto\\naidan@cs.toronto.edu\\nŁukasz Kaiser∗\\nGoogle Brain\\nlukaszkaiser@google.com\\nIllia Polosukhin∗ ‡\\nillia.polosukhin@gmail.com\\nAbstract\\nThe dominant sequence transduction models are based on complex recurrent or\\nconvolutional neural networks that include an encoder and a decoder. The best\\nperforming models also connect the encoder and decoder through an attention\\nmechanism. We propose a new simple network architecture, the Transformer,\\nbased solely on attention mechanisms, dispensing with recurrence and convolutions\\n\\nProvided proper attribution is provided, Google hereby grants permission to\\nreproduce the tables and figures in this paper solely for use in journalistic or\\nscholarly works.\\nAttention Is All You Need\\nAshish Vaswani∗\\nGoogle Brain\\navaswani@google.com\\nNoam Shazeer∗\\nGoogle Brain\\nnoam@google.com\\nNiki Parmar∗\\nGoogle Research\\nnikip@google.com\\nJakob Uszkoreit∗\\nGoogle Research\\nusz@google.com\\nLlion Jones∗\\nGoogle Research\\nllion@google.com\\nAidan N. Gomez∗ †\\nUniversity of Toronto\\naidan@cs.toronto.edu\\nŁukasz Kaiser∗\\nGoogle Brain\\nlukaszkaiser@google.com\\nIllia Polosukhin∗ ‡\\nillia.polosukhin@gmail.com\\nAbstract\\nThe dominant sequence transduction models are based on complex recurrent or\\nconvolutional neural networks that include an encoder and a decoder. The best\\nperforming models also connect the encoder and decoder through an attention\\nmechanism. We propose a new simple network architecture, the Transformer,\\nbased solely on attention mechanisms, dispensing with recurrence and convolutions\\n\\nIn this work we propose the Transformer, a model architecture eschewing recurrence and instead\\nrelying entirely on an attention mechanism to draw global dependencies between input and output.\\nThe Transformer allows for significantly more parallelization and can reach a new state of the art in\\ntranslation quality after being trained for as little as twelve hours on eight P100 GPUs.\\n2 Background\\nThe goal of reducing sequential computation also forms the foundation of the Extended Neural GPU\\n[16], ByteNet [18] and ConvS2S [9], all of which use convolutional neural networks as basic building\\nblock, computing hidden representations in parallel for all input and output positions. In these models,\\nthe number of operations required to relate signals from two arbitrary input or output positions grows\\nin the distance between positions, linearly for ConvS2S and logarithmically for ByteNet. This makes\\n\\nIn this work we propose the Transformer, a model architecture eschewing recurrence and instead\\nrelying entirely on an attention mechanism to draw global dependencies between input and output.\\nThe Transformer allows for significantly more parallelization and can reach a new state of the art in\\ntranslation quality after being trained for as little as twelve hours on eight P100 GPUs.\\n2 Background\\nThe goal of reducing sequential computation also forms the foundation of the Extended Neural GPU\\n[16], ByteNet [18] and ConvS2S [9], all of which use convolutional neural networks as basic building\\nblock, computing hidden representations in parallel for all input and output positions. In these models,\\nthe number of operations required to relate signals from two arbitrary input or output positions grows\\nin the distance between positions, linearly for ConvS2S and logarithmically for ByteNet. This makes \\nAnswer:\", additional_kwargs={}, response_metadata={})]\n",
      "--------------------------------------------------------------------\n",
      "The main idea of the paper \"Attention Is All You Need\" is the introduction of the Transformer architecture, which relies entirely on attention mechanisms instead of recurrent or convolutional neural networks for sequence transduction tasks. This approach allows for greater parallelization and achieves improved translation quality with reduced training time. The Transformer model represents a significant advancement in natural language processing capabilities.\n"
     ]
    }
   ],
   "execution_count": 56
  }
 ],
 "metadata": {
  "kernelspec": {
   "display_name": "Python 3",
   "language": "python",
   "name": "python3"
  },
  "language_info": {
   "codemirror_mode": {
    "name": "ipython",
    "version": 2
   },
   "file_extension": ".py",
   "mimetype": "text/x-python",
   "name": "python",
   "nbconvert_exporter": "python",
   "pygments_lexer": "ipython2",
   "version": "2.7.6"
  }
 },
 "nbformat": 4,
 "nbformat_minor": 5
}
