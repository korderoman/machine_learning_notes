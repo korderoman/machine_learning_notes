{
 "cells": [
  {
   "metadata": {},
   "cell_type": "markdown",
   "source": "#  REALIZAMOS LAS IMPORTACIONES",
   "id": "407678de378af062"
  },
  {
   "metadata": {
    "ExecuteTime": {
     "end_time": "2025-04-04T12:33:21.935651Z",
     "start_time": "2025-04-04T12:33:18.667527Z"
    }
   },
   "cell_type": "code",
   "source": [
    "from datasets import load_dataset\n",
    "\n",
    "dataset = load_dataset(\"opus_books\", \"en-es\", split=\"train[:10%]\")\n",
    "\n",
    "# Mostrar ejemplo\n",
    "print(dataset[0][\"translation\"])"
   ],
   "id": "42ce0d96cc8ca02",
   "outputs": [
    {
     "name": "stdout",
     "output_type": "stream",
     "text": [
      "{'en': 'Source: Project GutenbergAudiobook available here', 'es': 'Source: Wikisource & librodot.com'}\n"
     ]
    }
   ],
   "execution_count": 2
  },
  {
   "metadata": {},
   "cell_type": "markdown",
   "source": "# CREACIÓN DEL VOCABULARIO",
   "id": "a64361143e3a3523"
  },
  {
   "metadata": {
    "ExecuteTime": {
     "end_time": "2025-04-02T13:06:51.573894Z",
     "start_time": "2025-04-02T13:06:50.728182Z"
    }
   },
   "cell_type": "code",
   "source": [
    "from collections import Counter\n",
    "\n",
    "def tokenize(text):\n",
    "    return text.lower().strip().split()\n",
    "\n",
    "def build_vocab(dataset, field, tokenizer, min_freq=1):\n",
    "    counter = Counter()\n",
    "    for example in dataset:\n",
    "        tokens = tokenizer(example[\"translation\"][field])\n",
    "        counter.update(tokens)\n",
    "    vocab = {\"<pad>\": 0, \"<bos>\": 1, \"<eos>\": 2, \"<unk>\": 3}\n",
    "    idx = 4\n",
    "    for word, freq in counter.items():\n",
    "        if freq >= min_freq:\n",
    "            vocab[word] = idx\n",
    "            idx += 1\n",
    "    return vocab\n",
    "\n",
    "# idioma origen: inglés ('en'), destino: español ('es')\n",
    "src_vocab = build_vocab(dataset, \"en\", tokenize, min_freq=1)\n",
    "tgt_vocab = build_vocab(dataset, \"es\", tokenize, min_freq=1)\n",
    "\n",
    "print(f\"Vocab inglés: {len(src_vocab)}, español: {len(tgt_vocab)}\")\n"
   ],
   "id": "9945df77412d0800",
   "outputs": [
    {
     "name": "stdout",
     "output_type": "stream",
     "text": [
      "Vocab inglés: 25942, español: 28311\n"
     ]
    }
   ],
   "execution_count": 27
  },
  {
   "metadata": {},
   "cell_type": "markdown",
   "source": "# CREACIÓN DE LA FUNCIÓN DE COLACION",
   "id": "a2ff34d6efb016d1"
  },
  {
   "metadata": {
    "ExecuteTime": {
     "end_time": "2025-04-02T13:07:04.716932Z",
     "start_time": "2025-04-02T13:07:04.712283Z"
    }
   },
   "cell_type": "code",
   "source": [
    "import torch\n",
    "from torch.nn.utils.rnn import pad_sequence\n",
    "\n",
    "def encode(text, vocab, tokenizer):\n",
    "    tokens = [\"<bos>\"] + tokenizer(text) + [\"<eos>\"]\n",
    "    return torch.tensor([vocab.get(tok, vocab[\"<unk>\"]) for tok in tokens], dtype=torch.long)\n",
    "\n",
    "def collate_fn(batch):\n",
    "    src_batch, tgt_batch = [], []\n",
    "    for item in batch:\n",
    "        src = encode(item[\"translation\"][\"en\"], src_vocab, tokenize)\n",
    "        tgt = encode(item[\"translation\"][\"es\"], tgt_vocab, tokenize)\n",
    "        src_batch.append(src)\n",
    "        tgt_batch.append(tgt)\n",
    "    src_batch = pad_sequence(src_batch, padding_value=src_vocab[\"<pad>\"])\n",
    "    tgt_batch = pad_sequence(tgt_batch, padding_value=tgt_vocab[\"<pad>\"])\n",
    "    return src_batch, tgt_batch\n"
   ],
   "id": "7bfdd436a32ccbfb",
   "outputs": [],
   "execution_count": 28
  },
  {
   "metadata": {},
   "cell_type": "markdown",
   "source": "# 5 Carga del dataset",
   "id": "6fcca8136e2d8dd9"
  },
  {
   "metadata": {
    "ExecuteTime": {
     "end_time": "2025-04-02T13:07:07.222982Z",
     "start_time": "2025-04-02T13:07:07.219243Z"
    }
   },
   "cell_type": "code",
   "source": [
    "from torch.utils.data import DataLoader\n",
    "\n",
    "train_loader = DataLoader(dataset, batch_size=32, shuffle=True, collate_fn=collate_fn)\n"
   ],
   "id": "7c59a27fcc307dd7",
   "outputs": [],
   "execution_count": 29
  },
  {
   "metadata": {},
   "cell_type": "markdown",
   "source": "# 6 Transformer Encoder - Decoder",
   "id": "6cbf79f4a6e7457c"
  },
  {
   "metadata": {
    "ExecuteTime": {
     "end_time": "2025-04-02T13:07:12.053939Z",
     "start_time": "2025-04-02T13:07:12.047745Z"
    }
   },
   "cell_type": "code",
   "source": [
    "import torch.nn as nn\n",
    "import math\n",
    "\n",
    "class PositionalEncoding(nn.Module):\n",
    "    def __init__(self, d_model, max_len=5000):\n",
    "        super().__init__()\n",
    "        pe = torch.zeros(max_len, d_model)\n",
    "        position = torch.arange(0, max_len).unsqueeze(1)\n",
    "        div_term = torch.exp(torch.arange(0, d_model, 2) * -(math.log(10000.0) / d_model))\n",
    "        pe[:, 0::2] = torch.sin(position * div_term)\n",
    "        pe[:, 1::2] = torch.cos(position * div_term)\n",
    "        self.register_buffer('pe', pe.unsqueeze(0))\n",
    "\n",
    "    def forward(self, x):\n",
    "        return x + self.pe[:, :x.size(1)]\n",
    "\n",
    "class Transformer(nn.Module):\n",
    "    def __init__(self, src_vocab_size, tgt_vocab_size, d_model=256, nhead=4, num_layers=3):\n",
    "        super().__init__()\n",
    "        self.src_embed = nn.Embedding(src_vocab_size, d_model)\n",
    "        self.tgt_embed = nn.Embedding(tgt_vocab_size, d_model)\n",
    "        self.pos_enc = PositionalEncoding(d_model)\n",
    "        self.transformer = nn.Transformer(d_model, nhead, num_layers, num_layers, dim_feedforward=512)\n",
    "        self.fc_out = nn.Linear(d_model, tgt_vocab_size)\n",
    "\n",
    "    def forward(self, src, tgt, src_mask=None, tgt_mask=None):\n",
    "        src = self.pos_enc(self.src_embed(src)).transpose(0, 1)\n",
    "        tgt = self.pos_enc(self.tgt_embed(tgt)).transpose(0, 1)\n",
    "        out = self.transformer(src, tgt, src_mask=src_mask, tgt_mask=tgt_mask)\n",
    "        return self.fc_out(out.transpose(0, 1))\n",
    "\n",
    "def generate_square_subsequent_mask(sz):\n",
    "    return torch.triu(torch.ones(sz, sz) * float('-inf'), diagonal=1)\n"
   ],
   "id": "49cd71fb3163256f",
   "outputs": [],
   "execution_count": 32
  },
  {
   "metadata": {},
   "cell_type": "markdown",
   "source": "# 7 Entrenamiento del modelo",
   "id": "d0a19ce482808c15"
  },
  {
   "metadata": {
    "ExecuteTime": {
     "end_time": "2025-04-02T14:02:24.513817Z",
     "start_time": "2025-04-02T13:07:18.728215Z"
    }
   },
   "cell_type": "code",
   "source": [
    "NUM_EPOCHS = 5\n",
    "train_losses = []\n",
    "val_losses = []\n",
    "\n",
    "device = torch.device(\"cuda\" if torch.cuda.is_available() else \"cpu\")\n",
    "model = Transformer(len(src_vocab), len(tgt_vocab)).to(device)\n",
    "criterion = nn.CrossEntropyLoss(ignore_index=tgt_vocab[\"<pad>\"])\n",
    "optimizer = torch.optim.Adam(model.parameters(), lr=3e-4)\n",
    "\n",
    "# Dividir el dataset\n",
    "from datasets import load_dataset\n",
    "full_data = load_dataset(\"opus_books\", \"en-es\")\n",
    "train_data = full_data[\"train\"].train_test_split(test_size=0.1, seed=42)\n",
    "train_loader = DataLoader(train_data[\"train\"], batch_size=32, shuffle=True, collate_fn=collate_fn)\n",
    "val_loader = DataLoader(train_data[\"test\"], batch_size=32, shuffle=False, collate_fn=collate_fn)\n",
    "\n",
    "for epoch in range(NUM_EPOCHS):\n",
    "    model.train()\n",
    "    total_train_loss = 0\n",
    "\n",
    "    for src, tgt in train_loader:\n",
    "        src = src.to(device).transpose(0, 1)\n",
    "        tgt = tgt.to(device).transpose(0, 1)\n",
    "        tgt_input = tgt[:, :-1]\n",
    "        tgt_out = tgt[:, 1:]\n",
    "\n",
    "        tgt_mask = generate_square_subsequent_mask(tgt_input.size(1)).to(device)\n",
    "        output = model(src, tgt_input, tgt_mask=tgt_mask)\n",
    "        loss = criterion(output.reshape(-1, output.shape[-1]), tgt_out.reshape(-1))\n",
    "\n",
    "        loss.backward()\n",
    "        optimizer.step()\n",
    "        optimizer.zero_grad()\n",
    "        total_train_loss += loss.item()\n",
    "\n",
    "    train_losses.append(total_train_loss / len(train_loader))\n",
    "\n",
    "    # Validación\n",
    "    model.eval()\n",
    "    total_val_loss = 0\n",
    "    with torch.no_grad():\n",
    "        for src, tgt in val_loader:\n",
    "            src = src.to(device).transpose(0, 1)\n",
    "            tgt = tgt.to(device).transpose(0, 1)\n",
    "            tgt_input = tgt[:, :-1]\n",
    "            tgt_out = tgt[:, 1:]\n",
    "\n",
    "            tgt_mask = generate_square_subsequent_mask(tgt_input.size(1)).to(device)\n",
    "            output = model(src, tgt_input, tgt_mask=tgt_mask)\n",
    "            val_loss = criterion(output.reshape(-1, output.shape[-1]), tgt_out.reshape(-1))\n",
    "            total_val_loss += val_loss.item()\n",
    "\n",
    "    val_losses.append(total_val_loss / len(val_loader))\n",
    "\n",
    "    print(f\"📘 Época {epoch+1}/{NUM_EPOCHS} | Entrenamiento: {train_losses[-1]:.4f} | Validación: {val_losses[-1]:.4f}\")\n"
   ],
   "id": "7cd4763afc3fa2bd",
   "outputs": [
    {
     "name": "stderr",
     "output_type": "stream",
     "text": [
      "D:\\programacion\\proyectos\\utec\\IA\\modulo_3_redes_recurrentes_modelos_basados_em_accion\\.venv\\Lib\\site-packages\\torch\\nn\\modules\\transformer.py:385: UserWarning: enable_nested_tensor is True, but self.use_nested_tensor is False because encoder_layer.self_attn.batch_first was not True(use batch_first for better inference performance)\n",
      "  warnings.warn(\n"
     ]
    },
    {
     "name": "stdout",
     "output_type": "stream",
     "text": [
      "📘 Época 1/5 | Entrenamiento: 5.0954 | Validación: 4.6037\n",
      "📘 Época 2/5 | Entrenamiento: 4.4279 | Validación: 4.3110\n",
      "📘 Época 3/5 | Entrenamiento: 4.1239 | Validación: 4.1146\n",
      "📘 Época 4/5 | Entrenamiento: 3.8903 | Validación: 3.9869\n",
      "📘 Época 5/5 | Entrenamiento: 3.7006 | Validación: 3.9015\n"
     ]
    }
   ],
   "execution_count": 33
  },
  {
   "metadata": {
    "ExecuteTime": {
     "end_time": "2025-04-02T14:02:57.673986Z",
     "start_time": "2025-04-02T14:02:57.167788Z"
    }
   },
   "cell_type": "code",
   "source": [
    "import pickle\n",
    "\n",
    "torch.save(model.state_dict(), \"transformer_en_es.pth\")\n",
    "\n",
    "with open(\"src_vocab.pkl\", \"wb\") as f:\n",
    "    pickle.dump(src_vocab, f)\n",
    "with open(\"tgt_vocab.pkl\", \"wb\") as f:\n",
    "    pickle.dump(tgt_vocab, f)\n",
    "\n",
    "print(\"✅ Modelo y vocabularios guardados.\")\n"
   ],
   "id": "c4a7977d3c237067",
   "outputs": [
    {
     "name": "stdout",
     "output_type": "stream",
     "text": [
      "✅ Modelo y vocabularios guardados.\n"
     ]
    }
   ],
   "execution_count": 34
  },
  {
   "metadata": {
    "ExecuteTime": {
     "end_time": "2025-04-02T14:03:01.060Z",
     "start_time": "2025-04-02T14:03:00.901030Z"
    }
   },
   "cell_type": "code",
   "source": [
    "import matplotlib.pyplot as plt\n",
    "\n",
    "plt.figure(figsize=(8, 5))\n",
    "plt.plot(train_losses, label='Pérdida de entrenamiento')\n",
    "plt.plot(val_losses, label='Pérdida de validación')\n",
    "plt.xlabel('Época')\n",
    "plt.ylabel('Pérdida')\n",
    "plt.title('Evolución de la pérdida por época')\n",
    "plt.legend()\n",
    "plt.grid(True)\n",
    "plt.tight_layout()\n",
    "plt.show()\n"
   ],
   "id": "3dedaa96bff33c9b",
   "outputs": [
    {
     "data": {
      "text/plain": [
       "<Figure size 800x500 with 1 Axes>"
      ],
      "image/png": "[encoded data removed]"
     },
     "metadata": {},
     "output_type": "display_data"
    }
   ],
   "execution_count": 35
  },
  {
   "metadata": {},
   "cell_type": "markdown",
   "source": "# Probamos el entrenamiento",
   "id": "897434fba8326f1f"
  },
  {
   "metadata": {
    "ExecuteTime": {
     "end_time": "2025-04-02T14:03:05.906463Z",
     "start_time": "2025-04-02T14:03:05.245550Z"
    }
   },
   "cell_type": "code",
   "source": [
    "def translate_sentence(model, sentence, src_vocab, tgt_vocab, max_len=40):\n",
    "    model.eval()\n",
    "    inv_tgt_vocab = {v: k for k, v in tgt_vocab.items()}\n",
    "\n",
    "    # Codificar y ajustar dimensión batch\n",
    "    src_tensor = encode(sentence, src_vocab, tokenize).unsqueeze(0).to(device)  # [1, src_len]\n",
    "    tgt_tensor = torch.tensor([[tgt_vocab[\"<bos>\"]]], dtype=torch.long).to(device)  # [1, 1]\n",
    "\n",
    "    for _ in range(max_len):\n",
    "        tgt_mask = generate_square_subsequent_mask(tgt_tensor.size(1)).to(device)\n",
    "        out = model(src_tensor, tgt_tensor, tgt_mask=tgt_mask)\n",
    "        next_token = out.argmax(-1)[:, -1].item()  # último token predicho\n",
    "        tgt_tensor = torch.cat([tgt_tensor, torch.tensor([[next_token]], device=device)], dim=1)\n",
    "        if next_token == tgt_vocab[\"<eos>\"]:\n",
    "            break\n",
    "\n",
    "    tokens = [inv_tgt_vocab.get(idx, \"<unk>\") for idx in tgt_tensor.squeeze().tolist()]\n",
    "    return \" \".join(tokens[1:-1])  # quitar <bos> y <eos>\n",
    "\n",
    "\n",
    "# 🔄 Prueba con tu propia frase\n",
    "test_sentences = [\n",
    "    \"Where is the train station?\",\n",
    "    \"What is your name?\",\n",
    "    \"I like reading books.\",\n",
    "    \"Do you speak Spanish?\",\n",
    "    \"I live in a small house.\",\n",
    "    \"The weather is nice today.\",\n",
    "    \"She is my sister.\",\n",
    "    \"I need help, please.\",\n",
    "    \"Can you come with me?\",\n",
    "    \"This is a beautiful city.\"\n",
    "]\n",
    "print(\"🔄 Traducciones del modelo:\\n\")\n",
    "for sent in test_sentences:\n",
    "    translation = translate_sentence(model, sent, src_vocab, tgt_vocab)\n",
    "    print(f\"EN: {sent}\")\n",
    "    print(f\"ES: {translation}\")\n",
    "    print(\"-\" * 40)\n"
   ],
   "id": "437e63bade1b7758",
   "outputs": [
    {
     "name": "stdout",
     "output_type": "stream",
     "text": [
      "🔄 Traducciones del modelo:\n",
      "\n",
      "EN: Where is the train station?\n",
      "ES: ¿dónde está el <unk> <unk>\n",
      "----------------------------------------\n",
      "EN: What is your name?\n",
      "ES: ¿qué es su <unk>\n",
      "----------------------------------------\n",
      "EN: I like reading books.\n",
      "ES: como <unk> <unk>\n",
      "----------------------------------------\n",
      "EN: Do you speak Spanish?\n",
      "ES: <unk> <unk> <unk> <unk>\n",
      "----------------------------------------\n",
      "EN: I live in a small house.\n",
      "ES: <unk> en un rincón de casa.\n",
      "----------------------------------------\n",
      "EN: The weather is nice today.\n",
      "ES: el tiempo es <unk> <unk>\n",
      "----------------------------------------\n",
      "EN: She is my sister.\n",
      "ES: es mi hermana.\n",
      "----------------------------------------\n",
      "EN: I need help, please.\n",
      "ES: <unk> <unk>\n",
      "----------------------------------------\n",
      "EN: Can you come with me?\n",
      "ES: ¿cómo <unk> <unk>\n",
      "----------------------------------------\n",
      "EN: This is a beautiful city.\n",
      "ES: es una <unk> <unk> <unk>\n",
      "----------------------------------------\n"
     ]
    }
   ],
   "execution_count": 36
  }
 ],
 "metadata": {
  "kernelspec": {
   "display_name": "Python 3",
   "language": "python",
   "name": "python3"
  },
  "language_info": {
   "codemirror_mode": {
    "name": "ipython",
    "version": 2
   },
   "file_extension": ".py",
   "mimetype": "text/x-python",
   "name": "python",
   "nbconvert_exporter": "python",
   "pygments_lexer": "ipython2",
   "version": "2.7.6"
  }
 },
 "nbformat": 4,
 "nbformat_minor": 5
}
