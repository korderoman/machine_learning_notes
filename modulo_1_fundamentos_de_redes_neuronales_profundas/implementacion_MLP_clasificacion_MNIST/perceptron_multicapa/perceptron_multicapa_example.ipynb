{
 "cells": [
  {
   "metadata": {},
   "cell_type": "markdown",
   "source": "# REALIZAMOS LAS IMPORTACIONES",
   "id": "8f9585e269f9d391"
  },
  {
   "cell_type": "code",
   "id": "initial_id",
   "metadata": {
    "collapsed": true,
    "ExecuteTime": {
     "end_time": "2025-03-19T18:00:42.700295Z",
     "start_time": "2025-03-19T18:00:38.202550Z"
    }
   },
   "source": [
    "import torch\n",
    "import torch.nn as nn\n",
    "import torch.optim as optim\n",
    "import torchvision\n",
    "import torchvision.transforms as transforms\n",
    "import matplotlib.pyplot as plt"
   ],
   "outputs": [],
   "execution_count": 1
  },
  {
   "metadata": {},
   "cell_type": "markdown",
   "source": "# VERIFICAMOS SI HAY UNA GPU DISPONIBLE",
   "id": "5cc34a9afeb5a860"
  },
  {
   "metadata": {
    "ExecuteTime": {
     "end_time": "2025-03-19T02:41:23.129340Z",
     "start_time": "2025-03-19T02:41:23.126515Z"
    }
   },
   "cell_type": "code",
   "source": [
    "\"\"\"\n",
    "Se usa para determinar si una GPU está disponible en el sistema y, en base a eso, asignar el dispositivo adecuado para ejecutar los cálculos en PyTorch.\n",
    "\"\"\"\n",
    "device = torch.device(\"cuda\" if torch.cuda.is_available() else \"cpu\")\n",
    "\"\"\"\n",
    "torch.cuda.is_available() Esta función verifica si CUDA (tecnología de computación en GPU de NVIDIA) está disponible en el sistema.\n",
    "torch.device() Crea un objeto de tipo torch.device, que indica en qué dispositivo (CPU o GPU) deben ejecutarse los tensores y los cálculos.\n",
    "\"\"\"\n",
    "\"\"\"\n",
    "¿Por qué es útil?\n",
    "✅ Portabilidad: Permite escribir código que se ejecuta tanto en CPU como en GPU sin modificaciones.\n",
    "✅ Rendimiento: Si hay una GPU disponible, los cálculos se ejecutarán en ella, lo que acelera el entrenamiento de modelos de IA.\n",
    "✅ Buena práctica: Es una forma estándar en PyTorch de manejar dispositivos de manera eficiente.\n",
    "\"\"\""
   ],
   "id": "528aba0a7ce3fd08",
   "outputs": [],
   "execution_count": 3
  },
  {
   "metadata": {},
   "cell_type": "markdown",
   "source": "# Transformaciones: convertir a tensor y normalizar imágenes",
   "id": "5878e57c6b1c88a7"
  },
  {
   "metadata": {
    "ExecuteTime": {
     "end_time": "2025-03-19T02:41:27.740467Z",
     "start_time": "2025-03-19T02:41:27.735484Z"
    }
   },
   "cell_type": "code",
   "source": [
    "\"\"\"\n",
    "Se usa para preprocesar imágenes antes de ingresarlas a un modelo en PyTorch,especialmente en redes neuronales profundas.\n",
    "\"\"\"\n",
    "\"\"\"\n",
    "transforms.ToTensor()\n",
    "\n",
    "Convierte una imagen PIL o un numpy.ndarray en un tensor de PyTorch.\n",
    "Escala automáticamente los valores de los píxeles de [0, 255] a [0, 1], ya que PyTorch usa números en coma flotante (float32).\n",
    "2️⃣ transforms.Normalize((0.5,), (0.5,))\n",
    "\n",
    "Normaliza la imagen para mejorar la estabilidad y el rendimiento del modelo.\n",
    "Cada píxel de la imagen es transformado según la fórmula:\n",
    "x_normalized = (x - mean) / std siendo std la desviación estándar.\n",
    "En este caso, (0.5,) es la media y (0.5,) es la desviación estándar, lo que hace que los valores de los píxeles pasen de [0,1] a [-1,1].\n",
    "\"\"\"\n",
    "#https://pytorch.org/vision/stable/generated/torchvision.transforms.v2.Compose.html#torchvision.transforms.v2.Compose\n",
    "#https://pytorch.org/tutorials/beginner/basics/transforms_tutorial.html#totensor\n",
    "transform = transforms.Compose([\n",
    "    transforms.ToTensor(),\n",
    "    transforms.Normalize((0.5,), (0.5,))\n",
    "])\n",
    "\"\"\"\n",
    "¿Por qué se convierten y normalizan las imágenes?\n",
    "✅ Mejora la convergencia del modelo: Los valores entre -1 y 1 permiten que la red aprenda más rápido y evitan problemas de gradientes.\n",
    "✅ Reducción de variabilidad: La normalización hace que todas las imágenes tengan un rango de valores similar, lo que ayuda a la red a ser más estable.\n",
    "✅ Compatible con modelos preentrenados: Muchos modelos de visión por computadora esperan imágenes normalizadas en un cierto rango.\n",
    "\"\"\""
   ],
   "id": "2edd0a0d46801608",
   "outputs": [],
   "execution_count": 4
  },
  {
   "metadata": {},
   "cell_type": "markdown",
   "source": "# Cargar el dataset MNIST",
   "id": "4c84404a263e7718"
  },
  {
   "metadata": {
    "ExecuteTime": {
     "end_time": "2025-03-19T02:41:30.264956Z",
     "start_time": "2025-03-19T02:41:30.223354Z"
    }
   },
   "cell_type": "code",
   "source": [
    "\"\"\"\n",
    "Solo algunas consideraciones:\n",
    "El parámetro root: Indica la ruta donde se ha de guardar el dataset\n",
    "El parámetro train: Indica si la data es de entrenamiento o no; si es de entrenamiento (True) descargará 60,000 imágenes y sino descargará las imágenes de prueba (10,000).\n",
    "El parámetro transform: Indica las transformaciones que sufrirá el dataset\n",
    "El parámetro download: Indica si se descargará el dataset en la ruta específicada (root); si el dataset, ya existe, no será nuevamente descargado\n",
    "\"\"\"\n",
    "#https://pytorch.org/vision/0.9/datasets.html#mnist\n",
    "train_dataset = torchvision.datasets.MNIST(root=\"./data\", train=True, transform=transform, download=True)\n",
    "test_dataset = torchvision.datasets.MNIST(root=\"./data\", train=False, transform=transform, download=True)\n"
   ],
   "id": "bc0bd34998266932",
   "outputs": [],
   "execution_count": 5
  },
  {
   "metadata": {},
   "cell_type": "markdown",
   "source": "# Crear dataloaders\n",
   "id": "d951e6b30ec49642"
  },
  {
   "metadata": {
    "ExecuteTime": {
     "end_time": "2025-03-19T02:41:33.563335Z",
     "start_time": "2025-03-19T02:41:33.560226Z"
    }
   },
   "cell_type": "code",
   "source": [
    "\"\"\"\n",
    "📌 Propósito: Carga el conjunto de entrenamiento en lotes (batches) de 64 imágenes y las mezcla aleatoriamente en cada época.\n",
    "\n",
    "train_dataset → Conjunto de datos de entrenamiento previamente cargado.\n",
    "batch_size=64 → Divide los datos en lotes de 64 imágenes para cada paso del entrenamiento.\n",
    "shuffle=True → Baraja las imágenes en cada época para mejorar la generalización del modelo.\n",
    "\"\"\"\n",
    "train_loader = torch.utils.data.DataLoader(train_dataset, batch_size=64, shuffle=True)\n",
    "test_loader = torch.utils.data.DataLoader(test_dataset, batch_size=64, shuffle=False)\n",
    "\"\"\"\n",
    "Solo algunas consideraciones:\n",
    "\n",
    "train_dataset / test_dataset: representa el parámetro del dataset que se se va a cargar\n",
    "\n",
    "batch_size: Indica la cantidad de imágenes que existen por lote; es decir, tu dataset de 10,000 imágenes se dividirá en pequeños segmentos de 64 imágenes, estas 64 imágenes se procesan en una sola pasada por la red neuronal antes de actualizar los pesos. El 64 es un número arbitrario que puedes ir cambiando para poder mejorar el entrenamiento de tu modelo.\n",
    "\n",
    "shuffle: Indica si los datos se barajan; esto es importante por lo siguiente; imagina que tienes una distribución de datos de 1 a 10000, si cortamos en segmentos de 64 y realizamos una media no obtendremos valores realmente representativos de los datos, esto pues la muestra no está homogenea; entonces el shuffle garantiza que los datos estén distribuidos, lo cual por defecto mejora la generalización del módelo; esto cobra especial interés cuando estamos en el proceso de entrenamiento.\n",
    "\"\"\""
   ],
   "id": "5d379bbcd5ef58e0",
   "outputs": [],
   "execution_count": 6
  },
  {
   "metadata": {},
   "cell_type": "markdown",
   "source": "# Definir la arquitectura del MLP con ReLU\n",
   "id": "497ea3ff888a08b0"
  },
  {
   "metadata": {
    "ExecuteTime": {
     "end_time": "2025-03-19T02:41:35.754836Z",
     "start_time": "2025-03-19T02:41:35.750835Z"
    }
   },
   "cell_type": "code",
   "source": [
    "class MLP(nn.Module):\n",
    "    def __init__(self):\n",
    "        super(MLP, self).__init__()\n",
    "        \"\"\"\n",
    "        nn.Linear(28 * 28, 512):\n",
    "        Es una capa densa totalmente conectada (FC - Fully Connected).\n",
    "        Toma 784 entradas (28x28) → 512 neuronas ocultas.\n",
    "        Cada píxel de la imagen se aplana y se usa como entrada.\n",
    "        nn.ReLU():\n",
    "\n",
    "        Función de activación ReLU (Rectified Linear Unit).\n",
    "        Introduce no linealidad en la red para que pueda aprender relaciones complejas.\n",
    "        nn.Dropout(0.2):\n",
    "\n",
    "        Regularización: Desactiva aleatoriamente el 20% de las neuronas en cada iteración para evitar sobreajuste.\n",
    "        \"\"\"\n",
    "        \"\"\"\n",
    "        nn.Linear(512, 256):\n",
    "            Reduce el tamaño de la capa oculta de 512 a 256 neuronas.\n",
    "            Mantiene conexiones densas entre las capas.\n",
    "            nn.ReLU():\n",
    "\n",
    "            Se vuelve a aplicar ReLU para introducir no linealidad.\n",
    "            nn.Dropout(0.2):\n",
    "\n",
    "            Se aplica otro Dropout del 20% para mejorar la generalización.\n",
    "        \"\"\"\n",
    "        #https://pytorch.org/docs/stable/generated/torch.nn.Linear.html#torch.nn.Linear\n",
    "        #RELU: https://pytorch.org/docs/stable/generated/torch.nn.ReLU.html#torch.nn.ReLU\n",
    "        self.model = nn.Sequential(\n",
    "            nn.Linear(28 * 28, 512),\n",
    "            nn.ReLU(),\n",
    "            nn.Dropout(0.2),  # Regularización\n",
    "            nn.Linear(512, 256),\n",
    "            nn.ReLU(),\n",
    "            nn.Dropout(0.2),\n",
    "            nn.Linear(256, 128),\n",
    "            nn.ReLU(),\n",
    "            nn.Linear(128, 10)  # Capa de salida\n",
    "        )\n",
    "        \"\"\"\n",
    "        nn.Linear(128, 10):\n",
    "        Capa final con 10 neuronas (una para cada dígito del 0 al 9).\n",
    "        No usa ReLU aquí, porque queremos que la salida sea procesada por CrossEntropyLoss, que aplica Softmax internamente.\n",
    "        \"\"\"\n",
    "        \"\"\"\n",
    "         ¿Cómo funciona Dropout?\n",
    "            En cada iteración del entrenamiento, desactiva aleatoriamente un porcentaje de neuronas.\n",
    "            Esto fuerza a la red a aprender representaciones más robustas, ya que no puede depender demasiado de ninguna neurona en particular.\n",
    "            En la inferencia (evaluación o prueba), Dropout se desactiva automáticamente, usando todos los pesos de la red.\n",
    "        \"\"\"\n",
    "        \"\"\"\n",
    "        ¿Qué es una capa densa totalmente conectada (Fully Connected - FC)?\n",
    "        Una capa densa o capa totalmente conectada (FC - Fully Connected) es un tipo de capa en una red neuronal en la que cada neurona está conectada a todas las neuronas de la capa anterior y de la capa siguiente.\n",
    "        📌 Características de una Capa Densa (FC)\n",
    "            🔹 Cada neurona recibe entrada de todas las neuronas previas.\n",
    "            🔹 Se usa en redes neuronales profundas (DNNs), redes convolucionales (CNNs) y redes recurrentes (RNNs).\n",
    "            🔹 Realiza una transformación lineal:\n",
    "        \"\"\"\n",
    "\n",
    "    def forward(self, x):\n",
    "        x = x.view(-1, 28 * 28)  # Aplanar la imagen\n",
    "        return self.model(x)\n"
   ],
   "id": "177c40d6e2e232d3",
   "outputs": [],
   "execution_count": 7
  },
  {
   "metadata": {},
   "cell_type": "markdown",
   "source": "# Instanciar el modelo y moverlo a GPU si está disponible\n",
   "id": "939263c5e16cb832"
  },
  {
   "metadata": {
    "ExecuteTime": {
     "end_time": "2025-03-19T02:41:44.011667Z",
     "start_time": "2025-03-19T02:41:44.005455Z"
    }
   },
   "cell_type": "code",
   "source": [
    "\"\"\"\n",
    "Esta línea de código crea una instancia del modelo MLP y lo mueve al dispositivo de cómputo adecuado (CPU o GPU)\n",
    "\"\"\"\n",
    "model = MLP().to(device)\n"
   ],
   "id": "349103de49e95e74",
   "outputs": [],
   "execution_count": 8
  },
  {
   "metadata": {},
   "cell_type": "markdown",
   "source": "# Cargamos nuestro modelo en caso exista\n",
   "id": "944470ee4e99e27d"
  },
  {
   "metadata": {},
   "cell_type": "code",
   "outputs": [],
   "execution_count": null,
   "source": [
    "# Definir nuevamente la arquitectura del modelo\n",
    "#model_loaded = MLP().to(device)\n",
    "\n",
    "# Cargar los pesos guardados\n",
    "#model_loaded.load_state_dict(torch.load(\"mlp_mnist.pth\"))\n",
    "\n",
    "# Poner el modelo en modo evaluación\n",
    "#model_loaded.eval()\n",
    "print(\"Modelo cargado correctamente!\")"
   ],
   "id": "4de25d65bdbdfeac"
  },
  {
   "metadata": {},
   "cell_type": "markdown",
   "source": "# Definir función de pérdida y optimizador\n",
   "id": "a6869008c2df461b"
  },
  {
   "metadata": {
    "ExecuteTime": {
     "end_time": "2025-03-19T02:41:48.748900Z",
     "start_time": "2025-03-19T02:41:48.745687Z"
    }
   },
   "cell_type": "code",
   "source": [
    "criterion = nn.CrossEntropyLoss()\n",
    "optimizer = optim.Adam(model.parameters(), lr=0.001)"
   ],
   "id": "9c91bcf8ee7932e7",
   "outputs": [],
   "execution_count": 9
  },
  {
   "metadata": {},
   "cell_type": "markdown",
   "source": "# Entrenar el modelo\n",
   "id": "1474b62b6404106d"
  },
  {
   "metadata": {
    "ExecuteTime": {
     "end_time": "2025-03-19T02:51:26.698780Z",
     "start_time": "2025-03-19T02:49:05.974784Z"
    }
   },
   "cell_type": "code",
   "source": [
    "num_epochs = 10\n",
    "train_losses = []\n",
    "test_accuracies = []\n",
    "\n",
    "for epoch in range(num_epochs): # total de épocas 10\n",
    "    model.train() # Indica que el modelo está en modo entrenamiento\n",
    "    running_loss = 0.0 #Acumula la perdida dentro de la época actual\n",
    "\n",
    "    for images, labels in train_loader: #recorremos las imágenes de entrenamiento\n",
    "        images, labels = images.to(device), labels.to(device) # movemos los datos al cpu o gpu\n",
    "\n",
    "        # Forward pass (Propagación hacia adelante)\n",
    "        outputs = model(images) #Las imágenes se pasan a través del modelo para obtener las predicciones\n",
    "        loss = criterion(outputs, labels) # Se calcula pérdida comparando las predicciones (outputs) con las etiquetas reales (labels)\n",
    "\n",
    "        # Backward pass (Propagación hacia atrás) y Optimización\n",
    "        optimizer.zero_grad() # se reinician los gradientes para evitar acumulación\n",
    "        loss.backward() # Calcula los gradientes de la función de pérdida con respecto a los pesos del modelo (usando retropropagación).\n",
    "        optimizer.step() # Actualiza los pesos del modelo en función de los gradientes calculados.\n",
    "\n",
    "        running_loss += loss.item() #Acumulación de la pérdida en la época actual\n",
    "    # Evaluación en el conjunto de prueba\n",
    "\n",
    "    train_losses.append(running_loss / len(train_loader))# Se guarda la pérdida media del entrenamiento en la época.\n",
    "    model.eval() #Cambia el modelo a modo de evaluación (desactiva Dropout y BatchNorm).\n",
    "    correct = 0 #Indica el número de predicciones correctas\n",
    "    total = 0 #Indica el número total de predicciones (muestra)\n",
    "    #Iniciamos el cálculo de la precisión en el conjunto de prueba\n",
    "    with torch.no_grad():#Desactiva el cálculo de gradientes (reduce el consumo de memoria y acelera la inferencia).\n",
    "        for images, labels in test_loader:\n",
    "            images, labels = images.to(device), labels.to(device)\n",
    "            outputs = model(images) #e obtiene la predicción del modelo en las imágenes de prueba.\n",
    "            _, predicted = torch.max(outputs, 1)#Se obtiene la clase con la mayor probabilidad como predicción.\n",
    "            total += labels.size(0)#Se actualiza el total de imágenes procesadas.\n",
    "            correct += (predicted == labels).sum().item() #Se suman las predicciones correctas.\n",
    "    #Cálculo de precisión y almacenamiento de resultados\n",
    "    accuracy = correct / total #Calcula la precisión en el conjunto de prueba.\n",
    "    test_accuracies.append(accuracy) #Almacena la precisión en la lista de precisión en prueba.\n",
    "\n",
    "    print(f\"Época [{epoch + 1}/{num_epochs}], Pérdida: {train_losses[-1]:.4f}, Precisión en prueba: {accuracy:.4f}\")\n"
   ],
   "id": "f48d88053db9958f",
   "outputs": [
    {
     "name": "stdout",
     "output_type": "stream",
     "text": [
      "Época [1/10], Pérdida: 0.0802, Precisión en prueba: 0.9771\n",
      "Época [2/10], Pérdida: 0.0767, Precisión en prueba: 0.9779\n",
      "Época [3/10], Pérdida: 0.0727, Precisión en prueba: 0.9778\n",
      "Época [4/10], Pérdida: 0.0713, Precisión en prueba: 0.9803\n",
      "Época [5/10], Pérdida: 0.0670, Precisión en prueba: 0.9780\n",
      "Época [6/10], Pérdida: 0.0621, Precisión en prueba: 0.9821\n",
      "Época [7/10], Pérdida: 0.0658, Precisión en prueba: 0.9809\n",
      "Época [8/10], Pérdida: 0.0617, Precisión en prueba: 0.9772\n",
      "Época [9/10], Pérdida: 0.0606, Precisión en prueba: 0.9828\n",
      "Época [10/10], Pérdida: 0.0580, Precisión en prueba: 0.9829\n"
     ]
    }
   ],
   "execution_count": 14
  },
  {
   "metadata": {},
   "cell_type": "markdown",
   "source": "# Guardar el modelo entrenado\n",
   "id": "8fb5120cd40b1c4e"
  },
  {
   "metadata": {
    "ExecuteTime": {
     "end_time": "2025-03-19T02:52:12.019133Z",
     "start_time": "2025-03-19T02:52:12.012145Z"
    }
   },
   "cell_type": "code",
   "source": [
    "torch.save(model.state_dict(), \"mlp_mnist.pth\")\n",
    "print(\"Modelo guardado exitosamente!\")"
   ],
   "id": "2734f77bfe015e0b",
   "outputs": [
    {
     "name": "stdout",
     "output_type": "stream",
     "text": [
      "Modelo guardado exitosamente!\n"
     ]
    }
   ],
   "execution_count": 15
  },
  {
   "metadata": {},
   "cell_type": "markdown",
   "source": "# Graficar la evolución de la pérdida y la precisión\n",
   "id": "2427842012ff0ab4"
  },
  {
   "metadata": {
    "ExecuteTime": {
     "end_time": "2025-03-19T02:52:17.518037Z",
     "start_time": "2025-03-19T02:52:17.313594Z"
    }
   },
   "cell_type": "code",
   "source": [
    "plt.figure(figsize=(12, 5))\n",
    "\n",
    "plt.subplot(1, 2, 1)\n",
    "plt.plot(train_losses, label=\"Pérdida en entrenamiento\")\n",
    "plt.xlabel(\"Épocas\")\n",
    "plt.ylabel(\"Pérdida\")\n",
    "plt.legend()\n",
    "\n",
    "plt.subplot(1, 2, 2)\n",
    "plt.plot(test_accuracies, label=\"Precisión en prueba\")\n",
    "plt.xlabel(\"Épocas\")\n",
    "plt.ylabel(\"Precisión\")\n",
    "plt.legend()\n",
    "\n",
    "plt.show()"
   ],
   "id": "5f973c5a0ed593fa",
   "outputs": [
    {
     "data": {
      "text/plain": [
       "<Figure size 1200x500 with 2 Axes>"
      ],
      "image/png": "[encoded data removed]"
     },
     "metadata": {},
     "output_type": "display_data"
    }
   ],
   "execution_count": 16
  },
  {
   "metadata": {},
   "cell_type": "markdown",
   "source": "# Función para predecir un dígito con el modelo entrenado\n",
   "id": "e95dd64084f1fe2b"
  },
  {
   "metadata": {
    "ExecuteTime": {
     "end_time": "2025-03-19T02:52:51.840100Z",
     "start_time": "2025-03-19T02:52:51.836602Z"
    }
   },
   "cell_type": "code",
   "source": [
    "def predict_digit(model, image_tensor):\n",
    "    model.eval()  # Poner el modelo en modo evaluación\n",
    "\n",
    "    # Si la imagen ya es un tensor, solo aseguramos que tenga la forma correcta\n",
    "    image_tensor = image_tensor.unsqueeze(0).to(device)  # Agregar batch dimension\n",
    "\n",
    "    # Obtener la predicción\n",
    "    with torch.no_grad():\n",
    "        output = model(image_tensor)\n",
    "        _, predicted_label = torch.max(output, 1)\n",
    "\n",
    "    return predicted_label.item()"
   ],
   "id": "88fadda4fad9b904",
   "outputs": [],
   "execution_count": 18
  },
  {
   "metadata": {},
   "cell_type": "markdown",
   "source": "# Obtener una imagen de prueba del conjunto MNIST\n",
   "id": "75fe625e595cdf3a"
  },
  {
   "metadata": {
    "ExecuteTime": {
     "end_time": "2025-03-19T02:52:55.427728Z",
     "start_time": "2025-03-19T02:52:55.424712Z"
    }
   },
   "cell_type": "code",
   "source": "test_sample, label = test_dataset[0]  # Selecciona la primera imagen del dataset\n",
   "id": "c0e2127eb9f692fb",
   "outputs": [],
   "execution_count": 19
  },
  {
   "metadata": {},
   "cell_type": "markdown",
   "source": "# Predecir el dígito\n",
   "id": "c9b9a8f99a823631"
  },
  {
   "metadata": {
    "ExecuteTime": {
     "end_time": "2025-03-19T02:52:57.974221Z",
     "start_time": "2025-03-19T02:52:57.956830Z"
    }
   },
   "cell_type": "code",
   "source": "predicted_digit = predict_digit(model, test_sample)\n",
   "id": "a35ec0c44a5ea486",
   "outputs": [],
   "execution_count": 20
  },
  {
   "metadata": {},
   "cell_type": "markdown",
   "source": "# Mostrar la imagen y la predicción\n",
   "id": "fb049108e6fd0c15"
  },
  {
   "metadata": {
    "ExecuteTime": {
     "end_time": "2025-03-19T02:53:00.372236Z",
     "start_time": "2025-03-19T02:53:00.317828Z"
    }
   },
   "cell_type": "code",
   "source": [
    "plt.imshow(test_sample.squeeze(), cmap=\"gray\")\n",
    "plt.title(f\"Predicción: {predicted_digit} (Etiqueta real: {label})\")\n",
    "plt.axis(\"off\")\n",
    "plt.show()"
   ],
   "id": "87a16ee1e134967b",
   "outputs": [
    {
     "data": {
      "text/plain": [
       "<Figure size 640x480 with 1 Axes>"
      ],
      "image/png": "[encoded data removed]"
     },
     "metadata": {},
     "output_type": "display_data"
    }
   ],
   "execution_count": 21
  }
 ],
 "metadata": {
  "kernelspec": {
   "display_name": "Python 3",
   "language": "python",
   "name": "python3"
  },
  "language_info": {
   "codemirror_mode": {
    "name": "ipython",
    "version": 2
   },
   "file_extension": ".py",
   "mimetype": "text/x-python",
   "name": "python",
   "nbconvert_exporter": "python",
   "pygments_lexer": "ipython2",
   "version": "2.7.6"
  }
 },
 "nbformat": 4,
 "nbformat_minor": 5
}
